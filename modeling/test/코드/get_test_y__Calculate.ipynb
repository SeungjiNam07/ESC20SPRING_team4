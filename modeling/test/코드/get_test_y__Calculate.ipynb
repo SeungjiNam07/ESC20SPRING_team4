{
 "cells": [
  {
   "cell_type": "markdown",
   "metadata": {},
   "source": [
    "## Calculate some values using other variables"
   ]
  },
  {
   "cell_type": "code",
   "execution_count": 1,
   "metadata": {},
   "outputs": [],
   "source": [
    "import pandas as pd\n",
    "import numpy as np"
   ]
  },
  {
   "cell_type": "code",
   "execution_count": 2,
   "metadata": {},
   "outputs": [],
   "source": [
    "data = pd.read_csv(\"FS_2y_before_Bankruptcy_test_x.csv\")"
   ]
  },
  {
   "cell_type": "code",
   "execution_count": 3,
   "metadata": {},
   "outputs": [
    {
     "data": {
      "text/html": [
       "<div>\n",
       "<style scoped>\n",
       "    .dataframe tbody tr th:only-of-type {\n",
       "        vertical-align: middle;\n",
       "    }\n",
       "\n",
       "    .dataframe tbody tr th {\n",
       "        vertical-align: top;\n",
       "    }\n",
       "\n",
       "    .dataframe thead th {\n",
       "        text-align: right;\n",
       "    }\n",
       "</style>\n",
       "<table border=\"1\" class=\"dataframe\">\n",
       "  <thead>\n",
       "    <tr style=\"text-align: right;\">\n",
       "      <th></th>\n",
       "      <th>Attr1</th>\n",
       "      <th>Attr2</th>\n",
       "      <th>Attr3</th>\n",
       "      <th>Attr4</th>\n",
       "      <th>Attr5</th>\n",
       "      <th>Attr6</th>\n",
       "      <th>Attr7</th>\n",
       "      <th>Attr8</th>\n",
       "      <th>Attr9</th>\n",
       "      <th>Attr10</th>\n",
       "      <th>...</th>\n",
       "      <th>Attr55</th>\n",
       "      <th>Attr56</th>\n",
       "      <th>Attr57</th>\n",
       "      <th>Attr58</th>\n",
       "      <th>Attr59</th>\n",
       "      <th>Attr60</th>\n",
       "      <th>Attr61</th>\n",
       "      <th>Attr62</th>\n",
       "      <th>Attr63</th>\n",
       "      <th>Attr64</th>\n",
       "    </tr>\n",
       "  </thead>\n",
       "  <tbody>\n",
       "    <tr>\n",
       "      <th>0</th>\n",
       "      <td>0.056456</td>\n",
       "      <td>0.52493</td>\n",
       "      <td>0.21218</td>\n",
       "      <td>1.8852</td>\n",
       "      <td>48.855</td>\n",
       "      <td>0.15588</td>\n",
       "      <td>0.073958</td>\n",
       "      <td>0.76874</td>\n",
       "      <td>1.1259</td>\n",
       "      <td>0.40353</td>\n",
       "      <td>...</td>\n",
       "      <td>14976.0</td>\n",
       "      <td>0.11184</td>\n",
       "      <td>0.139910</td>\n",
       "      <td>0.88816</td>\n",
       "      <td>0.706860</td>\n",
       "      <td>7.349</td>\n",
       "      <td>2.4937</td>\n",
       "      <td>105.88</td>\n",
       "      <td>3.4474</td>\n",
       "      <td>1.5075</td>\n",
       "    </tr>\n",
       "    <tr>\n",
       "      <th>1</th>\n",
       "      <td>-0.0086101</td>\n",
       "      <td>0.56102</td>\n",
       "      <td>0.24435</td>\n",
       "      <td>1.8509</td>\n",
       "      <td>4.2847</td>\n",
       "      <td>0</td>\n",
       "      <td>-0.0086101</td>\n",
       "      <td>0.78248</td>\n",
       "      <td>2.4700</td>\n",
       "      <td>0.43898</td>\n",
       "      <td>...</td>\n",
       "      <td>2416.6</td>\n",
       "      <td>-0.027224</td>\n",
       "      <td>-0.019614</td>\n",
       "      <td>1.0034</td>\n",
       "      <td>0.347230</td>\n",
       "      <td>12.338</td>\n",
       "      <td>14.992</td>\n",
       "      <td>42.434</td>\n",
       "      <td>8.6016</td>\n",
       "      <td>5.2723</td>\n",
       "    </tr>\n",
       "    <tr>\n",
       "      <th>2</th>\n",
       "      <td>0.092538</td>\n",
       "      <td>0.55157</td>\n",
       "      <td>0.34368</td>\n",
       "      <td>3.075</td>\n",
       "      <td>-5.6058</td>\n",
       "      <td>0.15362</td>\n",
       "      <td>0.1191</td>\n",
       "      <td>0.78579</td>\n",
       "      <td>1.1013</td>\n",
       "      <td>0.43342</td>\n",
       "      <td>...</td>\n",
       "      <td>11663.0</td>\n",
       "      <td>0.091953</td>\n",
       "      <td>0.213510</td>\n",
       "      <td>0.90805</td>\n",
       "      <td>0.890450</td>\n",
       "      <td>3.5064</td>\n",
       "      <td>10.789</td>\n",
       "      <td>47.885</td>\n",
       "      <td>7.6225</td>\n",
       "      <td>2.5729</td>\n",
       "    </tr>\n",
       "    <tr>\n",
       "      <th>3</th>\n",
       "      <td>0.065102</td>\n",
       "      <td>0.79724</td>\n",
       "      <td>-0.051197</td>\n",
       "      <td>0.89587</td>\n",
       "      <td>-64.464</td>\n",
       "      <td>0.065102</td>\n",
       "      <td>0.029819</td>\n",
       "      <td>0.11225999999999998</td>\n",
       "      <td>1.0040</td>\n",
       "      <td>0.089501</td>\n",
       "      <td>...</td>\n",
       "      <td>-4370.2</td>\n",
       "      <td>0.0039389</td>\n",
       "      <td>0.727380</td>\n",
       "      <td>0.99606</td>\n",
       "      <td>3.414100</td>\n",
       "      <td>7.3744</td>\n",
       "      <td>5.8256</td>\n",
       "      <td>127.85</td>\n",
       "      <td>2.8549</td>\n",
       "      <td>2.5086</td>\n",
       "    </tr>\n",
       "    <tr>\n",
       "      <th>4</th>\n",
       "      <td>0.23341</td>\n",
       "      <td>0.5034</td>\n",
       "      <td>0.44502</td>\n",
       "      <td>1.9942</td>\n",
       "      <td>39.989</td>\n",
       "      <td>-0.010996</td>\n",
       "      <td>0.29821</td>\n",
       "      <td>0.98648</td>\n",
       "      <td>2.6600</td>\n",
       "      <td>0.4966</td>\n",
       "      <td>...</td>\n",
       "      <td>1160.5</td>\n",
       "      <td>0.1158</td>\n",
       "      <td>0.470020</td>\n",
       "      <td>0.88972</td>\n",
       "      <td>0.048201</td>\n",
       "      <td>15.695</td>\n",
       "      <td>21.808</td>\n",
       "      <td>61.421</td>\n",
       "      <td>5.9426</td>\n",
       "      <td>24.773</td>\n",
       "    </tr>\n",
       "  </tbody>\n",
       "</table>\n",
       "<p>5 rows × 64 columns</p>\n",
       "</div>"
      ],
      "text/plain": [
       "        Attr1    Attr2      Attr3    Attr4    Attr5      Attr6       Attr7  \\\n",
       "0    0.056456  0.52493    0.21218   1.8852   48.855    0.15588    0.073958   \n",
       "1  -0.0086101  0.56102    0.24435   1.8509   4.2847          0  -0.0086101   \n",
       "2    0.092538  0.55157    0.34368    3.075  -5.6058    0.15362      0.1191   \n",
       "3    0.065102  0.79724  -0.051197  0.89587  -64.464   0.065102    0.029819   \n",
       "4     0.23341   0.5034    0.44502   1.9942   39.989  -0.010996     0.29821   \n",
       "\n",
       "                 Attr8   Attr9    Attr10  ...   Attr55     Attr56    Attr57  \\\n",
       "0              0.76874  1.1259   0.40353  ...  14976.0    0.11184  0.139910   \n",
       "1              0.78248  2.4700   0.43898  ...   2416.6  -0.027224 -0.019614   \n",
       "2              0.78579  1.1013   0.43342  ...  11663.0   0.091953  0.213510   \n",
       "3  0.11225999999999998  1.0040  0.089501  ...  -4370.2  0.0039389  0.727380   \n",
       "4              0.98648  2.6600    0.4966  ...   1160.5     0.1158  0.470020   \n",
       "\n",
       "    Attr58    Attr59  Attr60  Attr61  Attr62  Attr63  Attr64  \n",
       "0  0.88816  0.706860   7.349  2.4937  105.88  3.4474  1.5075  \n",
       "1   1.0034  0.347230  12.338  14.992  42.434  8.6016  5.2723  \n",
       "2  0.90805  0.890450  3.5064  10.789  47.885  7.6225  2.5729  \n",
       "3  0.99606  3.414100  7.3744  5.8256  127.85  2.8549  2.5086  \n",
       "4  0.88972  0.048201  15.695  21.808  61.421  5.9426  24.773  \n",
       "\n",
       "[5 rows x 64 columns]"
      ]
     },
     "execution_count": 3,
     "metadata": {},
     "output_type": "execute_result"
    }
   ],
   "source": [
    "data.head()"
   ]
  },
  {
   "cell_type": "code",
   "execution_count": 4,
   "metadata": {},
   "outputs": [
    {
     "data": {
      "text/plain": [
       "(2937, 64)"
      ]
     },
     "execution_count": 4,
     "metadata": {},
     "output_type": "execute_result"
    }
   ],
   "source": [
    "data.shape"
   ]
  },
  {
   "cell_type": "code",
   "execution_count": 5,
   "metadata": {},
   "outputs": [
    {
     "data": {
      "text/plain": [
       "60"
      ]
     },
     "execution_count": 5,
     "metadata": {},
     "output_type": "execute_result"
    }
   ],
   "source": [
    "np.sum(np.sum(data.astype(\"str\")==\"?\")>0)"
   ]
  },
  {
   "cell_type": "code",
   "execution_count": 6,
   "metadata": {},
   "outputs": [
    {
     "data": {
      "text/plain": [
       "Attr37    1342\n",
       "Attr45     195\n",
       "Attr60     194\n",
       "Attr27     179\n",
       "Attr64      69\n",
       "          ... \n",
       "Attr1        1\n",
       "Attr57       0\n",
       "Attr9        0\n",
       "Attr55       0\n",
       "Attr59       0\n",
       "Length: 64, dtype: int64"
      ]
     },
     "execution_count": 6,
     "metadata": {},
     "output_type": "execute_result"
    }
   ],
   "source": [
    "np.sum(data.astype(\"str\")==\"?\").sort_values(ascending = False)"
   ]
  },
  {
   "cell_type": "markdown",
   "metadata": {},
   "source": [
    "밑의 4개 빼고는 다 ?가 있다"
   ]
  },
  {
   "cell_type": "code",
   "execution_count": 7,
   "metadata": {},
   "outputs": [],
   "source": [
    "data.drop(\"Attr37\", axis = 1, inplace = True)"
   ]
  },
  {
   "cell_type": "code",
   "execution_count": 8,
   "metadata": {},
   "outputs": [
    {
     "data": {
      "text/plain": [
       "(2937, 63)"
      ]
     },
     "execution_count": 8,
     "metadata": {},
     "output_type": "execute_result"
    }
   ],
   "source": [
    "data.shape"
   ]
  },
  {
   "cell_type": "code",
   "execution_count": 9,
   "metadata": {},
   "outputs": [
    {
     "data": {
      "text/plain": [
       "59"
      ]
     },
     "execution_count": 9,
     "metadata": {},
     "output_type": "execute_result"
    }
   ],
   "source": [
    "np.sum(np.sum(data.astype(\"str\")==\"?\")>0)"
   ]
  },
  {
   "cell_type": "code",
   "execution_count": 10,
   "metadata": {},
   "outputs": [
    {
     "data": {
      "text/plain": [
       "Attr45    195\n",
       "Attr60    194\n",
       "Attr27    179\n",
       "Attr64     69\n",
       "Attr54     69\n",
       "         ... \n",
       "Attr51      1\n",
       "Attr59      0\n",
       "Attr9       0\n",
       "Attr57      0\n",
       "Attr55      0\n",
       "Length: 63, dtype: int64"
      ]
     },
     "execution_count": 10,
     "metadata": {},
     "output_type": "execute_result"
    }
   ],
   "source": [
    "np.sum(data.astype(\"str\")==\"?\").sort_values(ascending = False)"
   ]
  },
  {
   "cell_type": "code",
   "execution_count": 11,
   "metadata": {},
   "outputs": [
    {
     "data": {
      "text/plain": [
       "1302"
      ]
     },
     "execution_count": 11,
     "metadata": {},
     "output_type": "execute_result"
    }
   ],
   "source": [
    "np.sum(np.sum(data.astype(\"str\")==\"?\"))"
   ]
  },
  {
   "cell_type": "code",
   "execution_count": 12,
   "metadata": {},
   "outputs": [
    {
     "data": {
      "text/plain": [
       "1"
      ]
     },
     "execution_count": 12,
     "metadata": {},
     "output_type": "execute_result"
    }
   ],
   "source": [
    "np.sum(data.astype(\"str\")==\"?\")[\"Attr29\"]"
   ]
  },
  {
   "cell_type": "code",
   "execution_count": 13,
   "metadata": {},
   "outputs": [
    {
     "data": {
      "text/plain": [
       "Attr55    0\n",
       "Attr57    0\n",
       "Attr9     0\n",
       "Attr59    0\n",
       "Attr51    1\n",
       "Attr48    1\n",
       "Attr38    1\n",
       "Attr36    1\n",
       "Attr35    1\n",
       "Attr29    1\n",
       "Attr25    1\n",
       "Attr22    1\n",
       "Attr18    1\n",
       "Attr1     1\n",
       "Attr2     1\n",
       "Attr3     1\n",
       "Attr6     1\n",
       "Attr7     1\n",
       "Attr14    1\n",
       "Attr10    1\n",
       "Attr11    1\n",
       "Attr15    3\n",
       "Attr50    4\n",
       "Attr34    4\n",
       "Attr8     4\n",
       "Attr26    4\n",
       "Attr16    4\n",
       "Attr17    4\n",
       "Attr58    6\n",
       "Attr5     6\n",
       "dtype: int64"
      ]
     },
     "execution_count": 13,
     "metadata": {},
     "output_type": "execute_result"
    }
   ],
   "source": [
    "np.sum(data.astype(\"str\")==\"?\").sort_values().head(30)"
   ]
  },
  {
   "cell_type": "code",
   "execution_count": 14,
   "metadata": {},
   "outputs": [],
   "source": [
    "from itertools import chain"
   ]
  },
  {
   "cell_type": "code",
   "execution_count": 15,
   "metadata": {},
   "outputs": [],
   "source": [
    "def null_idx (df, attrs_list) :\n",
    "    null_idx = []\n",
    "    for attr in attrs_list:\n",
    "        null_idx.append(list(df.index[df[attr].astype(\"str\")==\"?\"])) #모든 attr의 ? index값 추가\n",
    "        \n",
    "    null_idx = list(set(list(chain(*null_idx)))) #list를 flatten하고 중복된 index 제거\n",
    "    return null_idx"
   ]
  },
  {
   "cell_type": "code",
   "execution_count": 16,
   "metadata": {},
   "outputs": [
    {
     "data": {
      "text/html": [
       "<div>\n",
       "<style scoped>\n",
       "    .dataframe tbody tr th:only-of-type {\n",
       "        vertical-align: middle;\n",
       "    }\n",
       "\n",
       "    .dataframe tbody tr th {\n",
       "        vertical-align: top;\n",
       "    }\n",
       "\n",
       "    .dataframe thead th {\n",
       "        text-align: right;\n",
       "    }\n",
       "</style>\n",
       "<table border=\"1\" class=\"dataframe\">\n",
       "  <thead>\n",
       "    <tr style=\"text-align: right;\">\n",
       "      <th></th>\n",
       "      <th>Attr29</th>\n",
       "      <th>Attr10</th>\n",
       "      <th>Attr51</th>\n",
       "      <th>Attr36</th>\n",
       "      <th>Attr9</th>\n",
       "      <th>Attr18</th>\n",
       "      <th>Attr6</th>\n",
       "      <th>Attr7</th>\n",
       "      <th>Attr48</th>\n",
       "      <th>Attr1</th>\n",
       "      <th>Attr3</th>\n",
       "      <th>Attr35</th>\n",
       "    </tr>\n",
       "  </thead>\n",
       "  <tbody>\n",
       "    <tr>\n",
       "      <th>0</th>\n",
       "      <td>4.8487</td>\n",
       "      <td>0.40353</td>\n",
       "      <td>0.23969</td>\n",
       "      <td>0.83286</td>\n",
       "      <td>1.1259</td>\n",
       "      <td>0.073958</td>\n",
       "      <td>0.15588</td>\n",
       "      <td>0.073958</td>\n",
       "      <td>0.042228</td>\n",
       "      <td>0.056456</td>\n",
       "      <td>0.21218</td>\n",
       "      <td>0.093813</td>\n",
       "    </tr>\n",
       "    <tr>\n",
       "      <th>1</th>\n",
       "      <td>3.9952</td>\n",
       "      <td>0.43898</td>\n",
       "      <td>0.28716</td>\n",
       "      <td>2.47</td>\n",
       "      <td>2.4700</td>\n",
       "      <td>-0.0086101</td>\n",
       "      <td>0</td>\n",
       "      <td>-0.0086101</td>\n",
       "      <td>-0.15014</td>\n",
       "      <td>-0.0086101</td>\n",
       "      <td>0.24435</td>\n",
       "      <td>-0.067243</td>\n",
       "    </tr>\n",
       "    <tr>\n",
       "      <th>2</th>\n",
       "      <td>4.5307</td>\n",
       "      <td>0.43342</td>\n",
       "      <td>0.16563</td>\n",
       "      <td>1.3072</td>\n",
       "      <td>1.1013</td>\n",
       "      <td>0.1191</td>\n",
       "      <td>0.15362</td>\n",
       "      <td>0.1191</td>\n",
       "      <td>0.028096</td>\n",
       "      <td>0.092538</td>\n",
       "      <td>0.34368</td>\n",
       "      <td>0.11676</td>\n",
       "    </tr>\n",
       "    <tr>\n",
       "      <th>3</th>\n",
       "      <td>4.9313</td>\n",
       "      <td>0.089501</td>\n",
       "      <td>0.49167</td>\n",
       "      <td>1.5344</td>\n",
       "      <td>1.0040</td>\n",
       "      <td>0.029819</td>\n",
       "      <td>0.065102</td>\n",
       "      <td>0.029819</td>\n",
       "      <td>-0.0051714</td>\n",
       "      <td>0.065102</td>\n",
       "      <td>-0.051197</td>\n",
       "      <td>0.039231</td>\n",
       "    </tr>\n",
       "    <tr>\n",
       "      <th>4</th>\n",
       "      <td>3.4163</td>\n",
       "      <td>0.4966</td>\n",
       "      <td>0.44761</td>\n",
       "      <td>2.66</td>\n",
       "      <td>2.6600</td>\n",
       "      <td>0.29821</td>\n",
       "      <td>-0.010996</td>\n",
       "      <td>0.29821</td>\n",
       "      <td>0.27072</td>\n",
       "      <td>0.23341</td>\n",
       "      <td>0.44502</td>\n",
       "      <td>0.30802</td>\n",
       "    </tr>\n",
       "  </tbody>\n",
       "</table>\n",
       "</div>"
      ],
      "text/plain": [
       "   Attr29    Attr10   Attr51   Attr36   Attr9      Attr18      Attr6  \\\n",
       "0  4.8487   0.40353  0.23969  0.83286  1.1259    0.073958    0.15588   \n",
       "1  3.9952   0.43898  0.28716     2.47  2.4700  -0.0086101          0   \n",
       "2  4.5307   0.43342  0.16563   1.3072  1.1013      0.1191    0.15362   \n",
       "3  4.9313  0.089501  0.49167   1.5344  1.0040    0.029819   0.065102   \n",
       "4  3.4163    0.4966  0.44761     2.66  2.6600     0.29821  -0.010996   \n",
       "\n",
       "        Attr7      Attr48       Attr1      Attr3     Attr35  \n",
       "0    0.073958    0.042228    0.056456    0.21218   0.093813  \n",
       "1  -0.0086101    -0.15014  -0.0086101    0.24435  -0.067243  \n",
       "2      0.1191    0.028096    0.092538    0.34368    0.11676  \n",
       "3    0.029819  -0.0051714    0.065102  -0.051197   0.039231  \n",
       "4     0.29821     0.27072     0.23341    0.44502    0.30802  "
      ]
     },
     "execution_count": 16,
     "metadata": {},
     "output_type": "execute_result"
    }
   ],
   "source": [
    "main_lst = [\"Attr29\", \"Attr10\", \"Attr51\", \"Attr36\", \"Attr9\", \"Attr18\", \"Attr6\",\n",
    "      \"Attr7\", \"Attr48\", \"Attr1\", \"Attr3\", \"Attr35\"]\n",
    "data[main_lst].head()"
   ]
  },
  {
   "cell_type": "code",
   "execution_count": 17,
   "metadata": {},
   "outputs": [
    {
     "data": {
      "text/plain": [
       "[536]"
      ]
     },
     "execution_count": 17,
     "metadata": {},
     "output_type": "execute_result"
    }
   ],
   "source": [
    "null_idx(data, main_lst)"
   ]
  },
  {
   "cell_type": "code",
   "execution_count": 18,
   "metadata": {},
   "outputs": [
    {
     "data": {
      "text/plain": [
       "31"
      ]
     },
     "execution_count": 18,
     "metadata": {},
     "output_type": "execute_result"
    }
   ],
   "source": [
    "np.sum(data.iloc[536] == \"?\")"
   ]
  },
  {
   "cell_type": "code",
   "execution_count": 19,
   "metadata": {},
   "outputs": [],
   "source": [
    "new = data.copy()"
   ]
  },
  {
   "cell_type": "code",
   "execution_count": 20,
   "metadata": {},
   "outputs": [
    {
     "data": {
      "text/plain": [
       "(2937, 63)"
      ]
     },
     "execution_count": 20,
     "metadata": {},
     "output_type": "execute_result"
    }
   ],
   "source": [
    "new.shape"
   ]
  },
  {
   "cell_type": "code",
   "execution_count": 21,
   "metadata": {},
   "outputs": [],
   "source": [
    "new.drop(536, inplace = True)"
   ]
  },
  {
   "cell_type": "markdown",
   "metadata": {},
   "source": [
    "일단 536번째 변수는 빼고 계산 시작"
   ]
  },
  {
   "cell_type": "code",
   "execution_count": 22,
   "metadata": {},
   "outputs": [
    {
     "data": {
      "text/plain": [
       "(2936, 63)"
      ]
     },
     "execution_count": 22,
     "metadata": {},
     "output_type": "execute_result"
    }
   ],
   "source": [
    "new.shape"
   ]
  },
  {
   "cell_type": "code",
   "execution_count": 23,
   "metadata": {},
   "outputs": [
    {
     "data": {
      "text/plain": [
       "Attr29    0\n",
       "Attr10    0\n",
       "Attr51    0\n",
       "Attr36    0\n",
       "Attr9     0\n",
       "Attr18    0\n",
       "Attr6     0\n",
       "Attr7     0\n",
       "Attr48    0\n",
       "Attr1     0\n",
       "Attr3     0\n",
       "Attr35    0\n",
       "dtype: int64"
      ]
     },
     "execution_count": 23,
     "metadata": {},
     "output_type": "execute_result"
    }
   ],
   "source": [
    "np.sum(new[main_lst].astype(\"str\") == \"?\")"
   ]
  },
  {
   "cell_type": "markdown",
   "metadata": {},
   "source": [
    "계산에 사용될 변수들 전부 다 ? 개수 0인것 확인"
   ]
  },
  {
   "cell_type": "code",
   "execution_count": 24,
   "metadata": {},
   "outputs": [],
   "source": [
    "new[main_lst] = new[main_lst].astype(\"float\")"
   ]
  },
  {
   "cell_type": "code",
   "execution_count": 25,
   "metadata": {},
   "outputs": [],
   "source": [
    "total_assets = pd.Series(np.exp(new[\"Attr29\"]), index  = new[\"Attr29\"].index)\n",
    "total_equity = new[\"Attr10\"] * total_assets\n",
    "total_liabilities = total_assets - total_equity\n",
    "short_term_liabilities = new[\"Attr51\"] * total_assets\n",
    "long_term_liabilities = total_liabilities - short_term_liabilities\n",
    "total_sales = pd.Series(np.array(total_assets) * np.array(new[\"Attr36\"]))\n",
    "sales = new[\"Attr9\"] * total_assets\n",
    "gross_profit = new[\"Attr18\"] * total_assets\n",
    "retained_earnings = new[\"Attr6\"] * total_assets\n",
    "ebit = new[\"Attr7\"] * total_assets\n",
    "ebitda = new[\"Attr48\"] * total_assets\n",
    "net_profit = new[\"Attr1\"] * total_assets\n",
    "working_capital = new[\"Attr3\"] * total_assets\n",
    "profit_on_sales = new[\"Attr35\"] * total_assets"
   ]
  },
  {
   "cell_type": "markdown",
   "metadata": {},
   "source": [
    "분모가 0인걸 방지하기 위해 제일 작은 값을 넣어주자"
   ]
  },
  {
   "cell_type": "code",
   "execution_count": 26,
   "metadata": {},
   "outputs": [
    {
     "name": "stdout",
     "output_type": "stream",
     "text": [
      "0.0011614652922856752\n"
     ]
    }
   ],
   "source": [
    "abs_stl = np.abs(short_term_liabilities).sort_values()\n",
    "min_stl = abs_stl[abs_stl>0].iloc[0]\n",
    "print(min_stl)"
   ]
  },
  {
   "cell_type": "code",
   "execution_count": 27,
   "metadata": {},
   "outputs": [
    {
     "name": "stdout",
     "output_type": "stream",
     "text": [
      "0.009098839470487273\n"
     ]
    }
   ],
   "source": [
    "abs_sales = np.abs(sales).sort_values()\n",
    "min_sales = abs_sales[abs_sales>0].iloc[0]\n",
    "print(min_sales)"
   ]
  },
  {
   "cell_type": "code",
   "execution_count": 28,
   "metadata": {},
   "outputs": [
    {
     "name": "stdout",
     "output_type": "stream",
     "text": [
      "0.0012359958415331107\n"
     ]
    }
   ],
   "source": [
    "abs_tl = np.abs(total_liabilities).sort_values()\n",
    "min_tl = abs_tl[abs_tl>0].iloc[0]\n",
    "print(min_tl)"
   ]
  },
  {
   "cell_type": "code",
   "execution_count": 29,
   "metadata": {},
   "outputs": [
    {
     "name": "stdout",
     "output_type": "stream",
     "text": [
      "0.016682142526397607\n"
     ]
    }
   ],
   "source": [
    "abs_equity = np.abs(total_equity).sort_values()\n",
    "min_equity = abs_equity[abs_equity>0].iloc[0]\n",
    "print(min_equity)"
   ]
  },
  {
   "cell_type": "code",
   "execution_count": 30,
   "metadata": {},
   "outputs": [],
   "source": [
    "short_term_liabilities.replace(0, min_stl, inplace = True)\n",
    "sales.replace(0, min_sales, inplace = True)\n",
    "total_liabilities.replace(0, min_tl, inplace = True)\n",
    "total_equity.replace(0, min_equity, inplace = True)"
   ]
  },
  {
   "cell_type": "code",
   "execution_count": 31,
   "metadata": {},
   "outputs": [
    {
     "name": "stdout",
     "output_type": "stream",
     "text": [
      "0\n",
      "0\n",
      "0\n",
      "0\n"
     ]
    }
   ],
   "source": [
    "print(np.sum(short_term_liabilities == 0))\n",
    "print(np.sum(sales == 0))\n",
    "print(np.sum(total_liabilities == 0))\n",
    "print(np.sum(total_equity == 0))"
   ]
  },
  {
   "cell_type": "code",
   "execution_count": 32,
   "metadata": {},
   "outputs": [],
   "source": [
    "calculated_lst = [\"Attr12\", \"Attr19\", \"Attr23\", \"Attr39\", \"Attr49\", \"Attr63\"]"
   ]
  },
  {
   "cell_type": "code",
   "execution_count": 33,
   "metadata": {},
   "outputs": [],
   "source": [
    "new[\"Attr12\"] = gross_profit / short_term_liabilities\n",
    "new[\"Attr19\"] = gross_profit / sales\n",
    "new[\"Attr23\"] = net_profit / sales\n",
    "new[\"Attr39\"] = profit_on_sales / sales\n",
    "new[\"Attr49\"] = ebitda / sales\n",
    "new[\"Attr63\"] = sales / short_term_liabilities"
   ]
  },
  {
   "cell_type": "code",
   "execution_count": 34,
   "metadata": {},
   "outputs": [
    {
     "data": {
      "text/plain": [
       "Attr12    15\n",
       "Attr19     7\n",
       "Attr23     7\n",
       "Attr39     7\n",
       "Attr49     7\n",
       "Attr63    15\n",
       "dtype: int64"
      ]
     },
     "execution_count": 34,
     "metadata": {},
     "output_type": "execute_result"
    }
   ],
   "source": [
    "np.sum(data[calculated_lst].astype(\"str\") == \"?\")"
   ]
  },
  {
   "cell_type": "code",
   "execution_count": 35,
   "metadata": {},
   "outputs": [
    {
     "data": {
      "text/plain": [
       "Attr12    0\n",
       "Attr19    0\n",
       "Attr23    0\n",
       "Attr39    0\n",
       "Attr49    0\n",
       "Attr63    0\n",
       "dtype: int64"
      ]
     },
     "execution_count": 35,
     "metadata": {},
     "output_type": "execute_result"
    }
   ],
   "source": [
    "np.sum(new[calculated_lst].astype(\"str\") == \"?\")"
   ]
  },
  {
   "cell_type": "code",
   "execution_count": 36,
   "metadata": {
    "scrolled": true
   },
   "outputs": [
    {
     "data": {
      "text/plain": [
       "36"
      ]
     },
     "execution_count": 36,
     "metadata": {},
     "output_type": "execute_result"
    }
   ],
   "source": [
    "np.sum(np.sum(new.astype(\"str\") == \"?\")>0)"
   ]
  },
  {
   "cell_type": "code",
   "execution_count": 37,
   "metadata": {},
   "outputs": [
    {
     "data": {
      "text/plain": [
       "(2936, 63)"
      ]
     },
     "execution_count": 37,
     "metadata": {},
     "output_type": "execute_result"
    }
   ],
   "source": [
    "new.shape"
   ]
  },
  {
   "cell_type": "code",
   "execution_count": 38,
   "metadata": {},
   "outputs": [
    {
     "data": {
      "text/plain": [
       "Attr1           ?\n",
       "Attr2           ?\n",
       "Attr3           ?\n",
       "Attr4           ?\n",
       "Attr5      5172.1\n",
       "           ...   \n",
       "Attr60    0.45945\n",
       "Attr61    0.13212\n",
       "Attr62          0\n",
       "Attr63          ?\n",
       "Attr64     9.7091\n",
       "Name: 536, Length: 63, dtype: object"
      ]
     },
     "execution_count": 38,
     "metadata": {},
     "output_type": "execute_result"
    }
   ],
   "source": [
    "data.iloc[536]"
   ]
  },
  {
   "cell_type": "code",
   "execution_count": 39,
   "metadata": {},
   "outputs": [],
   "source": [
    "new = new.append(data.iloc[536])"
   ]
  },
  {
   "cell_type": "code",
   "execution_count": 40,
   "metadata": {},
   "outputs": [
    {
     "data": {
      "text/plain": [
       "(2937, 63)"
      ]
     },
     "execution_count": 40,
     "metadata": {},
     "output_type": "execute_result"
    }
   ],
   "source": [
    "new.shape"
   ]
  },
  {
   "cell_type": "code",
   "execution_count": 41,
   "metadata": {},
   "outputs": [],
   "source": [
    "new = new.reindex(index = list(range(new.shape[0])))"
   ]
  },
  {
   "cell_type": "code",
   "execution_count": 42,
   "metadata": {},
   "outputs": [
    {
     "data": {
      "text/plain": [
       "Attr1           ?\n",
       "Attr2           ?\n",
       "Attr3           ?\n",
       "Attr4           ?\n",
       "Attr5      5172.1\n",
       "           ...   \n",
       "Attr60    0.45945\n",
       "Attr61    0.13212\n",
       "Attr62          0\n",
       "Attr63          ?\n",
       "Attr64     9.7091\n",
       "Name: 536, Length: 63, dtype: object"
      ]
     },
     "execution_count": 42,
     "metadata": {},
     "output_type": "execute_result"
    }
   ],
   "source": [
    "new.iloc[536]"
   ]
  },
  {
   "cell_type": "markdown",
   "metadata": {},
   "source": [
    "처음보다 6개가 줄었다! 이제 corr 높은 변수 두 집합에서 각각 하나씩만 선택\n",
    "- 7, 11, 14 -> 7\n",
    "- 16, 26 -> 26"
   ]
  },
  {
   "cell_type": "code",
   "execution_count": 43,
   "metadata": {},
   "outputs": [],
   "source": [
    "new.drop([\"Attr11\", \"Attr14\", \"Attr16\"], axis = 1, inplace = True)"
   ]
  },
  {
   "cell_type": "code",
   "execution_count": 44,
   "metadata": {},
   "outputs": [
    {
     "data": {
      "text/plain": [
       "(2937, 60)"
      ]
     },
     "execution_count": 44,
     "metadata": {},
     "output_type": "execute_result"
    }
   ],
   "source": [
    "new.shape"
   ]
  },
  {
   "cell_type": "code",
   "execution_count": 45,
   "metadata": {},
   "outputs": [
    {
     "data": {
      "text/html": [
       "<div>\n",
       "<style scoped>\n",
       "    .dataframe tbody tr th:only-of-type {\n",
       "        vertical-align: middle;\n",
       "    }\n",
       "\n",
       "    .dataframe tbody tr th {\n",
       "        vertical-align: top;\n",
       "    }\n",
       "\n",
       "    .dataframe thead th {\n",
       "        text-align: right;\n",
       "    }\n",
       "</style>\n",
       "<table border=\"1\" class=\"dataframe\">\n",
       "  <thead>\n",
       "    <tr style=\"text-align: right;\">\n",
       "      <th></th>\n",
       "      <th>Attr1</th>\n",
       "      <th>Attr2</th>\n",
       "      <th>Attr3</th>\n",
       "      <th>Attr4</th>\n",
       "      <th>Attr5</th>\n",
       "      <th>Attr6</th>\n",
       "      <th>Attr7</th>\n",
       "      <th>Attr8</th>\n",
       "      <th>Attr9</th>\n",
       "      <th>Attr10</th>\n",
       "      <th>...</th>\n",
       "      <th>Attr55</th>\n",
       "      <th>Attr56</th>\n",
       "      <th>Attr57</th>\n",
       "      <th>Attr58</th>\n",
       "      <th>Attr59</th>\n",
       "      <th>Attr60</th>\n",
       "      <th>Attr61</th>\n",
       "      <th>Attr62</th>\n",
       "      <th>Attr63</th>\n",
       "      <th>Attr64</th>\n",
       "    </tr>\n",
       "  </thead>\n",
       "  <tbody>\n",
       "    <tr>\n",
       "      <th>0</th>\n",
       "      <td>0.056456</td>\n",
       "      <td>0.52493</td>\n",
       "      <td>0.21218</td>\n",
       "      <td>1.8852</td>\n",
       "      <td>48.855</td>\n",
       "      <td>0.15588</td>\n",
       "      <td>0.073958</td>\n",
       "      <td>0.76874</td>\n",
       "      <td>1.1259</td>\n",
       "      <td>0.40353</td>\n",
       "      <td>...</td>\n",
       "      <td>14976.0</td>\n",
       "      <td>0.11184</td>\n",
       "      <td>0.139910</td>\n",
       "      <td>0.88816</td>\n",
       "      <td>0.706860</td>\n",
       "      <td>7.349</td>\n",
       "      <td>2.4937</td>\n",
       "      <td>105.88</td>\n",
       "      <td>4.69732</td>\n",
       "      <td>1.5075</td>\n",
       "    </tr>\n",
       "    <tr>\n",
       "      <th>1</th>\n",
       "      <td>-0.0086101</td>\n",
       "      <td>0.56102</td>\n",
       "      <td>0.24435</td>\n",
       "      <td>1.8509</td>\n",
       "      <td>4.2847</td>\n",
       "      <td>0</td>\n",
       "      <td>-0.0086101</td>\n",
       "      <td>0.78248</td>\n",
       "      <td>2.4700</td>\n",
       "      <td>0.43898</td>\n",
       "      <td>...</td>\n",
       "      <td>2416.6</td>\n",
       "      <td>-0.027224</td>\n",
       "      <td>-0.019614</td>\n",
       "      <td>1.0034</td>\n",
       "      <td>0.347230</td>\n",
       "      <td>12.338</td>\n",
       "      <td>14.992</td>\n",
       "      <td>42.434</td>\n",
       "      <td>8.60148</td>\n",
       "      <td>5.2723</td>\n",
       "    </tr>\n",
       "    <tr>\n",
       "      <th>2</th>\n",
       "      <td>0.092538</td>\n",
       "      <td>0.55157</td>\n",
       "      <td>0.34368</td>\n",
       "      <td>3.075</td>\n",
       "      <td>-5.6058</td>\n",
       "      <td>0.15362</td>\n",
       "      <td>0.1191</td>\n",
       "      <td>0.78579</td>\n",
       "      <td>1.1013</td>\n",
       "      <td>0.43342</td>\n",
       "      <td>...</td>\n",
       "      <td>11663.0</td>\n",
       "      <td>0.091953</td>\n",
       "      <td>0.213510</td>\n",
       "      <td>0.90805</td>\n",
       "      <td>0.890450</td>\n",
       "      <td>3.5064</td>\n",
       "      <td>10.789</td>\n",
       "      <td>47.885</td>\n",
       "      <td>6.64916</td>\n",
       "      <td>2.5729</td>\n",
       "    </tr>\n",
       "    <tr>\n",
       "      <th>3</th>\n",
       "      <td>0.065102</td>\n",
       "      <td>0.79724</td>\n",
       "      <td>-0.051197</td>\n",
       "      <td>0.89587</td>\n",
       "      <td>-64.464</td>\n",
       "      <td>0.065102</td>\n",
       "      <td>0.029819</td>\n",
       "      <td>0.11225999999999998</td>\n",
       "      <td>1.0040</td>\n",
       "      <td>0.089501</td>\n",
       "      <td>...</td>\n",
       "      <td>-4370.2</td>\n",
       "      <td>0.0039389</td>\n",
       "      <td>0.727380</td>\n",
       "      <td>0.99606</td>\n",
       "      <td>3.414100</td>\n",
       "      <td>7.3744</td>\n",
       "      <td>5.8256</td>\n",
       "      <td>127.85</td>\n",
       "      <td>2.04202</td>\n",
       "      <td>2.5086</td>\n",
       "    </tr>\n",
       "    <tr>\n",
       "      <th>4</th>\n",
       "      <td>0.23341</td>\n",
       "      <td>0.5034</td>\n",
       "      <td>0.44502</td>\n",
       "      <td>1.9942</td>\n",
       "      <td>39.989</td>\n",
       "      <td>-0.010996</td>\n",
       "      <td>0.29821</td>\n",
       "      <td>0.98648</td>\n",
       "      <td>2.6600</td>\n",
       "      <td>0.4966</td>\n",
       "      <td>...</td>\n",
       "      <td>1160.5</td>\n",
       "      <td>0.1158</td>\n",
       "      <td>0.470020</td>\n",
       "      <td>0.88972</td>\n",
       "      <td>0.048201</td>\n",
       "      <td>15.695</td>\n",
       "      <td>21.808</td>\n",
       "      <td>61.421</td>\n",
       "      <td>5.94267</td>\n",
       "      <td>24.773</td>\n",
       "    </tr>\n",
       "  </tbody>\n",
       "</table>\n",
       "<p>5 rows × 60 columns</p>\n",
       "</div>"
      ],
      "text/plain": [
       "       Attr1    Attr2     Attr3    Attr4    Attr5     Attr6      Attr7  \\\n",
       "0   0.056456  0.52493   0.21218   1.8852   48.855   0.15588   0.073958   \n",
       "1 -0.0086101  0.56102   0.24435   1.8509   4.2847         0 -0.0086101   \n",
       "2   0.092538  0.55157   0.34368    3.075  -5.6058   0.15362     0.1191   \n",
       "3   0.065102  0.79724 -0.051197  0.89587  -64.464  0.065102   0.029819   \n",
       "4    0.23341   0.5034   0.44502   1.9942   39.989 -0.010996    0.29821   \n",
       "\n",
       "                 Attr8   Attr9    Attr10  ...   Attr55     Attr56    Attr57  \\\n",
       "0              0.76874  1.1259   0.40353  ...  14976.0    0.11184  0.139910   \n",
       "1              0.78248  2.4700   0.43898  ...   2416.6  -0.027224 -0.019614   \n",
       "2              0.78579  1.1013   0.43342  ...  11663.0   0.091953  0.213510   \n",
       "3  0.11225999999999998  1.0040  0.089501  ...  -4370.2  0.0039389  0.727380   \n",
       "4              0.98648  2.6600    0.4966  ...   1160.5     0.1158  0.470020   \n",
       "\n",
       "    Attr58    Attr59  Attr60  Attr61  Attr62   Attr63  Attr64  \n",
       "0  0.88816  0.706860   7.349  2.4937  105.88  4.69732  1.5075  \n",
       "1   1.0034  0.347230  12.338  14.992  42.434  8.60148  5.2723  \n",
       "2  0.90805  0.890450  3.5064  10.789  47.885  6.64916  2.5729  \n",
       "3  0.99606  3.414100  7.3744  5.8256  127.85  2.04202  2.5086  \n",
       "4  0.88972  0.048201  15.695  21.808  61.421  5.94267  24.773  \n",
       "\n",
       "[5 rows x 60 columns]"
      ]
     },
     "execution_count": 45,
     "metadata": {},
     "output_type": "execute_result"
    }
   ],
   "source": [
    "new.head()"
   ]
  },
  {
   "cell_type": "code",
   "execution_count": 46,
   "metadata": {
    "scrolled": true
   },
   "outputs": [
    {
     "data": {
      "text/plain": [
       "52"
      ]
     },
     "execution_count": 46,
     "metadata": {},
     "output_type": "execute_result"
    }
   ],
   "source": [
    "np.sum(np.sum(new.astype(\"str\")==\"?\")>0)"
   ]
  },
  {
   "cell_type": "markdown",
   "metadata": {},
   "source": [
    "7개 줄었당"
   ]
  },
  {
   "cell_type": "markdown",
   "metadata": {},
   "source": [
    "## 새로운 변수 만들기"
   ]
  },
  {
   "cell_type": "markdown",
   "metadata": {},
   "source": [
    "## 1) Attr65 = Attr1 * Attr17"
   ]
  },
  {
   "cell_type": "code",
   "execution_count": 47,
   "metadata": {},
   "outputs": [
    {
     "data": {
      "text/plain": [
       "Attr1     1\n",
       "Attr17    4\n",
       "dtype: int64"
      ]
     },
     "execution_count": 47,
     "metadata": {},
     "output_type": "execute_result"
    }
   ],
   "source": [
    "np.sum(new[[\"Attr1\", \"Attr17\"]].astype(\"str\") == \"?\")"
   ]
  },
  {
   "cell_type": "code",
   "execution_count": 48,
   "metadata": {},
   "outputs": [
    {
     "data": {
      "text/plain": [
       "[536, 2338, 427, 1294]"
      ]
     },
     "execution_count": 48,
     "metadata": {},
     "output_type": "execute_result"
    }
   ],
   "source": [
    "x65_null_idx = null_idx(new, [\"Attr17\", \"Attr1\"])\n",
    "x65_null_idx"
   ]
  },
  {
   "cell_type": "markdown",
   "metadata": {},
   "source": [
    "- 1) 일단 새로운 변수 모두 0으로 해서 새 column 만들기\n",
    "- 2) null_idx는 ?으로 할당\n",
    "- 3) 계산할 수 있는 애들은 활용해서 대입"
   ]
  },
  {
   "cell_type": "code",
   "execution_count": 49,
   "metadata": {},
   "outputs": [],
   "source": [
    "new[\"Attr65\"] = np.zeros(new.shape[0])"
   ]
  },
  {
   "cell_type": "code",
   "execution_count": 50,
   "metadata": {},
   "outputs": [
    {
     "name": "stderr",
     "output_type": "stream",
     "text": [
      "/Users/jominju/opt/anaconda3/lib/python3.7/site-packages/pandas/core/indexing.py:670: SettingWithCopyWarning: \n",
      "A value is trying to be set on a copy of a slice from a DataFrame\n",
      "\n",
      "See the caveats in the documentation: https://pandas.pydata.org/pandas-docs/stable/user_guide/indexing.html#returning-a-view-versus-a-copy\n",
      "  self._setitem_with_indexer(indexer, value)\n"
     ]
    }
   ],
   "source": [
    "new[\"Attr65\"].iloc[x65_null_idx] = \"?\""
   ]
  },
  {
   "cell_type": "code",
   "execution_count": 51,
   "metadata": {},
   "outputs": [],
   "source": [
    "new[\"Attr65\"].iloc[~new.index.isin(x65_null_idx)] = ((new[\"Attr1\"][~new.index.isin(x65_null_idx)].astype(\"float\").mul(\n",
    "    new[\"Attr17\"][~new.index.isin(x65_null_idx)].astype(\"float\"))))"
   ]
  },
  {
   "cell_type": "code",
   "execution_count": 52,
   "metadata": {},
   "outputs": [
    {
     "data": {
      "text/plain": [
       "0     0.107549\n",
       "1   -0.0153475\n",
       "2     0.167771\n",
       "3    0.0816574\n",
       "4     0.463669\n",
       "5     0.554104\n",
       "6    -0.547559\n",
       "7    0.0604843\n",
       "8      2.53792\n",
       "9    0.0528346\n",
       "Name: Attr65, dtype: object"
      ]
     },
     "execution_count": 52,
     "metadata": {},
     "output_type": "execute_result"
    }
   ],
   "source": [
    "new[\"Attr65\"].head(10)"
   ]
  },
  {
   "cell_type": "code",
   "execution_count": 53,
   "metadata": {},
   "outputs": [
    {
     "data": {
      "text/plain": [
       "Attr65    4\n",
       "Attr1     1\n",
       "Attr17    4\n",
       "dtype: int64"
      ]
     },
     "execution_count": 53,
     "metadata": {},
     "output_type": "execute_result"
    }
   ],
   "source": [
    "np.sum(new[[\"Attr65\", \"Attr1\", \"Attr17\"]].astype(\"str\") == \"?\")"
   ]
  },
  {
   "cell_type": "code",
   "execution_count": 54,
   "metadata": {},
   "outputs": [
    {
     "data": {
      "text/html": [
       "<div>\n",
       "<style scoped>\n",
       "    .dataframe tbody tr th:only-of-type {\n",
       "        vertical-align: middle;\n",
       "    }\n",
       "\n",
       "    .dataframe tbody tr th {\n",
       "        vertical-align: top;\n",
       "    }\n",
       "\n",
       "    .dataframe thead th {\n",
       "        text-align: right;\n",
       "    }\n",
       "</style>\n",
       "<table border=\"1\" class=\"dataframe\">\n",
       "  <thead>\n",
       "    <tr style=\"text-align: right;\">\n",
       "      <th></th>\n",
       "      <th>Attr65</th>\n",
       "      <th>Attr1</th>\n",
       "      <th>Attr17</th>\n",
       "    </tr>\n",
       "  </thead>\n",
       "  <tbody>\n",
       "    <tr>\n",
       "      <th>536</th>\n",
       "      <td>?</td>\n",
       "      <td>?</td>\n",
       "      <td>?</td>\n",
       "    </tr>\n",
       "    <tr>\n",
       "      <th>2338</th>\n",
       "      <td>?</td>\n",
       "      <td>0</td>\n",
       "      <td>?</td>\n",
       "    </tr>\n",
       "    <tr>\n",
       "      <th>427</th>\n",
       "      <td>?</td>\n",
       "      <td>-0.14518</td>\n",
       "      <td>?</td>\n",
       "    </tr>\n",
       "    <tr>\n",
       "      <th>1294</th>\n",
       "      <td>?</td>\n",
       "      <td>-0.059378</td>\n",
       "      <td>?</td>\n",
       "    </tr>\n",
       "  </tbody>\n",
       "</table>\n",
       "</div>"
      ],
      "text/plain": [
       "     Attr65     Attr1 Attr17\n",
       "536       ?         ?      ?\n",
       "2338      ?         0      ?\n",
       "427       ?  -0.14518      ?\n",
       "1294      ? -0.059378      ?"
      ]
     },
     "execution_count": 54,
     "metadata": {},
     "output_type": "execute_result"
    }
   ],
   "source": [
    "new[[\"Attr65\", \"Attr1\", \"Attr17\"]].iloc[x65_null_idx]"
   ]
  },
  {
   "cell_type": "code",
   "execution_count": 55,
   "metadata": {},
   "outputs": [
    {
     "data": {
      "text/html": [
       "<div>\n",
       "<style scoped>\n",
       "    .dataframe tbody tr th:only-of-type {\n",
       "        vertical-align: middle;\n",
       "    }\n",
       "\n",
       "    .dataframe tbody tr th {\n",
       "        vertical-align: top;\n",
       "    }\n",
       "\n",
       "    .dataframe thead th {\n",
       "        text-align: right;\n",
       "    }\n",
       "</style>\n",
       "<table border=\"1\" class=\"dataframe\">\n",
       "  <thead>\n",
       "    <tr style=\"text-align: right;\">\n",
       "      <th></th>\n",
       "      <th>Attr1</th>\n",
       "      <th>Attr17</th>\n",
       "      <th>Attr65</th>\n",
       "    </tr>\n",
       "  </thead>\n",
       "  <tbody>\n",
       "    <tr>\n",
       "      <th>0</th>\n",
       "      <td>0.056456</td>\n",
       "      <td>1.905</td>\n",
       "      <td>0.107549</td>\n",
       "    </tr>\n",
       "    <tr>\n",
       "      <th>1</th>\n",
       "      <td>-0.0086101</td>\n",
       "      <td>1.7825</td>\n",
       "      <td>-0.0153475</td>\n",
       "    </tr>\n",
       "    <tr>\n",
       "      <th>2</th>\n",
       "      <td>0.092538</td>\n",
       "      <td>1.813</td>\n",
       "      <td>0.167771</td>\n",
       "    </tr>\n",
       "    <tr>\n",
       "      <th>3</th>\n",
       "      <td>0.065102</td>\n",
       "      <td>1.2543</td>\n",
       "      <td>0.0816574</td>\n",
       "    </tr>\n",
       "    <tr>\n",
       "      <th>4</th>\n",
       "      <td>0.23341</td>\n",
       "      <td>1.9865</td>\n",
       "      <td>0.463669</td>\n",
       "    </tr>\n",
       "    <tr>\n",
       "      <th>5</th>\n",
       "      <td>0.11991</td>\n",
       "      <td>4.621</td>\n",
       "      <td>0.554104</td>\n",
       "    </tr>\n",
       "    <tr>\n",
       "      <th>6</th>\n",
       "      <td>-0.25456</td>\n",
       "      <td>2.151</td>\n",
       "      <td>-0.547559</td>\n",
       "    </tr>\n",
       "    <tr>\n",
       "      <th>7</th>\n",
       "      <td>0.026658</td>\n",
       "      <td>2.2689</td>\n",
       "      <td>0.0604843</td>\n",
       "    </tr>\n",
       "    <tr>\n",
       "      <th>8</th>\n",
       "      <td>0.32106</td>\n",
       "      <td>7.9048</td>\n",
       "      <td>2.53792</td>\n",
       "    </tr>\n",
       "    <tr>\n",
       "      <th>9</th>\n",
       "      <td>0.032175</td>\n",
       "      <td>1.6421</td>\n",
       "      <td>0.0528346</td>\n",
       "    </tr>\n",
       "  </tbody>\n",
       "</table>\n",
       "</div>"
      ],
      "text/plain": [
       "       Attr1  Attr17     Attr65\n",
       "0   0.056456   1.905   0.107549\n",
       "1 -0.0086101  1.7825 -0.0153475\n",
       "2   0.092538   1.813   0.167771\n",
       "3   0.065102  1.2543  0.0816574\n",
       "4    0.23341  1.9865   0.463669\n",
       "5    0.11991   4.621   0.554104\n",
       "6   -0.25456   2.151  -0.547559\n",
       "7   0.026658  2.2689  0.0604843\n",
       "8    0.32106  7.9048    2.53792\n",
       "9   0.032175  1.6421  0.0528346"
      ]
     },
     "execution_count": 55,
     "metadata": {},
     "output_type": "execute_result"
    }
   ],
   "source": [
    "new[[\"Attr1\",\"Attr17\",\"Attr65\"]].head(10)"
   ]
  },
  {
   "cell_type": "markdown",
   "metadata": {},
   "source": [
    "### Attr66 = (Attr13 - Attr19) * Attr9"
   ]
  },
  {
   "cell_type": "code",
   "execution_count": 56,
   "metadata": {},
   "outputs": [
    {
     "data": {
      "text/plain": [
       "Attr13    7\n",
       "Attr19    0\n",
       "Attr9     0\n",
       "dtype: int64"
      ]
     },
     "execution_count": 56,
     "metadata": {},
     "output_type": "execute_result"
    }
   ],
   "source": [
    "np.sum(new[[\"Attr13\", \"Attr19\", \"Attr9\"]].astype(\"str\") == \"?\")"
   ]
  },
  {
   "cell_type": "code",
   "execution_count": 57,
   "metadata": {},
   "outputs": [
    {
     "data": {
      "text/plain": [
       "[1153, 1857, 2890, 1331, 1847, 30, 927]"
      ]
     },
     "execution_count": 57,
     "metadata": {},
     "output_type": "execute_result"
    }
   ],
   "source": [
    "x66_null_idx = null_idx(new, [\"Attr13\", \"Attr19\", \"Attr9\"])\n",
    "x66_null_idx"
   ]
  },
  {
   "cell_type": "code",
   "execution_count": 58,
   "metadata": {},
   "outputs": [],
   "source": [
    "new[\"Attr66\"] = np.zeros(new.shape[0])"
   ]
  },
  {
   "cell_type": "code",
   "execution_count": 59,
   "metadata": {},
   "outputs": [
    {
     "name": "stderr",
     "output_type": "stream",
     "text": [
      "/Users/jominju/opt/anaconda3/lib/python3.7/site-packages/pandas/core/indexing.py:670: SettingWithCopyWarning: \n",
      "A value is trying to be set on a copy of a slice from a DataFrame\n",
      "\n",
      "See the caveats in the documentation: https://pandas.pydata.org/pandas-docs/stable/user_guide/indexing.html#returning-a-view-versus-a-copy\n",
      "  self._setitem_with_indexer(indexer, value)\n"
     ]
    }
   ],
   "source": [
    "new[\"Attr66\"].iloc[x66_null_idx] = \"?\""
   ]
  },
  {
   "cell_type": "code",
   "execution_count": 60,
   "metadata": {},
   "outputs": [],
   "source": [
    "new[\"Attr66\"].iloc[~new.index.isin(x66_null_idx)] = (\n",
    "    ((new[\"Attr13\"][~new.index.isin(x66_null_idx)].astype(\"float\").sub(\n",
    "    new[\"Attr19\"][~new.index.isin(x66_null_idx)].astype(\"float\")))).mul\n",
    " (new[\"Attr9\"][~new.index.isin(x66_null_idx)].astype(\"float\")))"
   ]
  },
  {
   "cell_type": "code",
   "execution_count": 61,
   "metadata": {},
   "outputs": [
    {
     "data": {
      "text/html": [
       "<div>\n",
       "<style scoped>\n",
       "    .dataframe tbody tr th:only-of-type {\n",
       "        vertical-align: middle;\n",
       "    }\n",
       "\n",
       "    .dataframe tbody tr th {\n",
       "        vertical-align: top;\n",
       "    }\n",
       "\n",
       "    .dataframe thead th {\n",
       "        text-align: right;\n",
       "    }\n",
       "</style>\n",
       "<table border=\"1\" class=\"dataframe\">\n",
       "  <thead>\n",
       "    <tr style=\"text-align: right;\">\n",
       "      <th></th>\n",
       "      <th>Attr13</th>\n",
       "      <th>Attr19</th>\n",
       "      <th>Attr9</th>\n",
       "      <th>Attr66</th>\n",
       "    </tr>\n",
       "  </thead>\n",
       "  <tbody>\n",
       "    <tr>\n",
       "      <th>1153</th>\n",
       "      <td>?</td>\n",
       "      <td>-18.0749</td>\n",
       "      <td>0.0</td>\n",
       "      <td>?</td>\n",
       "    </tr>\n",
       "    <tr>\n",
       "      <th>1857</th>\n",
       "      <td>?</td>\n",
       "      <td>10.2832</td>\n",
       "      <td>0.0</td>\n",
       "      <td>?</td>\n",
       "    </tr>\n",
       "    <tr>\n",
       "      <th>2890</th>\n",
       "      <td>?</td>\n",
       "      <td>-8716.89</td>\n",
       "      <td>0.0</td>\n",
       "      <td>?</td>\n",
       "    </tr>\n",
       "    <tr>\n",
       "      <th>1331</th>\n",
       "      <td>?</td>\n",
       "      <td>1627.28</td>\n",
       "      <td>0.0</td>\n",
       "      <td>?</td>\n",
       "    </tr>\n",
       "    <tr>\n",
       "      <th>1847</th>\n",
       "      <td>?</td>\n",
       "      <td>169.779</td>\n",
       "      <td>0.0</td>\n",
       "      <td>?</td>\n",
       "    </tr>\n",
       "    <tr>\n",
       "      <th>30</th>\n",
       "      <td>?</td>\n",
       "      <td>1664.49</td>\n",
       "      <td>0.0</td>\n",
       "      <td>?</td>\n",
       "    </tr>\n",
       "    <tr>\n",
       "      <th>927</th>\n",
       "      <td>?</td>\n",
       "      <td>-1712.23</td>\n",
       "      <td>0.0</td>\n",
       "      <td>?</td>\n",
       "    </tr>\n",
       "  </tbody>\n",
       "</table>\n",
       "</div>"
      ],
      "text/plain": [
       "     Attr13   Attr19  Attr9 Attr66\n",
       "1153      ? -18.0749    0.0      ?\n",
       "1857      ?  10.2832    0.0      ?\n",
       "2890      ? -8716.89    0.0      ?\n",
       "1331      ?  1627.28    0.0      ?\n",
       "1847      ?  169.779    0.0      ?\n",
       "30        ?  1664.49    0.0      ?\n",
       "927       ? -1712.23    0.0      ?"
      ]
     },
     "execution_count": 61,
     "metadata": {},
     "output_type": "execute_result"
    }
   ],
   "source": [
    "new[[\"Attr13\",\"Attr19\",\"Attr9\",\"Attr66\"]].iloc[x66_null_idx]"
   ]
  },
  {
   "cell_type": "code",
   "execution_count": 62,
   "metadata": {},
   "outputs": [
    {
     "data": {
      "text/html": [
       "<div>\n",
       "<style scoped>\n",
       "    .dataframe tbody tr th:only-of-type {\n",
       "        vertical-align: middle;\n",
       "    }\n",
       "\n",
       "    .dataframe tbody tr th {\n",
       "        vertical-align: top;\n",
       "    }\n",
       "\n",
       "    .dataframe thead th {\n",
       "        text-align: right;\n",
       "    }\n",
       "</style>\n",
       "<table border=\"1\" class=\"dataframe\">\n",
       "  <thead>\n",
       "    <tr style=\"text-align: right;\">\n",
       "      <th></th>\n",
       "      <th>Attr13</th>\n",
       "      <th>Attr19</th>\n",
       "      <th>Attr9</th>\n",
       "      <th>Attr66</th>\n",
       "    </tr>\n",
       "  </thead>\n",
       "  <tbody>\n",
       "    <tr>\n",
       "      <th>0</th>\n",
       "      <td>0.15194</td>\n",
       "      <td>0.0656879</td>\n",
       "      <td>1.1259</td>\n",
       "      <td>0.0971112</td>\n",
       "    </tr>\n",
       "    <tr>\n",
       "      <th>1</th>\n",
       "      <td>0.066923</td>\n",
       "      <td>-0.00348587</td>\n",
       "      <td>2.4700</td>\n",
       "      <td>0.17391</td>\n",
       "    </tr>\n",
       "    <tr>\n",
       "      <th>2</th>\n",
       "      <td>0.16456</td>\n",
       "      <td>0.108145</td>\n",
       "      <td>1.1013</td>\n",
       "      <td>0.0621299</td>\n",
       "    </tr>\n",
       "    <tr>\n",
       "      <th>3</th>\n",
       "      <td>0.052877</td>\n",
       "      <td>0.0297002</td>\n",
       "      <td>1.0040</td>\n",
       "      <td>0.0232695</td>\n",
       "    </tr>\n",
       "    <tr>\n",
       "      <th>4</th>\n",
       "      <td>0.12034</td>\n",
       "      <td>0.112109</td>\n",
       "      <td>2.6600</td>\n",
       "      <td>0.0218944</td>\n",
       "    </tr>\n",
       "    <tr>\n",
       "      <th>5</th>\n",
       "      <td>0.10245</td>\n",
       "      <td>0.110925</td>\n",
       "      <td>1.0810</td>\n",
       "      <td>-0.00916155</td>\n",
       "    </tr>\n",
       "    <tr>\n",
       "      <th>6</th>\n",
       "      <td>-0.36044</td>\n",
       "      <td>-0.298956</td>\n",
       "      <td>0.8526</td>\n",
       "      <td>-0.0524211</td>\n",
       "    </tr>\n",
       "    <tr>\n",
       "      <th>7</th>\n",
       "      <td>0.053661</td>\n",
       "      <td>0.0287181</td>\n",
       "      <td>1.3355</td>\n",
       "      <td>0.0333113</td>\n",
       "    </tr>\n",
       "    <tr>\n",
       "      <th>8</th>\n",
       "      <td>0.28105</td>\n",
       "      <td>0.244685</td>\n",
       "      <td>1.6464</td>\n",
       "      <td>0.0598707</td>\n",
       "    </tr>\n",
       "    <tr>\n",
       "      <th>9</th>\n",
       "      <td>0.049692</td>\n",
       "      <td>0.0350626</td>\n",
       "      <td>1.0222</td>\n",
       "      <td>0.0149542</td>\n",
       "    </tr>\n",
       "  </tbody>\n",
       "</table>\n",
       "</div>"
      ],
      "text/plain": [
       "     Attr13      Attr19   Attr9      Attr66\n",
       "0   0.15194   0.0656879  1.1259   0.0971112\n",
       "1  0.066923 -0.00348587  2.4700     0.17391\n",
       "2   0.16456    0.108145  1.1013   0.0621299\n",
       "3  0.052877   0.0297002  1.0040   0.0232695\n",
       "4   0.12034    0.112109  2.6600   0.0218944\n",
       "5   0.10245    0.110925  1.0810 -0.00916155\n",
       "6  -0.36044   -0.298956  0.8526  -0.0524211\n",
       "7  0.053661   0.0287181  1.3355   0.0333113\n",
       "8   0.28105    0.244685  1.6464   0.0598707\n",
       "9  0.049692   0.0350626  1.0222   0.0149542"
      ]
     },
     "execution_count": 62,
     "metadata": {},
     "output_type": "execute_result"
    }
   ],
   "source": [
    "new[[\"Attr13\",\"Attr19\",\"Attr9\",\"Attr66\"]].head(10)"
   ]
  },
  {
   "cell_type": "markdown",
   "metadata": {},
   "source": [
    "### Attr67 = Attr1 / Attr10"
   ]
  },
  {
   "cell_type": "code",
   "execution_count": 63,
   "metadata": {},
   "outputs": [
    {
     "data": {
      "text/plain": [
       "Attr1     1\n",
       "Attr10    1\n",
       "dtype: int64"
      ]
     },
     "execution_count": 63,
     "metadata": {},
     "output_type": "execute_result"
    }
   ],
   "source": [
    "np.sum(new[[\"Attr1\", \"Attr10\"]].astype(\"str\") == \"?\")"
   ]
  },
  {
   "cell_type": "code",
   "execution_count": 64,
   "metadata": {},
   "outputs": [
    {
     "data": {
      "text/plain": [
       "[536]"
      ]
     },
     "execution_count": 64,
     "metadata": {},
     "output_type": "execute_result"
    }
   ],
   "source": [
    "x67_null_idx = null_idx(new, [\"Attr1\", \"Attr10\"])\n",
    "x67_null_idx"
   ]
  },
  {
   "cell_type": "code",
   "execution_count": 65,
   "metadata": {},
   "outputs": [],
   "source": [
    "new[\"Attr67\"] = np.zeros(new.shape[0])"
   ]
  },
  {
   "cell_type": "code",
   "execution_count": 66,
   "metadata": {},
   "outputs": [
    {
     "name": "stderr",
     "output_type": "stream",
     "text": [
      "/Users/jominju/opt/anaconda3/lib/python3.7/site-packages/pandas/core/indexing.py:670: SettingWithCopyWarning: \n",
      "A value is trying to be set on a copy of a slice from a DataFrame\n",
      "\n",
      "See the caveats in the documentation: https://pandas.pydata.org/pandas-docs/stable/user_guide/indexing.html#returning-a-view-versus-a-copy\n",
      "  self._setitem_with_indexer(indexer, value)\n"
     ]
    }
   ],
   "source": [
    "new[\"Attr67\"].iloc[x67_null_idx] = \"?\""
   ]
  },
  {
   "cell_type": "code",
   "execution_count": 67,
   "metadata": {},
   "outputs": [],
   "source": [
    "new[\"Attr67\"].iloc[~new.index.isin(x67_null_idx)] = (new[\"Attr1\"].iloc[~new.index.isin(x67_null_idx)].astype(\"float\")).div(\n",
    "    new[\"Attr10\"].iloc[~new.index.isin(x67_null_idx)].astype(\"float\"))"
   ]
  },
  {
   "cell_type": "code",
   "execution_count": 68,
   "metadata": {},
   "outputs": [
    {
     "data": {
      "text/html": [
       "<div>\n",
       "<style scoped>\n",
       "    .dataframe tbody tr th:only-of-type {\n",
       "        vertical-align: middle;\n",
       "    }\n",
       "\n",
       "    .dataframe tbody tr th {\n",
       "        vertical-align: top;\n",
       "    }\n",
       "\n",
       "    .dataframe thead th {\n",
       "        text-align: right;\n",
       "    }\n",
       "</style>\n",
       "<table border=\"1\" class=\"dataframe\">\n",
       "  <thead>\n",
       "    <tr style=\"text-align: right;\">\n",
       "      <th></th>\n",
       "      <th>Attr1</th>\n",
       "      <th>Attr10</th>\n",
       "      <th>Attr67</th>\n",
       "    </tr>\n",
       "  </thead>\n",
       "  <tbody>\n",
       "    <tr>\n",
       "      <th>536</th>\n",
       "      <td>?</td>\n",
       "      <td>?</td>\n",
       "      <td>?</td>\n",
       "    </tr>\n",
       "  </tbody>\n",
       "</table>\n",
       "</div>"
      ],
      "text/plain": [
       "    Attr1 Attr10 Attr67\n",
       "536     ?      ?      ?"
      ]
     },
     "execution_count": 68,
     "metadata": {},
     "output_type": "execute_result"
    }
   ],
   "source": [
    "new[[\"Attr1\",\"Attr10\",\"Attr67\"]].iloc[x67_null_idx]"
   ]
  },
  {
   "cell_type": "code",
   "execution_count": 69,
   "metadata": {},
   "outputs": [
    {
     "data": {
      "text/html": [
       "<div>\n",
       "<style scoped>\n",
       "    .dataframe tbody tr th:only-of-type {\n",
       "        vertical-align: middle;\n",
       "    }\n",
       "\n",
       "    .dataframe tbody tr th {\n",
       "        vertical-align: top;\n",
       "    }\n",
       "\n",
       "    .dataframe thead th {\n",
       "        text-align: right;\n",
       "    }\n",
       "</style>\n",
       "<table border=\"1\" class=\"dataframe\">\n",
       "  <thead>\n",
       "    <tr style=\"text-align: right;\">\n",
       "      <th></th>\n",
       "      <th>Attr1</th>\n",
       "      <th>Attr10</th>\n",
       "      <th>Attr67</th>\n",
       "    </tr>\n",
       "  </thead>\n",
       "  <tbody>\n",
       "    <tr>\n",
       "      <th>0</th>\n",
       "      <td>0.056456</td>\n",
       "      <td>0.40353</td>\n",
       "      <td>0.139905</td>\n",
       "    </tr>\n",
       "    <tr>\n",
       "      <th>1</th>\n",
       "      <td>-0.0086101</td>\n",
       "      <td>0.43898</td>\n",
       "      <td>-0.0196139</td>\n",
       "    </tr>\n",
       "    <tr>\n",
       "      <th>2</th>\n",
       "      <td>0.092538</td>\n",
       "      <td>0.43342</td>\n",
       "      <td>0.213507</td>\n",
       "    </tr>\n",
       "    <tr>\n",
       "      <th>3</th>\n",
       "      <td>0.065102</td>\n",
       "      <td>0.089501</td>\n",
       "      <td>0.727389</td>\n",
       "    </tr>\n",
       "    <tr>\n",
       "      <th>4</th>\n",
       "      <td>0.23341</td>\n",
       "      <td>0.4966</td>\n",
       "      <td>0.470016</td>\n",
       "    </tr>\n",
       "    <tr>\n",
       "      <th>5</th>\n",
       "      <td>0.11991</td>\n",
       "      <td>0.78171</td>\n",
       "      <td>0.153394</td>\n",
       "    </tr>\n",
       "    <tr>\n",
       "      <th>6</th>\n",
       "      <td>-0.25456</td>\n",
       "      <td>0.51371</td>\n",
       "      <td>-0.495532</td>\n",
       "    </tr>\n",
       "    <tr>\n",
       "      <th>7</th>\n",
       "      <td>0.026658</td>\n",
       "      <td>0.55927</td>\n",
       "      <td>0.0476657</td>\n",
       "    </tr>\n",
       "    <tr>\n",
       "      <th>8</th>\n",
       "      <td>0.32106</td>\n",
       "      <td>0.87349</td>\n",
       "      <td>0.36756</td>\n",
       "    </tr>\n",
       "    <tr>\n",
       "      <th>9</th>\n",
       "      <td>0.032175</td>\n",
       "      <td>0.35056</td>\n",
       "      <td>0.0917817</td>\n",
       "    </tr>\n",
       "  </tbody>\n",
       "</table>\n",
       "</div>"
      ],
      "text/plain": [
       "       Attr1    Attr10     Attr67\n",
       "0   0.056456   0.40353   0.139905\n",
       "1 -0.0086101   0.43898 -0.0196139\n",
       "2   0.092538   0.43342   0.213507\n",
       "3   0.065102  0.089501   0.727389\n",
       "4    0.23341    0.4966   0.470016\n",
       "5    0.11991   0.78171   0.153394\n",
       "6   -0.25456   0.51371  -0.495532\n",
       "7   0.026658   0.55927  0.0476657\n",
       "8    0.32106   0.87349    0.36756\n",
       "9   0.032175   0.35056  0.0917817"
      ]
     },
     "execution_count": 69,
     "metadata": {},
     "output_type": "execute_result"
    }
   ],
   "source": [
    "new[[\"Attr1\",\"Attr10\",\"Attr67\"]].head(10)"
   ]
  },
  {
   "cell_type": "markdown",
   "metadata": {},
   "source": [
    "### Attr68 = Attr9 / Attr3\n"
   ]
  },
  {
   "cell_type": "code",
   "execution_count": 70,
   "metadata": {},
   "outputs": [
    {
     "data": {
      "text/plain": [
       "Attr9    0\n",
       "Attr3    1\n",
       "dtype: int64"
      ]
     },
     "execution_count": 70,
     "metadata": {},
     "output_type": "execute_result"
    }
   ],
   "source": [
    "np.sum(new[[\"Attr9\", \"Attr3\"]].astype(\"str\") == \"?\")"
   ]
  },
  {
   "cell_type": "code",
   "execution_count": 71,
   "metadata": {},
   "outputs": [
    {
     "data": {
      "text/plain": [
       "[536]"
      ]
     },
     "execution_count": 71,
     "metadata": {},
     "output_type": "execute_result"
    }
   ],
   "source": [
    "x68_null_idx = null_idx(new, [\"Attr9\", \"Attr3\"])\n",
    "x68_null_idx"
   ]
  },
  {
   "cell_type": "code",
   "execution_count": 72,
   "metadata": {},
   "outputs": [],
   "source": [
    "new[\"Attr68\"] = np.zeros(new.shape[0])"
   ]
  },
  {
   "cell_type": "code",
   "execution_count": 73,
   "metadata": {},
   "outputs": [
    {
     "name": "stderr",
     "output_type": "stream",
     "text": [
      "/Users/jominju/opt/anaconda3/lib/python3.7/site-packages/pandas/core/indexing.py:670: SettingWithCopyWarning: \n",
      "A value is trying to be set on a copy of a slice from a DataFrame\n",
      "\n",
      "See the caveats in the documentation: https://pandas.pydata.org/pandas-docs/stable/user_guide/indexing.html#returning-a-view-versus-a-copy\n",
      "  self._setitem_with_indexer(indexer, value)\n"
     ]
    }
   ],
   "source": [
    "new[\"Attr68\"].iloc[x68_null_idx] = \"?\""
   ]
  },
  {
   "cell_type": "code",
   "execution_count": 74,
   "metadata": {},
   "outputs": [],
   "source": [
    "new[\"Attr68\"].iloc[~new.index.isin(x68_null_idx)] = (new[\"Attr9\"].iloc[~new.index.isin(x68_null_idx)].astype(\"float\")).div(\n",
    "    new[\"Attr3\"].iloc[~new.index.isin(x68_null_idx)].astype(\"float\"))"
   ]
  },
  {
   "cell_type": "code",
   "execution_count": 75,
   "metadata": {},
   "outputs": [
    {
     "data": {
      "text/html": [
       "<div>\n",
       "<style scoped>\n",
       "    .dataframe tbody tr th:only-of-type {\n",
       "        vertical-align: middle;\n",
       "    }\n",
       "\n",
       "    .dataframe tbody tr th {\n",
       "        vertical-align: top;\n",
       "    }\n",
       "\n",
       "    .dataframe thead th {\n",
       "        text-align: right;\n",
       "    }\n",
       "</style>\n",
       "<table border=\"1\" class=\"dataframe\">\n",
       "  <thead>\n",
       "    <tr style=\"text-align: right;\">\n",
       "      <th></th>\n",
       "      <th>Attr9</th>\n",
       "      <th>Attr3</th>\n",
       "      <th>Attr68</th>\n",
       "    </tr>\n",
       "  </thead>\n",
       "  <tbody>\n",
       "    <tr>\n",
       "      <th>536</th>\n",
       "      <td>1.0248</td>\n",
       "      <td>?</td>\n",
       "      <td>?</td>\n",
       "    </tr>\n",
       "  </tbody>\n",
       "</table>\n",
       "</div>"
      ],
      "text/plain": [
       "      Attr9 Attr3 Attr68\n",
       "536  1.0248     ?      ?"
      ]
     },
     "execution_count": 75,
     "metadata": {},
     "output_type": "execute_result"
    }
   ],
   "source": [
    "new[[\"Attr9\",\"Attr3\",\"Attr68\"]].iloc[x67_null_idx]"
   ]
  },
  {
   "cell_type": "code",
   "execution_count": 76,
   "metadata": {},
   "outputs": [
    {
     "data": {
      "text/html": [
       "<div>\n",
       "<style scoped>\n",
       "    .dataframe tbody tr th:only-of-type {\n",
       "        vertical-align: middle;\n",
       "    }\n",
       "\n",
       "    .dataframe tbody tr th {\n",
       "        vertical-align: top;\n",
       "    }\n",
       "\n",
       "    .dataframe thead th {\n",
       "        text-align: right;\n",
       "    }\n",
       "</style>\n",
       "<table border=\"1\" class=\"dataframe\">\n",
       "  <thead>\n",
       "    <tr style=\"text-align: right;\">\n",
       "      <th></th>\n",
       "      <th>Attr9</th>\n",
       "      <th>Attr3</th>\n",
       "      <th>Attr68</th>\n",
       "    </tr>\n",
       "  </thead>\n",
       "  <tbody>\n",
       "    <tr>\n",
       "      <th>0</th>\n",
       "      <td>1.1259</td>\n",
       "      <td>0.21218</td>\n",
       "      <td>5.30634</td>\n",
       "    </tr>\n",
       "    <tr>\n",
       "      <th>1</th>\n",
       "      <td>2.4700</td>\n",
       "      <td>0.24435</td>\n",
       "      <td>10.1085</td>\n",
       "    </tr>\n",
       "    <tr>\n",
       "      <th>2</th>\n",
       "      <td>1.1013</td>\n",
       "      <td>0.34368</td>\n",
       "      <td>3.20443</td>\n",
       "    </tr>\n",
       "    <tr>\n",
       "      <th>3</th>\n",
       "      <td>1.0040</td>\n",
       "      <td>-0.051197</td>\n",
       "      <td>-19.6105</td>\n",
       "    </tr>\n",
       "    <tr>\n",
       "      <th>4</th>\n",
       "      <td>2.6600</td>\n",
       "      <td>0.44502</td>\n",
       "      <td>5.97726</td>\n",
       "    </tr>\n",
       "    <tr>\n",
       "      <th>5</th>\n",
       "      <td>1.0810</td>\n",
       "      <td>0.40868</td>\n",
       "      <td>2.6451</td>\n",
       "    </tr>\n",
       "    <tr>\n",
       "      <th>6</th>\n",
       "      <td>0.8526</td>\n",
       "      <td>-0.1682</td>\n",
       "      <td>-5.06897</td>\n",
       "    </tr>\n",
       "    <tr>\n",
       "      <th>7</th>\n",
       "      <td>1.3355</td>\n",
       "      <td>-0.032002</td>\n",
       "      <td>-41.7318</td>\n",
       "    </tr>\n",
       "    <tr>\n",
       "      <th>8</th>\n",
       "      <td>1.6464</td>\n",
       "      <td>0.61785</td>\n",
       "      <td>2.66472</td>\n",
       "    </tr>\n",
       "    <tr>\n",
       "      <th>9</th>\n",
       "      <td>1.0222</td>\n",
       "      <td>-0.073355</td>\n",
       "      <td>-13.935</td>\n",
       "    </tr>\n",
       "  </tbody>\n",
       "</table>\n",
       "</div>"
      ],
      "text/plain": [
       "    Attr9     Attr3   Attr68\n",
       "0  1.1259   0.21218  5.30634\n",
       "1  2.4700   0.24435  10.1085\n",
       "2  1.1013   0.34368  3.20443\n",
       "3  1.0040 -0.051197 -19.6105\n",
       "4  2.6600   0.44502  5.97726\n",
       "5  1.0810   0.40868   2.6451\n",
       "6  0.8526   -0.1682 -5.06897\n",
       "7  1.3355 -0.032002 -41.7318\n",
       "8  1.6464   0.61785  2.66472\n",
       "9  1.0222 -0.073355  -13.935"
      ]
     },
     "execution_count": 76,
     "metadata": {},
     "output_type": "execute_result"
    }
   ],
   "source": [
    "new[[\"Attr9\",\"Attr3\",\"Attr68\"]].head(10)"
   ]
  },
  {
   "cell_type": "markdown",
   "metadata": {},
   "source": [
    "### Attr69 = $\\frac{(Attr4 * Attr34 * Attr45 * Attr47 * Attr2)}{(Attr33 * Attr32 * Attr1  * 365)}$"
   ]
  },
  {
   "cell_type": "code",
   "execution_count": 77,
   "metadata": {},
   "outputs": [
    {
     "data": {
      "text/plain": [
       "Attr4      15\n",
       "Attr34      4\n",
       "Attr45    195\n",
       "Attr47     16\n",
       "Attr2       1\n",
       "Attr33     15\n",
       "Attr32     24\n",
       "Attr1       1\n",
       "dtype: int64"
      ]
     },
     "execution_count": 77,
     "metadata": {},
     "output_type": "execute_result"
    }
   ],
   "source": [
    "np.sum(new[[\"Attr4\",\"Attr34\",\"Attr45\",\"Attr47\",\"Attr2\",\"Attr33\",\"Attr32\",\"Attr1\"]].astype(\"str\") == \"?\")"
   ]
  },
  {
   "cell_type": "code",
   "execution_count": 78,
   "metadata": {},
   "outputs": [
    {
     "data": {
      "text/plain": [
       "[2048,\n",
       " 2053,\n",
       " 1542,\n",
       " 1545,\n",
       " 521,\n",
       " 2575,\n",
       " 2576,\n",
       " 536,\n",
       " 24,\n",
       " 1048,\n",
       " 1051,\n",
       " 2074,\n",
       " 541,\n",
       " 2079,\n",
       " 1057,\n",
       " 553,\n",
       " 42,\n",
       " 2089,\n",
       " 2602,\n",
       " 1069,\n",
       " 2603,\n",
       " 1590,\n",
       " 2110,\n",
       " 68,\n",
       " 72,\n",
       " 584,\n",
       " 1096,\n",
       " 1611,\n",
       " 2636,\n",
       " 2125,\n",
       " 2126,\n",
       " 2640,\n",
       " 2132,\n",
       " 2645,\n",
       " 598,\n",
       " 1111,\n",
       " 2137,\n",
       " 603,\n",
       " 1628,\n",
       " 605,\n",
       " 2651,\n",
       " 2145,\n",
       " 2146,\n",
       " 1635,\n",
       " 1640,\n",
       " 1129,\n",
       " 106,\n",
       " 2157,\n",
       " 2161,\n",
       " 2166,\n",
       " 1143,\n",
       " 1142,\n",
       " 1659,\n",
       " 636,\n",
       " 1148,\n",
       " 1661,\n",
       " 1153,\n",
       " 1666,\n",
       " 1157,\n",
       " 647,\n",
       " 2697,\n",
       " 650,\n",
       " 1163,\n",
       " 1674,\n",
       " 1677,\n",
       " 654,\n",
       " 1173,\n",
       " 663,\n",
       " 665,\n",
       " 2202,\n",
       " 155,\n",
       " 159,\n",
       " 2208,\n",
       " 161,\n",
       " 165,\n",
       " 2214,\n",
       " 682,\n",
       " 2218,\n",
       " 2220,\n",
       " 2733,\n",
       " 1714,\n",
       " 696,\n",
       " 1722,\n",
       " 2746,\n",
       " 189,\n",
       " 192,\n",
       " 1216,\n",
       " 1728,\n",
       " 2755,\n",
       " 708,\n",
       " 2761,\n",
       " 715,\n",
       " 2766,\n",
       " 1746,\n",
       " 2258,\n",
       " 2771,\n",
       " 2264,\n",
       " 219,\n",
       " 2780,\n",
       " 223,\n",
       " 2784,\n",
       " 2788,\n",
       " 1255,\n",
       " 2282,\n",
       " 2284,\n",
       " 753,\n",
       " 754,\n",
       " 1265,\n",
       " 1778,\n",
       " 2291,\n",
       " 761,\n",
       " 765,\n",
       " 2814,\n",
       " 254,\n",
       " 774,\n",
       " 2311,\n",
       " 1288,\n",
       " 2312,\n",
       " 1290,\n",
       " 265,\n",
       " 1805,\n",
       " 1294,\n",
       " 1295,\n",
       " 1296,\n",
       " 2324,\n",
       " 2837,\n",
       " 2327,\n",
       " 2840,\n",
       " 801,\n",
       " 2338,\n",
       " 1316,\n",
       " 1318,\n",
       " 806,\n",
       " 2345,\n",
       " 297,\n",
       " 812,\n",
       " 1324,\n",
       " 814,\n",
       " 2349,\n",
       " 1330,\n",
       " 2868,\n",
       " 1846,\n",
       " 1847,\n",
       " 1848,\n",
       " 1338,\n",
       " 317,\n",
       " 319,\n",
       " 1857,\n",
       " 1858,\n",
       " 326,\n",
       " 1862,\n",
       " 2890,\n",
       " 845,\n",
       " 1359,\n",
       " 2896,\n",
       " 1363,\n",
       " 1365,\n",
       " 2902,\n",
       " 2906,\n",
       " 2908,\n",
       " 1887,\n",
       " 867,\n",
       " 1891,\n",
       " 2918,\n",
       " 2920,\n",
       " 883,\n",
       " 888,\n",
       " 1914,\n",
       " 1403,\n",
       " 1916,\n",
       " 2428,\n",
       " 384,\n",
       " 902,\n",
       " 1415,\n",
       " 1416,\n",
       " 2442,\n",
       " 2449,\n",
       " 402,\n",
       " 1428,\n",
       " 919,\n",
       " 1431,\n",
       " 927,\n",
       " 1439,\n",
       " 930,\n",
       " 419,\n",
       " 932,\n",
       " 1442,\n",
       " 2467,\n",
       " 1447,\n",
       " 934,\n",
       " 937,\n",
       " 1961,\n",
       " 427,\n",
       " 2473,\n",
       " 1965,\n",
       " 1461,\n",
       " 2486,\n",
       " 439,\n",
       " 443,\n",
       " 1468,\n",
       " 1979,\n",
       " 1981,\n",
       " 1984,\n",
       " 2498,\n",
       " 1475,\n",
       " 969,\n",
       " 2507,\n",
       " 976,\n",
       " 980,\n",
       " 473,\n",
       " 985,\n",
       " 483,\n",
       " 2022,\n",
       " 1002,\n",
       " 496,\n",
       " 2032,\n",
       " 2040,\n",
       " 507,\n",
       " 2557]"
      ]
     },
     "execution_count": 78,
     "metadata": {},
     "output_type": "execute_result"
    }
   ],
   "source": [
    "x69_null_idx = null_idx(new, [\"Attr4\",\"Attr34\",\"Attr45\",\"Attr47\",\"Attr2\",\"Attr33\",\"Attr32\",\"Attr1\"])\n",
    "x69_null_idx"
   ]
  },
  {
   "cell_type": "code",
   "execution_count": 79,
   "metadata": {},
   "outputs": [
    {
     "data": {
      "text/plain": [
       "219"
      ]
     },
     "execution_count": 79,
     "metadata": {},
     "output_type": "execute_result"
    }
   ],
   "source": [
    "len(x69_null_idx)"
   ]
  },
  {
   "cell_type": "code",
   "execution_count": 80,
   "metadata": {},
   "outputs": [],
   "source": [
    "new[\"Attr69\"] = np.zeros(new.shape[0])"
   ]
  },
  {
   "cell_type": "code",
   "execution_count": 81,
   "metadata": {},
   "outputs": [
    {
     "name": "stderr",
     "output_type": "stream",
     "text": [
      "/Users/jominju/opt/anaconda3/lib/python3.7/site-packages/pandas/core/indexing.py:670: SettingWithCopyWarning: \n",
      "A value is trying to be set on a copy of a slice from a DataFrame\n",
      "\n",
      "See the caveats in the documentation: https://pandas.pydata.org/pandas-docs/stable/user_guide/indexing.html#returning-a-view-versus-a-copy\n",
      "  self._setitem_with_indexer(indexer, value)\n"
     ]
    }
   ],
   "source": [
    "new[\"Attr69\"].iloc[x69_null_idx] = \"?\""
   ]
  },
  {
   "cell_type": "code",
   "execution_count": 82,
   "metadata": {},
   "outputs": [],
   "source": [
    "bunja = new[\"Attr4\"][~new.index.isin(x69_null_idx)].astype(\"float\").mul(\n",
    "    new[\"Attr34\"][~new.index.isin(x69_null_idx)].astype(\"float\")).mul(\n",
    "    new[\"Attr45\"][~new.index.isin(x69_null_idx)].astype(\"float\")).mul(\n",
    "    new[\"Attr47\"][~new.index.isin(x69_null_idx)].astype(\"float\")).mul(\n",
    "    new[\"Attr2\"][~new.index.isin(x69_null_idx)].astype(\"float\"))"
   ]
  },
  {
   "cell_type": "code",
   "execution_count": 83,
   "metadata": {},
   "outputs": [
    {
     "data": {
      "text/plain": [
       "0      4.966187\n",
       "1     -5.816963\n",
       "2     10.578200\n",
       "3      0.597339\n",
       "4    169.894704\n",
       "dtype: float64"
      ]
     },
     "execution_count": 83,
     "metadata": {},
     "output_type": "execute_result"
    }
   ],
   "source": [
    "bunja.head()"
   ]
  },
  {
   "cell_type": "code",
   "execution_count": 84,
   "metadata": {},
   "outputs": [],
   "source": [
    "bunmo = new[\"Attr33\"][~new.index.isin(x69_null_idx)].astype(\"float\").mul(\n",
    "    new[\"Attr32\"][~new.index.isin(x69_null_idx)].astype(\"float\")).mul(\n",
    "    new[\"Attr1\"][~new.index.isin(x69_null_idx)].astype(\"float\")) * 365"
   ]
  },
  {
   "cell_type": "code",
   "execution_count": 85,
   "metadata": {},
   "outputs": [
    {
     "data": {
      "text/plain": [
       "0     7521.292449\n",
       "1    -1147.061500\n",
       "2    12328.498482\n",
       "3     8673.625797\n",
       "4    31096.374610\n",
       "dtype: float64"
      ]
     },
     "execution_count": 85,
     "metadata": {},
     "output_type": "execute_result"
    }
   ],
   "source": [
    "bunmo.head()"
   ]
  },
  {
   "cell_type": "code",
   "execution_count": 86,
   "metadata": {},
   "outputs": [],
   "source": [
    "new[\"Attr69\"].iloc[~new.index.isin(x69_null_idx)] = bunja.div(bunmo)"
   ]
  },
  {
   "cell_type": "code",
   "execution_count": 87,
   "metadata": {},
   "outputs": [
    {
     "data": {
      "text/plain": [
       "Attr69    219\n",
       "Attr4      15\n",
       "Attr34      4\n",
       "Attr45    195\n",
       "Attr47     16\n",
       "Attr2       1\n",
       "Attr33     15\n",
       "Attr32     24\n",
       "Attr1       1\n",
       "dtype: int64"
      ]
     },
     "execution_count": 87,
     "metadata": {},
     "output_type": "execute_result"
    }
   ],
   "source": [
    "np.sum(new[[\"Attr69\",\"Attr4\",\"Attr34\",\"Attr45\",\"Attr47\",\"Attr2\",\"Attr33\",\"Attr32\",\"Attr1\"]].astype(\"str\") == \"?\")"
   ]
  },
  {
   "cell_type": "code",
   "execution_count": 88,
   "metadata": {},
   "outputs": [
    {
     "data": {
      "text/html": [
       "<div>\n",
       "<style scoped>\n",
       "    .dataframe tbody tr th:only-of-type {\n",
       "        vertical-align: middle;\n",
       "    }\n",
       "\n",
       "    .dataframe tbody tr th {\n",
       "        vertical-align: top;\n",
       "    }\n",
       "\n",
       "    .dataframe thead th {\n",
       "        text-align: right;\n",
       "    }\n",
       "</style>\n",
       "<table border=\"1\" class=\"dataframe\">\n",
       "  <thead>\n",
       "    <tr style=\"text-align: right;\">\n",
       "      <th></th>\n",
       "      <th>Attr69</th>\n",
       "      <th>Attr4</th>\n",
       "      <th>Attr34</th>\n",
       "      <th>Attr45</th>\n",
       "      <th>Attr47</th>\n",
       "      <th>Attr2</th>\n",
       "      <th>Attr33</th>\n",
       "      <th>Attr32</th>\n",
       "      <th>Attr1</th>\n",
       "    </tr>\n",
       "  </thead>\n",
       "  <tbody>\n",
       "    <tr>\n",
       "      <th>2048</th>\n",
       "      <td>?</td>\n",
       "      <td>7.6387</td>\n",
       "      <td>1.0838</td>\n",
       "      <td>?</td>\n",
       "      <td>0</td>\n",
       "      <td>0.11755</td>\n",
       "      <td>19.986</td>\n",
       "      <td>18.262</td>\n",
       "      <td>0.099285</td>\n",
       "    </tr>\n",
       "    <tr>\n",
       "      <th>2053</th>\n",
       "      <td>?</td>\n",
       "      <td>4.8423</td>\n",
       "      <td>11.221</td>\n",
       "      <td>?</td>\n",
       "      <td>0</td>\n",
       "      <td>0.16345</td>\n",
       "      <td>20.839</td>\n",
       "      <td>17.515</td>\n",
       "      <td>0.087289</td>\n",
       "    </tr>\n",
       "    <tr>\n",
       "      <th>1542</th>\n",
       "      <td>?</td>\n",
       "      <td>4.1832</td>\n",
       "      <td>9.3045</td>\n",
       "      <td>?</td>\n",
       "      <td>0</td>\n",
       "      <td>0.21485</td>\n",
       "      <td>9.3045</td>\n",
       "      <td>39.228</td>\n",
       "      <td>0.063899</td>\n",
       "    </tr>\n",
       "    <tr>\n",
       "      <th>1545</th>\n",
       "      <td>?</td>\n",
       "      <td>?</td>\n",
       "      <td>5.0376</td>\n",
       "      <td>?</td>\n",
       "      <td>0</td>\n",
       "      <td>0.54079</td>\n",
       "      <td>?</td>\n",
       "      <td>0</td>\n",
       "      <td>0.020059</td>\n",
       "    </tr>\n",
       "    <tr>\n",
       "      <th>521</th>\n",
       "      <td>?</td>\n",
       "      <td>34.321</td>\n",
       "      <td>13.989</td>\n",
       "      <td>?</td>\n",
       "      <td>0</td>\n",
       "      <td>0.00037235</td>\n",
       "      <td>18.407</td>\n",
       "      <td>?</td>\n",
       "      <td>0.0066942</td>\n",
       "    </tr>\n",
       "    <tr>\n",
       "      <th>2575</th>\n",
       "      <td>?</td>\n",
       "      <td>1.9362</td>\n",
       "      <td>10.624</td>\n",
       "      <td>?</td>\n",
       "      <td>0</td>\n",
       "      <td>0.43908</td>\n",
       "      <td>12.122</td>\n",
       "      <td>30.111</td>\n",
       "      <td>0.25054</td>\n",
       "    </tr>\n",
       "    <tr>\n",
       "      <th>2576</th>\n",
       "      <td>?</td>\n",
       "      <td>14.029</td>\n",
       "      <td>40.74</td>\n",
       "      <td>?</td>\n",
       "      <td>0</td>\n",
       "      <td>0.069029</td>\n",
       "      <td>40.74</td>\n",
       "      <td>8.9592</td>\n",
       "      <td>0.14917</td>\n",
       "    </tr>\n",
       "    <tr>\n",
       "      <th>536</th>\n",
       "      <td>?</td>\n",
       "      <td>?</td>\n",
       "      <td>?</td>\n",
       "      <td>0</td>\n",
       "      <td>814.09</td>\n",
       "      <td>?</td>\n",
       "      <td>?</td>\n",
       "      <td>0</td>\n",
       "      <td>?</td>\n",
       "    </tr>\n",
       "    <tr>\n",
       "      <th>24</th>\n",
       "      <td>?</td>\n",
       "      <td>1.7635</td>\n",
       "      <td>3.8747</td>\n",
       "      <td>?</td>\n",
       "      <td>0</td>\n",
       "      <td>0.030392</td>\n",
       "      <td>3.8747</td>\n",
       "      <td>94.2</td>\n",
       "      <td>0.10504</td>\n",
       "    </tr>\n",
       "    <tr>\n",
       "      <th>1048</th>\n",
       "      <td>?</td>\n",
       "      <td>1.256</td>\n",
       "      <td>1.5334</td>\n",
       "      <td>?</td>\n",
       "      <td>0</td>\n",
       "      <td>0.77678</td>\n",
       "      <td>1.5334</td>\n",
       "      <td>238.03</td>\n",
       "      <td>0.099734</td>\n",
       "    </tr>\n",
       "  </tbody>\n",
       "</table>\n",
       "</div>"
      ],
      "text/plain": [
       "     Attr69   Attr4  Attr34 Attr45  Attr47       Attr2  Attr33  Attr32  \\\n",
       "2048      ?  7.6387  1.0838      ?       0     0.11755  19.986  18.262   \n",
       "2053      ?  4.8423  11.221      ?       0     0.16345  20.839  17.515   \n",
       "1542      ?  4.1832  9.3045      ?       0     0.21485  9.3045  39.228   \n",
       "1545      ?       ?  5.0376      ?       0     0.54079       ?       0   \n",
       "521       ?  34.321  13.989      ?       0  0.00037235  18.407       ?   \n",
       "2575      ?  1.9362  10.624      ?       0     0.43908  12.122  30.111   \n",
       "2576      ?  14.029   40.74      ?       0    0.069029   40.74  8.9592   \n",
       "536       ?       ?       ?      0  814.09           ?       ?       0   \n",
       "24        ?  1.7635  3.8747      ?       0    0.030392  3.8747    94.2   \n",
       "1048      ?   1.256  1.5334      ?       0     0.77678  1.5334  238.03   \n",
       "\n",
       "          Attr1  \n",
       "2048   0.099285  \n",
       "2053   0.087289  \n",
       "1542   0.063899  \n",
       "1545   0.020059  \n",
       "521   0.0066942  \n",
       "2575    0.25054  \n",
       "2576    0.14917  \n",
       "536           ?  \n",
       "24      0.10504  \n",
       "1048   0.099734  "
      ]
     },
     "execution_count": 88,
     "metadata": {},
     "output_type": "execute_result"
    }
   ],
   "source": [
    "new[[\"Attr69\",\"Attr4\",\"Attr34\",\"Attr45\",\"Attr47\",\"Attr2\",\"Attr33\",\"Attr32\",\"Attr1\"]].iloc[x69_null_idx].head(10)"
   ]
  },
  {
   "cell_type": "code",
   "execution_count": 89,
   "metadata": {},
   "outputs": [
    {
     "data": {
      "text/html": [
       "<div>\n",
       "<style scoped>\n",
       "    .dataframe tbody tr th:only-of-type {\n",
       "        vertical-align: middle;\n",
       "    }\n",
       "\n",
       "    .dataframe tbody tr th {\n",
       "        vertical-align: top;\n",
       "    }\n",
       "\n",
       "    .dataframe thead th {\n",
       "        text-align: right;\n",
       "    }\n",
       "</style>\n",
       "<table border=\"1\" class=\"dataframe\">\n",
       "  <thead>\n",
       "    <tr style=\"text-align: right;\">\n",
       "      <th></th>\n",
       "      <th>Attr69</th>\n",
       "      <th>Attr4</th>\n",
       "      <th>Attr34</th>\n",
       "      <th>Attr45</th>\n",
       "      <th>Attr47</th>\n",
       "      <th>Attr2</th>\n",
       "      <th>Attr33</th>\n",
       "      <th>Attr32</th>\n",
       "      <th>Attr1</th>\n",
       "    </tr>\n",
       "  </thead>\n",
       "  <tbody>\n",
       "    <tr>\n",
       "      <th>0</th>\n",
       "      <td>0.000660284</td>\n",
       "      <td>1.8852</td>\n",
       "      <td>0.17872</td>\n",
       "      <td>0.50213</td>\n",
       "      <td>55.921</td>\n",
       "      <td>0.52493</td>\n",
       "      <td>3.0618</td>\n",
       "      <td>119.21</td>\n",
       "      <td>0.056456</td>\n",
       "    </tr>\n",
       "    <tr>\n",
       "      <th>1</th>\n",
       "      <td>0.00507119</td>\n",
       "      <td>1.8509</td>\n",
       "      <td>4.5226</td>\n",
       "      <td>-0.04301</td>\n",
       "      <td>28.799</td>\n",
       "      <td>0.56102</td>\n",
       "      <td>8.8357</td>\n",
       "      <td>41.309</td>\n",
       "      <td>-0.0086101</td>\n",
       "    </tr>\n",
       "    <tr>\n",
       "      <th>2</th>\n",
       "      <td>0.000858028</td>\n",
       "      <td>3.075</td>\n",
       "      <td>0.21168</td>\n",
       "      <td>0.25701</td>\n",
       "      <td>114.64</td>\n",
       "      <td>0.55157</td>\n",
       "      <td>6.9216</td>\n",
       "      <td>52.734</td>\n",
       "      <td>0.092538</td>\n",
       "    </tr>\n",
       "    <tr>\n",
       "      <th>3</th>\n",
       "      <td>6.88684e-05</td>\n",
       "      <td>0.89587</td>\n",
       "      <td>0.049208999999999996</td>\n",
       "      <td>0.34203</td>\n",
       "      <td>49.691</td>\n",
       "      <td>0.79724</td>\n",
       "      <td>2.8437</td>\n",
       "      <td>128.36</td>\n",
       "      <td>0.065102</td>\n",
       "    </tr>\n",
       "    <tr>\n",
       "      <th>4</th>\n",
       "      <td>0.00546349</td>\n",
       "      <td>1.9942</td>\n",
       "      <td>4.6721</td>\n",
       "      <td>1.3772</td>\n",
       "      <td>26.302</td>\n",
       "      <td>0.5034</td>\n",
       "      <td>5.2545</td>\n",
       "      <td>69.465</td>\n",
       "      <td>0.23341</td>\n",
       "    </tr>\n",
       "    <tr>\n",
       "      <th>5</th>\n",
       "      <td>0.000651234</td>\n",
       "      <td>2.8885</td>\n",
       "      <td>0.56833</td>\n",
       "      <td>3.9985</td>\n",
       "      <td>7.3241</td>\n",
       "      <td>0.2164</td>\n",
       "      <td>6.906</td>\n",
       "      <td>52.853</td>\n",
       "      <td>0.11991</td>\n",
       "    </tr>\n",
       "    <tr>\n",
       "      <th>6</th>\n",
       "      <td>-0.000488018</td>\n",
       "      <td>0.57834</td>\n",
       "      <td>-0.39217</td>\n",
       "      <td>-6.0211</td>\n",
       "      <td>26.069</td>\n",
       "      <td>0.4649</td>\n",
       "      <td>1.484</td>\n",
       "      <td>245.96</td>\n",
       "      <td>-0.25456</td>\n",
       "    </tr>\n",
       "    <tr>\n",
       "      <th>7</th>\n",
       "      <td>0.00249422</td>\n",
       "      <td>0.91037</td>\n",
       "      <td>2.8814</td>\n",
       "      <td>0.18655</td>\n",
       "      <td>41.072</td>\n",
       "      <td>0.44073</td>\n",
       "      <td>3.5567</td>\n",
       "      <td>102.62</td>\n",
       "      <td>0.026658</td>\n",
       "    </tr>\n",
       "    <tr>\n",
       "      <th>8</th>\n",
       "      <td>0.0173459</td>\n",
       "      <td>6.3307</td>\n",
       "      <td>9.7789</td>\n",
       "      <td>4.5077</td>\n",
       "      <td>21.015</td>\n",
       "      <td>0.12651</td>\n",
       "      <td>10.673</td>\n",
       "      <td>34.197</td>\n",
       "      <td>0.32106</td>\n",
       "    </tr>\n",
       "    <tr>\n",
       "      <th>9</th>\n",
       "      <td>7.3566e-05</td>\n",
       "      <td>0.86332</td>\n",
       "      <td>0.084221</td>\n",
       "      <td>0.67665</td>\n",
       "      <td>10.525</td>\n",
       "      <td>0.60899</td>\n",
       "      <td>3.0727</td>\n",
       "      <td>118.79</td>\n",
       "      <td>0.032175</td>\n",
       "    </tr>\n",
       "  </tbody>\n",
       "</table>\n",
       "</div>"
      ],
      "text/plain": [
       "        Attr69    Attr4                Attr34    Attr45  Attr47    Attr2  \\\n",
       "0  0.000660284   1.8852               0.17872   0.50213  55.921  0.52493   \n",
       "1   0.00507119   1.8509                4.5226  -0.04301  28.799  0.56102   \n",
       "2  0.000858028    3.075               0.21168   0.25701  114.64  0.55157   \n",
       "3  6.88684e-05  0.89587  0.049208999999999996   0.34203  49.691  0.79724   \n",
       "4   0.00546349   1.9942                4.6721    1.3772  26.302   0.5034   \n",
       "5  0.000651234   2.8885               0.56833    3.9985  7.3241   0.2164   \n",
       "6 -0.000488018  0.57834              -0.39217   -6.0211  26.069   0.4649   \n",
       "7   0.00249422  0.91037                2.8814   0.18655  41.072  0.44073   \n",
       "8    0.0173459   6.3307                9.7789    4.5077  21.015  0.12651   \n",
       "9   7.3566e-05  0.86332              0.084221   0.67665  10.525  0.60899   \n",
       "\n",
       "   Attr33  Attr32      Attr1  \n",
       "0  3.0618  119.21   0.056456  \n",
       "1  8.8357  41.309 -0.0086101  \n",
       "2  6.9216  52.734   0.092538  \n",
       "3  2.8437  128.36   0.065102  \n",
       "4  5.2545  69.465    0.23341  \n",
       "5   6.906  52.853    0.11991  \n",
       "6   1.484  245.96   -0.25456  \n",
       "7  3.5567  102.62   0.026658  \n",
       "8  10.673  34.197    0.32106  \n",
       "9  3.0727  118.79   0.032175  "
      ]
     },
     "execution_count": 89,
     "metadata": {},
     "output_type": "execute_result"
    }
   ],
   "source": [
    "new[[\"Attr69\",\"Attr4\",\"Attr34\",\"Attr45\",\"Attr47\",\"Attr2\",\"Attr33\",\"Attr32\",\"Attr1\"]].head(10)"
   ]
  },
  {
   "cell_type": "markdown",
   "metadata": {},
   "source": [
    "## Attr70"
   ]
  },
  {
   "cell_type": "code",
   "execution_count": 90,
   "metadata": {},
   "outputs": [],
   "source": [
    "new[\"Attr70\"] = np.zeros(new.shape[0])"
   ]
  },
  {
   "cell_type": "code",
   "execution_count": 91,
   "metadata": {},
   "outputs": [
    {
     "name": "stderr",
     "output_type": "stream",
     "text": [
      "/Users/jominju/opt/anaconda3/lib/python3.7/site-packages/ipykernel_launcher.py:1: SettingWithCopyWarning: \n",
      "A value is trying to be set on a copy of a slice from a DataFrame\n",
      "\n",
      "See the caveats in the documentation: https://pandas.pydata.org/pandas-docs/stable/user_guide/indexing.html#returning-a-view-versus-a-copy\n",
      "  \"\"\"Entry point for launching an IPython kernel.\n"
     ]
    }
   ],
   "source": [
    "new[\"Attr70\"][new[\"Attr21\"].astype(\"str\") == \"?\"] = 1"
   ]
  },
  {
   "cell_type": "code",
   "execution_count": 92,
   "metadata": {},
   "outputs": [
    {
     "data": {
      "text/plain": [
       "46.0"
      ]
     },
     "execution_count": 92,
     "metadata": {},
     "output_type": "execute_result"
    }
   ],
   "source": [
    "np.sum(new[\"Attr70\"])"
   ]
  },
  {
   "cell_type": "code",
   "execution_count": 93,
   "metadata": {},
   "outputs": [
    {
     "data": {
      "text/html": [
       "<div>\n",
       "<style scoped>\n",
       "    .dataframe tbody tr th:only-of-type {\n",
       "        vertical-align: middle;\n",
       "    }\n",
       "\n",
       "    .dataframe tbody tr th {\n",
       "        vertical-align: top;\n",
       "    }\n",
       "\n",
       "    .dataframe thead th {\n",
       "        text-align: right;\n",
       "    }\n",
       "</style>\n",
       "<table border=\"1\" class=\"dataframe\">\n",
       "  <thead>\n",
       "    <tr style=\"text-align: right;\">\n",
       "      <th></th>\n",
       "      <th>Attr1</th>\n",
       "      <th>Attr2</th>\n",
       "      <th>Attr3</th>\n",
       "      <th>Attr4</th>\n",
       "      <th>Attr5</th>\n",
       "      <th>Attr6</th>\n",
       "      <th>Attr7</th>\n",
       "      <th>Attr8</th>\n",
       "      <th>Attr9</th>\n",
       "      <th>Attr10</th>\n",
       "      <th>...</th>\n",
       "      <th>Attr61</th>\n",
       "      <th>Attr62</th>\n",
       "      <th>Attr63</th>\n",
       "      <th>Attr64</th>\n",
       "      <th>Attr65</th>\n",
       "      <th>Attr66</th>\n",
       "      <th>Attr67</th>\n",
       "      <th>Attr68</th>\n",
       "      <th>Attr69</th>\n",
       "      <th>Attr70</th>\n",
       "    </tr>\n",
       "  </thead>\n",
       "  <tbody>\n",
       "    <tr>\n",
       "      <th>0</th>\n",
       "      <td>0.056456</td>\n",
       "      <td>0.52493</td>\n",
       "      <td>0.21218</td>\n",
       "      <td>1.8852</td>\n",
       "      <td>48.855</td>\n",
       "      <td>0.15588</td>\n",
       "      <td>0.073958</td>\n",
       "      <td>0.76874</td>\n",
       "      <td>1.1259</td>\n",
       "      <td>0.40353</td>\n",
       "      <td>...</td>\n",
       "      <td>2.4937</td>\n",
       "      <td>105.88</td>\n",
       "      <td>4.69732</td>\n",
       "      <td>1.5075</td>\n",
       "      <td>0.107549</td>\n",
       "      <td>0.0971112</td>\n",
       "      <td>0.139905</td>\n",
       "      <td>5.30634</td>\n",
       "      <td>0.000660284</td>\n",
       "      <td>0.0</td>\n",
       "    </tr>\n",
       "    <tr>\n",
       "      <th>1</th>\n",
       "      <td>-0.0086101</td>\n",
       "      <td>0.56102</td>\n",
       "      <td>0.24435</td>\n",
       "      <td>1.8509</td>\n",
       "      <td>4.2847</td>\n",
       "      <td>0</td>\n",
       "      <td>-0.0086101</td>\n",
       "      <td>0.78248</td>\n",
       "      <td>2.4700</td>\n",
       "      <td>0.43898</td>\n",
       "      <td>...</td>\n",
       "      <td>14.992</td>\n",
       "      <td>42.434</td>\n",
       "      <td>8.60148</td>\n",
       "      <td>5.2723</td>\n",
       "      <td>-0.0153475</td>\n",
       "      <td>0.17391</td>\n",
       "      <td>-0.0196139</td>\n",
       "      <td>10.1085</td>\n",
       "      <td>0.00507119</td>\n",
       "      <td>0.0</td>\n",
       "    </tr>\n",
       "    <tr>\n",
       "      <th>2</th>\n",
       "      <td>0.092538</td>\n",
       "      <td>0.55157</td>\n",
       "      <td>0.34368</td>\n",
       "      <td>3.075</td>\n",
       "      <td>-5.6058</td>\n",
       "      <td>0.15362</td>\n",
       "      <td>0.1191</td>\n",
       "      <td>0.78579</td>\n",
       "      <td>1.1013</td>\n",
       "      <td>0.43342</td>\n",
       "      <td>...</td>\n",
       "      <td>10.789</td>\n",
       "      <td>47.885</td>\n",
       "      <td>6.64916</td>\n",
       "      <td>2.5729</td>\n",
       "      <td>0.167771</td>\n",
       "      <td>0.0621299</td>\n",
       "      <td>0.213507</td>\n",
       "      <td>3.20443</td>\n",
       "      <td>0.000858028</td>\n",
       "      <td>0.0</td>\n",
       "    </tr>\n",
       "    <tr>\n",
       "      <th>3</th>\n",
       "      <td>0.065102</td>\n",
       "      <td>0.79724</td>\n",
       "      <td>-0.051197</td>\n",
       "      <td>0.89587</td>\n",
       "      <td>-64.464</td>\n",
       "      <td>0.065102</td>\n",
       "      <td>0.029819</td>\n",
       "      <td>0.11225999999999998</td>\n",
       "      <td>1.0040</td>\n",
       "      <td>0.089501</td>\n",
       "      <td>...</td>\n",
       "      <td>5.8256</td>\n",
       "      <td>127.85</td>\n",
       "      <td>2.04202</td>\n",
       "      <td>2.5086</td>\n",
       "      <td>0.0816574</td>\n",
       "      <td>0.0232695</td>\n",
       "      <td>0.727389</td>\n",
       "      <td>-19.6105</td>\n",
       "      <td>6.88684e-05</td>\n",
       "      <td>0.0</td>\n",
       "    </tr>\n",
       "    <tr>\n",
       "      <th>4</th>\n",
       "      <td>0.23341</td>\n",
       "      <td>0.5034</td>\n",
       "      <td>0.44502</td>\n",
       "      <td>1.9942</td>\n",
       "      <td>39.989</td>\n",
       "      <td>-0.010996</td>\n",
       "      <td>0.29821</td>\n",
       "      <td>0.98648</td>\n",
       "      <td>2.6600</td>\n",
       "      <td>0.4966</td>\n",
       "      <td>...</td>\n",
       "      <td>21.808</td>\n",
       "      <td>61.421</td>\n",
       "      <td>5.94267</td>\n",
       "      <td>24.773</td>\n",
       "      <td>0.463669</td>\n",
       "      <td>0.0218944</td>\n",
       "      <td>0.470016</td>\n",
       "      <td>5.97726</td>\n",
       "      <td>0.00546349</td>\n",
       "      <td>0.0</td>\n",
       "    </tr>\n",
       "  </tbody>\n",
       "</table>\n",
       "<p>5 rows × 66 columns</p>\n",
       "</div>"
      ],
      "text/plain": [
       "       Attr1    Attr2     Attr3    Attr4    Attr5     Attr6      Attr7  \\\n",
       "0   0.056456  0.52493   0.21218   1.8852   48.855   0.15588   0.073958   \n",
       "1 -0.0086101  0.56102   0.24435   1.8509   4.2847         0 -0.0086101   \n",
       "2   0.092538  0.55157   0.34368    3.075  -5.6058   0.15362     0.1191   \n",
       "3   0.065102  0.79724 -0.051197  0.89587  -64.464  0.065102   0.029819   \n",
       "4    0.23341   0.5034   0.44502   1.9942   39.989 -0.010996    0.29821   \n",
       "\n",
       "                 Attr8   Attr9    Attr10  ...  Attr61  Attr62   Attr63  \\\n",
       "0              0.76874  1.1259   0.40353  ...  2.4937  105.88  4.69732   \n",
       "1              0.78248  2.4700   0.43898  ...  14.992  42.434  8.60148   \n",
       "2              0.78579  1.1013   0.43342  ...  10.789  47.885  6.64916   \n",
       "3  0.11225999999999998  1.0040  0.089501  ...  5.8256  127.85  2.04202   \n",
       "4              0.98648  2.6600    0.4966  ...  21.808  61.421  5.94267   \n",
       "\n",
       "   Attr64     Attr65     Attr66     Attr67   Attr68       Attr69 Attr70  \n",
       "0  1.5075   0.107549  0.0971112   0.139905  5.30634  0.000660284    0.0  \n",
       "1  5.2723 -0.0153475    0.17391 -0.0196139  10.1085   0.00507119    0.0  \n",
       "2  2.5729   0.167771  0.0621299   0.213507  3.20443  0.000858028    0.0  \n",
       "3  2.5086  0.0816574  0.0232695   0.727389 -19.6105  6.88684e-05    0.0  \n",
       "4  24.773   0.463669  0.0218944   0.470016  5.97726   0.00546349    0.0  \n",
       "\n",
       "[5 rows x 66 columns]"
      ]
     },
     "execution_count": 93,
     "metadata": {},
     "output_type": "execute_result"
    }
   ],
   "source": [
    "new.head()"
   ]
  },
  {
   "cell_type": "markdown",
   "metadata": {},
   "source": [
    "새로 생긴 변수들의 총 na 개수"
   ]
  },
  {
   "cell_type": "code",
   "execution_count": 94,
   "metadata": {},
   "outputs": [
    {
     "data": {
      "text/plain": [
       "Attr65      4\n",
       "Attr66      7\n",
       "Attr67      1\n",
       "Attr68      1\n",
       "Attr69    219\n",
       "Attr70      0\n",
       "dtype: int64"
      ]
     },
     "execution_count": 94,
     "metadata": {},
     "output_type": "execute_result"
    }
   ],
   "source": [
    "np.sum(new.iloc[:,-6:].astype(\"str\")==\"?\")"
   ]
  },
  {
   "cell_type": "code",
   "execution_count": 95,
   "metadata": {},
   "outputs": [],
   "source": [
    "new.to_csv(\"calculated_test_x.csv\", index = False)"
   ]
  },
  {
   "cell_type": "code",
   "execution_count": null,
   "metadata": {},
   "outputs": [],
   "source": []
  }
 ],
 "metadata": {
  "kernelspec": {
   "display_name": "Python 3",
   "language": "python",
   "name": "python3"
  },
  "language_info": {
   "codemirror_mode": {
    "name": "ipython",
    "version": 3
   },
   "file_extension": ".py",
   "mimetype": "text/x-python",
   "name": "python",
   "nbconvert_exporter": "python",
   "pygments_lexer": "ipython3",
   "version": "3.7.6"
  }
 },
 "nbformat": 4,
 "nbformat_minor": 4
}
