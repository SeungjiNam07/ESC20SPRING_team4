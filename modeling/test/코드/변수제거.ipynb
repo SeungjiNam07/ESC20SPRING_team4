{
 "cells": [
  {
   "cell_type": "code",
   "execution_count": 29,
   "metadata": {},
   "outputs": [],
   "source": [
    "import imblearn\n",
    "import numpy as np\n",
    "import pandas as pd\n",
    "import matplotlib.pyplot as plt\n",
    "import seaborn as sns"
   ]
  },
  {
   "cell_type": "code",
   "execution_count": 30,
   "metadata": {},
   "outputs": [],
   "source": [
    "data = pd.read_csv(\"C:/Users/seung/Desktop/finalproject/ESC20SPRING_team4/modeling/test/데이터/calculated_test_x.csv\")"
   ]
  },
  {
   "cell_type": "markdown",
   "metadata": {},
   "source": [
    "['Attr1', 'Attr2', 'Attr3', 'Attr4', 'Attr5', 'Attr6', 'Attr9', 'Attr10', 'Attr12', 'Attr13', 'Attr15', 'Attr19', 'Attr21', 'Attr23', 'Attr24', 'Attr27', 'Attr29', 'Attr30', 'Attr31', 'Attr33', 'Attr39', 'Attr41', 'Attr42', 'Attr43', 'Attr45', 'Attr46', 'Attr47', 'Attr52', 'Attr53', 'Attr55', 'Attr58', 'Attr59', 'Attr61', 'Attr64', 'Attr65', 'Attr66', 'Attr67', 'Attr68', 'Attr69', 'Attr70', 'class']"
   ]
  },
  {
   "cell_type": "code",
   "execution_count": 3,
   "metadata": {},
   "outputs": [
    {
     "data": {
      "text/plain": [
       "Index(['Attr1', 'Attr2', 'Attr3', 'Attr4', 'Attr5', 'Attr6', 'Attr7', 'Attr8',\n",
       "       'Attr9', 'Attr10', 'Attr12', 'Attr13', 'Attr15', 'Attr17', 'Attr18',\n",
       "       'Attr19', 'Attr20', 'Attr21', 'Attr22', 'Attr23', 'Attr24', 'Attr25',\n",
       "       'Attr26', 'Attr27', 'Attr28', 'Attr29', 'Attr30', 'Attr31', 'Attr32',\n",
       "       'Attr33', 'Attr34', 'Attr35', 'Attr36', 'Attr38', 'Attr39', 'Attr40',\n",
       "       'Attr41', 'Attr42', 'Attr43', 'Attr44', 'Attr45', 'Attr46', 'Attr47',\n",
       "       'Attr48', 'Attr49', 'Attr50', 'Attr51', 'Attr52', 'Attr53', 'Attr54',\n",
       "       'Attr55', 'Attr56', 'Attr57', 'Attr58', 'Attr59', 'Attr60', 'Attr61',\n",
       "       'Attr62', 'Attr63', 'Attr64', 'Attr65', 'Attr66', 'Attr67', 'Attr68',\n",
       "       'Attr69', 'Attr70'],\n",
       "      dtype='object')"
      ]
     },
     "execution_count": 3,
     "metadata": {},
     "output_type": "execute_result"
    }
   ],
   "source": [
    "data.columns"
   ]
  },
  {
   "cell_type": "code",
   "execution_count": 31,
   "metadata": {},
   "outputs": [],
   "source": [
    "left_col = ['Attr1', 'Attr2', 'Attr3', 'Attr4', 'Attr5', 'Attr6', 'Attr9', 'Attr10', 'Attr12', 'Attr13', 'Attr15', 'Attr19', 'Attr21', 'Attr23', 'Attr24', 'Attr27', 'Attr29', 'Attr30', 'Attr31', 'Attr33', 'Attr39', 'Attr41', 'Attr42', 'Attr43', 'Attr45', 'Attr46', 'Attr47', 'Attr52', 'Attr53', 'Attr55', 'Attr58', 'Attr59', 'Attr61', 'Attr64', 'Attr65', 'Attr66', 'Attr67', 'Attr68', 'Attr69', 'Attr70']"
   ]
  },
  {
   "cell_type": "code",
   "execution_count": 12,
   "metadata": {},
   "outputs": [
    {
     "data": {
      "text/plain": [
       "66"
      ]
     },
     "execution_count": 12,
     "metadata": {},
     "output_type": "execute_result"
    }
   ],
   "source": [
    "len(data.columns)"
   ]
  },
  {
   "cell_type": "code",
   "execution_count": 11,
   "metadata": {},
   "outputs": [
    {
     "data": {
      "text/plain": [
       "40"
      ]
     },
     "execution_count": 11,
     "metadata": {},
     "output_type": "execute_result"
    }
   ],
   "source": [
    "len(drop_col)"
   ]
  },
  {
   "cell_type": "code",
   "execution_count": 32,
   "metadata": {},
   "outputs": [],
   "source": [
    "data = data.loc[:,left_col]"
   ]
  },
  {
   "cell_type": "code",
   "execution_count": 33,
   "metadata": {},
   "outputs": [],
   "source": [
    "data.to_csv(\"C:/Users/seung/Desktop/finalproject/ESC20SPRING_team4/modeling/test/데이터/var_removed_test_new_x.csv\", index = False)"
   ]
  },
  {
   "cell_type": "code",
   "execution_count": null,
   "metadata": {},
   "outputs": [],
   "source": []
  }
 ],
 "metadata": {
  "kernelspec": {
   "display_name": "Python 3",
   "language": "python",
   "name": "python3"
  },
  "language_info": {
   "codemirror_mode": {
    "name": "ipython",
    "version": 3
   },
   "file_extension": ".py",
   "mimetype": "text/x-python",
   "name": "python",
   "nbconvert_exporter": "python",
   "pygments_lexer": "ipython3",
   "version": "3.7.6"
  }
 },
 "nbformat": 4,
 "nbformat_minor": 4
}
