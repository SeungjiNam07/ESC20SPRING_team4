{
 "cells": [
  {
   "cell_type": "code",
   "execution_count": 2,
   "metadata": {},
   "outputs": [],
   "source": [
    "import imblearn\n",
    "import numpy as np\n",
    "import pandas as pd\n",
    "import matplotlib.pyplot as plt\n",
    "import seaborn as sns"
   ]
  },
  {
   "cell_type": "code",
   "execution_count": 3,
   "metadata": {},
   "outputs": [],
   "source": [
    "data = pd.read_csv(\"mice_scaled.csv\")"
   ]
  },
  {
   "cell_type": "code",
   "execution_count": 4,
   "metadata": {},
   "outputs": [],
   "source": [
    "from imblearn.over_sampling import SMOTE\n",
    "from imblearn.pipeline import Pipeline\n",
    "from imblearn.under_sampling import RandomUnderSampler\n",
    "\n",
    "from sklearn.model_selection import cross_val_score\n",
    "from sklearn.model_selection import RepeatedStratifiedKFold\n",
    "from sklearn.tree import DecisionTreeClassifier\n",
    "from sklearn.model_selection import train_test_split\n",
    "from sklearn import metrics"
   ]
  },
  {
   "cell_type": "code",
   "execution_count": 5,
   "metadata": {},
   "outputs": [],
   "source": [
    "from sklearn.metrics import confusion_matrix\n",
    "def plot_cm(classifier, predictions):\n",
    "    cm = confusion_matrix(y_test, predictions)\n",
    "    \n",
    "    plt.clf()\n",
    "    plt.imshow(cm, interpolation='nearest', cmap='RdBu')\n",
    "    classNames = ['Bankrupted','Not Bankrupted']\n",
    "    plt.ylabel('True label')\n",
    "    plt.xlabel('Predicted label')\n",
    "    tick_marks = np.arange(len(classNames))\n",
    "    plt.xticks(tick_marks, classNames, rotation=45)\n",
    "    plt.yticks(tick_marks, classNames)\n",
    "    s = [['TN','FP'], ['FN', 'TP']]\n",
    "    \n",
    "    for i in range(2):\n",
    "        for j in range(2):\n",
    "            plt.text(j,i, str(s[i][j])+\" = \"+str(cm[i][j]), \n",
    "                     horizontalalignment='center', color='White')\n",
    "    \n",
    "    plt.show()\n",
    "        \n",
    "    tn, fp, fn, tp = cm.ravel()\n",
    "\n",
    "    recall = tp / (tp + fn)\n",
    "    precision = tp / (tp + fp)\n",
    "    F1 = 2*recall*precision/(recall+precision)\n",
    "\n",
    "    print('Recall={0:0.3f}'.format(recall),'\\nPrecision={0:0.3f}'.format(precision))\n",
    "    print('F1={0:0.3f}'.format(F1))"
   ]
  },
  {
   "cell_type": "code",
   "execution_count": 6,
   "metadata": {},
   "outputs": [],
   "source": [
    "from sklearn.metrics import average_precision_score, precision_recall_curve\n",
    "def plot_aucprc(classifier, scores):\n",
    "    precision, recall, _ = precision_recall_curve(y_test, scores, pos_label=0)\n",
    "    average_precision = average_precision_score(y_test, scores)\n",
    "\n",
    "    print('Average precision-recall score: {0:0.3f}'.format(\n",
    "          average_precision))\n",
    "\n",
    "    plt.plot(recall, precision, label='area = %0.3f' % average_precision, color=\"green\")\n",
    "    plt.xlim([0.0, 1.0])\n",
    "    plt.ylim([0.0, 1.05])\n",
    "    plt.xlabel('Recall')\n",
    "    plt.ylabel('Precision')\n",
    "    plt.title('Precision Recall Curve')\n",
    "    plt.legend(loc=\"best\")\n",
    "    plt.show()"
   ]
  },
  {
   "cell_type": "code",
   "execution_count": 7,
   "metadata": {},
   "outputs": [],
   "source": [
    "data_X = data.iloc[:, :-1]\n",
    "data_y = data[\"class\"]\n",
    "data_X[\"Attr70\"] = data_X[\"Attr70\"].astype(\"category\")"
   ]
  },
  {
   "cell_type": "code",
   "execution_count": 8,
   "metadata": {},
   "outputs": [],
   "source": [
    "xgb_X = data.iloc[:, :-1]\n",
    "xgb_y = data[\"class\"]"
   ]
  },
  {
   "cell_type": "markdown",
   "metadata": {},
   "source": [
    "## Decision Tree"
   ]
  },
  {
   "cell_type": "code",
   "execution_count": 9,
   "metadata": {},
   "outputs": [],
   "source": [
    "model = DecisionTreeClassifier()"
   ]
  },
  {
   "cell_type": "code",
   "execution_count": 10,
   "metadata": {},
   "outputs": [],
   "source": [
    "re_stf = RepeatedStratifiedKFold(n_splits = 10, n_repeats = 3, random_state = 2)\n",
    "scores = cross_val_score(model, data_X, data_y, scoring = \"f1_micro\", cv = re_stf)"
   ]
  },
  {
   "cell_type": "code",
   "execution_count": 11,
   "metadata": {},
   "outputs": [
    {
     "name": "stdout",
     "output_type": "stream",
     "text": [
      "Mean CV F1 : 0.911\n"
     ]
    }
   ],
   "source": [
    "print(\"Mean CV F1 : %.3f\"% np.mean(scores))"
   ]
  },
  {
   "cell_type": "code",
   "execution_count": 12,
   "metadata": {},
   "outputs": [],
   "source": [
    "scores = cross_val_score(model, data_X, data_y, scoring = \"roc_auc\", cv = re_stf)"
   ]
  },
  {
   "cell_type": "code",
   "execution_count": 13,
   "metadata": {},
   "outputs": [
    {
     "name": "stdout",
     "output_type": "stream",
     "text": [
      "Mean CV ROC_AUC : 0.609\n"
     ]
    }
   ],
   "source": [
    "print(\"Mean CV ROC_AUC : %.3f\"% np.mean(scores))"
   ]
  },
  {
   "cell_type": "markdown",
   "metadata": {},
   "source": [
    "## Random Forest"
   ]
  },
  {
   "cell_type": "code",
   "execution_count": 14,
   "metadata": {},
   "outputs": [],
   "source": [
    "from sklearn.ensemble import RandomForestClassifier"
   ]
  },
  {
   "cell_type": "code",
   "execution_count": 17,
   "metadata": {},
   "outputs": [],
   "source": [
    "forest = RandomForestClassifier(n_estimators=500, random_state=24)"
   ]
  },
  {
   "cell_type": "code",
   "execution_count": 18,
   "metadata": {},
   "outputs": [
    {
     "name": "stdout",
     "output_type": "stream",
     "text": [
      "Mean CV F1 : 0.952\n",
      "Mean CV ROC_AUC : 0.808\n"
     ]
    }
   ],
   "source": [
    "scores = cross_val_score(forest, data_X, data_y, scoring = \"f1_micro\", cv = re_stf)\n",
    "print(\"Mean CV F1 : %.3f\"% np.mean(scores))\n",
    "scores = cross_val_score(forest, data_X, data_y, scoring = \"roc_auc\", cv = re_stf)\n",
    "print(\"Mean CV ROC_AUC : %.3f\"% np.mean(scores))"
   ]
  },
  {
   "cell_type": "markdown",
   "metadata": {},
   "source": [
    "## XGBoost"
   ]
  },
  {
   "cell_type": "code",
   "execution_count": 19,
   "metadata": {},
   "outputs": [],
   "source": [
    "from xgboost import XGBClassifier"
   ]
  },
  {
   "cell_type": "code",
   "execution_count": 20,
   "metadata": {},
   "outputs": [],
   "source": [
    "xgb_model = XGBClassifier(learning_rate = 0.05, n_estimators  = 300)"
   ]
  },
  {
   "cell_type": "code",
   "execution_count": 21,
   "metadata": {
    "scrolled": true
   },
   "outputs": [
    {
     "name": "stdout",
     "output_type": "stream",
     "text": [
      "Mean CV F1 : 0.955\n",
      "Mean CV ROC_AUC : 0.846\n"
     ]
    }
   ],
   "source": [
    "scores = cross_val_score(xgb_model, xgb_X, xgb_y, scoring = \"f1_micro\", cv = re_stf)\n",
    "print(\"Mean CV F1 : %.3f\"% np.mean(scores))\n",
    "scores = cross_val_score(xgb_model, xgb_X, xgb_y, scoring = \"roc_auc\", cv = re_stf)\n",
    "print(\"Mean CV ROC_AUC : %.3f\"% np.mean(scores))"
   ]
  },
  {
   "cell_type": "markdown",
   "metadata": {},
   "source": [
    "## SMOTE"
   ]
  },
  {
   "cell_type": "code",
   "execution_count": 23,
   "metadata": {},
   "outputs": [],
   "source": [
    "from sklearn import metrics\n",
    "from sklearn.metrics import roc_auc_score\n",
    "from sklearn.metrics import precision_score, recall_score, f1_score"
   ]
  },
  {
   "cell_type": "code",
   "execution_count": 22,
   "metadata": {},
   "outputs": [],
   "source": [
    "def smote_random_class(data, model) :\n",
    "    \n",
    "    bank = data[data[\"class\"] == 1]\n",
    "    not_bank = data[data[\"class\"] == 0]\n",
    "    \n",
    "    idx = list(bank.index)\n",
    "    idx_len = round(len(idx)/5)\n",
    "    \n",
    "    first = list(np.random.choice(idx, idx_len, replace = False))\n",
    "    idx2 = [x for x in idx if x not in first]\n",
    "    second = list(np.random.choice(idx2, idx_len, replace = False))\n",
    "    idx3 = [x for x in idx2 if x not in second]\n",
    "    third = list(np.random.choice(idx3, idx_len, replace = False))\n",
    "    idx4 = [x for x in idx3 if x not in third]\n",
    "    fourth = list(np.random.choice(list(idx4), idx_len, replace =False))\n",
    "    fifth = [x for x in idx4 if x not in fourth]\n",
    "    \n",
    "    not_idx = list(not_bank.index)\n",
    "    not_idx_len = round(len(not_idx)/5)\n",
    "    \n",
    "    not_first = list(np.random.choice(not_idx, not_idx_len, replace = False))\n",
    "    not_idx2 = [x for x in not_idx if x not in not_first]\n",
    "    not_second = list(np.random.choice(not_idx2, not_idx_len, replace = False))\n",
    "    not_idx3 = [x for x in not_idx2 if x not in not_second]\n",
    "    not_third = list(np.random.choice(not_idx3, not_idx_len, replace = False))\n",
    "    not_idx4 = [x for x in not_idx3 if x not in not_third]\n",
    "    not_fourth = list(np.random.choice(list(not_idx4), not_idx_len, replace =False))\n",
    "    not_fifth = [x for x in not_idx4 if x not in not_fourth]\n",
    "    \n",
    "    lst = [first, second, third, fourth, fifth]\n",
    "    not_lst = [not_first, not_second, not_third, not_fourth, not_fifth]\n",
    "    \n",
    "    for i in range(len(lst)):\n",
    "        lst[i].extend(not_lst[i])\n",
    "        \n",
    "    f1_scores = []\n",
    "    roc_scores = []\n",
    "\n",
    "    for i in range(5):\n",
    "        print(\"------------ \",i+1, \" ------------\\n\")\n",
    "        test_X = xgb_X.iloc[lst[i]]\n",
    "        test_y = xgb_y.iloc[lst[i]]\n",
    "        train_X = xgb_X.drop(lst[i])\n",
    "        train_y = xgb_y.drop(lst[i])\n",
    "        X_resampled, y_resampled = SMOTE().fit_sample(train_X, train_y)\n",
    "        \n",
    "        model.fit(X_resampled, y_resampled)\n",
    "        pred_y = model.predict(test_X)\n",
    "        f = f1_score(test_y, pred_y, average = 'micro')\n",
    "        r = roc_auc_score(test_y, pred_y)\n",
    "        \n",
    "        f1_scores.append(f)\n",
    "        roc_scores.append(r)\n",
    "        \n",
    "        print(\"f1 - \", f, \", roc - \", r)\n",
    "        \n",
    "    print(\"F1 : \", np.mean(f1_scores))\n",
    "    print(\"ROC AUC : \", np.mean(roc_scores))"
   ]
  },
  {
   "cell_type": "markdown",
   "metadata": {},
   "source": [
    "## Decision Tree"
   ]
  },
  {
   "cell_type": "code",
   "execution_count": 24,
   "metadata": {},
   "outputs": [
    {
     "name": "stdout",
     "output_type": "stream",
     "text": [
      "------------  1  ------------\n",
      "\n",
      "f1 -  0.8519061583577714 , roc -  0.574281905744754\n",
      "------------  2  ------------\n",
      "\n",
      "f1 -  0.8519061583577714 , roc -  0.6267414860681115\n",
      "------------  3  ------------\n",
      "\n",
      "f1 -  0.8482404692082113 , roc -  0.598576711386309\n",
      "------------  4  ------------\n",
      "\n",
      "f1 -  0.8475073313782991 , roc -  0.6178620571035431\n",
      "------------  5  ------------\n",
      "\n",
      "f1 -  0.8579795021961932 , roc -  0.6364846299158509\n",
      "F1 :  0.8515079238996494\n",
      "ROC AUC :  0.6107893580437136\n"
     ]
    }
   ],
   "source": [
    "smote_random_class(data, DecisionTreeClassifier())"
   ]
  },
  {
   "cell_type": "code",
   "execution_count": 25,
   "metadata": {},
   "outputs": [
    {
     "name": "stdout",
     "output_type": "stream",
     "text": [
      "------------  1  ------------\n",
      "\n",
      "f1 -  0.9222873900293255 , roc -  0.5720889232886137\n",
      "------------  2  ------------\n",
      "\n",
      "f1 -  0.9208211143695014 , roc -  0.6237745098039217\n",
      "------------  3  ------------\n",
      "\n",
      "f1 -  0.9164222873900293 , roc -  0.6476823185414518\n",
      "------------  4  ------------\n",
      "\n",
      "f1 -  0.9215542521994134 , roc -  0.5979317165462676\n",
      "------------  5  ------------\n",
      "\n",
      "f1 -  0.9158125915080527 , roc -  0.634219903829641\n",
      "F1 :  0.9193795270992645\n",
      "ROC AUC :  0.6151394744019791\n"
     ]
    }
   ],
   "source": [
    "smote_random_class(data, RandomForestClassifier(n_estimators=500))"
   ]
  },
  {
   "cell_type": "code",
   "execution_count": 29,
   "metadata": {},
   "outputs": [
    {
     "name": "stdout",
     "output_type": "stream",
     "text": [
      "------------  1  ------------\n",
      "\n",
      "f1 -  0.9127565982404692 , roc -  0.6260749914000688\n",
      "------------  2  ------------\n",
      "\n",
      "f1 -  0.9318181818181818 , roc -  0.6689241486068112\n",
      "------------  3  ------------\n",
      "\n",
      "f1 -  0.907624633431085 , roc -  0.6758255933952529\n",
      "------------  4  ------------\n",
      "\n",
      "f1 -  0.9178885630498533 , roc -  0.6681286549707602\n",
      "------------  5  ------------\n",
      "\n",
      "f1 -  0.9114202049780381 , roc -  0.6581336939721794\n",
      "F1 :  0.9163016363035255\n",
      "ROC AUC :  0.6594174164690145\n"
     ]
    }
   ],
   "source": [
    "smote_random_class(data, XGBClassifier(n_estimators = 600, learning_rate = 0.2))"
   ]
  },
  {
   "cell_type": "markdown",
   "metadata": {},
   "source": [
    "## SMOTE + UnderSampling\n",
    "## Decision Tree"
   ]
  },
  {
   "cell_type": "code",
   "execution_count": 27,
   "metadata": {},
   "outputs": [],
   "source": [
    "def smote_under_random_class(data, model, k) :\n",
    "    \n",
    "    bank = data[data[\"class\"] == 1]\n",
    "    not_bank = data[data[\"class\"] == 0]\n",
    "    \n",
    "    idx = list(bank.index)\n",
    "    idx_len = round(len(idx)/5)\n",
    "    \n",
    "    first = list(np.random.choice(idx, idx_len, replace = False))\n",
    "    idx2 = [x for x in idx if x not in first]\n",
    "    second = list(np.random.choice(idx2, idx_len, replace = False))\n",
    "    idx3 = [x for x in idx2 if x not in second]\n",
    "    third = list(np.random.choice(idx3, idx_len, replace = False))\n",
    "    idx4 = [x for x in idx3 if x not in third]\n",
    "    fourth = list(np.random.choice(list(idx4), idx_len, replace =False))\n",
    "    fifth = [x for x in idx4 if x not in fourth]\n",
    "    \n",
    "    not_idx = list(not_bank.index)\n",
    "    not_idx_len = round(len(not_idx)/5)\n",
    "    \n",
    "    not_first = list(np.random.choice(not_idx, not_idx_len, replace = False))\n",
    "    not_idx2 = [x for x in not_idx if x not in not_first]\n",
    "    not_second = list(np.random.choice(not_idx2, not_idx_len, replace = False))\n",
    "    not_idx3 = [x for x in not_idx2 if x not in not_second]\n",
    "    not_third = list(np.random.choice(not_idx3, not_idx_len, replace = False))\n",
    "    not_idx4 = [x for x in not_idx3 if x not in not_third]\n",
    "    not_fourth = list(np.random.choice(list(not_idx4), not_idx_len, replace =False))\n",
    "    not_fifth = [x for x in not_idx4 if x not in not_fourth]\n",
    "    \n",
    "    lst = [first, second, third, fourth, fifth]\n",
    "    not_lst = [not_first, not_second, not_third, not_fourth, not_fifth]\n",
    "    \n",
    "    for i in range(len(lst)):\n",
    "        lst[i].extend(not_lst[i])\n",
    "        \n",
    "    f1_scores = []\n",
    "    roc_scores = []\n",
    "\n",
    "    for i in range(5):\n",
    "        print(\"------------ \",i+1, \" ------------\\n\")\n",
    "        test_X = xgb_X.iloc[lst[i]]\n",
    "        test_y = xgb_y.iloc[lst[i]]\n",
    "        train_X = xgb_X.drop(lst[i])\n",
    "        train_y = xgb_y.drop(lst[i])\n",
    "        X_resampled, y_resampled = SMOTE(sampling_strategy = 0.1, k_neighbors = k).fit_sample(train_X, train_y)\n",
    "        X_sample, y_sample = RandomUnderSampler(sampling_strategy = 0.5).fit_sample(X_resampled, y_resampled)\n",
    "        \n",
    "        model.fit(X_sample, y_sample)\n",
    "        pred_y = model.predict(test_X)\n",
    "        f = f1_score(test_y, pred_y, average = 'micro')\n",
    "        r = roc_auc_score(test_y, pred_y)\n",
    "        \n",
    "        f1_scores.append(f)\n",
    "        roc_scores.append(r)\n",
    "        \n",
    "        print(\"f1 - \", f, \", roc - \", r)\n",
    "        \n",
    "    print(\"F1 : \", np.mean(f1_scores))\n",
    "    print(\"ROC AUC : \", np.mean(roc_scores))"
   ]
  },
  {
   "cell_type": "code",
   "execution_count": 30,
   "metadata": {},
   "outputs": [
    {
     "name": "stdout",
     "output_type": "stream",
     "text": [
      "------------  1  ------------\n",
      "\n",
      "f1 -  0.8013196480938416 , roc -  0.6393833849329206\n",
      "------------  2  ------------\n",
      "\n",
      "f1 -  0.7859237536656891 , roc -  0.6181415548675611\n",
      "------------  3  ------------\n",
      "\n",
      "f1 -  0.8225806451612904 , roc -  0.6833935328517371\n",
      "------------  4  ------------\n",
      "\n",
      "f1 -  0.7851906158357771 , roc -  0.6374269005847953\n",
      "------------  5  ------------\n",
      "\n",
      "f1 -  0.8038067349926794 , roc -  0.699703760947965\n",
      "F1 :  0.7997642795498555\n",
      "ROC AUC :  0.6556098268369958\n"
     ]
    }
   ],
   "source": [
    "smote_under_random_class(data, DecisionTreeClassifier(), 1)"
   ]
  },
  {
   "cell_type": "code",
   "execution_count": 31,
   "metadata": {},
   "outputs": [
    {
     "name": "stdout",
     "output_type": "stream",
     "text": [
      "------------  1  ------------\n",
      "\n",
      "f1 -  0.9120234604105572 , roc -  0.6781475748194015\n",
      "------------  2  ------------\n",
      "\n",
      "f1 -  0.907624633431085 , roc -  0.6627106983144135\n",
      "------------  3  ------------\n",
      "\n",
      "f1 -  0.9039589442815249 , roc -  0.7001203990368078\n",
      "------------  4  ------------\n",
      "\n",
      "f1 -  0.9127565982404692 , roc -  0.7047643618851049\n",
      "------------  5  ------------\n",
      "\n",
      "f1 -  0.9136163982430454 , roc -  0.7642216211574789\n",
      "F1 :  0.9099960069213363\n",
      "ROC AUC :  0.7019929310426413\n"
     ]
    }
   ],
   "source": [
    "smote_under_random_class(data, RandomForestClassifier(n_estimators = 200), 4)"
   ]
  },
  {
   "cell_type": "code",
   "execution_count": 32,
   "metadata": {},
   "outputs": [
    {
     "name": "stdout",
     "output_type": "stream",
     "text": [
      "------------  1  ------------\n",
      "\n",
      "f1 -  0.9032258064516129 , roc -  0.7849802201582388\n",
      "------------  2  ------------\n",
      "\n",
      "f1 -  0.8980938416422287 , roc -  0.7101393188854488\n",
      "------------  3  ------------\n",
      "\n",
      "f1 -  0.8848973607038123 , roc -  0.7294031647746818\n",
      "------------  4  ------------\n",
      "\n",
      "f1 -  0.8929618768328446 , roc -  0.7336601307189543\n",
      "------------  5  ------------\n",
      "\n",
      "f1 -  0.8755490483162518 , roc -  0.6851064743259487\n",
      "F1 :  0.8909455867893501\n",
      "ROC AUC :  0.7286578617726545\n"
     ]
    }
   ],
   "source": [
    "smote_under_random_class(data, XGBClassifier(n_estimators = 200, learning_rate = 0.1), k=3)"
   ]
  },
  {
   "cell_type": "code",
   "execution_count": null,
   "metadata": {},
   "outputs": [],
   "source": []
  },
  {
   "cell_type": "code",
   "execution_count": null,
   "metadata": {},
   "outputs": [],
   "source": []
  },
  {
   "cell_type": "code",
   "execution_count": null,
   "metadata": {},
   "outputs": [],
   "source": []
  }
 ],
 "metadata": {
  "kernelspec": {
   "display_name": "Python 3",
   "language": "python",
   "name": "python3"
  },
  "language_info": {
   "codemirror_mode": {
    "name": "ipython",
    "version": 3
   },
   "file_extension": ".py",
   "mimetype": "text/x-python",
   "name": "python",
   "nbconvert_exporter": "python",
   "pygments_lexer": "ipython3",
   "version": "3.7.6"
  }
 },
 "nbformat": 4,
 "nbformat_minor": 4
}
