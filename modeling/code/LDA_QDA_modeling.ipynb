{
 "cells": [
  {
   "cell_type": "code",
   "execution_count": 2,
   "metadata": {},
   "outputs": [],
   "source": [
    "import numpy as np\n",
    "import pandas as pd\n",
    "import matplotlib.pyplot as plt\n",
    "import seaborn as sns\n",
    "from sklearn.model_selection import cross_val_score\n",
    "from sklearn.model_selection import StratifiedKFold\n",
    "from sklearn.metrics import roc_auc_score\n",
    "from sklearn.metrics import precision_score, recall_score, f1_score\n",
    "from sklearn.discriminant_analysis import LinearDiscriminantAnalysis\n",
    "from sklearn.discriminant_analysis import QuadraticDiscriminantAnalysis"
   ]
  },
  {
   "cell_type": "code",
   "execution_count": 3,
   "metadata": {},
   "outputs": [],
   "source": [
    "datamice= pd.read_csv(\"C:/Users/seung/Desktop/finalproject/ESC20SPRING_team4/modeling/data/final_mice.csv\")\n",
    "datamedian= pd.read_csv(\"C:/Users/seung/Desktop/finalproject/ESC20SPRING_team4/modeling/data/final_median.csv\")\n",
    "dataknn= pd.read_csv(\"C:/Users/seung/Desktop/finalproject/ESC20SPRING_team4/modeling/data/final_knn.csv\")"
   ]
  },
  {
   "cell_type": "markdown",
   "metadata": {},
   "source": [
    "## Mice"
   ]
  },
  {
   "cell_type": "code",
   "execution_count": 4,
   "metadata": {},
   "outputs": [
    {
     "data": {
      "text/plain": [
       "(6822, 32)"
      ]
     },
     "execution_count": 4,
     "metadata": {},
     "output_type": "execute_result"
    }
   ],
   "source": [
    "datamice.shape"
   ]
  },
  {
   "cell_type": "code",
   "execution_count": 5,
   "metadata": {},
   "outputs": [
    {
     "data": {
      "text/html": [
       "<div>\n",
       "<style scoped>\n",
       "    .dataframe tbody tr th:only-of-type {\n",
       "        vertical-align: middle;\n",
       "    }\n",
       "\n",
       "    .dataframe tbody tr th {\n",
       "        vertical-align: top;\n",
       "    }\n",
       "\n",
       "    .dataframe thead th {\n",
       "        text-align: right;\n",
       "    }\n",
       "</style>\n",
       "<table border=\"1\" class=\"dataframe\">\n",
       "  <thead>\n",
       "    <tr style=\"text-align: right;\">\n",
       "      <th></th>\n",
       "      <th>Attr2</th>\n",
       "      <th>Attr3</th>\n",
       "      <th>Attr4</th>\n",
       "      <th>Attr5</th>\n",
       "      <th>Attr6</th>\n",
       "      <th>Attr9</th>\n",
       "      <th>Attr10</th>\n",
       "      <th>Attr13</th>\n",
       "      <th>Attr19</th>\n",
       "      <th>Attr21</th>\n",
       "      <th>...</th>\n",
       "      <th>Attr59</th>\n",
       "      <th>Attr61</th>\n",
       "      <th>Attr64</th>\n",
       "      <th>Attr65</th>\n",
       "      <th>Attr66</th>\n",
       "      <th>Attr67</th>\n",
       "      <th>Attr68</th>\n",
       "      <th>Attr69</th>\n",
       "      <th>Attr70</th>\n",
       "      <th>class</th>\n",
       "    </tr>\n",
       "  </thead>\n",
       "  <tbody>\n",
       "    <tr>\n",
       "      <th>0</th>\n",
       "      <td>-0.564475</td>\n",
       "      <td>-0.173956</td>\n",
       "      <td>-0.124649</td>\n",
       "      <td>0.012790</td>\n",
       "      <td>-0.014341</td>\n",
       "      <td>-0.451866</td>\n",
       "      <td>0.321246</td>\n",
       "      <td>-0.004382</td>\n",
       "      <td>-0.518534</td>\n",
       "      <td>-0.021175</td>\n",
       "      <td>...</td>\n",
       "      <td>-0.018746</td>\n",
       "      <td>-0.711244</td>\n",
       "      <td>-1.053473</td>\n",
       "      <td>-0.126576</td>\n",
       "      <td>0.402104</td>\n",
       "      <td>-0.058312</td>\n",
       "      <td>0.017091</td>\n",
       "      <td>-0.205098</td>\n",
       "      <td>0</td>\n",
       "      <td>0</td>\n",
       "    </tr>\n",
       "    <tr>\n",
       "      <th>1</th>\n",
       "      <td>-1.698654</td>\n",
       "      <td>1.841882</td>\n",
       "      <td>1.129210</td>\n",
       "      <td>0.011900</td>\n",
       "      <td>-0.221494</td>\n",
       "      <td>-0.386067</td>\n",
       "      <td>0.779132</td>\n",
       "      <td>0.060436</td>\n",
       "      <td>-0.181104</td>\n",
       "      <td>0.029315</td>\n",
       "      <td>...</td>\n",
       "      <td>-0.047671</td>\n",
       "      <td>2.085748</td>\n",
       "      <td>2.083580</td>\n",
       "      <td>-1.260417</td>\n",
       "      <td>0.206697</td>\n",
       "      <td>0.197628</td>\n",
       "      <td>-0.035273</td>\n",
       "      <td>16.246606</td>\n",
       "      <td>1</td>\n",
       "      <td>0</td>\n",
       "    </tr>\n",
       "    <tr>\n",
       "      <th>2</th>\n",
       "      <td>-0.014504</td>\n",
       "      <td>0.018601</td>\n",
       "      <td>-0.329322</td>\n",
       "      <td>0.012822</td>\n",
       "      <td>-0.009368</td>\n",
       "      <td>0.074404</td>\n",
       "      <td>0.103175</td>\n",
       "      <td>-0.030770</td>\n",
       "      <td>-1.019254</td>\n",
       "      <td>-0.140062</td>\n",
       "      <td>...</td>\n",
       "      <td>-0.035084</td>\n",
       "      <td>-1.074730</td>\n",
       "      <td>-0.268523</td>\n",
       "      <td>-0.367238</td>\n",
       "      <td>0.838218</td>\n",
       "      <td>-0.364028</td>\n",
       "      <td>0.004898</td>\n",
       "      <td>-0.035524</td>\n",
       "      <td>0</td>\n",
       "      <td>0</td>\n",
       "    </tr>\n",
       "    <tr>\n",
       "      <th>3</th>\n",
       "      <td>-0.995975</td>\n",
       "      <td>1.018673</td>\n",
       "      <td>0.878251</td>\n",
       "      <td>0.028528</td>\n",
       "      <td>0.037467</td>\n",
       "      <td>-0.376297</td>\n",
       "      <td>0.510253</td>\n",
       "      <td>0.006106</td>\n",
       "      <td>2.226964</td>\n",
       "      <td>-0.043613</td>\n",
       "      <td>...</td>\n",
       "      <td>-0.046055</td>\n",
       "      <td>0.449361</td>\n",
       "      <td>0.294264</td>\n",
       "      <td>0.090047</td>\n",
       "      <td>-1.226899</td>\n",
       "      <td>0.011336</td>\n",
       "      <td>-0.031391</td>\n",
       "      <td>-0.170398</td>\n",
       "      <td>0</td>\n",
       "      <td>0</td>\n",
       "    </tr>\n",
       "    <tr>\n",
       "      <th>4</th>\n",
       "      <td>-0.035359</td>\n",
       "      <td>-0.373743</td>\n",
       "      <td>-0.607667</td>\n",
       "      <td>-0.001269</td>\n",
       "      <td>-0.009368</td>\n",
       "      <td>0.464720</td>\n",
       "      <td>0.113260</td>\n",
       "      <td>0.002117</td>\n",
       "      <td>0.293229</td>\n",
       "      <td>-0.023797</td>\n",
       "      <td>...</td>\n",
       "      <td>-0.046561</td>\n",
       "      <td>-0.076763</td>\n",
       "      <td>-0.291498</td>\n",
       "      <td>-0.010448</td>\n",
       "      <td>-0.354641</td>\n",
       "      <td>0.064521</td>\n",
       "      <td>0.561108</td>\n",
       "      <td>-0.125715</td>\n",
       "      <td>0</td>\n",
       "      <td>0</td>\n",
       "    </tr>\n",
       "  </tbody>\n",
       "</table>\n",
       "<p>5 rows × 32 columns</p>\n",
       "</div>"
      ],
      "text/plain": [
       "      Attr2     Attr3     Attr4     Attr5     Attr6     Attr9    Attr10  \\\n",
       "0 -0.564475 -0.173956 -0.124649  0.012790 -0.014341 -0.451866  0.321246   \n",
       "1 -1.698654  1.841882  1.129210  0.011900 -0.221494 -0.386067  0.779132   \n",
       "2 -0.014504  0.018601 -0.329322  0.012822 -0.009368  0.074404  0.103175   \n",
       "3 -0.995975  1.018673  0.878251  0.028528  0.037467 -0.376297  0.510253   \n",
       "4 -0.035359 -0.373743 -0.607667 -0.001269 -0.009368  0.464720  0.113260   \n",
       "\n",
       "     Attr13    Attr19    Attr21  ...    Attr59    Attr61    Attr64    Attr65  \\\n",
       "0 -0.004382 -0.518534 -0.021175  ... -0.018746 -0.711244 -1.053473 -0.126576   \n",
       "1  0.060436 -0.181104  0.029315  ... -0.047671  2.085748  2.083580 -1.260417   \n",
       "2 -0.030770 -1.019254 -0.140062  ... -0.035084 -1.074730 -0.268523 -0.367238   \n",
       "3  0.006106  2.226964 -0.043613  ... -0.046055  0.449361  0.294264  0.090047   \n",
       "4  0.002117  0.293229 -0.023797  ... -0.046561 -0.076763 -0.291498 -0.010448   \n",
       "\n",
       "     Attr66    Attr67    Attr68     Attr69  Attr70  class  \n",
       "0  0.402104 -0.058312  0.017091  -0.205098       0      0  \n",
       "1  0.206697  0.197628 -0.035273  16.246606       1      0  \n",
       "2  0.838218 -0.364028  0.004898  -0.035524       0      0  \n",
       "3 -1.226899  0.011336 -0.031391  -0.170398       0      0  \n",
       "4 -0.354641  0.064521  0.561108  -0.125715       0      0  \n",
       "\n",
       "[5 rows x 32 columns]"
      ]
     },
     "execution_count": 5,
     "metadata": {},
     "output_type": "execute_result"
    }
   ],
   "source": [
    "datamice.head()"
   ]
  },
  {
   "cell_type": "markdown",
   "metadata": {},
   "source": [
    "#### train & test split"
   ]
  },
  {
   "cell_type": "code",
   "execution_count": 4,
   "metadata": {},
   "outputs": [],
   "source": [
    "from sklearn.model_selection import train_test_split"
   ]
  },
  {
   "cell_type": "code",
   "execution_count": 53,
   "metadata": {},
   "outputs": [],
   "source": [
    "X_train, X_test, y_train, y_test = train_test_split(datamice.iloc[:, 0:(datamice.shape[1]-1)], datamice['class'], test_size=0.3, random_state= 730)"
   ]
  },
  {
   "cell_type": "code",
   "execution_count": 54,
   "metadata": {},
   "outputs": [],
   "source": [
    "stf = StratifiedKFold(n_splits = 10, shuffle = True, random_state = 730)"
   ]
  },
  {
   "cell_type": "markdown",
   "metadata": {},
   "source": [
    "### LDA"
   ]
  },
  {
   "cell_type": "code",
   "execution_count": 55,
   "metadata": {},
   "outputs": [],
   "source": [
    "lda = LinearDiscriminantAnalysis().fit(X_train, y_train)"
   ]
  },
  {
   "cell_type": "code",
   "execution_count": 56,
   "metadata": {},
   "outputs": [],
   "source": [
    "score = cross_val_score(lda, X_train, y_train, cv = stf, scoring = 'f1_micro')"
   ]
  },
  {
   "cell_type": "code",
   "execution_count": 57,
   "metadata": {},
   "outputs": [
    {
     "data": {
      "text/plain": [
       "0.9553950334640315"
      ]
     },
     "execution_count": 57,
     "metadata": {},
     "output_type": "execute_result"
    }
   ],
   "source": [
    "score.mean()"
   ]
  },
  {
   "cell_type": "code",
   "execution_count": 58,
   "metadata": {},
   "outputs": [],
   "source": [
    "score = cross_val_score(lda, X_train, y_train, scoring = \"roc_auc\", cv = stf)"
   ]
  },
  {
   "cell_type": "code",
   "execution_count": 59,
   "metadata": {},
   "outputs": [
    {
     "data": {
      "text/plain": [
       "0.7610154525386312"
      ]
     },
     "execution_count": 59,
     "metadata": {},
     "output_type": "execute_result"
    }
   ],
   "source": [
    "score.mean()"
   ]
  },
  {
   "cell_type": "code",
   "execution_count": 60,
   "metadata": {},
   "outputs": [],
   "source": [
    "lda.fit(X_train,y_train)\n",
    "pred_y = lda.predict(X_test)"
   ]
  },
  {
   "cell_type": "code",
   "execution_count": 61,
   "metadata": {
    "scrolled": true
   },
   "outputs": [
    {
     "name": "stdout",
     "output_type": "stream",
     "text": [
      "F1 : 0.951\n",
      "ROC AUC : 0.590\n"
     ]
    }
   ],
   "source": [
    "print(\"F1 : %.3f\" % f1_score(y_test, pred_y, average = 'micro'))\n",
    "print(\"ROC AUC : %.3f\" % roc_auc_score(y_test, pred_y))"
   ]
  },
  {
   "cell_type": "markdown",
   "metadata": {},
   "source": [
    "### QDA"
   ]
  },
  {
   "cell_type": "code",
   "execution_count": 62,
   "metadata": {},
   "outputs": [],
   "source": [
    "qda = QuadraticDiscriminantAnalysis().fit(X_train,y_train)"
   ]
  },
  {
   "cell_type": "code",
   "execution_count": 63,
   "metadata": {},
   "outputs": [],
   "source": [
    "score = cross_val_score(qda, X_train, y_train, cv = stf, scoring = 'f1_micro')"
   ]
  },
  {
   "cell_type": "code",
   "execution_count": 64,
   "metadata": {},
   "outputs": [
    {
     "data": {
      "text/plain": [
       "0.16083874985745988"
      ]
     },
     "execution_count": 64,
     "metadata": {},
     "output_type": "execute_result"
    }
   ],
   "source": [
    "score.mean()"
   ]
  },
  {
   "cell_type": "code",
   "execution_count": 65,
   "metadata": {},
   "outputs": [],
   "source": [
    "score = cross_val_score(qda, X_train, y_train, scoring = \"roc_auc\", cv = stf)"
   ]
  },
  {
   "cell_type": "code",
   "execution_count": 66,
   "metadata": {},
   "outputs": [
    {
     "data": {
      "text/plain": [
       "0.6998866813833701"
      ]
     },
     "execution_count": 66,
     "metadata": {},
     "output_type": "execute_result"
    }
   ],
   "source": [
    "score.mean()"
   ]
  },
  {
   "cell_type": "code",
   "execution_count": 67,
   "metadata": {},
   "outputs": [],
   "source": [
    "qda.fit(X_train,y_train)\n",
    "pred_y = qda.predict(X_test)"
   ]
  },
  {
   "cell_type": "code",
   "execution_count": 68,
   "metadata": {},
   "outputs": [
    {
     "name": "stdout",
     "output_type": "stream",
     "text": [
      "F1 : 0.166\n",
      "ROC AUC : 0.538\n"
     ]
    }
   ],
   "source": [
    "print(\"F1 : %.3f\" % f1_score(y_test, pred_y, average = 'micro'))\n",
    "print(\"ROC AUC : %.3f\" % roc_auc_score(y_test, pred_y))"
   ]
  },
  {
   "cell_type": "code",
   "execution_count": 69,
   "metadata": {},
   "outputs": [
    {
     "data": {
      "image/png": "[encoded data removed]",
      "text/plain": [
       "<Figure size 432x288 with 1 Axes>"
      ]
     },
     "metadata": {
      "needs_background": "light"
     },
     "output_type": "display_data"
    }
   ],
   "source": [
    "false_positive_rate1, true_positive_rate1, thresholds = roc_curve(y_test, lda.predict_proba(X_test)[:,1])\n",
    "false_positive_rate2, true_positive_rate2, thresholds = roc_curve(y_test, qda.predict_proba(X_test)[:,1])        \n",
    "plt.clf()\n",
    "plt.plot(false_positive_rate1, true_positive_rate1, label = \"LDA\")\n",
    "plt.plot(false_positive_rate2, true_positive_rate2, label = \"QDA\")\n",
    "plt.xlabel('FPR')\n",
    "plt.ylabel('TPR')\n",
    "plt.title(\"ROC curve for Mice - LDA: 0.590, QDA: 0.538\")\n",
    "plt.legend(loc = 4)\n",
    "plt.show()"
   ]
  },
  {
   "cell_type": "markdown",
   "metadata": {},
   "source": [
    "## KNN"
   ]
  },
  {
   "cell_type": "code",
   "execution_count": 54,
   "metadata": {},
   "outputs": [
    {
     "data": {
      "text/plain": [
       "(6805, 39)"
      ]
     },
     "execution_count": 54,
     "metadata": {},
     "output_type": "execute_result"
    }
   ],
   "source": [
    "dataknn.shape"
   ]
  },
  {
   "cell_type": "code",
   "execution_count": 55,
   "metadata": {
    "scrolled": false
   },
   "outputs": [
    {
     "data": {
      "text/html": [
       "<div>\n",
       "<style scoped>\n",
       "    .dataframe tbody tr th:only-of-type {\n",
       "        vertical-align: middle;\n",
       "    }\n",
       "\n",
       "    .dataframe tbody tr th {\n",
       "        vertical-align: top;\n",
       "    }\n",
       "\n",
       "    .dataframe thead th {\n",
       "        text-align: right;\n",
       "    }\n",
       "</style>\n",
       "<table border=\"1\" class=\"dataframe\">\n",
       "  <thead>\n",
       "    <tr style=\"text-align: right;\">\n",
       "      <th></th>\n",
       "      <th>Attr3</th>\n",
       "      <th>Attr4</th>\n",
       "      <th>Attr5</th>\n",
       "      <th>Attr6</th>\n",
       "      <th>Attr9</th>\n",
       "      <th>Attr10</th>\n",
       "      <th>Attr12</th>\n",
       "      <th>Attr15</th>\n",
       "      <th>Attr18</th>\n",
       "      <th>Attr19</th>\n",
       "      <th>...</th>\n",
       "      <th>Attr57</th>\n",
       "      <th>Attr58</th>\n",
       "      <th>Attr59</th>\n",
       "      <th>Attr61</th>\n",
       "      <th>Attr63</th>\n",
       "      <th>Attr64</th>\n",
       "      <th>Attr68</th>\n",
       "      <th>Attr69</th>\n",
       "      <th>Attr70</th>\n",
       "      <th>class</th>\n",
       "    </tr>\n",
       "  </thead>\n",
       "  <tbody>\n",
       "    <tr>\n",
       "      <th>0</th>\n",
       "      <td>-0.177767</td>\n",
       "      <td>-0.123483</td>\n",
       "      <td>0.009524</td>\n",
       "      <td>0.009448</td>\n",
       "      <td>-0.456467</td>\n",
       "      <td>0.301698</td>\n",
       "      <td>-0.031183</td>\n",
       "      <td>0.056725</td>\n",
       "      <td>-0.370348</td>\n",
       "      <td>-0.518652</td>\n",
       "      <td>...</td>\n",
       "      <td>-0.056065</td>\n",
       "      <td>-0.030072</td>\n",
       "      <td>-0.018519</td>\n",
       "      <td>-0.714359</td>\n",
       "      <td>-0.045731</td>\n",
       "      <td>-1.073841</td>\n",
       "      <td>0.017298</td>\n",
       "      <td>-0.286284</td>\n",
       "      <td>0</td>\n",
       "      <td>0</td>\n",
       "    </tr>\n",
       "    <tr>\n",
       "      <th>1</th>\n",
       "      <td>1.861965</td>\n",
       "      <td>1.097655</td>\n",
       "      <td>0.008598</td>\n",
       "      <td>-0.411517</td>\n",
       "      <td>-0.390186</td>\n",
       "      <td>0.725650</td>\n",
       "      <td>19.373965</td>\n",
       "      <td>-0.041950</td>\n",
       "      <td>3.297537</td>\n",
       "      <td>-0.180426</td>\n",
       "      <td>...</td>\n",
       "      <td>0.214041</td>\n",
       "      <td>-0.447314</td>\n",
       "      <td>-0.047413</td>\n",
       "      <td>2.069638</td>\n",
       "      <td>5.610952</td>\n",
       "      <td>-0.137180</td>\n",
       "      <td>-0.034991</td>\n",
       "      <td>0.485499</td>\n",
       "      <td>1</td>\n",
       "      <td>0</td>\n",
       "    </tr>\n",
       "    <tr>\n",
       "      <th>2</th>\n",
       "      <td>0.017073</td>\n",
       "      <td>-0.330491</td>\n",
       "      <td>0.009558</td>\n",
       "      <td>0.019555</td>\n",
       "      <td>0.073659</td>\n",
       "      <td>0.099788</td>\n",
       "      <td>-0.035084</td>\n",
       "      <td>-0.049363</td>\n",
       "      <td>-2.347134</td>\n",
       "      <td>-1.020554</td>\n",
       "      <td>...</td>\n",
       "      <td>-0.378704</td>\n",
       "      <td>0.206205</td>\n",
       "      <td>-0.034839</td>\n",
       "      <td>-1.076156</td>\n",
       "      <td>-0.051393</td>\n",
       "      <td>-0.271095</td>\n",
       "      <td>0.005122</td>\n",
       "      <td>-0.138982</td>\n",
       "      <td>0</td>\n",
       "      <td>0</td>\n",
       "    </tr>\n",
       "    <tr>\n",
       "      <th>3</th>\n",
       "      <td>1.028999</td>\n",
       "      <td>0.890857</td>\n",
       "      <td>0.025911</td>\n",
       "      <td>0.114729</td>\n",
       "      <td>-0.380344</td>\n",
       "      <td>0.476698</td>\n",
       "      <td>-0.026925</td>\n",
       "      <td>-0.037176</td>\n",
       "      <td>0.422903</td>\n",
       "      <td>2.233324</td>\n",
       "      <td>...</td>\n",
       "      <td>0.017436</td>\n",
       "      <td>-0.063601</td>\n",
       "      <td>-0.045798</td>\n",
       "      <td>0.440854</td>\n",
       "      <td>-0.048111</td>\n",
       "      <td>0.304451</td>\n",
       "      <td>-0.031114</td>\n",
       "      <td>-0.229793</td>\n",
       "      <td>0</td>\n",
       "      <td>0</td>\n",
       "    </tr>\n",
       "    <tr>\n",
       "      <th>4</th>\n",
       "      <td>-0.379922</td>\n",
       "      <td>-0.612011</td>\n",
       "      <td>-0.005114</td>\n",
       "      <td>0.019555</td>\n",
       "      <td>0.466834</td>\n",
       "      <td>0.109125</td>\n",
       "      <td>-0.029113</td>\n",
       "      <td>-0.026674</td>\n",
       "      <td>0.440759</td>\n",
       "      <td>0.295026</td>\n",
       "      <td>...</td>\n",
       "      <td>0.073563</td>\n",
       "      <td>-0.109727</td>\n",
       "      <td>-0.046303</td>\n",
       "      <td>-0.082826</td>\n",
       "      <td>-0.050858</td>\n",
       "      <td>-0.294590</td>\n",
       "      <td>0.560525</td>\n",
       "      <td>-0.157048</td>\n",
       "      <td>0</td>\n",
       "      <td>0</td>\n",
       "    </tr>\n",
       "  </tbody>\n",
       "</table>\n",
       "<p>5 rows × 39 columns</p>\n",
       "</div>"
      ],
      "text/plain": [
       "      Attr3     Attr4     Attr5     Attr6     Attr9    Attr10     Attr12  \\\n",
       "0 -0.177767 -0.123483  0.009524  0.009448 -0.456467  0.301698  -0.031183   \n",
       "1  1.861965  1.097655  0.008598 -0.411517 -0.390186  0.725650  19.373965   \n",
       "2  0.017073 -0.330491  0.009558  0.019555  0.073659  0.099788  -0.035084   \n",
       "3  1.028999  0.890857  0.025911  0.114729 -0.380344  0.476698  -0.026925   \n",
       "4 -0.379922 -0.612011 -0.005114  0.019555  0.466834  0.109125  -0.029113   \n",
       "\n",
       "     Attr15    Attr18    Attr19  ...    Attr57    Attr58    Attr59    Attr61  \\\n",
       "0  0.056725 -0.370348 -0.518652  ... -0.056065 -0.030072 -0.018519 -0.714359   \n",
       "1 -0.041950  3.297537 -0.180426  ...  0.214041 -0.447314 -0.047413  2.069638   \n",
       "2 -0.049363 -2.347134 -1.020554  ... -0.378704  0.206205 -0.034839 -1.076156   \n",
       "3 -0.037176  0.422903  2.233324  ...  0.017436 -0.063601 -0.045798  0.440854   \n",
       "4 -0.026674  0.440759  0.295026  ...  0.073563 -0.109727 -0.046303 -0.082826   \n",
       "\n",
       "     Attr63    Attr64    Attr68    Attr69  Attr70  class  \n",
       "0 -0.045731 -1.073841  0.017298 -0.286284       0      0  \n",
       "1  5.610952 -0.137180 -0.034991  0.485499       1      0  \n",
       "2 -0.051393 -0.271095  0.005122 -0.138982       0      0  \n",
       "3 -0.048111  0.304451 -0.031114 -0.229793       0      0  \n",
       "4 -0.050858 -0.294590  0.560525 -0.157048       0      0  \n",
       "\n",
       "[5 rows x 39 columns]"
      ]
     },
     "execution_count": 55,
     "metadata": {},
     "output_type": "execute_result"
    }
   ],
   "source": [
    "dataknn.head()"
   ]
  },
  {
   "cell_type": "markdown",
   "metadata": {},
   "source": [
    "### train test split"
   ]
  },
  {
   "cell_type": "code",
   "execution_count": 13,
   "metadata": {},
   "outputs": [],
   "source": [
    "X_train, X_test, y_train, y_test = train_test_split(dataknn.iloc[:, 0:(dataknn.shape[1]-1)], dataknn['class'], test_size=0.3, random_state= 730)"
   ]
  },
  {
   "cell_type": "markdown",
   "metadata": {},
   "source": [
    "### LDA"
   ]
  },
  {
   "cell_type": "code",
   "execution_count": 14,
   "metadata": {},
   "outputs": [],
   "source": [
    "lda = LinearDiscriminantAnalysis().fit(X_train, y_train)"
   ]
  },
  {
   "cell_type": "code",
   "execution_count": 15,
   "metadata": {},
   "outputs": [],
   "source": [
    "score = cross_val_score(lda, X_train, y_train, cv = stf, scoring = 'f1_micro')"
   ]
  },
  {
   "cell_type": "code",
   "execution_count": 16,
   "metadata": {},
   "outputs": [
    {
     "data": {
      "text/plain": [
       "0.9536013776579815"
      ]
     },
     "execution_count": 16,
     "metadata": {},
     "output_type": "execute_result"
    }
   ],
   "source": [
    "score.mean()"
   ]
  },
  {
   "cell_type": "code",
   "execution_count": 17,
   "metadata": {},
   "outputs": [],
   "source": [
    "score = cross_val_score(lda, X_train, y_train, scoring = \"roc_auc\", cv = stf)"
   ]
  },
  {
   "cell_type": "code",
   "execution_count": 18,
   "metadata": {},
   "outputs": [
    {
     "data": {
      "text/plain": [
       "0.7679047683286567"
      ]
     },
     "execution_count": 18,
     "metadata": {},
     "output_type": "execute_result"
    }
   ],
   "source": [
    "score.mean()"
   ]
  },
  {
   "cell_type": "code",
   "execution_count": 19,
   "metadata": {},
   "outputs": [],
   "source": [
    "lda.fit(X_train,y_train)\n",
    "pred_y = lda.predict(X_test)"
   ]
  },
  {
   "cell_type": "code",
   "execution_count": 20,
   "metadata": {
    "scrolled": true
   },
   "outputs": [
    {
     "name": "stdout",
     "output_type": "stream",
     "text": [
      "F1 : 0.953\n",
      "ROC AUC : 0.625\n"
     ]
    }
   ],
   "source": [
    "print(\"F1 : %.3f\" % f1_score(y_test, pred_y, average = 'micro'))\n",
    "print(\"ROC AUC : %.3f\" % roc_auc_score(y_test, pred_y))"
   ]
  },
  {
   "cell_type": "markdown",
   "metadata": {},
   "source": [
    "### QDA"
   ]
  },
  {
   "cell_type": "code",
   "execution_count": 22,
   "metadata": {},
   "outputs": [],
   "source": [
    "qda = QuadraticDiscriminantAnalysis().fit(X_train,y_train)"
   ]
  },
  {
   "cell_type": "code",
   "execution_count": 23,
   "metadata": {},
   "outputs": [],
   "source": [
    "score = cross_val_score(qda, X_train, y_train, cv = stf, scoring = 'f1_micro')"
   ]
  },
  {
   "cell_type": "code",
   "execution_count": 24,
   "metadata": {},
   "outputs": [
    {
     "data": {
      "text/plain": [
       "0.16733215298698098"
      ]
     },
     "execution_count": 24,
     "metadata": {},
     "output_type": "execute_result"
    }
   ],
   "source": [
    "score.mean()"
   ]
  },
  {
   "cell_type": "code",
   "execution_count": 25,
   "metadata": {},
   "outputs": [],
   "source": [
    "score = cross_val_score(qda, X_train, y_train, scoring = \"roc_auc\", cv = stf)"
   ]
  },
  {
   "cell_type": "code",
   "execution_count": 26,
   "metadata": {},
   "outputs": [
    {
     "data": {
      "text/plain": [
       "0.6482365098208503"
      ]
     },
     "execution_count": 26,
     "metadata": {},
     "output_type": "execute_result"
    }
   ],
   "source": [
    "score.mean()"
   ]
  },
  {
   "cell_type": "code",
   "execution_count": 27,
   "metadata": {},
   "outputs": [],
   "source": [
    "qda.fit(X_train,y_train)\n",
    "pred_y = qda.predict(X_test)"
   ]
  },
  {
   "cell_type": "code",
   "execution_count": 28,
   "metadata": {
    "scrolled": true
   },
   "outputs": [
    {
     "name": "stdout",
     "output_type": "stream",
     "text": [
      "F1 : 0.163\n",
      "ROC AUC : 0.519\n"
     ]
    }
   ],
   "source": [
    "print(\"F1 : %.3f\" % f1_score(y_test, pred_y, average = 'micro'))\n",
    "print(\"ROC AUC : %.3f\" % roc_auc_score(y_test, pred_y))"
   ]
  },
  {
   "cell_type": "code",
   "execution_count": 33,
   "metadata": {},
   "outputs": [
    {
     "data": {
      "image/png": "[encoded data removed]",
      "text/plain": [
       "<Figure size 432x288 with 1 Axes>"
      ]
     },
     "metadata": {
      "needs_background": "light"
     },
     "output_type": "display_data"
    }
   ],
   "source": [
    "qda = qda.fit(X_train, y_train)\n",
    "y_test_predicted = qda.predict(X_test)\n",
    "        \n",
    "false_positive_rate, true_positive_rate, thresholds = roc_curve(y_test, qda.predict_proba(X_test)[:,1])\n",
    "        \n",
    "plt.clf()\n",
    "plt.plot(false_positive_rate, true_positive_rate)\n",
    "plt.xlabel('FPR')\n",
    "plt.ylabel('TPR')\n",
    "plt.title(\"ROC curve - QDA model for KNN: 0.519\")\n",
    "plt.show()"
   ]
  },
  {
   "cell_type": "code",
   "execution_count": 40,
   "metadata": {},
   "outputs": [
    {
     "data": {
      "image/png": "[encoded data removed]",
      "text/plain": [
       "<Figure size 432x288 with 1 Axes>"
      ]
     },
     "metadata": {
      "needs_background": "light"
     },
     "output_type": "display_data"
    }
   ],
   "source": [
    "\n",
    "y_test_predicted_ = lda.predict(X_test)\n",
    "        \n",
    "false_positive_rate1, true_positive_rate1, thresholds = roc_curve(y_test, lda.predict_proba(X_test)[:,1])\n",
    "false_positive_rate2, true_positive_rate2, thresholds = roc_curve(y_test, qda.predict_proba(X_test)[:,1])        \n",
    "plt.clf()\n",
    "plt.plot(false_positive_rate1, true_positive_rate1, label = \"LDA\")\n",
    "plt.plot(false_positive_rate2, true_positive_rate2, label = \"QDA\")\n",
    "plt.xlabel('FPR')\n",
    "plt.ylabel('TPR')\n",
    "plt.title(\"ROC curve for KNN - LDA: 0.625, QDA: 0.519\")\n",
    "plt.legend(loc = 4)\n",
    "plt.show()"
   ]
  },
  {
   "cell_type": "markdown",
   "metadata": {},
   "source": [
    "## Median"
   ]
  },
  {
   "cell_type": "code",
   "execution_count": 73,
   "metadata": {},
   "outputs": [
    {
     "data": {
      "text/html": [
       "<div>\n",
       "<style scoped>\n",
       "    .dataframe tbody tr th:only-of-type {\n",
       "        vertical-align: middle;\n",
       "    }\n",
       "\n",
       "    .dataframe tbody tr th {\n",
       "        vertical-align: top;\n",
       "    }\n",
       "\n",
       "    .dataframe thead th {\n",
       "        text-align: right;\n",
       "    }\n",
       "</style>\n",
       "<table border=\"1\" class=\"dataframe\">\n",
       "  <thead>\n",
       "    <tr style=\"text-align: right;\">\n",
       "      <th></th>\n",
       "      <th>Attr1</th>\n",
       "      <th>Attr2</th>\n",
       "      <th>Attr3</th>\n",
       "      <th>Attr4</th>\n",
       "      <th>Attr5</th>\n",
       "      <th>Attr6</th>\n",
       "      <th>Attr9</th>\n",
       "      <th>Attr10</th>\n",
       "      <th>Attr12</th>\n",
       "      <th>Attr13</th>\n",
       "      <th>...</th>\n",
       "      <th>Attr59</th>\n",
       "      <th>Attr61</th>\n",
       "      <th>Attr64</th>\n",
       "      <th>Attr65</th>\n",
       "      <th>Attr66</th>\n",
       "      <th>Attr67</th>\n",
       "      <th>Attr68</th>\n",
       "      <th>Attr69</th>\n",
       "      <th>Attr70</th>\n",
       "      <th>class</th>\n",
       "    </tr>\n",
       "  </thead>\n",
       "  <tbody>\n",
       "    <tr>\n",
       "      <th>0</th>\n",
       "      <td>-0.305882</td>\n",
       "      <td>-0.567830</td>\n",
       "      <td>-0.191750</td>\n",
       "      <td>-0.118907</td>\n",
       "      <td>0.009449</td>\n",
       "      <td>-0.004600</td>\n",
       "      <td>-0.452027</td>\n",
       "      <td>0.328989</td>\n",
       "      <td>-0.022936</td>\n",
       "      <td>-0.015081</td>\n",
       "      <td>...</td>\n",
       "      <td>-0.018722</td>\n",
       "      <td>-0.708407</td>\n",
       "      <td>-1.073419</td>\n",
       "      <td>-0.125311</td>\n",
       "      <td>0.413225</td>\n",
       "      <td>-0.048981</td>\n",
       "      <td>0.005588</td>\n",
       "      <td>-0.294502</td>\n",
       "      <td>0</td>\n",
       "      <td>0</td>\n",
       "    </tr>\n",
       "    <tr>\n",
       "      <th>1</th>\n",
       "      <td>2.511211</td>\n",
       "      <td>-1.708722</td>\n",
       "      <td>1.979607</td>\n",
       "      <td>-0.257969</td>\n",
       "      <td>0.008522</td>\n",
       "      <td>-0.287835</td>\n",
       "      <td>-0.386111</td>\n",
       "      <td>0.799984</td>\n",
       "      <td>14.966639</td>\n",
       "      <td>0.046834</td>\n",
       "      <td>...</td>\n",
       "      <td>-0.047639</td>\n",
       "      <td>2.069378</td>\n",
       "      <td>-0.216780</td>\n",
       "      <td>-0.075797</td>\n",
       "      <td>0.209906</td>\n",
       "      <td>0.128412</td>\n",
       "      <td>-0.034505</td>\n",
       "      <td>-0.144385</td>\n",
       "      <td>1</td>\n",
       "      <td>0</td>\n",
       "    </tr>\n",
       "    <tr>\n",
       "      <th>2</th>\n",
       "      <td>-2.072361</td>\n",
       "      <td>-0.014605</td>\n",
       "      <td>0.015663</td>\n",
       "      <td>-0.327737</td>\n",
       "      <td>0.009483</td>\n",
       "      <td>0.002200</td>\n",
       "      <td>0.075177</td>\n",
       "      <td>0.104675</td>\n",
       "      <td>-0.025949</td>\n",
       "      <td>-0.040287</td>\n",
       "      <td>...</td>\n",
       "      <td>-0.035054</td>\n",
       "      <td>-1.069397</td>\n",
       "      <td>-0.247814</td>\n",
       "      <td>-0.368230</td>\n",
       "      <td>0.866998</td>\n",
       "      <td>-0.260872</td>\n",
       "      <td>-0.003748</td>\n",
       "      <td>-0.144385</td>\n",
       "      <td>0</td>\n",
       "      <td>0</td>\n",
       "    </tr>\n",
       "    <tr>\n",
       "      <th>3</th>\n",
       "      <td>0.305626</td>\n",
       "      <td>-1.001884</td>\n",
       "      <td>1.092889</td>\n",
       "      <td>0.904366</td>\n",
       "      <td>0.025844</td>\n",
       "      <td>0.066235</td>\n",
       "      <td>-0.376323</td>\n",
       "      <td>0.523407</td>\n",
       "      <td>-0.019647</td>\n",
       "      <td>-0.005064</td>\n",
       "      <td>...</td>\n",
       "      <td>-0.046023</td>\n",
       "      <td>0.444228</td>\n",
       "      <td>0.344121</td>\n",
       "      <td>0.093344</td>\n",
       "      <td>-1.281735</td>\n",
       "      <td>-0.000707</td>\n",
       "      <td>-0.031532</td>\n",
       "      <td>-0.229892</td>\n",
       "      <td>0</td>\n",
       "      <td>0</td>\n",
       "    </tr>\n",
       "    <tr>\n",
       "      <th>4</th>\n",
       "      <td>0.445815</td>\n",
       "      <td>-0.035583</td>\n",
       "      <td>-0.406950</td>\n",
       "      <td>-0.611737</td>\n",
       "      <td>-0.005197</td>\n",
       "      <td>0.002200</td>\n",
       "      <td>0.466185</td>\n",
       "      <td>0.115048</td>\n",
       "      <td>-0.021337</td>\n",
       "      <td>-0.008874</td>\n",
       "      <td>...</td>\n",
       "      <td>-0.046528</td>\n",
       "      <td>-0.078284</td>\n",
       "      <td>-0.271979</td>\n",
       "      <td>-0.008094</td>\n",
       "      <td>-0.374159</td>\n",
       "      <td>0.036156</td>\n",
       "      <td>0.422113</td>\n",
       "      <td>-0.146693</td>\n",
       "      <td>0</td>\n",
       "      <td>0</td>\n",
       "    </tr>\n",
       "  </tbody>\n",
       "</table>\n",
       "<p>5 rows × 41 columns</p>\n",
       "</div>"
      ],
      "text/plain": [
       "      Attr1     Attr2     Attr3     Attr4     Attr5     Attr6     Attr9  \\\n",
       "0 -0.305882 -0.567830 -0.191750 -0.118907  0.009449 -0.004600 -0.452027   \n",
       "1  2.511211 -1.708722  1.979607 -0.257969  0.008522 -0.287835 -0.386111   \n",
       "2 -2.072361 -0.014605  0.015663 -0.327737  0.009483  0.002200  0.075177   \n",
       "3  0.305626 -1.001884  1.092889  0.904366  0.025844  0.066235 -0.376323   \n",
       "4  0.445815 -0.035583 -0.406950 -0.611737 -0.005197  0.002200  0.466185   \n",
       "\n",
       "     Attr10     Attr12    Attr13  ...    Attr59    Attr61    Attr64    Attr65  \\\n",
       "0  0.328989  -0.022936 -0.015081  ... -0.018722 -0.708407 -1.073419 -0.125311   \n",
       "1  0.799984  14.966639  0.046834  ... -0.047639  2.069378 -0.216780 -0.075797   \n",
       "2  0.104675  -0.025949 -0.040287  ... -0.035054 -1.069397 -0.247814 -0.368230   \n",
       "3  0.523407  -0.019647 -0.005064  ... -0.046023  0.444228  0.344121  0.093344   \n",
       "4  0.115048  -0.021337 -0.008874  ... -0.046528 -0.078284 -0.271979 -0.008094   \n",
       "\n",
       "     Attr66    Attr67    Attr68    Attr69  Attr70  class  \n",
       "0  0.413225 -0.048981  0.005588 -0.294502       0      0  \n",
       "1  0.209906  0.128412 -0.034505 -0.144385       1      0  \n",
       "2  0.866998 -0.260872 -0.003748 -0.144385       0      0  \n",
       "3 -1.281735 -0.000707 -0.031532 -0.229892       0      0  \n",
       "4 -0.374159  0.036156  0.422113 -0.146693       0      0  \n",
       "\n",
       "[5 rows x 41 columns]"
      ]
     },
     "execution_count": 73,
     "metadata": {},
     "output_type": "execute_result"
    }
   ],
   "source": [
    "datamedian.head()"
   ]
  },
  {
   "cell_type": "code",
   "execution_count": 72,
   "metadata": {},
   "outputs": [
    {
     "data": {
      "text/plain": [
       "(6818, 41)"
      ]
     },
     "execution_count": 72,
     "metadata": {},
     "output_type": "execute_result"
    }
   ],
   "source": [
    "datamedian.shape"
   ]
  },
  {
   "cell_type": "markdown",
   "metadata": {},
   "source": [
    "### train test split"
   ]
  },
  {
   "cell_type": "code",
   "execution_count": 70,
   "metadata": {},
   "outputs": [],
   "source": [
    "X_train, X_test, y_train, y_test = train_test_split(datamedian.iloc[:, 0:(datamedian.shape[1]-1)], datamedian['class'], test_size=0.3, random_state= 730)"
   ]
  },
  {
   "cell_type": "markdown",
   "metadata": {},
   "source": [
    "### LDA"
   ]
  },
  {
   "cell_type": "code",
   "execution_count": 71,
   "metadata": {},
   "outputs": [],
   "source": [
    "lda = LinearDiscriminantAnalysis().fit(X_train, y_train)"
   ]
  },
  {
   "cell_type": "code",
   "execution_count": 72,
   "metadata": {},
   "outputs": [],
   "source": [
    "score = cross_val_score(lda, X_train, y_train, cv = stf, scoring = 'f1_micro')"
   ]
  },
  {
   "cell_type": "code",
   "execution_count": 73,
   "metadata": {},
   "outputs": [
    {
     "data": {
      "text/plain": [
       "0.9528499250019736"
      ]
     },
     "execution_count": 73,
     "metadata": {},
     "output_type": "execute_result"
    }
   ],
   "source": [
    "score.mean()"
   ]
  },
  {
   "cell_type": "code",
   "execution_count": 74,
   "metadata": {},
   "outputs": [],
   "source": [
    "score = cross_val_score(lda, X_train, y_train, scoring = \"roc_auc\", cv = stf)"
   ]
  },
  {
   "cell_type": "code",
   "execution_count": 75,
   "metadata": {},
   "outputs": [
    {
     "data": {
      "text/plain": [
       "0.7612390678606952"
      ]
     },
     "execution_count": 75,
     "metadata": {},
     "output_type": "execute_result"
    }
   ],
   "source": [
    "score.mean()"
   ]
  },
  {
   "cell_type": "code",
   "execution_count": 76,
   "metadata": {},
   "outputs": [],
   "source": [
    "lda.fit(X_train,y_train)\n",
    "pred_y = lda.predict(X_test)"
   ]
  },
  {
   "cell_type": "code",
   "execution_count": 77,
   "metadata": {},
   "outputs": [
    {
     "name": "stdout",
     "output_type": "stream",
     "text": [
      "F1 : 0.951\n",
      "ROC AUC : 0.597\n"
     ]
    }
   ],
   "source": [
    "print(\"F1 : %.3f\" % f1_score(y_test, pred_y, average = 'micro'))\n",
    "print(\"ROC AUC : %.3f\" % roc_auc_score(y_test, pred_y))"
   ]
  },
  {
   "cell_type": "markdown",
   "metadata": {},
   "source": [
    "### QDA"
   ]
  },
  {
   "cell_type": "code",
   "execution_count": 78,
   "metadata": {},
   "outputs": [],
   "source": [
    "qda = QuadraticDiscriminantAnalysis().fit(X_train,y_train)"
   ]
  },
  {
   "cell_type": "code",
   "execution_count": 79,
   "metadata": {},
   "outputs": [],
   "source": [
    "score = cross_val_score(qda, X_train, y_train, cv = stf, scoring = 'f1_micro')"
   ]
  },
  {
   "cell_type": "code",
   "execution_count": 80,
   "metadata": {},
   "outputs": [
    {
     "data": {
      "text/plain": [
       "0.15506872626158957"
      ]
     },
     "execution_count": 80,
     "metadata": {},
     "output_type": "execute_result"
    }
   ],
   "source": [
    "score.mean()"
   ]
  },
  {
   "cell_type": "code",
   "execution_count": 81,
   "metadata": {},
   "outputs": [],
   "source": [
    "score = cross_val_score(qda, X_train, y_train, scoring = \"roc_auc\", cv = stf)"
   ]
  },
  {
   "cell_type": "code",
   "execution_count": 82,
   "metadata": {},
   "outputs": [
    {
     "data": {
      "text/plain": [
       "0.6481013570931551"
      ]
     },
     "execution_count": 82,
     "metadata": {},
     "output_type": "execute_result"
    }
   ],
   "source": [
    "score.mean()"
   ]
  },
  {
   "cell_type": "code",
   "execution_count": 83,
   "metadata": {},
   "outputs": [],
   "source": [
    "qda.fit(X_train,y_train)\n",
    "pred_y = qda.predict(X_test)"
   ]
  },
  {
   "cell_type": "code",
   "execution_count": 84,
   "metadata": {
    "scrolled": true
   },
   "outputs": [
    {
     "name": "stdout",
     "output_type": "stream",
     "text": [
      "F1 : 0.146\n",
      "ROC AUC : 0.523\n"
     ]
    }
   ],
   "source": [
    "print(\"F1 : %.3f\" % f1_score(y_test, pred_y, average = 'micro'))\n",
    "print(\"ROC AUC : %.3f\" % roc_auc_score(y_test, pred_y))"
   ]
  },
  {
   "cell_type": "code",
   "execution_count": 85,
   "metadata": {},
   "outputs": [
    {
     "data": {
      "image/png": "[encoded data removed]",
      "text/plain": [
       "<Figure size 432x288 with 1 Axes>"
      ]
     },
     "metadata": {
      "needs_background": "light"
     },
     "output_type": "display_data"
    }
   ],
   "source": [
    "false_positive_rate1, true_positive_rate1, thresholds = roc_curve(y_test, lda.predict_proba(X_test)[:,1])\n",
    "false_positive_rate2, true_positive_rate2, thresholds = roc_curve(y_test, qda.predict_proba(X_test)[:,1])        \n",
    "plt.clf()\n",
    "plt.plot(false_positive_rate1, true_positive_rate1, label = \"LDA\")\n",
    "plt.plot(false_positive_rate2, true_positive_rate2, label = \"QDA\")\n",
    "plt.xlabel('FPR')\n",
    "plt.ylabel('TPR')\n",
    "plt.title(\"ROC curve for Median - LDA: 0.597, QDA: 0.523\")\n",
    "plt.legend(loc = 4)\n",
    "plt.show()"
   ]
  },
  {
   "cell_type": "markdown",
   "metadata": {},
   "source": [
    "#### ROC curve"
   ]
  },
  {
   "cell_type": "code",
   "execution_count": 9,
   "metadata": {},
   "outputs": [],
   "source": [
    "from sklearn.metrics import roc_curve, roc_auc_score"
   ]
  },
  {
   "cell_type": "code",
   "execution_count": 12,
   "metadata": {},
   "outputs": [
    {
     "data": {
      "image/png": "[encoded data removed]",
      "text/plain": [
       "<Figure size 432x288 with 1 Axes>"
      ]
     },
     "metadata": {
      "needs_background": "light"
     },
     "output_type": "display_data"
    }
   ],
   "source": [
    "lda = lda.fit(X_train, y_train)\n",
    "y2_test_predicted = lda.predict(X_test)\n",
    "        \n",
    "false_positive_rate, true_positive_rate, thresholds = roc_curve(y_test, lda.predict_proba(X_test)[:,1])\n",
    "        \n",
    "plt.clf()\n",
    "plt.plot(false_positive_rate, true_positive_rate)\n",
    "plt.xlabel('FPR')\n",
    "plt.ylabel('TPR')\n",
    "plt.title('ROC curve-' + '-' + str(lda))\n",
    "plt.show()"
   ]
  },
  {
   "cell_type": "code",
   "execution_count": null,
   "metadata": {},
   "outputs": [],
   "source": []
  }
 ],
 "metadata": {
  "kernelspec": {
   "display_name": "Python 3",
   "language": "python",
   "name": "python3"
  },
  "language_info": {
   "codemirror_mode": {
    "name": "ipython",
    "version": 3
   },
   "file_extension": ".py",
   "mimetype": "text/x-python",
   "name": "python",
   "nbconvert_exporter": "python",
   "pygments_lexer": "ipython3",
   "version": "3.7.6"
  }
 },
 "nbformat": 4,
 "nbformat_minor": 4
}
