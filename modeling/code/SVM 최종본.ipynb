{
 "cells": [
  {
   "cell_type": "code",
   "execution_count": 1,
   "metadata": {},
   "outputs": [
    {
     "name": "stderr",
     "output_type": "stream",
     "text": [
      "C:\\Users\\JIC\\Anaconda3\\lib\\site-packages\\sklearn\\ensemble\\weight_boosting.py:29: DeprecationWarning: numpy.core.umath_tests is an internal NumPy module and should not be imported. It will be removed in a future NumPy release.\n",
      "  from numpy.core.umath_tests import inner1d\n"
     ]
    }
   ],
   "source": [
    "import matplotlib.pyplot as plt\n",
    "import imblearn\n",
    "import numpy as np\n",
    "import pandas as pd\n",
    "from sklearn.model_selection import train_test_split\n",
    "from imblearn.over_sampling import SMOTE\n",
    "from sklearn.svm import SVC\n",
    "from sklearn.ensemble import RandomForestClassifier\n",
    "from sklearn.linear_model import LogisticRegression\n",
    "from imblearn.ensemble import BalancedBaggingClassifier\n",
    "from sklearn.tree import DecisionTreeClassifier\n",
    "from sklearn.ensemble import GradientBoostingClassifier\n",
    "from sklearn.metrics import f1_score\n",
    "from sklearn.metrics import roc_curve, roc_auc_score\n",
    "from xgboost import XGBClassifier\n",
    "from xgboost import plot_importance\n",
    "from sklearn.model_selection import cross_val_score\n",
    "from sklearn.model_selection import RepeatedStratifiedKFold\n",
    "from sklearn import metrics"
   ]
  },
  {
   "cell_type": "code",
   "execution_count": 2,
   "metadata": {},
   "outputs": [],
   "source": [
    "datamice= pd.read_csv(\"final_mice.csv\")\n",
    "datamedian= pd.read_csv(\"final_median.csv\")\n",
    "dataknn= pd.read_csv(\"final_knn.csv\")"
   ]
  },
  {
   "cell_type": "code",
   "execution_count": 3,
   "metadata": {},
   "outputs": [],
   "source": [
    "from sklearn.decomposition import PCA"
   ]
  },
  {
   "cell_type": "code",
   "execution_count": 4,
   "metadata": {},
   "outputs": [],
   "source": [
    "X_train, X_test, y_train, y_test = train_test_split(datamice.iloc[:, 0:(datamice.shape[1]-1)], datamice['class'], test_size=0.3, random_state= 1)"
   ]
  },
  {
   "cell_type": "code",
   "execution_count": 5,
   "metadata": {},
   "outputs": [],
   "source": [
    "svm = SVC(kernel='rbf', C=10, random_state=1, probability = True)"
   ]
  },
  {
   "cell_type": "code",
   "execution_count": 6,
   "metadata": {},
   "outputs": [],
   "source": [
    "re_stf = RepeatedStratifiedKFold(n_splits = 10, n_repeats = 3, random_state = 1)\n",
    "scores = cross_val_score(svm, X_train, y_train, scoring = \"f1_micro\", cv = re_stf)"
   ]
  },
  {
   "cell_type": "code",
   "execution_count": 7,
   "metadata": {
    "scrolled": true
   },
   "outputs": [
    {
     "name": "stdout",
     "output_type": "stream",
     "text": [
      "Mean CV F1 : 0.954\n"
     ]
    }
   ],
   "source": [
    "print(\"Mean CV F1 : %.3f\"% np.mean(scores))"
   ]
  },
  {
   "cell_type": "code",
   "execution_count": 8,
   "metadata": {},
   "outputs": [],
   "source": [
    "from sklearn.metrics import roc_auc_score"
   ]
  },
  {
   "cell_type": "code",
   "execution_count": 9,
   "metadata": {},
   "outputs": [],
   "source": [
    "svm.fit(X_train,y_train)\n",
    "pred_y = svm.predict(X_test)"
   ]
  },
  {
   "cell_type": "code",
   "execution_count": 10,
   "metadata": {},
   "outputs": [],
   "source": [
    "from sklearn.metrics import precision_score, recall_score, f1_score"
   ]
  },
  {
   "cell_type": "code",
   "execution_count": 11,
   "metadata": {},
   "outputs": [
    {
     "name": "stdout",
     "output_type": "stream",
     "text": [
      "F1 : 0.947\n",
      "ROC AUC : 0.591\n"
     ]
    }
   ],
   "source": [
    "print(\"F1 : %.3f\" % f1_score(y_test, pred_y, average = 'micro'))\n",
    "print(\"ROC AUC : %.3f\" % roc_auc_score(y_test, pred_y))"
   ]
  },
  {
   "cell_type": "code",
   "execution_count": 12,
   "metadata": {},
   "outputs": [],
   "source": [
    "X2_train, X2_test, y2_train, y2_test = train_test_split(datamedian.iloc[:, 0:(datamedian.shape[1]-1)], datamedian['class'], test_size=0.3, random_state= 1)"
   ]
  },
  {
   "cell_type": "code",
   "execution_count": 13,
   "metadata": {},
   "outputs": [],
   "source": [
    "re_stf2 = RepeatedStratifiedKFold(n_splits = 10, n_repeats = 3, random_state = 1)\n",
    "scores2 = cross_val_score(svm, X2_train, y2_train, scoring = \"f1_micro\", cv = re_stf2)"
   ]
  },
  {
   "cell_type": "code",
   "execution_count": 14,
   "metadata": {},
   "outputs": [
    {
     "name": "stdout",
     "output_type": "stream",
     "text": [
      "Mean CV F1 : 0.951\n"
     ]
    }
   ],
   "source": [
    "print(\"Mean CV F1 : %.3f\"% np.mean(scores2))"
   ]
  },
  {
   "cell_type": "code",
   "execution_count": 15,
   "metadata": {},
   "outputs": [],
   "source": [
    "svm.fit(X2_train,y2_train)\n",
    "pred_y2 = svm.predict(X2_test)"
   ]
  },
  {
   "cell_type": "code",
   "execution_count": 16,
   "metadata": {},
   "outputs": [
    {
     "name": "stdout",
     "output_type": "stream",
     "text": [
      "F1 : 0.956\n",
      "ROC AUC : 0.613\n"
     ]
    }
   ],
   "source": [
    "print(\"F1 : %.3f\" % f1_score(y2_test, pred_y2, average = 'micro'))\n",
    "print(\"ROC AUC : %.3f\" % roc_auc_score(y2_test, pred_y2))"
   ]
  },
  {
   "cell_type": "markdown",
   "metadata": {},
   "source": [
    "median 자료로 imputated했을 때, ROC 및 F1 값이 가장 좋게 나왔다. smote, pipeline+smote를 이용한 것보다 그 자체로 이용한 것이 오히려 이 수치들이 더 높게 나온 것을 확인할 수 있다."
   ]
  },
  {
   "cell_type": "code",
   "execution_count": 17,
   "metadata": {},
   "outputs": [],
   "source": [
    "X3_train, X3_test, y3_train, y3_test = train_test_split(dataknn.iloc[:, 0:(dataknn.shape[1]-1)], dataknn['class'], test_size=0.3, random_state= 1)"
   ]
  },
  {
   "cell_type": "code",
   "execution_count": 18,
   "metadata": {},
   "outputs": [],
   "source": [
    "re_stf3 = RepeatedStratifiedKFold(n_splits = 10, n_repeats = 3, random_state = 1)\n",
    "scores3 = cross_val_score(svm, X3_train, y3_train, scoring = \"f1_micro\", cv = re_stf3)"
   ]
  },
  {
   "cell_type": "code",
   "execution_count": 19,
   "metadata": {},
   "outputs": [
    {
     "name": "stdout",
     "output_type": "stream",
     "text": [
      "Mean CV F1 : 0.954\n"
     ]
    }
   ],
   "source": [
    "print(\"Mean CV F1 : %.3f\"% np.mean(scores3))"
   ]
  },
  {
   "cell_type": "code",
   "execution_count": 20,
   "metadata": {},
   "outputs": [],
   "source": [
    "svm.fit(X3_train,y3_train)\n",
    "pred_y3 = svm.predict(X3_test)"
   ]
  },
  {
   "cell_type": "code",
   "execution_count": 21,
   "metadata": {},
   "outputs": [
    {
     "name": "stdout",
     "output_type": "stream",
     "text": [
      "F1 : 0.948\n",
      "ROC AUC : 0.580\n"
     ]
    }
   ],
   "source": [
    "print(\"F1 : %.3f\" % f1_score(y3_test, pred_y3, average = 'micro'))\n",
    "print(\"ROC AUC : %.3f\" % roc_auc_score(y3_test, pred_y3))"
   ]
  },
  {
   "cell_type": "code",
   "execution_count": 22,
   "metadata": {},
   "outputs": [
    {
     "name": "stderr",
     "output_type": "stream",
     "text": [
      "C:\\Users\\JIC\\Anaconda3\\lib\\site-packages\\sklearn\\feature_extraction\\text.py:17: DeprecationWarning: Using or importing the ABCs from 'collections' instead of from 'collections.abc' is deprecated since Python 3.3,and in 3.9 it will stop working\n",
      "  from collections import Mapping, defaultdict\n"
     ]
    }
   ],
   "source": [
    "from sklearn.datasets import load_digits\n",
    "from sklearn.model_selection import validation_curve"
   ]
  },
  {
   "cell_type": "code",
   "execution_count": 23,
   "metadata": {},
   "outputs": [],
   "source": [
    "from sklearn.model_selection import GridSearchCV\n",
    "from sklearn.pipeline import Pipeline\n",
    "from sklearn.preprocessing import StandardScaler"
   ]
  },
  {
   "cell_type": "code",
   "execution_count": 24,
   "metadata": {},
   "outputs": [],
   "source": [
    "pipe_svc = Pipeline([('scl', StandardScaler()), ('clf', SVC(random_state=1))])"
   ]
  },
  {
   "cell_type": "code",
   "execution_count": 25,
   "metadata": {},
   "outputs": [
    {
     "name": "stdout",
     "output_type": "stream",
     "text": [
      "Mean CV F1 : 0.957\n"
     ]
    }
   ],
   "source": [
    "scores4 = cross_val_score(pipe_svc, X_train, y_train, scoring = \"f1_micro\", cv = re_stf)\n",
    "print(\"Mean CV F1 : %.3f\"% np.mean(scores4))"
   ]
  },
  {
   "cell_type": "code",
   "execution_count": 26,
   "metadata": {},
   "outputs": [
    {
     "name": "stdout",
     "output_type": "stream",
     "text": [
      "Mean CV ROC_AUC : 0.728\n"
     ]
    }
   ],
   "source": [
    "scores5 = cross_val_score(pipe_svc, X_train, y_train, scoring = \"roc_auc\", cv = re_stf)\n",
    "print(\"Mean CV ROC_AUC : %.3f\"% np.mean(scores5))"
   ]
  },
  {
   "cell_type": "code",
   "execution_count": 27,
   "metadata": {},
   "outputs": [],
   "source": [
    "pipe_svc.fit(X_train, y_train)\n",
    "pred_y4 = pipe_svc.predict(X_test)"
   ]
  },
  {
   "cell_type": "code",
   "execution_count": 28,
   "metadata": {},
   "outputs": [
    {
     "name": "stdout",
     "output_type": "stream",
     "text": [
      "F1 : 0.948\n",
      "ROC AUC : 0.584\n"
     ]
    }
   ],
   "source": [
    "print(\"F1 : %.3f\" % f1_score(y_test, pred_y4, average = 'micro'))\n",
    "print(\"ROC AUC : %.3f\" % roc_auc_score(y_test, pred_y4))"
   ]
  },
  {
   "cell_type": "code",
   "execution_count": 29,
   "metadata": {},
   "outputs": [],
   "source": [
    "from imblearn.under_sampling import RandomUnderSampler\n",
    "from sklearn.model_selection import RepeatedStratifiedKFold"
   ]
  },
  {
   "cell_type": "code",
   "execution_count": 30,
   "metadata": {},
   "outputs": [],
   "source": [
    "sm = SMOTE()\n",
    "X_train_sm, Y_train_sm = sm.fit_sample(X_train, y_train)"
   ]
  },
  {
   "cell_type": "code",
   "execution_count": 31,
   "metadata": {},
   "outputs": [],
   "source": [
    "svms= SVC(kernel='rbf',random_state=1)"
   ]
  },
  {
   "cell_type": "code",
   "execution_count": 32,
   "metadata": {},
   "outputs": [],
   "source": [
    "def grid_smote_search(lst, svms) :\n",
    "    \n",
    "    for k in lst:\n",
    "        over4 = SMOTE(k_neighbors = k)\n",
    "        under4 = RandomUnderSampler()\n",
    "        steps4 = [(\"over\", over4), (\"under\", under4), (\"model\", svms)]\n",
    "        pipeline4 = Pipeline(steps = steps4)\n",
    "\n",
    "        print(\"\\n------- k = \", k,\"-------\")\n",
    "        f1_scores4 = cross_val_score(pipeline4, X_train, Y_train, scoring = \"f1_micro\", cv = re_stf)\n",
    "        print(\"Mean F1 : %.3f\" % (np.mean(f1_scores4)))\n",
    "        roc_scores4 = cross_val_score(pipeline4, X_train, Y_train, scoring = \"roc_auc\", cv = re_stf)\n",
    "        print(\"Mean ROC AUC : %.3f\" % (np.mean(roc_scores4)))\n",
    "\n",
    "        pipeline4.fit(X_train, Y_train)\n",
    "        pred_y4 = pipeline4.predict(X_test)\n",
    "        print(\"\\nF1 : %.3f\" % f1_score(Y_test, pred_y4, average = 'micro'))\n",
    "        print(\"ROC AUC : %.3f\" % roc_auc_score(Y_test, pred_y4))"
   ]
  },
  {
   "cell_type": "code",
   "execution_count": 33,
   "metadata": {},
   "outputs": [],
   "source": [
    "from sklearn.model_selection import GridSearchCV\n",
    "k_values = [1,2,3,4,5,6,7,8]\n",
    "n_estimators = [200]\n",
    "learning_rate = [0.001, 0.005, 0.01, 0.05, 0.1]\n",
    "svm_greedy_model = SVC(kernel='rbf',random_state=1)"
   ]
  },
  {
   "cell_type": "code",
   "execution_count": 34,
   "metadata": {},
   "outputs": [
    {
     "name": "stdout",
     "output_type": "stream",
     "text": [
      "Wall time: 1h 4min 22s\n"
     ]
    }
   ],
   "source": [
    "from sklearn.model_selection import GridSearchCV\n",
    "from sklearn.pipeline import Pipeline\n",
    "from sklearn.preprocessing import StandardScaler\n",
    "from sklearn.svm import SVC\n",
    "\n",
    "pipe_svc = Pipeline([('scl', StandardScaler()), ('clf', SVC(random_state=1))])\n",
    "\n",
    "param_range = [0.0001, 0.001, 0.01, 0.1, 1.0, 10.0, 100.0, 1000.0]\n",
    "param_grid = [\n",
    "    {'clf__C': param_range, 'clf__gamma': param_range, 'clf__kernel': ['rbf']}]\n",
    "\n",
    "gs = GridSearchCV(estimator=pipe_svc, param_grid=param_grid, scoring='accuracy', cv=10, n_jobs=4)\n",
    "%time gs = gs.fit(X_train_sm, Y_train_sm)"
   ]
  },
  {
   "cell_type": "code",
   "execution_count": 35,
   "metadata": {},
   "outputs": [
    {
     "data": {
      "text/plain": [
       "array([0.62714852, 0.64345527, 0.6906126 , 0.68554429, 0.5947554 ,\n",
       "       0.51267078, 0.50550903, 0.52258704, 0.62714852, 0.64345527,\n",
       "       0.6906126 , 0.68554429, 0.5947554 , 0.51267078, 0.50550903,\n",
       "       0.52258704, 0.62714852, 0.62703834, 0.7031732 , 0.74151609,\n",
       "       0.60257823, 0.51267078, 0.50550903, 0.52258704, 0.54947113,\n",
       "       0.7089026 , 0.74206699, 0.79914059, 0.83957691, 0.56346408,\n",
       "       0.50550903, 0.52258704, 0.70537682, 0.73479506, 0.78746144,\n",
       "       0.88651388, 0.95614808, 0.88122521, 0.74746584, 0.62769943,\n",
       "       0.72983693, 0.76740855, 0.82150727, 0.93234905, 0.96386073,\n",
       "       0.89136183, 0.76090789, 0.63761569, 0.76101807, 0.7979286 ,\n",
       "       0.8635963 , 0.95769061, 0.96253856, 0.89103129, 0.76057735,\n",
       "       0.63750551, 0.78107096, 0.82062583, 0.91527104, 0.96011459,\n",
       "       0.96198766, 0.89048039, 0.76057735, 0.63739533])"
      ]
     },
     "execution_count": 35,
     "metadata": {},
     "output_type": "execute_result"
    }
   ],
   "source": [
    "gs.cv_results_['mean_test_score']"
   ]
  },
  {
   "cell_type": "code",
   "execution_count": 36,
   "metadata": {},
   "outputs": [
    {
     "data": {
      "text/plain": [
       "0.9638607315998237"
      ]
     },
     "execution_count": 36,
     "metadata": {},
     "output_type": "execute_result"
    }
   ],
   "source": [
    "gs.best_score_"
   ]
  },
  {
   "cell_type": "code",
   "execution_count": 37,
   "metadata": {},
   "outputs": [
    {
     "data": {
      "text/plain": [
       "{'clf__C': 10.0, 'clf__gamma': 1.0, 'clf__kernel': 'rbf'}"
      ]
     },
     "execution_count": 37,
     "metadata": {},
     "output_type": "execute_result"
    }
   ],
   "source": [
    "gs.best_params_"
   ]
  },
  {
   "cell_type": "code",
   "execution_count": 38,
   "metadata": {},
   "outputs": [],
   "source": [
    "pipe_svc2 = Pipeline([('scl', StandardScaler()), ('clf', SVC(random_state=1))])"
   ]
  },
  {
   "cell_type": "code",
   "execution_count": 39,
   "metadata": {},
   "outputs": [
    {
     "name": "stdout",
     "output_type": "stream",
     "text": [
      "Mean CV F1 : 0.953\n"
     ]
    }
   ],
   "source": [
    "scores6 = cross_val_score(pipe_svc2, X2_train, y2_train, scoring = \"f1_micro\", cv = re_stf2)\n",
    "print(\"Mean CV F1 : %.3f\"% np.mean(scores6))"
   ]
  },
  {
   "cell_type": "code",
   "execution_count": 40,
   "metadata": {},
   "outputs": [
    {
     "name": "stdout",
     "output_type": "stream",
     "text": [
      "Mean CV F1 : 0.953\n"
     ]
    }
   ],
   "source": [
    "scores7 = cross_val_score(pipe_svc2, X2_train, y2_train, scoring = \"f1_micro\", cv = re_stf2)\n",
    "print(\"Mean CV F1 : %.3f\"% np.mean(scores7))"
   ]
  },
  {
   "cell_type": "code",
   "execution_count": 41,
   "metadata": {},
   "outputs": [],
   "source": [
    "pipe_svc2.fit(X2_train, y2_train)\n",
    "pred_y5 = pipe_svc2.predict(X2_test)"
   ]
  },
  {
   "cell_type": "code",
   "execution_count": 42,
   "metadata": {},
   "outputs": [
    {
     "name": "stdout",
     "output_type": "stream",
     "text": [
      "F1 : 0.957\n",
      "ROC AUC : 0.609\n"
     ]
    }
   ],
   "source": [
    "print(\"F1 : %.3f\" % f1_score(y2_test, pred_y5, average = 'micro'))\n",
    "print(\"ROC AUC : %.3f\" % roc_auc_score(y2_test, pred_y5))"
   ]
  },
  {
   "cell_type": "code",
   "execution_count": 43,
   "metadata": {},
   "outputs": [],
   "source": [
    "sm = SMOTE()\n",
    "X2_train_sm, Y2_train_sm = sm.fit_sample(X2_train, y2_train)"
   ]
  },
  {
   "cell_type": "code",
   "execution_count": 47,
   "metadata": {},
   "outputs": [
    {
     "name": "stdout",
     "output_type": "stream",
     "text": [
      "Wall time: 1h 36min 59s\n"
     ]
    }
   ],
   "source": [
    "from sklearn.model_selection import GridSearchCV\n",
    "from sklearn.pipeline import Pipeline\n",
    "from sklearn.preprocessing import StandardScaler\n",
    "from sklearn.svm import SVC\n",
    "pipe_svc2 = Pipeline([('scl', StandardScaler()), ('clf', SVC(random_state=1))])\n",
    "\n",
    "param_range = [0.0001, 0.001, 0.01, 0.1, 1.0, 10.0, 100.0, 1000.0]\n",
    "param_grid = [\n",
    "    {'clf__C': param_range, 'clf__gamma': param_range, 'clf__kernel': ['rbf']}]\n",
    "\n",
    "gs2 = GridSearchCV(estimator=pipe_svc2, param_grid=param_grid, scoring='accuracy', cv=10, n_jobs=4)\n",
    "%time gs2 = gs2.fit(X2_train_sm, Y2_train_sm)"
   ]
  },
  {
   "cell_type": "code",
   "execution_count": 48,
   "metadata": {},
   "outputs": [
    {
     "data": {
      "text/plain": [
       "array([0.61725664, 0.6380531 , 0.67223451, 0.66117257, 0.5994469 ,\n",
       "       0.52267699, 0.50519912, 0.50132743, 0.61725664, 0.6380531 ,\n",
       "       0.67223451, 0.66117257, 0.5994469 , 0.52267699, 0.50519912,\n",
       "       0.50132743, 0.61725664, 0.6164823 , 0.67975664, 0.68628319,\n",
       "       0.5994469 , 0.52267699, 0.50519912, 0.50132743, 0.60608407,\n",
       "       0.69015487, 0.72201327, 0.78053097, 0.82068584, 0.55320796,\n",
       "       0.50519912, 0.50132743, 0.68761062, 0.70884956, 0.76172566,\n",
       "       0.87610619, 0.95044248, 0.85276549, 0.72754425, 0.61050885,\n",
       "       0.70232301, 0.73849558, 0.79977876, 0.92986726, 0.95641593,\n",
       "       0.86637168, 0.74037611, 0.61725664, 0.73030973, 0.76902655,\n",
       "       0.85752212, 0.95530973, 0.95597345, 0.86570796, 0.74004425,\n",
       "       0.61725664, 0.74480088, 0.80099558, 0.9164823 , 0.95973451,\n",
       "       0.95486726, 0.86548673, 0.74004425, 0.61736726])"
      ]
     },
     "execution_count": 48,
     "metadata": {},
     "output_type": "execute_result"
    }
   ],
   "source": [
    "gs2.cv_results_['mean_test_score']"
   ]
  },
  {
   "cell_type": "code",
   "execution_count": 49,
   "metadata": {},
   "outputs": [
    {
     "data": {
      "text/plain": [
       "0.9597345132743362"
      ]
     },
     "execution_count": 49,
     "metadata": {},
     "output_type": "execute_result"
    }
   ],
   "source": [
    "gs2.best_score_"
   ]
  },
  {
   "cell_type": "code",
   "execution_count": 50,
   "metadata": {},
   "outputs": [
    {
     "data": {
      "text/plain": [
       "{'clf__C': 1000.0, 'clf__gamma': 0.1, 'clf__kernel': 'rbf'}"
      ]
     },
     "execution_count": 50,
     "metadata": {},
     "output_type": "execute_result"
    }
   ],
   "source": [
    "gs2.best_params_"
   ]
  },
  {
   "cell_type": "code",
   "execution_count": 51,
   "metadata": {},
   "outputs": [],
   "source": [
    "sm = SMOTE()\n",
    "X3_train_sm, Y3_train_sm = sm.fit_sample(X3_train, y3_train)"
   ]
  },
  {
   "cell_type": "code",
   "execution_count": 52,
   "metadata": {},
   "outputs": [
    {
     "name": "stdout",
     "output_type": "stream",
     "text": [
      "Wall time: 1h 25min 9s\n"
     ]
    }
   ],
   "source": [
    "from sklearn.model_selection import GridSearchCV\n",
    "from sklearn.pipeline import Pipeline\n",
    "from sklearn.preprocessing import StandardScaler\n",
    "from sklearn.svm import SVC\n",
    "pipe_svc3 = Pipeline([('scl', StandardScaler()), ('clf', SVC(random_state=1))])\n",
    "\n",
    "param_range = [0.0001, 0.001, 0.01, 0.1, 1.0, 10.0, 100.0, 1000.0]\n",
    "param_grid = [\n",
    "    {'clf__C': param_range, 'clf__gamma': param_range, 'clf__kernel': ['rbf']}]\n",
    "\n",
    "gs3= GridSearchCV(estimator=pipe_svc3, param_grid=param_grid, scoring='accuracy', cv=10, n_jobs=4)\n",
    "%time gs3 = gs3.fit(X3_train_sm, Y3_train_sm)"
   ]
  },
  {
   "cell_type": "code",
   "execution_count": 53,
   "metadata": {},
   "outputs": [
    {
     "data": {
      "text/plain": [
       "array([0.60072977, 0.68752764, 0.68222026, 0.68498452, 0.62925697,\n",
       "       0.51735958, 0.50796108, 0.50132685, 0.60072977, 0.68752764,\n",
       "       0.68222026, 0.68498452, 0.62925697, 0.51735958, 0.50796108,\n",
       "       0.50132685, 0.60072977, 0.68752764, 0.69692614, 0.70654578,\n",
       "       0.6208536 , 0.51735958, 0.50796108, 0.50132685, 0.68078284,\n",
       "       0.70190181, 0.73562583, 0.80937638, 0.85957541, 0.55152587,\n",
       "       0.50796108, 0.50132685, 0.69792127, 0.73076073, 0.78781513,\n",
       "       0.89573198, 0.95643521, 0.86377709, 0.73142415, 0.61709421,\n",
       "       0.72655904, 0.76149934, 0.82408226, 0.94161875, 0.9609686 ,\n",
       "       0.875387  , 0.74458204, 0.6272667 , 0.74745688, 0.79245909,\n",
       "       0.8802521 , 0.95964175, 0.95964175, 0.87516586, 0.74447147,\n",
       "       0.6272667 , 0.77432552, 0.82607253, 0.92326404, 0.96273773,\n",
       "       0.95875719, 0.87494471, 0.74447147, 0.6272667 ])"
      ]
     },
     "execution_count": 53,
     "metadata": {},
     "output_type": "execute_result"
    }
   ],
   "source": [
    "gs3.cv_results_['mean_test_score']"
   ]
  },
  {
   "cell_type": "code",
   "execution_count": 54,
   "metadata": {},
   "outputs": [
    {
     "data": {
      "text/plain": [
       "0.9627377266696152"
      ]
     },
     "execution_count": 54,
     "metadata": {},
     "output_type": "execute_result"
    }
   ],
   "source": [
    "gs3.best_score_"
   ]
  },
  {
   "cell_type": "code",
   "execution_count": 55,
   "metadata": {},
   "outputs": [
    {
     "data": {
      "text/plain": [
       "{'clf__C': 1000.0, 'clf__gamma': 0.1, 'clf__kernel': 'rbf'}"
      ]
     },
     "execution_count": 55,
     "metadata": {},
     "output_type": "execute_result"
    }
   ],
   "source": [
    "gs3.best_params_"
   ]
  },
  {
   "cell_type": "code",
   "execution_count": 56,
   "metadata": {},
   "outputs": [],
   "source": [
    "pipe_svc3 = Pipeline([('scl', StandardScaler()), ('clf', SVC(random_state=1))])"
   ]
  },
  {
   "cell_type": "code",
   "execution_count": 57,
   "metadata": {},
   "outputs": [
    {
     "name": "stdout",
     "output_type": "stream",
     "text": [
      "Mean CV F1 : 0.955\n"
     ]
    }
   ],
   "source": [
    "scores8 = cross_val_score(pipe_svc3, X3_train, y3_train, scoring = \"f1_micro\", cv = re_stf3)\n",
    "print(\"Mean CV F1 : %.3f\"% np.mean(scores8))"
   ]
  },
  {
   "cell_type": "code",
   "execution_count": 58,
   "metadata": {},
   "outputs": [
    {
     "name": "stdout",
     "output_type": "stream",
     "text": [
      "Mean CV ROC_AUC : 0.692\n"
     ]
    }
   ],
   "source": [
    "scores9 = cross_val_score(pipe_svc3, X3_train, y3_train, scoring = \"roc_auc\", cv = re_stf3)\n",
    "print(\"Mean CV ROC_AUC : %.3f\"% np.mean(scores9))"
   ]
  },
  {
   "cell_type": "code",
   "execution_count": 59,
   "metadata": {},
   "outputs": [],
   "source": [
    "pipe_svc3.fit(X3_train, y3_train)\n",
    "pred_y6 = pipe_svc3.predict(X3_test)"
   ]
  },
  {
   "cell_type": "code",
   "execution_count": 60,
   "metadata": {},
   "outputs": [
    {
     "name": "stdout",
     "output_type": "stream",
     "text": [
      "F1 : 0.951\n",
      "ROC AUC : 0.577\n"
     ]
    }
   ],
   "source": [
    "print(\"F1 : %.3f\" % f1_score(y3_test, pred_y6, average = 'micro'))\n",
    "print(\"ROC AUC : %.3f\" % roc_auc_score(y3_test, pred_y6))"
   ]
  },
  {
   "cell_type": "code",
   "execution_count": 67,
   "metadata": {},
   "outputs": [],
   "source": [
    "svm4 = SVC(kernel='rbf', C=1000, random_state=1, gamma=1.0, probability = True)"
   ]
  },
  {
   "cell_type": "code",
   "execution_count": 68,
   "metadata": {},
   "outputs": [],
   "source": [
    "scores10 = cross_val_score(svm4, X2_train, y2_train, scoring = \"f1_micro\", cv = re_stf2)"
   ]
  },
  {
   "cell_type": "code",
   "execution_count": 69,
   "metadata": {},
   "outputs": [],
   "source": [
    "svm4.fit(X2_train,y2_train)\n",
    "pred_y7 = svm4.predict(X2_test)"
   ]
  },
  {
   "cell_type": "code",
   "execution_count": 70,
   "metadata": {},
   "outputs": [
    {
     "name": "stdout",
     "output_type": "stream",
     "text": [
      "F1 : 0.938\n",
      "ROC AUC : 0.500\n"
     ]
    }
   ],
   "source": [
    "print(\"F1 : %.3f\" % f1_score(y2_test, pred_y7, average = 'micro'))\n",
    "print(\"ROC AUC : %.3f\" % roc_auc_score(y2_test, pred_y7))"
   ]
  },
  {
   "cell_type": "code",
   "execution_count": 71,
   "metadata": {},
   "outputs": [
    {
     "name": "stdout",
     "output_type": "stream",
     "text": [
      "Mean CV F1 : 0.937\n"
     ]
    }
   ],
   "source": [
    "print(\"Mean CV F1 : %.3f\"% np.mean(scores10))"
   ]
  },
  {
   "cell_type": "code",
   "execution_count": 73,
   "metadata": {},
   "outputs": [],
   "source": [
    "svm5 = SVC(kernel='rbf', C=1000, random_state=1, gamma=0.1, probability = True)"
   ]
  },
  {
   "cell_type": "code",
   "execution_count": 74,
   "metadata": {},
   "outputs": [],
   "source": [
    "scores11 = cross_val_score(svm5, X3_train, y3_train, scoring = \"f1_micro\", cv = re_stf3)"
   ]
  },
  {
   "cell_type": "code",
   "execution_count": 75,
   "metadata": {},
   "outputs": [],
   "source": [
    "svm5.fit(X3_train,y3_train)\n",
    "pred_y8 = svm5.predict(X3_test)"
   ]
  },
  {
   "cell_type": "code",
   "execution_count": 76,
   "metadata": {},
   "outputs": [
    {
     "name": "stdout",
     "output_type": "stream",
     "text": [
      "F1 : 0.915\n",
      "ROC AUC : 0.566\n"
     ]
    }
   ],
   "source": [
    "print(\"F1 : %.3f\" % f1_score(y3_test, pred_y8, average = 'micro'))\n",
    "print(\"ROC AUC : %.3f\" % roc_auc_score(y3_test, pred_y8))"
   ]
  },
  {
   "cell_type": "code",
   "execution_count": 77,
   "metadata": {},
   "outputs": [
    {
     "name": "stdout",
     "output_type": "stream",
     "text": [
      "Mean CV F1 : 0.922\n"
     ]
    }
   ],
   "source": [
    "print(\"Mean CV F1 : %.3f\"% np.mean(scores11))"
   ]
  },
  {
   "cell_type": "code",
   "execution_count": 78,
   "metadata": {},
   "outputs": [],
   "source": [
    "pipe_svc4 = Pipeline([('scl', StandardScaler()), ('clf',SVC(kernel='rbf', C=1000, random_state=1, gamma=1.0, probability = True))])"
   ]
  },
  {
   "cell_type": "code",
   "execution_count": 79,
   "metadata": {},
   "outputs": [
    {
     "name": "stdout",
     "output_type": "stream",
     "text": [
      "Mean CV F1 : 0.937\n"
     ]
    }
   ],
   "source": [
    "scores12 = cross_val_score(pipe_svc4, X2_train, y2_train, scoring = \"f1_micro\", cv = re_stf2)\n",
    "print(\"Mean CV F1 : %.3f\"% np.mean(scores12))"
   ]
  },
  {
   "cell_type": "code",
   "execution_count": 80,
   "metadata": {},
   "outputs": [
    {
     "name": "stdout",
     "output_type": "stream",
     "text": [
      "Mean CV F1 : 0.937\n"
     ]
    }
   ],
   "source": [
    "scores13 = cross_val_score(pipe_svc4, X2_train, y2_train, scoring = \"f1_micro\", cv = re_stf2)\n",
    "print(\"Mean CV F1 : %.3f\"% np.mean(scores13))"
   ]
  },
  {
   "cell_type": "code",
   "execution_count": 81,
   "metadata": {},
   "outputs": [],
   "source": [
    "pipe_svc4.fit(X2_train, y2_train)\n",
    "pred_y9 = pipe_svc4.predict(X2_test)"
   ]
  },
  {
   "cell_type": "code",
   "execution_count": 82,
   "metadata": {},
   "outputs": [
    {
     "name": "stdout",
     "output_type": "stream",
     "text": [
      "F1 : 0.938\n",
      "ROC AUC : 0.508\n"
     ]
    }
   ],
   "source": [
    "print(\"F1 : %.3f\" % f1_score(y2_test, pred_y9, average = 'micro'))\n",
    "print(\"ROC AUC : %.3f\" % roc_auc_score(y2_test, pred_y9))"
   ]
  },
  {
   "cell_type": "code",
   "execution_count": 83,
   "metadata": {},
   "outputs": [],
   "source": [
    "sm2 = SMOTE()\n",
    "X2_train_sm, Y2_train_sm = sm2.fit_sample(X2_train, y2_train)"
   ]
  },
  {
   "cell_type": "code",
   "execution_count": 84,
   "metadata": {},
   "outputs": [],
   "source": [
    "pipe_svc4.fit(X2_train_sm, Y2_train_sm)\n",
    "pred_y9 = pipe_svc4.predict(X2_test)"
   ]
  },
  {
   "cell_type": "code",
   "execution_count": 85,
   "metadata": {},
   "outputs": [
    {
     "name": "stdout",
     "output_type": "stream",
     "text": [
      "F1 : 0.925\n",
      "ROC AUC : 0.545\n"
     ]
    }
   ],
   "source": [
    "print(\"F1 : %.3f\" % f1_score(y2_test, pred_y9, average = 'micro'))\n",
    "print(\"ROC AUC : %.3f\" % roc_auc_score(y2_test, pred_y9))"
   ]
  },
  {
   "cell_type": "code",
   "execution_count": 86,
   "metadata": {},
   "outputs": [],
   "source": [
    "pipe_svc5 = Pipeline([('scl', StandardScaler()), ('clf',SVC(kernel='rbf', C=1000, random_state=1, gamma=0.1, probability = True))])"
   ]
  },
  {
   "cell_type": "code",
   "execution_count": 87,
   "metadata": {},
   "outputs": [
    {
     "name": "stdout",
     "output_type": "stream",
     "text": [
      "Mean CV F1 : 0.923\n"
     ]
    }
   ],
   "source": [
    "scores14 = cross_val_score(pipe_svc5, X3_train, y3_train, scoring = \"f1_micro\", cv = re_stf3)\n",
    "print(\"Mean CV F1 : %.3f\"% np.mean(scores14))"
   ]
  },
  {
   "cell_type": "code",
   "execution_count": 88,
   "metadata": {},
   "outputs": [],
   "source": [
    "pipe_svc5.fit(X3_train, y3_train)\n",
    "pred_y10 = pipe_svc5.predict(X3_test)"
   ]
  },
  {
   "cell_type": "code",
   "execution_count": 89,
   "metadata": {},
   "outputs": [
    {
     "name": "stdout",
     "output_type": "stream",
     "text": [
      "F1 : 0.920\n",
      "ROC AUC : 0.585\n"
     ]
    }
   ],
   "source": [
    "print(\"F1 : %.3f\" % f1_score(y3_test, pred_y10, average = 'micro'))\n",
    "print(\"ROC AUC : %.3f\" % roc_auc_score(y3_test, pred_y10))"
   ]
  },
  {
   "cell_type": "code",
   "execution_count": 90,
   "metadata": {},
   "outputs": [],
   "source": [
    "sm3 = SMOTE()\n",
    "X3_train_sm, Y3_train_sm = sm3.fit_sample(X3_train, y3_train)"
   ]
  },
  {
   "cell_type": "code",
   "execution_count": 91,
   "metadata": {},
   "outputs": [],
   "source": [
    "pipe_svc5.fit(X3_train_sm, Y3_train_sm)\n",
    "pred_y11 = pipe_svc5.predict(X3_test)"
   ]
  },
  {
   "cell_type": "code",
   "execution_count": 92,
   "metadata": {},
   "outputs": [
    {
     "name": "stdout",
     "output_type": "stream",
     "text": [
      "F1 : 0.908\n",
      "ROC AUC : 0.603\n"
     ]
    }
   ],
   "source": [
    "print(\"F1 : %.3f\" % f1_score(y3_test, pred_y11, average = 'micro'))\n",
    "print(\"ROC AUC : %.3f\" % roc_auc_score(y3_test, pred_y11))"
   ]
  }
 ],
 "metadata": {
  "kernelspec": {
   "display_name": "Python 3",
   "language": "python",
   "name": "python3"
  },
  "language_info": {
   "codemirror_mode": {
    "name": "ipython",
    "version": 3
   },
   "file_extension": ".py",
   "mimetype": "text/x-python",
   "name": "python",
   "nbconvert_exporter": "python",
   "pygments_lexer": "ipython3",
   "version": "3.7.7"
  }
 },
 "nbformat": 4,
 "nbformat_minor": 4
}
