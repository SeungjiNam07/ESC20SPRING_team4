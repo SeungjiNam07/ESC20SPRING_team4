{
 "cells": [
  {
   "cell_type": "code",
   "execution_count": 1,
   "metadata": {},
   "outputs": [],
   "source": [
    "import imblearn\n",
    "import numpy as np\n",
    "import pandas as pd\n",
    "import matplotlib.pyplot as plt\n",
    "import seaborn as sns"
   ]
  },
  {
   "cell_type": "code",
   "execution_count": 2,
   "metadata": {},
   "outputs": [],
   "source": [
    "data = pd.read_csv(\"median_scaled.csv\")"
   ]
  },
  {
   "cell_type": "code",
   "execution_count": 4,
   "metadata": {},
   "outputs": [],
   "source": [
    "from imblearn.over_sampling import SMOTE\n",
    "from imblearn.pipeline import Pipeline\n",
    "from imblearn.under_sampling import RandomUnderSampler\n",
    "\n",
    "from sklearn.model_selection import cross_val_score\n",
    "from sklearn.model_selection import RepeatedStratifiedKFold\n",
    "from sklearn.tree import DecisionTreeClassifier\n",
    "from sklearn.model_selection import train_test_split\n",
    "from sklearn import metrics"
   ]
  },
  {
   "cell_type": "code",
   "execution_count": 5,
   "metadata": {},
   "outputs": [],
   "source": [
    "from sklearn.metrics import confusion_matrix\n",
    "def plot_cm(classifier, predictions):\n",
    "    cm = confusion_matrix(y_test, predictions)\n",
    "    \n",
    "    plt.clf()\n",
    "    plt.imshow(cm, interpolation='nearest', cmap='RdBu')\n",
    "    classNames = ['Bankrupted','Not Bankrupted']\n",
    "    plt.ylabel('True label')\n",
    "    plt.xlabel('Predicted label')\n",
    "    tick_marks = np.arange(len(classNames))\n",
    "    plt.xticks(tick_marks, classNames, rotation=45)\n",
    "    plt.yticks(tick_marks, classNames)\n",
    "    s = [['TN','FP'], ['FN', 'TP']]\n",
    "    \n",
    "    for i in range(2):\n",
    "        for j in range(2):\n",
    "            plt.text(j,i, str(s[i][j])+\" = \"+str(cm[i][j]), \n",
    "                     horizontalalignment='center', color='White')\n",
    "    \n",
    "    plt.show()\n",
    "        \n",
    "    tn, fp, fn, tp = cm.ravel()\n",
    "\n",
    "    recall = tp / (tp + fn)\n",
    "    precision = tp / (tp + fp)\n",
    "    F1 = 2*recall*precision/(recall+precision)\n",
    "\n",
    "    print('Recall={0:0.3f}'.format(recall),'\\nPrecision={0:0.3f}'.format(precision))\n",
    "    print('F1={0:0.3f}'.format(F1))"
   ]
  },
  {
   "cell_type": "code",
   "execution_count": 6,
   "metadata": {},
   "outputs": [],
   "source": [
    "from sklearn.metrics import average_precision_score, precision_recall_curve\n",
    "def plot_aucprc(classifier, scores):\n",
    "    precision, recall, _ = precision_recall_curve(y_test, scores, pos_label=0)\n",
    "    average_precision = average_precision_score(y_test, scores)\n",
    "\n",
    "    print('Average precision-recall score: {0:0.3f}'.format(\n",
    "          average_precision))\n",
    "\n",
    "    plt.plot(recall, precision, label='area = %0.3f' % average_precision, color=\"green\")\n",
    "    plt.xlim([0.0, 1.0])\n",
    "    plt.ylim([0.0, 1.05])\n",
    "    plt.xlabel('Recall')\n",
    "    plt.ylabel('Precision')\n",
    "    plt.title('Precision Recall Curve')\n",
    "    plt.legend(loc=\"best\")\n",
    "    plt.show()"
   ]
  },
  {
   "cell_type": "code",
   "execution_count": 16,
   "metadata": {},
   "outputs": [],
   "source": [
    "data_X = data.iloc[:, :-1]\n",
    "data_y = data[\"class\"]\n",
    "data_X[\"Attr70\"] = data_X[\"Attr70\"].astype(\"category\")"
   ]
  },
  {
   "cell_type": "code",
   "execution_count": 28,
   "metadata": {},
   "outputs": [],
   "source": [
    "xgb_X = data.iloc[:, :-1]\n",
    "xgb_y = data[\"class\"]"
   ]
  },
  {
   "cell_type": "markdown",
   "metadata": {},
   "source": [
    "## Decision Tree"
   ]
  },
  {
   "cell_type": "code",
   "execution_count": 17,
   "metadata": {},
   "outputs": [],
   "source": [
    "model = DecisionTreeClassifier()"
   ]
  },
  {
   "cell_type": "code",
   "execution_count": 18,
   "metadata": {},
   "outputs": [],
   "source": [
    "re_stf = RepeatedStratifiedKFold(n_splits = 10, n_repeats = 3, random_state = 2)\n",
    "scores = cross_val_score(model, data_X, data_y, scoring = \"f1_micro\", cv = re_stf)"
   ]
  },
  {
   "cell_type": "code",
   "execution_count": 19,
   "metadata": {},
   "outputs": [
    {
     "name": "stdout",
     "output_type": "stream",
     "text": [
      "Mean CV F1 : 0.936\n"
     ]
    }
   ],
   "source": [
    "print(\"Mean CV F1 : %.3f\"% np.mean(scores))"
   ]
  },
  {
   "cell_type": "code",
   "execution_count": 20,
   "metadata": {},
   "outputs": [],
   "source": [
    "scores = cross_val_score(model, data_X, data_y, scoring = \"roc_auc\", cv = re_stf)"
   ]
  },
  {
   "cell_type": "code",
   "execution_count": 21,
   "metadata": {},
   "outputs": [
    {
     "name": "stdout",
     "output_type": "stream",
     "text": [
      "Mean CV ROC_AUC : 0.707\n"
     ]
    }
   ],
   "source": [
    "print(\"Mean CV ROC_AUC : %.3f\"% np.mean(scores))"
   ]
  },
  {
   "cell_type": "markdown",
   "metadata": {},
   "source": [
    "## Random Forest"
   ]
  },
  {
   "cell_type": "code",
   "execution_count": 22,
   "metadata": {},
   "outputs": [],
   "source": [
    "from sklearn.ensemble import RandomForestClassifier"
   ]
  },
  {
   "cell_type": "code",
   "execution_count": 23,
   "metadata": {},
   "outputs": [],
   "source": [
    "forest = RandomForestClassifier(n_estimators=500, random_state=24)"
   ]
  },
  {
   "cell_type": "code",
   "execution_count": 24,
   "metadata": {},
   "outputs": [
    {
     "name": "stdout",
     "output_type": "stream",
     "text": [
      "Mean CV F1 : 0.958\n",
      "Mean CV ROC_AUC : 0.898\n"
     ]
    }
   ],
   "source": [
    "scores = cross_val_score(forest, data_X, data_y, scoring = \"f1_micro\", cv = re_stf)\n",
    "print(\"Mean CV F1 : %.3f\"% np.mean(scores))\n",
    "scores = cross_val_score(forest, data_X, data_y, scoring = \"roc_auc\", cv = re_stf)\n",
    "print(\"Mean CV ROC_AUC : %.3f\"% np.mean(scores))"
   ]
  },
  {
   "cell_type": "markdown",
   "metadata": {},
   "source": [
    "## XGBoost"
   ]
  },
  {
   "cell_type": "code",
   "execution_count": 25,
   "metadata": {},
   "outputs": [],
   "source": [
    "from xgboost import XGBClassifier"
   ]
  },
  {
   "cell_type": "code",
   "execution_count": 131,
   "metadata": {},
   "outputs": [],
   "source": [
    "xgb_model = XGBClassifier(learning_rate = 0.2, n_estimators  = 500)"
   ]
  },
  {
   "cell_type": "code",
   "execution_count": 132,
   "metadata": {
    "scrolled": true
   },
   "outputs": [
    {
     "name": "stdout",
     "output_type": "stream",
     "text": [
      "Mean CV F1 : 0.967\n",
      "Mean CV ROC_AUC : 0.930\n"
     ]
    }
   ],
   "source": [
    "scores = cross_val_score(xgb_model, xgb_X, xgb_y, scoring = \"f1_micro\", cv = re_stf)\n",
    "print(\"Mean CV F1 : %.3f\"% np.mean(scores))\n",
    "scores = cross_val_score(xgb_model, xgb_X, xgb_y, scoring = \"roc_auc\", cv = re_stf)\n",
    "print(\"Mean CV ROC_AUC : %.3f\"% np.mean(scores))"
   ]
  },
  {
   "cell_type": "code",
   "execution_count": 136,
   "metadata": {},
   "outputs": [
    {
     "data": {
      "text/plain": [
       "XGBClassifier(base_score=0.5, booster='gbtree', colsample_bylevel=1,\n",
       "              colsample_bynode=1, colsample_bytree=1, gamma=0,\n",
       "              learning_rate=0.2, max_delta_step=0, max_depth=3,\n",
       "              min_child_weight=1, missing=None, n_estimators=500, n_jobs=1,\n",
       "              nthread=None, objective='binary:logistic', random_state=0,\n",
       "              reg_alpha=0, reg_lambda=1, scale_pos_weight=1, seed=None,\n",
       "              silent=None, subsample=1, verbosity=1)"
      ]
     },
     "execution_count": 136,
     "metadata": {},
     "output_type": "execute_result"
    }
   ],
   "source": [
    "xgb_model.fit(xgb_X, xgb_y)"
   ]
  },
  {
   "cell_type": "code",
   "execution_count": 137,
   "metadata": {},
   "outputs": [
    {
     "data": {
      "text/plain": [
       "array([0.01886187, 0.01723204, 0.01888179, 0.01473847, 0.02684857,\n",
       "       0.02971356, 0.01870607, 0.01315519, 0.01149079, 0.04747294,\n",
       "       0.01383566, 0.01931978, 0.02034402, 0.02037761, 0.03253245,\n",
       "       0.04623654, 0.02145286, 0.01665938, 0.01348233, 0.01760193,\n",
       "       0.02772082, 0.01576179, 0.03044714, 0.0123904 , 0.021648  ,\n",
       "       0.03235957, 0.01793846, 0.01794969, 0.01429102, 0.01128194,\n",
       "       0.03356811, 0.01660088, 0.02447979, 0.02128282, 0.02944262,\n",
       "       0.01331144, 0.00830462, 0.01289476, 0.0892937 , 0.11008856],\n",
       "      dtype=float32)"
      ]
     },
     "execution_count": 137,
     "metadata": {},
     "output_type": "execute_result"
    }
   ],
   "source": [
    "xgb_model.feature_importances_"
   ]
  },
  {
   "cell_type": "code",
   "execution_count": 138,
   "metadata": {},
   "outputs": [],
   "source": [
    "from xgboost import plot_importance"
   ]
  },
  {
   "cell_type": "code",
   "execution_count": 143,
   "metadata": {
    "scrolled": true
   },
   "outputs": [
    {
     "data": {
      "text/plain": [
       "<matplotlib.axes._subplots.AxesSubplot at 0x7fb97aad0390>"
      ]
     },
     "execution_count": 143,
     "metadata": {},
     "output_type": "execute_result"
    },
    {
     "data": {
      "image/png": "[encoded data removed]",
      "text/plain": [
       "<Figure size 1440x720 with 1 Axes>"
      ]
     },
     "metadata": {
      "needs_background": "light"
     },
     "output_type": "display_data"
    }
   ],
   "source": [
    "fig, ax = plt.subplots(figsize=(20, 10))\n",
    "plot_importance(xgb_model, ax=ax)"
   ]
  },
  {
   "cell_type": "code",
   "execution_count": 150,
   "metadata": {},
   "outputs": [
    {
     "data": {
      "text/plain": [
       "<BarContainer object of 40 artists>"
      ]
     },
     "execution_count": 150,
     "metadata": {},
     "output_type": "execute_result"
    },
    {
     "data": {
      "image/png": "[encoded data removed]",
      "text/plain": [
       "<Figure size 1440x720 with 1 Axes>"
      ]
     },
     "metadata": {
      "needs_background": "light"
     },
     "output_type": "display_data"
    }
   ],
   "source": [
    "plt.figure(figsize=(20,10))\n",
    "plt.xticks(rotation = 'vertical')\n",
    "plt.bar(xgb_X.columns, xgb_model.feature_importances_)"
   ]
  },
  {
   "cell_type": "markdown",
   "metadata": {},
   "source": [
    "## SMOTE"
   ]
  },
  {
   "cell_type": "markdown",
   "metadata": {},
   "source": [
    "## Decision Tree"
   ]
  },
  {
   "cell_type": "code",
   "execution_count": 119,
   "metadata": {},
   "outputs": [],
   "source": [
    "from sklearn import metrics\n",
    "from sklearn.metrics import roc_auc_score\n",
    "from sklearn.metrics import precision_score, recall_score, f1_score"
   ]
  },
  {
   "cell_type": "code",
   "execution_count": 114,
   "metadata": {},
   "outputs": [],
   "source": [
    "def smote_random_class(data, model) :\n",
    "    \n",
    "    bank = data[data[\"class\"] == 1]\n",
    "    not_bank = data[data[\"class\"] == 0]\n",
    "    \n",
    "    idx = list(bank.index)\n",
    "    idx_len = round(len(idx)/5)\n",
    "    \n",
    "    first = list(np.random.choice(idx, idx_len, replace = False))\n",
    "    idx2 = [x for x in idx if x not in first]\n",
    "    second = list(np.random.choice(idx2, idx_len, replace = False))\n",
    "    idx3 = [x for x in idx2 if x not in second]\n",
    "    third = list(np.random.choice(idx3, idx_len, replace = False))\n",
    "    idx4 = [x for x in idx3 if x not in third]\n",
    "    fourth = list(np.random.choice(list(idx4), idx_len, replace =False))\n",
    "    fifth = [x for x in idx4 if x not in fourth]\n",
    "    \n",
    "    not_idx = list(not_bank.index)\n",
    "    not_idx_len = round(len(not_idx)/5)\n",
    "    \n",
    "    not_first = list(np.random.choice(not_idx, not_idx_len, replace = False))\n",
    "    not_idx2 = [x for x in not_idx if x not in not_first]\n",
    "    not_second = list(np.random.choice(not_idx2, not_idx_len, replace = False))\n",
    "    not_idx3 = [x for x in not_idx2 if x not in not_second]\n",
    "    not_third = list(np.random.choice(not_idx3, not_idx_len, replace = False))\n",
    "    not_idx4 = [x for x in not_idx3 if x not in not_third]\n",
    "    not_fourth = list(np.random.choice(list(not_idx4), not_idx_len, replace =False))\n",
    "    not_fifth = [x for x in not_idx4 if x not in not_fourth]\n",
    "    \n",
    "    lst = [first, second, third, fourth, fifth]\n",
    "    not_lst = [not_first, not_second, not_third, not_fourth, not_fifth]\n",
    "    \n",
    "    for i in range(len(lst)):\n",
    "        lst[i].extend(not_lst[i])\n",
    "        \n",
    "    f1_scores = []\n",
    "    roc_scores = []\n",
    "\n",
    "    for i in range(5):\n",
    "        print(\"------------ \",i+1, \" ------------\\n\")\n",
    "        test_X = xgb_X.iloc[lst[i]]\n",
    "        test_y = xgb_y.iloc[lst[i]]\n",
    "        train_X = xgb_X.drop(lst[i])\n",
    "        train_y = xgb_y.drop(lst[i])\n",
    "        X_resampled, y_resampled = SMOTE().fit_sample(train_X, train_y)\n",
    "        \n",
    "        model.fit(X_resampled, y_resampled)\n",
    "        pred_y = model.predict(test_X)\n",
    "        f = f1_score(test_y, pred_y, average = 'micro')\n",
    "        r = roc_auc_score(test_y, pred_y)\n",
    "        \n",
    "        f1_scores.append(f)\n",
    "        roc_scores.append(r)\n",
    "        \n",
    "        print(\"f1 - \", f, \", roc - \", r)\n",
    "        \n",
    "    print(\"F1 : \", np.mean(f1_scores))\n",
    "    print(\"ROC AUC : \", np.mean(roc_scores))"
   ]
  },
  {
   "cell_type": "code",
   "execution_count": 115,
   "metadata": {
    "scrolled": true
   },
   "outputs": [
    {
     "name": "stdout",
     "output_type": "stream",
     "text": [
      "------------  1  ------------\n",
      "\n",
      "f1 -  0.8745414526779164 , roc -  0.6190291763490834\n",
      "------------  2  ------------\n",
      "\n",
      "f1 -  0.8606016140865739 , roc -  0.6444562785093382\n",
      "------------  3  ------------\n",
      "\n",
      "f1 -  0.8672046955245781 , roc -  0.713513426284534\n",
      "------------  4  ------------\n",
      "\n",
      "f1 -  0.8796771826852531 , roc -  0.6348545485842155\n",
      "------------  5  ------------\n",
      "\n",
      "f1 -  0.8814055636896047 , roc -  0.6853129072243589\n",
      "F1 :  0.8726861017327853\n",
      "ROC AUC :  0.659433267390306\n"
     ]
    }
   ],
   "source": [
    "smote_random_class(data, DecisionTreeClassifier())"
   ]
  },
  {
   "cell_type": "markdown",
   "metadata": {},
   "source": [
    "## Random Forest"
   ]
  },
  {
   "cell_type": "code",
   "execution_count": 117,
   "metadata": {
    "scrolled": true
   },
   "outputs": [
    {
     "name": "stdout",
     "output_type": "stream",
     "text": [
      "------------  1  ------------\n",
      "\n",
      "f1 -  0.9391049156272927 , roc -  0.6990113176693347\n",
      "------------  2  ------------\n",
      "\n",
      "f1 -  0.9471753484959647 , roc -  0.6639286943798951\n",
      "------------  3  ------------\n",
      "\n",
      "f1 -  0.942039618488628 , roc -  0.7202319476719167\n",
      "------------  4  ------------\n",
      "\n",
      "f1 -  0.9369038884812912 , roc -  0.6322779499096308\n",
      "------------  5  ------------\n",
      "\n",
      "f1 -  0.9348462664714495 , roc -  0.6747661274089142\n",
      "F1 :  0.9400140075129253\n",
      "ROC AUC :  0.6780432074079382\n"
     ]
    }
   ],
   "source": [
    "smote_random_class(data, RandomForestClassifier(n_estimators=500))"
   ]
  },
  {
   "cell_type": "markdown",
   "metadata": {},
   "source": [
    "## XGB"
   ]
  },
  {
   "cell_type": "code",
   "execution_count": 30,
   "metadata": {},
   "outputs": [],
   "source": [
    "xgb_model = XGBClassifier(learning_rate = 0.2, n_estimators  = 600)"
   ]
  },
  {
   "cell_type": "code",
   "execution_count": 31,
   "metadata": {},
   "outputs": [
    {
     "name": "stdout",
     "output_type": "stream",
     "text": [
      "Mean CV F1 : 0.967\n",
      "Mean CV ROC_AUC : 0.930\n"
     ]
    }
   ],
   "source": [
    "scores = cross_val_score(xgb_model, xgb_X, xgb_y, scoring = \"f1_micro\", cv = re_stf)\n",
    "print(\"Mean CV F1 : %.3f\"% np.mean(scores))\n",
    "scores = cross_val_score(xgb_model, xgb_X, xgb_y, scoring = \"roc_auc\", cv = re_stf)\n",
    "print(\"Mean CV ROC_AUC : %.3f\"% np.mean(scores))"
   ]
  },
  {
   "cell_type": "code",
   "execution_count": 118,
   "metadata": {},
   "outputs": [
    {
     "name": "stdout",
     "output_type": "stream",
     "text": [
      "------------  1  ------------\n",
      "\n",
      "f1 -  0.9486426999266324 , roc -  0.7302747654703503\n",
      "------------  2  ------------\n",
      "\n",
      "f1 -  0.942039618488628 , roc -  0.7464605387726998\n",
      "------------  3  ------------\n",
      "\n",
      "f1 -  0.9471753484959647 , roc -  0.8147430932093983\n",
      "------------  4  ------------\n",
      "\n",
      "f1 -  0.9603815113719736 , roc -  0.854500172131853\n",
      "------------  5  ------------\n",
      "\n",
      "f1 -  0.9509516837481699 , roc -  0.8060632065177086\n",
      "F1 :  0.9498381724062737\n",
      "ROC AUC :  0.790408355220402\n"
     ]
    }
   ],
   "source": [
    "smote_random_class(data, XGBClassifier(learning_rate = 0.2, n_estimators  = 600))"
   ]
  },
  {
   "cell_type": "markdown",
   "metadata": {},
   "source": [
    "## SMOTE + Undersampling"
   ]
  },
  {
   "cell_type": "code",
   "execution_count": 121,
   "metadata": {},
   "outputs": [],
   "source": [
    "def smote_under_random_class(data, model, k) :\n",
    "    \n",
    "    bank = data[data[\"class\"] == 1]\n",
    "    not_bank = data[data[\"class\"] == 0]\n",
    "    \n",
    "    idx = list(bank.index)\n",
    "    idx_len = round(len(idx)/5)\n",
    "    \n",
    "    first = list(np.random.choice(idx, idx_len, replace = False))\n",
    "    idx2 = [x for x in idx if x not in first]\n",
    "    second = list(np.random.choice(idx2, idx_len, replace = False))\n",
    "    idx3 = [x for x in idx2 if x not in second]\n",
    "    third = list(np.random.choice(idx3, idx_len, replace = False))\n",
    "    idx4 = [x for x in idx3 if x not in third]\n",
    "    fourth = list(np.random.choice(list(idx4), idx_len, replace =False))\n",
    "    fifth = [x for x in idx4 if x not in fourth]\n",
    "    \n",
    "    not_idx = list(not_bank.index)\n",
    "    not_idx_len = round(len(not_idx)/5)\n",
    "    \n",
    "    not_first = list(np.random.choice(not_idx, not_idx_len, replace = False))\n",
    "    not_idx2 = [x for x in not_idx if x not in not_first]\n",
    "    not_second = list(np.random.choice(not_idx2, not_idx_len, replace = False))\n",
    "    not_idx3 = [x for x in not_idx2 if x not in not_second]\n",
    "    not_third = list(np.random.choice(not_idx3, not_idx_len, replace = False))\n",
    "    not_idx4 = [x for x in not_idx3 if x not in not_third]\n",
    "    not_fourth = list(np.random.choice(list(not_idx4), not_idx_len, replace =False))\n",
    "    not_fifth = [x for x in not_idx4 if x not in not_fourth]\n",
    "    \n",
    "    lst = [first, second, third, fourth, fifth]\n",
    "    not_lst = [not_first, not_second, not_third, not_fourth, not_fifth]\n",
    "    \n",
    "    for i in range(len(lst)):\n",
    "        lst[i].extend(not_lst[i])\n",
    "        \n",
    "    f1_scores = []\n",
    "    roc_scores = []\n",
    "\n",
    "    for i in range(5):\n",
    "        print(\"------------ \",i+1, \" ------------\\n\")\n",
    "        test_X = xgb_X.iloc[lst[i]]\n",
    "        test_y = xgb_y.iloc[lst[i]]\n",
    "        train_X = xgb_X.drop(lst[i])\n",
    "        train_y = xgb_y.drop(lst[i])\n",
    "        X_resampled, y_resampled = SMOTE(sampling_strategy = 0.1, k_neighbors = k).fit_sample(train_X, train_y)\n",
    "        X_sample, y_sample = RandomUnderSampler(sampling_strategy = 0.5).fit_sample(X_resampled, y_resampled)\n",
    "        \n",
    "        model.fit(X_sample, y_sample)\n",
    "        pred_y = model.predict(test_X)\n",
    "        f = f1_score(test_y, pred_y, average = 'micro')\n",
    "        r = roc_auc_score(test_y, pred_y)\n",
    "        \n",
    "        f1_scores.append(f)\n",
    "        roc_scores.append(r)\n",
    "        \n",
    "        print(\"f1 - \", f, \", roc - \", r)\n",
    "        \n",
    "    print(\"F1 : \", np.mean(f1_scores))\n",
    "    print(\"ROC AUC : \", np.mean(roc_scores))"
   ]
  },
  {
   "cell_type": "code",
   "execution_count": 123,
   "metadata": {},
   "outputs": [
    {
     "name": "stdout",
     "output_type": "stream",
     "text": [
      "------------  1  ------------\n",
      "\n",
      "f1 -  0.8136463683052091 , roc -  0.7114693605301662\n",
      "------------  2  ------------\n",
      "\n",
      "f1 -  0.8576669112252384 , roc -  0.7215928651346931\n",
      "------------  3  ------------\n",
      "\n",
      "f1 -  0.8341892883345561 , roc -  0.7354279628195197\n",
      "------------  4  ------------\n",
      "\n",
      "f1 -  0.8584005869405723 , roc -  0.7219801618039418\n",
      "------------  5  ------------\n",
      "\n",
      "f1 -  0.8565153733528551 , roc -  0.7174035110023413\n",
      "F1 :  0.8440837056316862\n",
      "ROC AUC :  0.7215747722581324\n"
     ]
    }
   ],
   "source": [
    "smote_under_random_class(data, DecisionTreeClassifier(), 1)"
   ]
  },
  {
   "cell_type": "code",
   "execution_count": 125,
   "metadata": {},
   "outputs": [
    {
     "name": "stdout",
     "output_type": "stream",
     "text": [
      "------------  1  ------------\n",
      "\n",
      "f1 -  0.9075568598679383 , roc -  0.7413718908684053\n",
      "------------  2  ------------\n",
      "\n",
      "f1 -  0.9288334556126191 , roc -  0.7722749376022033\n",
      "------------  3  ------------\n",
      "\n",
      "f1 -  0.9244314013206163 , roc -  0.7896226009122987\n",
      "------------  4  ------------\n",
      "\n",
      "f1 -  0.9222303741746148 , roc -  0.7228892331525949\n",
      "------------  5  ------------\n",
      "\n",
      "f1 -  0.9128843338213762 , roc -  0.7536418438589243\n",
      "F1 :  0.9191872849594329\n",
      "ROC AUC :  0.7559601012788854\n"
     ]
    }
   ],
   "source": [
    "smote_under_random_class(data, RandomForestClassifier(n_estimators = 400), 1)"
   ]
  },
  {
   "cell_type": "code",
   "execution_count": 130,
   "metadata": {},
   "outputs": [
    {
     "name": "stdout",
     "output_type": "stream",
     "text": [
      "------------  1  ------------\n",
      "\n",
      "f1 -  0.9361702127659575 , roc -  0.7958193476202772\n",
      "------------  2  ------------\n",
      "\n",
      "f1 -  0.9310344827586207 , roc -  0.845565453137103\n",
      "------------  3  ------------\n",
      "\n",
      "f1 -  0.9273661041819515 , roc -  0.8305146742404683\n",
      "------------  4  ------------\n",
      "\n",
      "f1 -  0.9347028613352898 , roc -  0.8081590498321714\n",
      "------------  5  ------------\n",
      "\n",
      "f1 -  0.9333821376281113 , roc -  0.8032450815243302\n",
      "F1 :  0.9325311597339863\n",
      "ROC AUC :  0.81666072127087\n"
     ]
    }
   ],
   "source": [
    "smote_under_random_class(data, XGBClassifier(n_estimators = 400, learning_rate = 0.15), k=1)"
   ]
  },
  {
   "cell_type": "markdown",
   "metadata": {},
   "source": [
    "## DONE!"
   ]
  },
  {
   "cell_type": "code",
   "execution_count": null,
   "metadata": {},
   "outputs": [],
   "source": []
  }
 ],
 "metadata": {
  "kernelspec": {
   "display_name": "Python 3",
   "language": "python",
   "name": "python3"
  },
  "language_info": {
   "codemirror_mode": {
    "name": "ipython",
    "version": 3
   },
   "file_extension": ".py",
   "mimetype": "text/x-python",
   "name": "python",
   "nbconvert_exporter": "python",
   "pygments_lexer": "ipython3",
   "version": "3.7.6"
  }
 },
 "nbformat": 4,
 "nbformat_minor": 4
}
