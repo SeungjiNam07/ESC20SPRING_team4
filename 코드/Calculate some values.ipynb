{
 "cells": [
  {
   "cell_type": "code",
   "execution_count": 1,
   "metadata": {},
   "outputs": [],
   "source": [
    "import pandas as pd\n",
    "import numpy as np"
   ]
  },
  {
   "cell_type": "code",
   "execution_count": 2,
   "metadata": {},
   "outputs": [],
   "source": [
    "data = pd.read_csv(\"FS_2y_before_Bankruptcy_train.csv\")"
   ]
  },
  {
   "cell_type": "code",
   "execution_count": 3,
   "metadata": {},
   "outputs": [
    {
     "data": {
      "text/html": [
       "<div>\n",
       "<style scoped>\n",
       "    .dataframe tbody tr th:only-of-type {\n",
       "        vertical-align: middle;\n",
       "    }\n",
       "\n",
       "    .dataframe tbody tr th {\n",
       "        vertical-align: top;\n",
       "    }\n",
       "\n",
       "    .dataframe thead th {\n",
       "        text-align: right;\n",
       "    }\n",
       "</style>\n",
       "<table border=\"1\" class=\"dataframe\">\n",
       "  <thead>\n",
       "    <tr style=\"text-align: right;\">\n",
       "      <th></th>\n",
       "      <th>Attr1</th>\n",
       "      <th>Attr2</th>\n",
       "      <th>Attr3</th>\n",
       "      <th>Attr4</th>\n",
       "      <th>Attr5</th>\n",
       "      <th>Attr6</th>\n",
       "      <th>Attr7</th>\n",
       "      <th>Attr8</th>\n",
       "      <th>Attr9</th>\n",
       "      <th>Attr10</th>\n",
       "      <th>...</th>\n",
       "      <th>Attr56</th>\n",
       "      <th>Attr57</th>\n",
       "      <th>Attr58</th>\n",
       "      <th>Attr59</th>\n",
       "      <th>Attr60</th>\n",
       "      <th>Attr61</th>\n",
       "      <th>Attr62</th>\n",
       "      <th>Attr63</th>\n",
       "      <th>Attr64</th>\n",
       "      <th>class</th>\n",
       "    </tr>\n",
       "  </thead>\n",
       "  <tbody>\n",
       "    <tr>\n",
       "      <th>0</th>\n",
       "      <td>-0.024558</td>\n",
       "      <td>0.30051</td>\n",
       "      <td>0.10733</td>\n",
       "      <td>1.8368</td>\n",
       "      <td>34.382</td>\n",
       "      <td>-0.026711</td>\n",
       "      <td>-0.020067</td>\n",
       "      <td>2.2519</td>\n",
       "      <td>1.06670</td>\n",
       "      <td>0.67673</td>\n",
       "      <td>...</td>\n",
       "      <td>0.062497</td>\n",
       "      <td>-0.036289</td>\n",
       "      <td>0.9375</td>\n",
       "      <td>0.25454</td>\n",
       "      <td>13.632</td>\n",
       "      <td>3.693</td>\n",
       "      <td>69.389</td>\n",
       "      <td>5.2602</td>\n",
       "      <td>0.8826</td>\n",
       "      <td>0</td>\n",
       "    </tr>\n",
       "    <tr>\n",
       "      <th>1</th>\n",
       "      <td>0.639180</td>\n",
       "      <td>0.00000</td>\n",
       "      <td>1.00000</td>\n",
       "      <td>?</td>\n",
       "      <td>29.678</td>\n",
       "      <td>-1.139300</td>\n",
       "      <td>0.760520</td>\n",
       "      <td>?</td>\n",
       "      <td>1.11850</td>\n",
       "      <td>1.00000</td>\n",
       "      <td>...</td>\n",
       "      <td>0.67983</td>\n",
       "      <td>0.63918</td>\n",
       "      <td>0.32014</td>\n",
       "      <td>0.0</td>\n",
       "      <td>?</td>\n",
       "      <td>37.886</td>\n",
       "      <td>0</td>\n",
       "      <td>?</td>\n",
       "      <td>?</td>\n",
       "      <td>0</td>\n",
       "    </tr>\n",
       "    <tr>\n",
       "      <th>2</th>\n",
       "      <td>-0.440760</td>\n",
       "      <td>0.47723</td>\n",
       "      <td>0.19260</td>\n",
       "      <td>1.4678</td>\n",
       "      <td>34.555</td>\n",
       "      <td>0.000000</td>\n",
       "      <td>-0.440760</td>\n",
       "      <td>1.0954</td>\n",
       "      <td>1.51860</td>\n",
       "      <td>0.52277</td>\n",
       "      <td>...</td>\n",
       "      <td>-0.29059</td>\n",
       "      <td>-0.84313</td>\n",
       "      <td>1.2871</td>\n",
       "      <td>0.12538</td>\n",
       "      <td>?</td>\n",
       "      <td>2.5649</td>\n",
       "      <td>98.95</td>\n",
       "      <td>3.6887</td>\n",
       "      <td>3.8376</td>\n",
       "      <td>0</td>\n",
       "    </tr>\n",
       "    <tr>\n",
       "      <th>3</th>\n",
       "      <td>0.119520</td>\n",
       "      <td>0.17679</td>\n",
       "      <td>0.63546</td>\n",
       "      <td>4.5944</td>\n",
       "      <td>117.65</td>\n",
       "      <td>0.251540</td>\n",
       "      <td>0.148750</td>\n",
       "      <td>4.5826</td>\n",
       "      <td>1.12630</td>\n",
       "      <td>0.81017</td>\n",
       "      <td>...</td>\n",
       "      <td>0.11211</td>\n",
       "      <td>0.14752</td>\n",
       "      <td>0.88789</td>\n",
       "      <td>0.0</td>\n",
       "      <td>8.9302</td>\n",
       "      <td>10.287</td>\n",
       "      <td>40.355</td>\n",
       "      <td>9.0448</td>\n",
       "      <td>8.5169</td>\n",
       "      <td>0</td>\n",
       "    </tr>\n",
       "    <tr>\n",
       "      <th>4</th>\n",
       "      <td>0.230400</td>\n",
       "      <td>0.27095</td>\n",
       "      <td>0.23762</td>\n",
       "      <td>2.5745</td>\n",
       "      <td>-26.928</td>\n",
       "      <td>0.617540</td>\n",
       "      <td>0.282690</td>\n",
       "      <td>2.6907</td>\n",
       "      <td>0.80411</td>\n",
       "      <td>0.72905</td>\n",
       "      <td>...</td>\n",
       "      <td>0.45957</td>\n",
       "      <td>0.31602</td>\n",
       "      <td>0.6232</td>\n",
       "      <td>0.16465</td>\n",
       "      <td>7.9274</td>\n",
       "      <td>6.6605</td>\n",
       "      <td>68.502</td>\n",
       "      <td>5.3283</td>\n",
       "      <td>1.315</td>\n",
       "      <td>0</td>\n",
       "    </tr>\n",
       "  </tbody>\n",
       "</table>\n",
       "<p>5 rows × 65 columns</p>\n",
       "</div>"
      ],
      "text/plain": [
       "      Attr1    Attr2    Attr3   Attr4    Attr5     Attr6     Attr7   Attr8  \\\n",
       "0 -0.024558  0.30051  0.10733  1.8368   34.382 -0.026711 -0.020067  2.2519   \n",
       "1  0.639180  0.00000  1.00000       ?   29.678 -1.139300  0.760520       ?   \n",
       "2 -0.440760  0.47723  0.19260  1.4678   34.555  0.000000 -0.440760  1.0954   \n",
       "3  0.119520  0.17679  0.63546  4.5944   117.65  0.251540  0.148750  4.5826   \n",
       "4  0.230400  0.27095  0.23762  2.5745  -26.928  0.617540  0.282690  2.6907   \n",
       "\n",
       "     Attr9   Attr10  ...    Attr56     Attr57   Attr58   Attr59  Attr60  \\\n",
       "0  1.06670  0.67673  ...  0.062497  -0.036289   0.9375  0.25454  13.632   \n",
       "1  1.11850  1.00000  ...   0.67983    0.63918  0.32014      0.0       ?   \n",
       "2  1.51860  0.52277  ...  -0.29059   -0.84313   1.2871  0.12538       ?   \n",
       "3  1.12630  0.81017  ...   0.11211    0.14752  0.88789      0.0  8.9302   \n",
       "4  0.80411  0.72905  ...   0.45957    0.31602   0.6232  0.16465  7.9274   \n",
       "\n",
       "   Attr61  Attr62  Attr63  Attr64 class  \n",
       "0   3.693  69.389  5.2602  0.8826     0  \n",
       "1  37.886       0       ?       ?     0  \n",
       "2  2.5649   98.95  3.6887  3.8376     0  \n",
       "3  10.287  40.355  9.0448  8.5169     0  \n",
       "4  6.6605  68.502  5.3283   1.315     0  \n",
       "\n",
       "[5 rows x 65 columns]"
      ]
     },
     "execution_count": 3,
     "metadata": {},
     "output_type": "execute_result"
    }
   ],
   "source": [
    "data.head()"
   ]
  },
  {
   "cell_type": "markdown",
   "metadata": {},
   "source": [
    "일단 Attr 37은 제거"
   ]
  },
  {
   "cell_type": "code",
   "execution_count": 4,
   "metadata": {},
   "outputs": [],
   "source": [
    "data.drop(\"Attr37\", axis = 1, inplace = True)"
   ]
  },
  {
   "cell_type": "code",
   "execution_count": 5,
   "metadata": {},
   "outputs": [
    {
     "data": {
      "text/plain": [
       "(6855, 64)"
      ]
     },
     "execution_count": 5,
     "metadata": {},
     "output_type": "execute_result"
    }
   ],
   "source": [
    "data.shape"
   ]
  },
  {
   "cell_type": "code",
   "execution_count": 6,
   "metadata": {},
   "outputs": [
    {
     "data": {
      "text/plain": [
       "44"
      ]
     },
     "execution_count": 6,
     "metadata": {},
     "output_type": "execute_result"
    }
   ],
   "source": [
    "np.sum(np.sum(data.astype(\"str\")==\"?\")>0)"
   ]
  },
  {
   "cell_type": "code",
   "execution_count": 7,
   "metadata": {},
   "outputs": [
    {
     "data": {
      "text/plain": [
       "3032"
      ]
     },
     "execution_count": 7,
     "metadata": {},
     "output_type": "execute_result"
    }
   ],
   "source": [
    "que = data.astype(\"str\")==\"?\"\n",
    "que.sum().sum()"
   ]
  },
  {
   "cell_type": "markdown",
   "metadata": {},
   "source": [
    "na가 없는 변수를 이용해서 채우기"
   ]
  },
  {
   "cell_type": "code",
   "execution_count": 8,
   "metadata": {},
   "outputs": [
    {
     "data": {
      "text/plain": [
       "['Attr1',\n",
       " 'Attr2',\n",
       " 'Attr3',\n",
       " 'Attr6',\n",
       " 'Attr7',\n",
       " 'Attr9',\n",
       " 'Attr10',\n",
       " 'Attr11',\n",
       " 'Attr14',\n",
       " 'Attr18',\n",
       " 'Attr22',\n",
       " 'Attr25',\n",
       " 'Attr29',\n",
       " 'Attr35',\n",
       " 'Attr36',\n",
       " 'Attr38',\n",
       " 'Attr48',\n",
       " 'Attr51',\n",
       " 'Attr55',\n",
       " 'class']"
      ]
     },
     "execution_count": 8,
     "metadata": {},
     "output_type": "execute_result"
    }
   ],
   "source": [
    "list(que.columns[que.sum()==0])"
   ]
  },
  {
   "cell_type": "code",
   "execution_count": 9,
   "metadata": {},
   "outputs": [
    {
     "data": {
      "text/plain": [
       "0      96.014575\n",
       "1       3.393290\n",
       "2      19.546573\n",
       "3     233.597605\n",
       "4    1476.308509\n",
       "Name: Attr29, dtype: float64"
      ]
     },
     "execution_count": 9,
     "metadata": {},
     "output_type": "execute_result"
    }
   ],
   "source": [
    "total_assets = pd.Series(np.exp(data[\"Attr29\"]), index  = data[\"Attr29\"].index)\n",
    "total_assets.head()"
   ]
  },
  {
   "cell_type": "code",
   "execution_count": 10,
   "metadata": {},
   "outputs": [
    {
     "data": {
      "text/plain": [
       "0      64.975943\n",
       "1       3.393290\n",
       "2      10.218362\n",
       "3     189.253772\n",
       "4    1076.302718\n",
       "dtype: float64"
      ]
     },
     "execution_count": 10,
     "metadata": {},
     "output_type": "execute_result"
    }
   ],
   "source": [
    "total_equity = data[\"Attr10\"] * total_assets\n",
    "total_equity.head()"
   ]
  },
  {
   "cell_type": "code",
   "execution_count": 11,
   "metadata": {},
   "outputs": [
    {
     "data": {
      "text/plain": [
       "0     31.038632\n",
       "1      0.000000\n",
       "2      9.328211\n",
       "3     44.343833\n",
       "4    400.005790\n",
       "dtype: float64"
      ]
     },
     "execution_count": 11,
     "metadata": {},
     "output_type": "execute_result"
    }
   ],
   "source": [
    "total_liabilities = total_assets - total_equity\n",
    "total_liabilities.head()"
   ]
  },
  {
   "cell_type": "code",
   "execution_count": 12,
   "metadata": {},
   "outputs": [
    {
     "data": {
      "text/plain": [
       "0     12.314829\n",
       "1      0.000000\n",
       "2      8.047129\n",
       "3     41.297721\n",
       "4    222.789717\n",
       "dtype: float64"
      ]
     },
     "execution_count": 12,
     "metadata": {},
     "output_type": "execute_result"
    }
   ],
   "source": [
    "short_term_liabilities = data[\"Attr51\"] * total_assets\n",
    "short_term_liabilities.head()"
   ]
  },
  {
   "cell_type": "code",
   "execution_count": 13,
   "metadata": {},
   "outputs": [
    {
     "data": {
      "text/plain": [
       "0     18.723802\n",
       "1      0.000000\n",
       "2      1.281082\n",
       "3      3.046113\n",
       "4    177.216073\n",
       "dtype: float64"
      ]
     },
     "execution_count": 13,
     "metadata": {},
     "output_type": "execute_result"
    }
   ],
   "source": [
    "long_term_liabilities = total_liabilities - short_term_liabilities\n",
    "long_term_liabilities.head()"
   ]
  },
  {
   "cell_type": "code",
   "execution_count": 14,
   "metadata": {},
   "outputs": [
    {
     "data": {
      "text/plain": [
       "0      66.678282\n",
       "1       3.795395\n",
       "2      29.683426\n",
       "3     378.895316\n",
       "4    1187.114435\n",
       "dtype: float64"
      ]
     },
     "execution_count": 14,
     "metadata": {},
     "output_type": "execute_result"
    }
   ],
   "source": [
    "total_sales = pd.Series(np.array(total_assets) * np.array(data[\"Attr36\"]))\n",
    "total_sales.head()"
   ]
  },
  {
   "cell_type": "code",
   "execution_count": 15,
   "metadata": {},
   "outputs": [
    {
     "data": {
      "text/plain": [
       "0      96.014575\n",
       "1       3.393290\n",
       "2      19.546573\n",
       "3     233.597605\n",
       "4    1476.308509\n",
       "Name: Attr29, dtype: float64"
      ]
     },
     "execution_count": 15,
     "metadata": {},
     "output_type": "execute_result"
    }
   ],
   "source": [
    "sales = data[\"Attr9\"] * total_assets\n",
    "total_assets.head()"
   ]
  },
  {
   "cell_type": "code",
   "execution_count": 16,
   "metadata": {},
   "outputs": [
    {
     "data": {
      "text/plain": [
       "0     -1.926724\n",
       "1      2.580665\n",
       "2     -8.615348\n",
       "3     34.747644\n",
       "4    417.337652\n",
       "dtype: float64"
      ]
     },
     "execution_count": 16,
     "metadata": {},
     "output_type": "execute_result"
    }
   ],
   "source": [
    "gross_profit = data[\"Attr18\"] * total_assets\n",
    "gross_profit.head()"
   ]
  },
  {
   "cell_type": "code",
   "execution_count": 17,
   "metadata": {},
   "outputs": [
    {
     "data": {
      "text/plain": [
       "0     -2.564645\n",
       "1     -3.865975\n",
       "2      0.000000\n",
       "3     58.759142\n",
       "4    911.679556\n",
       "dtype: float64"
      ]
     },
     "execution_count": 17,
     "metadata": {},
     "output_type": "execute_result"
    }
   ],
   "source": [
    "retained_earnings = data[\"Attr6\"] * total_assets\n",
    "retained_earnings.head()"
   ]
  },
  {
   "cell_type": "code",
   "execution_count": 18,
   "metadata": {},
   "outputs": [
    {
     "data": {
      "text/plain": [
       "0     -1.926724\n",
       "1      2.580665\n",
       "2     -8.615348\n",
       "3     34.747644\n",
       "4    417.337652\n",
       "dtype: float64"
      ]
     },
     "execution_count": 18,
     "metadata": {},
     "output_type": "execute_result"
    }
   ],
   "source": [
    "ebit = data[\"Attr7\"] * total_assets\n",
    "ebit.head()"
   ]
  },
  {
   "cell_type": "code",
   "execution_count": 19,
   "metadata": {},
   "outputs": [
    {
     "data": {
      "text/plain": [
       "0     -2.755810\n",
       "1      2.580258\n",
       "2     -9.871801\n",
       "3     19.487880\n",
       "4    373.948945\n",
       "dtype: float64"
      ]
     },
     "execution_count": 19,
     "metadata": {},
     "output_type": "execute_result"
    }
   ],
   "source": [
    "ebitda = data[\"Attr48\"] * total_assets\n",
    "ebitda.head()"
   ]
  },
  {
   "cell_type": "code",
   "execution_count": 20,
   "metadata": {},
   "outputs": [
    {
     "data": {
      "text/plain": [
       "0     -2.357926\n",
       "1      2.168923\n",
       "2     -8.615348\n",
       "3     27.919586\n",
       "4    340.141480\n",
       "dtype: float64"
      ]
     },
     "execution_count": 20,
     "metadata": {},
     "output_type": "execute_result"
    }
   ],
   "source": [
    "net_profit = data[\"Attr1\"] * total_assets\n",
    "net_profit.head()"
   ]
  },
  {
   "cell_type": "code",
   "execution_count": 21,
   "metadata": {},
   "outputs": [
    {
     "data": {
      "text/plain": [
       "0     10.305244\n",
       "1      3.393290\n",
       "2      3.764670\n",
       "3    148.441934\n",
       "4    350.800428\n",
       "dtype: float64"
      ]
     },
     "execution_count": 21,
     "metadata": {},
     "output_type": "execute_result"
    }
   ],
   "source": [
    "working_capital = data[\"Attr3\"] * total_assets\n",
    "working_capital.head()"
   ]
  },
  {
   "cell_type": "code",
   "execution_count": 22,
   "metadata": {},
   "outputs": [
    {
     "data": {
      "text/plain": [
       "0      0.831448\n",
       "1      2.580258\n",
       "2     -8.625903\n",
       "3     33.859973\n",
       "4    545.569809\n",
       "dtype: float64"
      ]
     },
     "execution_count": 22,
     "metadata": {},
     "output_type": "execute_result"
    }
   ],
   "source": [
    "profit_on_sales = data[\"Attr35\"] * total_assets\n",
    "profit_on_sales.head()"
   ]
  },
  {
   "cell_type": "markdown",
   "metadata": {},
   "source": [
    "새로 대입해보기"
   ]
  },
  {
   "cell_type": "code",
   "execution_count": 23,
   "metadata": {},
   "outputs": [
    {
     "data": {
      "text/plain": [
       "0    -0.15646\n",
       "1           ?\n",
       "2     -1.0706\n",
       "3     0.84137\n",
       "4      1.8732\n",
       "Name: Attr12, dtype: object"
      ]
     },
     "execution_count": 23,
     "metadata": {},
     "output_type": "execute_result"
    }
   ],
   "source": [
    "data[\"Attr12\"].head()"
   ]
  },
  {
   "cell_type": "code",
   "execution_count": 24,
   "metadata": {},
   "outputs": [
    {
     "data": {
      "text/plain": [
       "0   -0.156456\n",
       "1         inf\n",
       "2   -1.070611\n",
       "3    0.841394\n",
       "4    1.873236\n",
       "dtype: float64"
      ]
     },
     "execution_count": 24,
     "metadata": {},
     "output_type": "execute_result"
    }
   ],
   "source": [
    "(gross_profit / short_term_liabilities).head()"
   ]
  },
  {
   "cell_type": "code",
   "execution_count": 25,
   "metadata": {},
   "outputs": [
    {
     "data": {
      "text/plain": [
       "1       0\n",
       "716     0\n",
       "1365    0\n",
       "1580    0\n",
       "1640    1\n",
       "1960    0\n",
       "2008    0\n",
       "2241    0\n",
       "2272    0\n",
       "2430    0\n",
       "2555    0\n",
       "2586    0\n",
       "2823    0\n",
       "2938    0\n",
       "3228    0\n",
       "3483    0\n",
       "4445    0\n",
       "4838    0\n",
       "4849    0\n",
       "5033    0\n",
       "5381    0\n",
       "5453    0\n",
       "5538    0\n",
       "5733    0\n",
       "5842    0\n",
       "6110    0\n",
       "6377    0\n",
       "6835    0\n",
       "Name: class, dtype: int64"
      ]
     },
     "execution_count": 25,
     "metadata": {},
     "output_type": "execute_result"
    }
   ],
   "source": [
    "data[\"class\"][short_term_liabilities==0]"
   ]
  },
  {
   "cell_type": "markdown",
   "metadata": {},
   "source": [
    "분모가 0인걸 방지하기 위해 제일 작은 값을 넣어주자"
   ]
  },
  {
   "cell_type": "code",
   "execution_count": 26,
   "metadata": {},
   "outputs": [
    {
     "name": "stdout",
     "output_type": "stream",
     "text": [
      "0.0005674784498752818\n"
     ]
    }
   ],
   "source": [
    "abs_stl = np.abs(short_term_liabilities).sort_values()\n",
    "min_stl = abs_stl[abs_stl>0].iloc[0]\n",
    "print(min_stl)"
   ]
  },
  {
   "cell_type": "code",
   "execution_count": 27,
   "metadata": {},
   "outputs": [
    {
     "name": "stdout",
     "output_type": "stream",
     "text": [
      "0.00080970110465384\n"
     ]
    }
   ],
   "source": [
    "abs_sales = np.abs(sales).sort_values()\n",
    "min_sales = abs_sales[abs_sales>0].iloc[0]\n",
    "print(min_sales)"
   ]
  },
  {
   "cell_type": "code",
   "execution_count": 28,
   "metadata": {},
   "outputs": [
    {
     "name": "stdout",
     "output_type": "stream",
     "text": [
      "0.0006162048482494242\n"
     ]
    }
   ],
   "source": [
    "abs_tl = np.abs(total_liabilities).sort_values()\n",
    "min_tl = abs_tl[abs_tl>0].iloc[0]\n",
    "print(min_tl)"
   ]
  },
  {
   "cell_type": "code",
   "execution_count": 29,
   "metadata": {},
   "outputs": [
    {
     "name": "stdout",
     "output_type": "stream",
     "text": [
      "0.037702938739959564\n"
     ]
    }
   ],
   "source": [
    "abs_equity = np.abs(total_equity).sort_values()\n",
    "min_equity = abs_equity[abs_equity>0].iloc[0]\n",
    "print(min_equity)"
   ]
  },
  {
   "cell_type": "code",
   "execution_count": 30,
   "metadata": {},
   "outputs": [],
   "source": [
    "short_term_liabilities.replace(0, min_stl, inplace = True)\n",
    "sales.replace(0, min_sales, inplace = True)\n",
    "total_liabilities.replace(0, min_tl, inplace = True)\n",
    "total_equity.replace(0, min_equity, inplace = True)"
   ]
  },
  {
   "cell_type": "code",
   "execution_count": 31,
   "metadata": {
    "scrolled": true
   },
   "outputs": [
    {
     "name": "stdout",
     "output_type": "stream",
     "text": [
      "0\n",
      "0\n",
      "0\n",
      "0\n"
     ]
    }
   ],
   "source": [
    "print(np.sum(short_term_liabilities == 0))\n",
    "print(np.sum(sales == 0))\n",
    "print(np.sum(total_liabilities == 0))\n",
    "print(np.sum(total_equity == 0))"
   ]
  },
  {
   "cell_type": "code",
   "execution_count": 32,
   "metadata": {},
   "outputs": [],
   "source": [
    "test = pd.DataFrame()"
   ]
  },
  {
   "cell_type": "code",
   "execution_count": 33,
   "metadata": {},
   "outputs": [],
   "source": [
    "test[\"Attr12\"] = gross_profit / short_term_liabilities\n",
    "test[\"Attr23\"] = net_profit / sales\n",
    "test[\"Attr39\"] = profit_on_sales / sales\n",
    "test[\"Attr49\"] = ebitda / sales\n",
    "test[\"Attr59\"] = long_term_liabilities / total_equity\n",
    "test[\"Attr63\"] = sales / short_term_liabilities"
   ]
  },
  {
   "cell_type": "code",
   "execution_count": 34,
   "metadata": {
    "scrolled": true
   },
   "outputs": [
    {
     "data": {
      "text/plain": [
       "0   -0.023022\n",
       "1    0.571462\n",
       "2   -0.290241\n",
       "3    0.106117\n",
       "4    0.286528\n",
       "Name: Attr23, dtype: float64"
      ]
     },
     "execution_count": 34,
     "metadata": {},
     "output_type": "execute_result"
    }
   ],
   "source": [
    "test[\"Attr23\"].head()"
   ]
  },
  {
   "cell_type": "code",
   "execution_count": 35,
   "metadata": {},
   "outputs": [
    {
     "data": {
      "text/plain": [
       "0     -0.0364\n",
       "1     0.57146\n",
       "2    -0.29024\n",
       "3    0.074743\n",
       "4     0.28652\n",
       "Name: Attr23, dtype: object"
      ]
     },
     "execution_count": 35,
     "metadata": {},
     "output_type": "execute_result"
    }
   ],
   "source": [
    "data[\"Attr23\"].head()"
   ]
  },
  {
   "cell_type": "code",
   "execution_count": 36,
   "metadata": {},
   "outputs": [],
   "source": [
    "calculated_colnames = [\"Attr12\", \"Attr23\", \"Attr39\", \"Attr49\", \"Attr59\", \"Attr63\"]\n",
    "for col_name in calculated_colnames:\n",
    "    data[col_name] = test[col_name]"
   ]
  },
  {
   "cell_type": "code",
   "execution_count": 37,
   "metadata": {},
   "outputs": [
    {
     "data": {
      "text/plain": [
       "Attr12    0\n",
       "Attr23    0\n",
       "Attr39    0\n",
       "Attr49    0\n",
       "Attr59    0\n",
       "Attr63    0\n",
       "dtype: int64"
      ]
     },
     "execution_count": 37,
     "metadata": {},
     "output_type": "execute_result"
    }
   ],
   "source": [
    "np.sum(data.loc[:,calculated_colnames].astype(\"str\")==\"?\")"
   ]
  },
  {
   "cell_type": "code",
   "execution_count": 38,
   "metadata": {
    "scrolled": true
   },
   "outputs": [
    {
     "data": {
      "text/plain": [
       "38"
      ]
     },
     "execution_count": 38,
     "metadata": {},
     "output_type": "execute_result"
    }
   ],
   "source": [
    "np.sum(np.sum(data.astype(\"str\")==\"?\")>0)"
   ]
  },
  {
   "cell_type": "markdown",
   "metadata": {},
   "source": [
    "처음보다 6개가 줄었다! 이제 corr 높은 변수 두 집합에서 각각 하나씩만 선택\n",
    "- 7, 11, 14 -> 7\n",
    "- 16, 26 -> 26"
   ]
  },
  {
   "cell_type": "code",
   "execution_count": 39,
   "metadata": {},
   "outputs": [],
   "source": [
    "data.drop([\"Attr11\", \"Attr14\", \"Attr16\"], axis = 1, inplace = True)"
   ]
  },
  {
   "cell_type": "code",
   "execution_count": 40,
   "metadata": {},
   "outputs": [
    {
     "data": {
      "text/plain": [
       "(6855, 61)"
      ]
     },
     "execution_count": 40,
     "metadata": {},
     "output_type": "execute_result"
    }
   ],
   "source": [
    "data.shape"
   ]
  },
  {
   "cell_type": "code",
   "execution_count": 41,
   "metadata": {},
   "outputs": [
    {
     "data": {
      "text/plain": [
       "37"
      ]
     },
     "execution_count": 41,
     "metadata": {},
     "output_type": "execute_result"
    }
   ],
   "source": [
    "np.sum(np.sum(data.astype(\"str\")==\"?\")>0)"
   ]
  },
  {
   "cell_type": "code",
   "execution_count": 44,
   "metadata": {},
   "outputs": [],
   "source": [
    "data.to_csv(\"calculated_data.csv\")"
   ]
  },
  {
   "cell_type": "code",
   "execution_count": null,
   "metadata": {},
   "outputs": [],
   "source": []
  }
 ],
 "metadata": {
  "kernelspec": {
   "display_name": "Python 3",
   "language": "python",
   "name": "python3"
  },
  "language_info": {
   "codemirror_mode": {
    "name": "ipython",
    "version": 3
   },
   "file_extension": ".py",
   "mimetype": "text/x-python",
   "name": "python",
   "nbconvert_exporter": "python",
   "pygments_lexer": "ipython3",
   "version": "3.7.6"
  }
 },
 "nbformat": 4,
 "nbformat_minor": 4
}
