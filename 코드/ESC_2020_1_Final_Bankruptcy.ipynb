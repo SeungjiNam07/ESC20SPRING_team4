{
 "cells": [
  {
   "cell_type": "code",
   "execution_count": 1,
   "metadata": {},
   "outputs": [],
   "source": [
    "import pandas as pd\n",
    "import numpy as np\n",
    "import seaborn as sns\n",
    "import matplotlib.pyplot as plt"
   ]
  },
  {
   "cell_type": "code",
   "execution_count": 2,
   "metadata": {
    "scrolled": true
   },
   "outputs": [
    {
     "data": {
      "text/html": [
       "<div>\n",
       "<style scoped>\n",
       "    .dataframe tbody tr th:only-of-type {\n",
       "        vertical-align: middle;\n",
       "    }\n",
       "\n",
       "    .dataframe tbody tr th {\n",
       "        vertical-align: top;\n",
       "    }\n",
       "\n",
       "    .dataframe thead th {\n",
       "        text-align: right;\n",
       "    }\n",
       "</style>\n",
       "<table border=\"1\" class=\"dataframe\">\n",
       "  <thead>\n",
       "    <tr style=\"text-align: right;\">\n",
       "      <th></th>\n",
       "      <th>Attr1</th>\n",
       "      <th>Attr2</th>\n",
       "      <th>Attr3</th>\n",
       "      <th>Attr4</th>\n",
       "      <th>Attr5</th>\n",
       "      <th>Attr6</th>\n",
       "      <th>Attr7</th>\n",
       "      <th>Attr8</th>\n",
       "      <th>Attr9</th>\n",
       "      <th>Attr10</th>\n",
       "      <th>...</th>\n",
       "      <th>Attr56</th>\n",
       "      <th>Attr57</th>\n",
       "      <th>Attr58</th>\n",
       "      <th>Attr59</th>\n",
       "      <th>Attr60</th>\n",
       "      <th>Attr61</th>\n",
       "      <th>Attr62</th>\n",
       "      <th>Attr63</th>\n",
       "      <th>Attr64</th>\n",
       "      <th>class</th>\n",
       "    </tr>\n",
       "  </thead>\n",
       "  <tbody>\n",
       "    <tr>\n",
       "      <th>0</th>\n",
       "      <td>-0.024558</td>\n",
       "      <td>0.30051</td>\n",
       "      <td>0.10733</td>\n",
       "      <td>1.8368</td>\n",
       "      <td>34.382</td>\n",
       "      <td>-0.026711</td>\n",
       "      <td>-0.020067</td>\n",
       "      <td>2.2519</td>\n",
       "      <td>1.06670</td>\n",
       "      <td>0.67673</td>\n",
       "      <td>...</td>\n",
       "      <td>0.062497</td>\n",
       "      <td>-0.036289</td>\n",
       "      <td>0.9375</td>\n",
       "      <td>0.25454</td>\n",
       "      <td>13.632</td>\n",
       "      <td>3.693</td>\n",
       "      <td>69.389</td>\n",
       "      <td>5.2602</td>\n",
       "      <td>0.8826</td>\n",
       "      <td>0</td>\n",
       "    </tr>\n",
       "    <tr>\n",
       "      <th>1</th>\n",
       "      <td>0.639180</td>\n",
       "      <td>0.00000</td>\n",
       "      <td>1.00000</td>\n",
       "      <td>?</td>\n",
       "      <td>29.678</td>\n",
       "      <td>-1.139300</td>\n",
       "      <td>0.760520</td>\n",
       "      <td>?</td>\n",
       "      <td>1.11850</td>\n",
       "      <td>1.00000</td>\n",
       "      <td>...</td>\n",
       "      <td>0.67983</td>\n",
       "      <td>0.63918</td>\n",
       "      <td>0.32014</td>\n",
       "      <td>0.0</td>\n",
       "      <td>?</td>\n",
       "      <td>37.886</td>\n",
       "      <td>0</td>\n",
       "      <td>?</td>\n",
       "      <td>?</td>\n",
       "      <td>0</td>\n",
       "    </tr>\n",
       "    <tr>\n",
       "      <th>2</th>\n",
       "      <td>-0.440760</td>\n",
       "      <td>0.47723</td>\n",
       "      <td>0.19260</td>\n",
       "      <td>1.4678</td>\n",
       "      <td>34.555</td>\n",
       "      <td>0.000000</td>\n",
       "      <td>-0.440760</td>\n",
       "      <td>1.0954</td>\n",
       "      <td>1.51860</td>\n",
       "      <td>0.52277</td>\n",
       "      <td>...</td>\n",
       "      <td>-0.29059</td>\n",
       "      <td>-0.84313</td>\n",
       "      <td>1.2871</td>\n",
       "      <td>0.12538</td>\n",
       "      <td>?</td>\n",
       "      <td>2.5649</td>\n",
       "      <td>98.95</td>\n",
       "      <td>3.6887</td>\n",
       "      <td>3.8376</td>\n",
       "      <td>0</td>\n",
       "    </tr>\n",
       "    <tr>\n",
       "      <th>3</th>\n",
       "      <td>0.119520</td>\n",
       "      <td>0.17679</td>\n",
       "      <td>0.63546</td>\n",
       "      <td>4.5944</td>\n",
       "      <td>117.65</td>\n",
       "      <td>0.251540</td>\n",
       "      <td>0.148750</td>\n",
       "      <td>4.5826</td>\n",
       "      <td>1.12630</td>\n",
       "      <td>0.81017</td>\n",
       "      <td>...</td>\n",
       "      <td>0.11211</td>\n",
       "      <td>0.14752</td>\n",
       "      <td>0.88789</td>\n",
       "      <td>0.0</td>\n",
       "      <td>8.9302</td>\n",
       "      <td>10.287</td>\n",
       "      <td>40.355</td>\n",
       "      <td>9.0448</td>\n",
       "      <td>8.5169</td>\n",
       "      <td>0</td>\n",
       "    </tr>\n",
       "    <tr>\n",
       "      <th>4</th>\n",
       "      <td>0.230400</td>\n",
       "      <td>0.27095</td>\n",
       "      <td>0.23762</td>\n",
       "      <td>2.5745</td>\n",
       "      <td>-26.928</td>\n",
       "      <td>0.617540</td>\n",
       "      <td>0.282690</td>\n",
       "      <td>2.6907</td>\n",
       "      <td>0.80411</td>\n",
       "      <td>0.72905</td>\n",
       "      <td>...</td>\n",
       "      <td>0.45957</td>\n",
       "      <td>0.31602</td>\n",
       "      <td>0.6232</td>\n",
       "      <td>0.16465</td>\n",
       "      <td>7.9274</td>\n",
       "      <td>6.6605</td>\n",
       "      <td>68.502</td>\n",
       "      <td>5.3283</td>\n",
       "      <td>1.315</td>\n",
       "      <td>0</td>\n",
       "    </tr>\n",
       "  </tbody>\n",
       "</table>\n",
       "<p>5 rows × 65 columns</p>\n",
       "</div>"
      ],
      "text/plain": [
       "      Attr1    Attr2    Attr3   Attr4    Attr5     Attr6     Attr7   Attr8  \\\n",
       "0 -0.024558  0.30051  0.10733  1.8368   34.382 -0.026711 -0.020067  2.2519   \n",
       "1  0.639180  0.00000  1.00000       ?   29.678 -1.139300  0.760520       ?   \n",
       "2 -0.440760  0.47723  0.19260  1.4678   34.555  0.000000 -0.440760  1.0954   \n",
       "3  0.119520  0.17679  0.63546  4.5944   117.65  0.251540  0.148750  4.5826   \n",
       "4  0.230400  0.27095  0.23762  2.5745  -26.928  0.617540  0.282690  2.6907   \n",
       "\n",
       "     Attr9   Attr10  ...    Attr56     Attr57   Attr58   Attr59  Attr60  \\\n",
       "0  1.06670  0.67673  ...  0.062497  -0.036289   0.9375  0.25454  13.632   \n",
       "1  1.11850  1.00000  ...   0.67983    0.63918  0.32014      0.0       ?   \n",
       "2  1.51860  0.52277  ...  -0.29059   -0.84313   1.2871  0.12538       ?   \n",
       "3  1.12630  0.81017  ...   0.11211    0.14752  0.88789      0.0  8.9302   \n",
       "4  0.80411  0.72905  ...   0.45957    0.31602   0.6232  0.16465  7.9274   \n",
       "\n",
       "   Attr61  Attr62  Attr63  Attr64 class  \n",
       "0   3.693  69.389  5.2602  0.8826     0  \n",
       "1  37.886       0       ?       ?     0  \n",
       "2  2.5649   98.95  3.6887  3.8376     0  \n",
       "3  10.287  40.355  9.0448  8.5169     0  \n",
       "4  6.6605  68.502  5.3283   1.315     0  \n",
       "\n",
       "[5 rows x 65 columns]"
      ]
     },
     "execution_count": 2,
     "metadata": {},
     "output_type": "execute_result"
    }
   ],
   "source": [
    "data = pd.read_csv(\"FS_2y_before_Bankruptcy_train.csv\")\n",
    "data.head()"
   ]
  },
  {
   "cell_type": "code",
   "execution_count": 26,
   "metadata": {},
   "outputs": [
    {
     "data": {
      "text/plain": [
       "(6855, 65)"
      ]
     },
     "execution_count": 26,
     "metadata": {},
     "output_type": "execute_result"
    }
   ],
   "source": [
    "data.shape"
   ]
  },
  {
   "cell_type": "code",
   "execution_count": 34,
   "metadata": {},
   "outputs": [
    {
     "data": {
      "text/plain": [
       "361"
      ]
     },
     "execution_count": 34,
     "metadata": {},
     "output_type": "execute_result"
    }
   ],
   "source": [
    "np.sum(data[\"class\"]==1)"
   ]
  },
  {
   "cell_type": "markdown",
   "metadata": {},
   "source": [
    "파산한 기업은 6855개 중 361개 밖에 없다"
   ]
  },
  {
   "cell_type": "code",
   "execution_count": 3,
   "metadata": {
    "scrolled": true
   },
   "outputs": [
    {
     "data": {
      "text/plain": [
       "Attr1     0\n",
       "Attr2     0\n",
       "Attr3     0\n",
       "Attr4     0\n",
       "Attr5     0\n",
       "         ..\n",
       "Attr61    0\n",
       "Attr62    0\n",
       "Attr63    0\n",
       "Attr64    0\n",
       "class     0\n",
       "Length: 65, dtype: int64"
      ]
     },
     "execution_count": 3,
     "metadata": {},
     "output_type": "execute_result"
    }
   ],
   "source": [
    "data.isna().sum()"
   ]
  },
  {
   "cell_type": "code",
   "execution_count": 16,
   "metadata": {},
   "outputs": [
    {
     "data": {
      "text/plain": [
       "0"
      ]
     },
     "execution_count": 16,
     "metadata": {},
     "output_type": "execute_result"
    }
   ],
   "source": [
    "np.sum((data.isna().sum()!=0))"
   ]
  },
  {
   "cell_type": "markdown",
   "metadata": {},
   "source": [
    "Nan 값은 하나도 없다"
   ]
  },
  {
   "cell_type": "markdown",
   "metadata": {},
   "source": [
    "?가 보이니 ? 개수를 세어봤더니 ? 값은 엄청 많다.."
   ]
  },
  {
   "cell_type": "code",
   "execution_count": 25,
   "metadata": {},
   "outputs": [
    {
     "data": {
      "text/plain": [
       "Attr33      28\n",
       "Attr47      57\n",
       "Attr52      60\n",
       "Attr32      72\n",
       "Attr21     112\n",
       "Attr41     142\n",
       "Attr24     149\n",
       "Attr53     162\n",
       "Attr54     162\n",
       "Attr28     162\n",
       "Attr64     162\n",
       "Attr45     418\n",
       "Attr60     420\n",
       "Attr27     462\n",
       "Attr37    3100\n",
       "dtype: int64"
      ]
     },
     "execution_count": 25,
     "metadata": {},
     "output_type": "execute_result"
    }
   ],
   "source": [
    "np.sum(data == \"?\").sort_values()[-15:]"
   ]
  },
  {
   "cell_type": "markdown",
   "metadata": {},
   "source": [
    "Attr37은 6855개 중에 3100개가 ?값인데 과연 이걸 쓸 수 있을까..? (X37 (current assets - inventories) / long-term liabilities)"
   ]
  },
  {
   "cell_type": "code",
   "execution_count": 17,
   "metadata": {},
   "outputs": [
    {
     "data": {
      "text/plain": [
       "6132"
      ]
     },
     "execution_count": 17,
     "metadata": {},
     "output_type": "execute_result"
    }
   ],
   "source": [
    "np.sum(np.sum(data == \"?\"))"
   ]
  },
  {
   "cell_type": "markdown",
   "metadata": {},
   "source": [
    "총 6132개나 있다"
   ]
  },
  {
   "cell_type": "code",
   "execution_count": 19,
   "metadata": {},
   "outputs": [
    {
     "data": {
      "text/plain": [
       "0     3334\n",
       "1     2577\n",
       "2      413\n",
       "3      223\n",
       "4       85\n",
       "5       78\n",
       "6       41\n",
       "7       39\n",
       "8       15\n",
       "9        9\n",
       "14       7\n",
       "10       6\n",
       "18       4\n",
       "17       4\n",
       "11       4\n",
       "15       3\n",
       "13       3\n",
       "16       2\n",
       "12       2\n",
       "21       2\n",
       "20       1\n",
       "25       1\n",
       "22       1\n",
       "19       1\n",
       "dtype: int64"
      ]
     },
     "execution_count": 19,
     "metadata": {},
     "output_type": "execute_result"
    }
   ],
   "source": [
    "np.sum(data == \"?\", axis = 1).value_counts()"
   ]
  },
  {
   "cell_type": "markdown",
   "metadata": {},
   "source": [
    "- 행별로 ? 가 있는 것끼리 상관관계를 봤더니 아예 ?가 없는 행은 3334개밖에없다.\n",
    "- 그러므로 그냥 ? 있는 행을 지워서는 안 된다..\n",
    "- ?가 많은 행도 있지만 딱히 엄청 상관관계가 있어 보이진 않는다.\n",
    "- ?가 많은 행의 target 변수들을 비교한 후 상관관계를 보고 ?가 너무 많은 행은 그냥 없애도 되지않을까.. 숫자도 적고,, (변수가 총 64개인데 Nan 값이 25개라니,,)\n",
    "- 계산 식들이니까 혹시 다른 변수들을 이용해 ? 값을 구할 방법은 없을까?"
   ]
  },
  {
   "cell_type": "code",
   "execution_count": 30,
   "metadata": {},
   "outputs": [
    {
     "name": "stderr",
     "output_type": "stream",
     "text": [
      "C:\\Users\\MINJU\\Anaconda3\\lib\\site-packages\\pandas\\core\\ops\\array_ops.py:253: FutureWarning: elementwise comparison failed; returning scalar instead, but in the future will perform elementwise comparison\n",
      "  res_values = method(rvalues)\n"
     ]
    },
    {
     "data": {
      "text/html": [
       "<div>\n",
       "<style scoped>\n",
       "    .dataframe tbody tr th:only-of-type {\n",
       "        vertical-align: middle;\n",
       "    }\n",
       "\n",
       "    .dataframe tbody tr th {\n",
       "        vertical-align: top;\n",
       "    }\n",
       "\n",
       "    .dataframe thead th {\n",
       "        text-align: right;\n",
       "    }\n",
       "</style>\n",
       "<table border=\"1\" class=\"dataframe\">\n",
       "  <thead>\n",
       "    <tr style=\"text-align: right;\">\n",
       "      <th></th>\n",
       "      <th>Attr1</th>\n",
       "      <th>Attr2</th>\n",
       "      <th>Attr3</th>\n",
       "      <th>Attr4</th>\n",
       "      <th>Attr5</th>\n",
       "      <th>Attr6</th>\n",
       "      <th>Attr7</th>\n",
       "      <th>Attr8</th>\n",
       "      <th>Attr9</th>\n",
       "      <th>Attr10</th>\n",
       "      <th>...</th>\n",
       "      <th>Attr56</th>\n",
       "      <th>Attr57</th>\n",
       "      <th>Attr58</th>\n",
       "      <th>Attr59</th>\n",
       "      <th>Attr60</th>\n",
       "      <th>Attr61</th>\n",
       "      <th>Attr62</th>\n",
       "      <th>Attr63</th>\n",
       "      <th>Attr64</th>\n",
       "      <th>class</th>\n",
       "    </tr>\n",
       "  </thead>\n",
       "  <tbody>\n",
       "    <tr>\n",
       "      <th>1</th>\n",
       "      <td>0.639180</td>\n",
       "      <td>0.000000</td>\n",
       "      <td>1.000000</td>\n",
       "      <td>?</td>\n",
       "      <td>29.678</td>\n",
       "      <td>-1.139300</td>\n",
       "      <td>0.760520</td>\n",
       "      <td>?</td>\n",
       "      <td>1.11850</td>\n",
       "      <td>1.00000</td>\n",
       "      <td>...</td>\n",
       "      <td>0.67983</td>\n",
       "      <td>0.63918</td>\n",
       "      <td>0.32014</td>\n",
       "      <td>0.0</td>\n",
       "      <td>?</td>\n",
       "      <td>37.886</td>\n",
       "      <td>0</td>\n",
       "      <td>?</td>\n",
       "      <td>?</td>\n",
       "      <td>0</td>\n",
       "    </tr>\n",
       "    <tr>\n",
       "      <th>141</th>\n",
       "      <td>-0.154180</td>\n",
       "      <td>0.001647</td>\n",
       "      <td>0.165690</td>\n",
       "      <td>101.6</td>\n",
       "      <td>1628.3</td>\n",
       "      <td>0.408540</td>\n",
       "      <td>-0.154180</td>\n",
       "      <td>606.19</td>\n",
       "      <td>0.00000</td>\n",
       "      <td>0.99835</td>\n",
       "      <td>...</td>\n",
       "      <td>?</td>\n",
       "      <td>-0.15442999999999998</td>\n",
       "      <td>?</td>\n",
       "      <td>0.0</td>\n",
       "      <td>?</td>\n",
       "      <td>0</td>\n",
       "      <td>?</td>\n",
       "      <td>0</td>\n",
       "      <td>0</td>\n",
       "      <td>0</td>\n",
       "    </tr>\n",
       "    <tr>\n",
       "      <th>633</th>\n",
       "      <td>-0.004334</td>\n",
       "      <td>0.562210</td>\n",
       "      <td>-0.018071</td>\n",
       "      <td>0.87135</td>\n",
       "      <td>84531</td>\n",
       "      <td>-0.005906</td>\n",
       "      <td>-0.004510</td>\n",
       "      <td>0.77871</td>\n",
       "      <td>0.00000</td>\n",
       "      <td>0.43779</td>\n",
       "      <td>...</td>\n",
       "      <td>?</td>\n",
       "      <td>0.0</td>\n",
       "      <td>0.17714</td>\n",
       "      <td>0.9633200000000001</td>\n",
       "      <td>0</td>\n",
       "      <td>0</td>\n",
       "      <td>?</td>\n",
       "      <td>0</td>\n",
       "      <td>0</td>\n",
       "      <td>0</td>\n",
       "    </tr>\n",
       "    <tr>\n",
       "      <th>880</th>\n",
       "      <td>0.000000</td>\n",
       "      <td>0.107350</td>\n",
       "      <td>-0.016672</td>\n",
       "      <td>0.47952</td>\n",
       "      <td>-217.74</td>\n",
       "      <td>0.024983</td>\n",
       "      <td>0.027346</td>\n",
       "      <td>8.3156</td>\n",
       "      <td>0.00000</td>\n",
       "      <td>0.89265</td>\n",
       "      <td>...</td>\n",
       "      <td>?</td>\n",
       "      <td>0.0</td>\n",
       "      <td>?</td>\n",
       "      <td>0.084372</td>\n",
       "      <td>?</td>\n",
       "      <td>0</td>\n",
       "      <td>?</td>\n",
       "      <td>0</td>\n",
       "      <td>0</td>\n",
       "      <td>0</td>\n",
       "    </tr>\n",
       "    <tr>\n",
       "      <th>1580</th>\n",
       "      <td>0.036402</td>\n",
       "      <td>0.000000</td>\n",
       "      <td>1.000000</td>\n",
       "      <td>?</td>\n",
       "      <td>0</td>\n",
       "      <td>0.072750</td>\n",
       "      <td>0.044946</td>\n",
       "      <td>?</td>\n",
       "      <td>0.07501</td>\n",
       "      <td>1.00000</td>\n",
       "      <td>...</td>\n",
       "      <td>-2.8239</td>\n",
       "      <td>0.036402</td>\n",
       "      <td>0.86456</td>\n",
       "      <td>0.0</td>\n",
       "      <td>0.11475</td>\n",
       "      <td>?</td>\n",
       "      <td>0</td>\n",
       "      <td>?</td>\n",
       "      <td>?</td>\n",
       "      <td>0</td>\n",
       "    </tr>\n",
       "  </tbody>\n",
       "</table>\n",
       "<p>5 rows × 65 columns</p>\n",
       "</div>"
      ],
      "text/plain": [
       "         Attr1     Attr2     Attr3    Attr4    Attr5     Attr6     Attr7  \\\n",
       "1     0.639180  0.000000  1.000000        ?   29.678 -1.139300  0.760520   \n",
       "141  -0.154180  0.001647  0.165690    101.6   1628.3  0.408540 -0.154180   \n",
       "633  -0.004334  0.562210 -0.018071  0.87135    84531 -0.005906 -0.004510   \n",
       "880   0.000000  0.107350 -0.016672  0.47952  -217.74  0.024983  0.027346   \n",
       "1580  0.036402  0.000000  1.000000        ?        0  0.072750  0.044946   \n",
       "\n",
       "        Attr8    Attr9   Attr10  ...   Attr56                Attr57   Attr58  \\\n",
       "1           ?  1.11850  1.00000  ...  0.67983               0.63918  0.32014   \n",
       "141    606.19  0.00000  0.99835  ...        ?  -0.15442999999999998        ?   \n",
       "633   0.77871  0.00000  0.43779  ...        ?                   0.0  0.17714   \n",
       "880    8.3156  0.00000  0.89265  ...        ?                   0.0        ?   \n",
       "1580        ?  0.07501  1.00000  ...  -2.8239              0.036402  0.86456   \n",
       "\n",
       "                  Attr59   Attr60  Attr61 Attr62  Attr63 Attr64 class  \n",
       "1                    0.0        ?  37.886      0       ?      ?     0  \n",
       "141                  0.0        ?       0      ?       0      0     0  \n",
       "633   0.9633200000000001        0       0      ?       0      0     0  \n",
       "880             0.084372        ?       0      ?       0      0     0  \n",
       "1580                 0.0  0.11475       ?      0       ?      ?     0  \n",
       "\n",
       "[5 rows x 65 columns]"
      ]
     },
     "execution_count": 30,
     "metadata": {},
     "output_type": "execute_result"
    }
   ],
   "source": [
    "many_nan_data = data[np.sum(data == \"?\", axis = 1)>=15]\n",
    "many_nan_data.head()"
   ]
  },
  {
   "cell_type": "code",
   "execution_count": 32,
   "metadata": {},
   "outputs": [
    {
     "data": {
      "text/plain": [
       "(19, 65)"
      ]
     },
     "execution_count": 32,
     "metadata": {},
     "output_type": "execute_result"
    }
   ],
   "source": [
    "many_nan_data.shape"
   ]
  },
  {
   "cell_type": "code",
   "execution_count": 35,
   "metadata": {},
   "outputs": [
    {
     "data": {
      "text/plain": [
       "1"
      ]
     },
     "execution_count": 35,
     "metadata": {},
     "output_type": "execute_result"
    }
   ],
   "source": [
    "np.sum(many_nan_data[\"class\"])"
   ]
  },
  {
   "cell_type": "markdown",
   "metadata": {},
   "source": [
    "19개 밖에 하나밖에 없는 걸 보니 ?의 개수가 그렇게 유의미하진 않은 것 같다."
   ]
  },
  {
   "cell_type": "code",
   "execution_count": 36,
   "metadata": {},
   "outputs": [
    {
     "name": "stderr",
     "output_type": "stream",
     "text": [
      "C:\\Users\\MINJU\\Anaconda3\\lib\\site-packages\\pandas\\core\\ops\\array_ops.py:253: FutureWarning: elementwise comparison failed; returning scalar instead, but in the future will perform elementwise comparison\n",
      "  res_values = method(rvalues)\n"
     ]
    },
    {
     "data": {
      "text/plain": [
       "Attr62    12\n",
       "Attr19    12\n",
       "Attr20    12\n",
       "Attr56    12\n",
       "Attr13    12\n",
       "Attr42    12\n",
       "Attr43    12\n",
       "Attr30    12\n",
       "Attr49    12\n",
       "Attr31    12\n",
       "Attr23    12\n",
       "Attr39    12\n",
       "Attr37    14\n",
       "Attr45    16\n",
       "Attr60    16\n",
       "dtype: int64"
      ]
     },
     "execution_count": 36,
     "metadata": {},
     "output_type": "execute_result"
    }
   ],
   "source": [
    "np.sum(many_nan_data== \"?\").sort_values()[-15:]"
   ]
  },
  {
   "cell_type": "markdown",
   "metadata": {},
   "source": [
    "얘들은 위의 결측치 순위(요 바로 밑의 것과 같음) 와는 또 다르다,,(Attr 37은 여기서도 여전히 많다)"
   ]
  },
  {
   "cell_type": "code",
   "execution_count": 37,
   "metadata": {},
   "outputs": [
    {
     "data": {
      "text/plain": [
       "Attr33      28\n",
       "Attr47      57\n",
       "Attr52      60\n",
       "Attr32      72\n",
       "Attr21     112\n",
       "Attr41     142\n",
       "Attr24     149\n",
       "Attr53     162\n",
       "Attr54     162\n",
       "Attr28     162\n",
       "Attr64     162\n",
       "Attr45     418\n",
       "Attr60     420\n",
       "Attr27     462\n",
       "Attr37    3100\n",
       "dtype: int64"
      ]
     },
     "execution_count": 37,
     "metadata": {},
     "output_type": "execute_result"
    }
   ],
   "source": [
    "np.sum(data == \"?\").sort_values()[-15:]"
   ]
  },
  {
   "cell_type": "markdown",
   "metadata": {},
   "source": [
    "## 변수 별 분포 보기 (변수 별로 ? 있는 값은 일단 여기선 빼고 확인)"
   ]
  },
  {
   "cell_type": "markdown",
   "metadata": {},
   "source": [
    "- X1 net profit / total assets\n",
    "- X2 total liabilities / total assets\n",
    "- X3 working capital / total assets\n",
    "- X4 current assets / short-term liabilities\n",
    "- X5 [(cash + short-term securities + receivables - short-term liabilities) / (operating expenses - depreciation)] * 365"
   ]
  },
  {
   "cell_type": "markdown",
   "metadata": {},
   "source": [
    "## X1"
   ]
  },
  {
   "cell_type": "code",
   "execution_count": 43,
   "metadata": {},
   "outputs": [
    {
     "data": {
      "text/plain": [
       "0   -0.024558\n",
       "1    0.639180\n",
       "2   -0.440760\n",
       "3    0.119520\n",
       "4    0.230400\n",
       "Name: Attr1, dtype: float64"
      ]
     },
     "execution_count": 43,
     "metadata": {},
     "output_type": "execute_result"
    }
   ],
   "source": [
    "x1 = data.iloc[:, 0]\n",
    "x1.head()"
   ]
  },
  {
   "cell_type": "code",
   "execution_count": 44,
   "metadata": {},
   "outputs": [
    {
     "data": {
      "text/plain": [
       "0"
      ]
     },
     "execution_count": 44,
     "metadata": {},
     "output_type": "execute_result"
    }
   ],
   "source": [
    "np.sum(x1==\"?\")"
   ]
  },
  {
   "cell_type": "code",
   "execution_count": 45,
   "metadata": {},
   "outputs": [
    {
     "name": "stderr",
     "output_type": "stream",
     "text": [
      "C:\\Users\\MINJU\\Anaconda3\\lib\\site-packages\\scipy\\stats\\stats.py:1713: FutureWarning: Using a non-tuple sequence for multidimensional indexing is deprecated; use `arr[tuple(seq)]` instead of `arr[seq]`. In the future this will be interpreted as an array index, `arr[np.array(seq)]`, which will result either in an error or a different result.\n",
      "  return np.add.reduce(sorted[indexer] * weights, axis=axis) / sumval\n"
     ]
    },
    {
     "data": {
      "text/plain": [
       "<matplotlib.axes._subplots.AxesSubplot at 0x149d5ba5898>"
      ]
     },
     "execution_count": 45,
     "metadata": {},
     "output_type": "execute_result"
    },
    {
     "data": {
      "image/png": "[encoded data removed]",
      "text/plain": [
       "<Figure size 432x288 with 1 Axes>"
      ]
     },
     "metadata": {
      "needs_background": "light"
     },
     "output_type": "display_data"
    }
   ],
   "source": [
    "sns.distplot(x1)"
   ]
  },
  {
   "cell_type": "code",
   "execution_count": 47,
   "metadata": {},
   "outputs": [
    {
     "name": "stdout",
     "output_type": "stream",
     "text": [
      "-12.458\n",
      "9.8037\n"
     ]
    }
   ],
   "source": [
    "print(np.min(x1)); print(np.max(x1))"
   ]
  },
  {
   "cell_type": "code",
   "execution_count": 62,
   "metadata": {},
   "outputs": [
    {
     "data": {
      "text/plain": [
       "[(-3, 3)]"
      ]
     },
     "execution_count": 62,
     "metadata": {},
     "output_type": "execute_result"
    },
    {
     "data": {
      "image/png": "[encoded data removed]",
      "text/plain": [
       "<Figure size 432x288 with 1 Axes>"
      ]
     },
     "metadata": {
      "needs_background": "light"
     },
     "output_type": "display_data"
    }
   ],
   "source": [
    "ax = sns.distplot(x1)\n",
    "ax.set(xlim=(-3, 3))"
   ]
  },
  {
   "cell_type": "code",
   "execution_count": 70,
   "metadata": {},
   "outputs": [
    {
     "data": {
      "text/plain": [
       "[(-3, 3)]"
      ]
     },
     "execution_count": 70,
     "metadata": {},
     "output_type": "execute_result"
    },
    {
     "data": {
      "image/png": "[encoded data removed]",
      "text/plain": [
       "<Figure size 432x288 with 1 Axes>"
      ]
     },
     "metadata": {
      "needs_background": "light"
     },
     "output_type": "display_data"
    }
   ],
   "source": [
    "ax2 = sns.distplot(x1[data[\"class\"]==0], hist = False)\n",
    "ax2 = sns.distplot(x1[data[\"class\"]==1], hist = False)\n",
    "ax2.set(xlim = (-3, 3))"
   ]
  },
  {
   "cell_type": "markdown",
   "metadata": {},
   "source": [
    "## X2"
   ]
  },
  {
   "cell_type": "code",
   "execution_count": 71,
   "metadata": {},
   "outputs": [
    {
     "data": {
      "text/plain": [
       "0    0.30051\n",
       "1    0.00000\n",
       "2    0.47723\n",
       "3    0.17679\n",
       "4    0.27095\n",
       "Name: Attr2, dtype: float64"
      ]
     },
     "execution_count": 71,
     "metadata": {},
     "output_type": "execute_result"
    }
   ],
   "source": [
    "x2 = data.iloc[:, 1]\n",
    "x2.head()"
   ]
  },
  {
   "cell_type": "code",
   "execution_count": 72,
   "metadata": {},
   "outputs": [
    {
     "data": {
      "text/plain": [
       "0"
      ]
     },
     "execution_count": 72,
     "metadata": {},
     "output_type": "execute_result"
    }
   ],
   "source": [
    "np.sum(x2==\"?\")"
   ]
  },
  {
   "cell_type": "code",
   "execution_count": 80,
   "metadata": {},
   "outputs": [
    {
     "data": {
      "image/png": "[encoded data removed]",
      "text/plain": [
       "<Figure size 432x288 with 1 Axes>"
      ]
     },
     "metadata": {
      "needs_background": "light"
     },
     "output_type": "display_data"
    }
   ],
   "source": [
    "ax = sns.distplot(x2)"
   ]
  },
  {
   "cell_type": "code",
   "execution_count": 82,
   "metadata": {},
   "outputs": [
    {
     "data": {
      "text/plain": [
       "[(0, 10)]"
      ]
     },
     "execution_count": 82,
     "metadata": {},
     "output_type": "execute_result"
    },
    {
     "data": {
      "image/png": "[encoded data removed]",
      "text/plain": [
       "<Figure size 432x288 with 1 Axes>"
      ]
     },
     "metadata": {
      "needs_background": "light"
     },
     "output_type": "display_data"
    }
   ],
   "source": [
    "ax = sns.distplot(x2)\n",
    "ax.set(xlim = (0,10))"
   ]
  },
  {
   "cell_type": "markdown",
   "metadata": {},
   "source": [
    "log transformation 필요할듯?"
   ]
  },
  {
   "cell_type": "code",
   "execution_count": 84,
   "metadata": {},
   "outputs": [
    {
     "data": {
      "text/plain": [
       "[(0, 10)]"
      ]
     },
     "execution_count": 84,
     "metadata": {},
     "output_type": "execute_result"
    },
    {
     "data": {
      "image/png": "[encoded data removed]",
      "text/plain": [
       "<Figure size 432x288 with 1 Axes>"
      ]
     },
     "metadata": {
      "needs_background": "light"
     },
     "output_type": "display_data"
    }
   ],
   "source": [
    "ax2 = sns.distplot(x2[data[\"class\"]==0], hist = False)\n",
    "ax2 = sns.distplot(x2[data[\"class\"]==1], hist = False)\n",
    "ax2.set(xlim = (0, 10))"
   ]
  },
  {
   "cell_type": "markdown",
   "metadata": {},
   "source": [
    "## X3"
   ]
  },
  {
   "cell_type": "code",
   "execution_count": 105,
   "metadata": {},
   "outputs": [
    {
     "name": "stdout",
     "output_type": "stream",
     "text": [
      "65\n"
     ]
    }
   ],
   "source": [
    "x = [0]\n",
    "for i in range(data.shape[1] - 1):\n",
    "    x.append(data.iloc[:, i])\n",
    "    \n",
    "print(len(x))"
   ]
  },
  {
   "cell_type": "code",
   "execution_count": 109,
   "metadata": {},
   "outputs": [
    {
     "data": {
      "text/plain": [
       "0"
      ]
     },
     "execution_count": 109,
     "metadata": {},
     "output_type": "execute_result"
    }
   ],
   "source": [
    "np.sum(x[3]==\"?\")"
   ]
  },
  {
   "cell_type": "code",
   "execution_count": 110,
   "metadata": {},
   "outputs": [
    {
     "data": {
      "image/png": "[encoded data removed]",
      "text/plain": [
       "<Figure size 432x288 with 1 Axes>"
      ]
     },
     "metadata": {
      "needs_background": "light"
     },
     "output_type": "display_data"
    }
   ],
   "source": [
    "ax = sns.distplot(x[3])"
   ]
  },
  {
   "cell_type": "code",
   "execution_count": 112,
   "metadata": {},
   "outputs": [
    {
     "data": {
      "text/plain": [
       "[(-5, 5)]"
      ]
     },
     "execution_count": 112,
     "metadata": {},
     "output_type": "execute_result"
    },
    {
     "data": {
      "image/png": "[encoded data removed]",
      "text/plain": [
       "<Figure size 432x288 with 1 Axes>"
      ]
     },
     "metadata": {
      "needs_background": "light"
     },
     "output_type": "display_data"
    }
   ],
   "source": [
    "ax = sns.distplot(x[3])\n",
    "ax.set(xlim = (-5,5))"
   ]
  },
  {
   "cell_type": "code",
   "execution_count": 113,
   "metadata": {},
   "outputs": [
    {
     "data": {
      "text/plain": [
       "[(-5, 5)]"
      ]
     },
     "execution_count": 113,
     "metadata": {},
     "output_type": "execute_result"
    },
    {
     "data": {
      "image/png": "[encoded data removed]",
      "text/plain": [
       "<Figure size 432x288 with 1 Axes>"
      ]
     },
     "metadata": {
      "needs_background": "light"
     },
     "output_type": "display_data"
    }
   ],
   "source": [
    "ax2 = sns.distplot(x[3][data[\"class\"]==0], hist = False)\n",
    "ax2 = sns.distplot(x[3][data[\"class\"]==1], hist = False)\n",
    "ax2.set(xlim = (-5,5))"
   ]
  },
  {
   "cell_type": "markdown",
   "metadata": {},
   "source": [
    "## X4"
   ]
  },
  {
   "cell_type": "code",
   "execution_count": 114,
   "metadata": {},
   "outputs": [
    {
     "data": {
      "text/plain": [
       "28"
      ]
     },
     "execution_count": 114,
     "metadata": {},
     "output_type": "execute_result"
    }
   ],
   "source": [
    "np.sum(x[4]==\"?\")"
   ]
  },
  {
   "cell_type": "code",
   "execution_count": 125,
   "metadata": {},
   "outputs": [
    {
     "name": "stdout",
     "output_type": "stream",
     "text": [
      "6827\n"
     ]
    }
   ],
   "source": [
    "new_x4 = x[4][x[4] != \"?\"].astype(\"float64\")\n",
    "print(len(new_x4))"
   ]
  },
  {
   "cell_type": "code",
   "execution_count": 126,
   "metadata": {},
   "outputs": [
    {
     "data": {
      "image/png": "[encoded data removed]",
      "text/plain": [
       "<Figure size 432x288 with 1 Axes>"
      ]
     },
     "metadata": {
      "needs_background": "light"
     },
     "output_type": "display_data"
    }
   ],
   "source": [
    "ax = sns.distplot(new_x4)"
   ]
  },
  {
   "cell_type": "code",
   "execution_count": 129,
   "metadata": {},
   "outputs": [
    {
     "data": {
      "text/plain": [
       "27146.0"
      ]
     },
     "execution_count": 129,
     "metadata": {},
     "output_type": "execute_result"
    }
   ],
   "source": [
    "np.max(new_x4)"
   ]
  },
  {
   "cell_type": "code",
   "execution_count": 134,
   "metadata": {},
   "outputs": [
    {
     "data": {
      "text/plain": [
       "2099    27146.000000\n",
       "1847     3848.300000\n",
       "4679     1159.600000\n",
       "5568      703.970000\n",
       "2918      610.720000\n",
       "            ...     \n",
       "2758        0.023048\n",
       "5051        0.021061\n",
       "893         0.016855\n",
       "5446        0.004717\n",
       "1207       -0.045319\n",
       "Name: Attr4, Length: 6827, dtype: float64"
      ]
     },
     "execution_count": 134,
     "metadata": {},
     "output_type": "execute_result"
    }
   ],
   "source": [
    "new_x4.sort_values(ascending=False)"
   ]
  },
  {
   "cell_type": "markdown",
   "metadata": {},
   "source": [
    "outlier일까..? 상당히 크다(27146)"
   ]
  },
  {
   "cell_type": "code",
   "execution_count": 140,
   "metadata": {
    "scrolled": true
   },
   "outputs": [
    {
     "data": {
      "text/plain": [
       "0"
      ]
     },
     "execution_count": 140,
     "metadata": {},
     "output_type": "execute_result"
    }
   ],
   "source": [
    "data[\"class\"].iloc[2099]"
   ]
  },
  {
   "cell_type": "code",
   "execution_count": 146,
   "metadata": {},
   "outputs": [
    {
     "data": {
      "text/plain": [
       "[(0, 10000)]"
      ]
     },
     "execution_count": 146,
     "metadata": {},
     "output_type": "execute_result"
    },
    {
     "data": {
      "image/png": "[encoded data removed]",
      "text/plain": [
       "<Figure size 432x288 with 1 Axes>"
      ]
     },
     "metadata": {
      "needs_background": "light"
     },
     "output_type": "display_data"
    }
   ],
   "source": [
    "ax = sns.distplot(new_x4, hist=False)\n",
    "ax.set(xlim = (0, 10000))"
   ]
  },
  {
   "cell_type": "markdown",
   "metadata": {},
   "source": [
    "아직 무슨 값인진 모르지만 파산은 아니다!"
   ]
  },
  {
   "cell_type": "code",
   "execution_count": 149,
   "metadata": {},
   "outputs": [
    {
     "data": {
      "text/plain": [
       "<matplotlib.legend.Legend at 0x149d730a748>"
      ]
     },
     "execution_count": 149,
     "metadata": {},
     "output_type": "execute_result"
    },
    {
     "data": {
      "image/png": "[encoded data removed]",
      "text/plain": [
       "<Figure size 432x288 with 1 Axes>"
      ]
     },
     "metadata": {
      "needs_background": "light"
     },
     "output_type": "display_data"
    }
   ],
   "source": [
    "ax2 = sns.distplot(new_x4[data[\"class\"]==0], hist = False, label = \"not bankrupted\")\n",
    "ax2 = sns.distplot(new_x4[data[\"class\"]==1], hist = False, label = \"bankrupted\")\n",
    "ax2.set(xlim = (0, 1000))\n",
    "ax2.legend()"
   ]
  },
  {
   "cell_type": "markdown",
   "metadata": {},
   "source": [
    "이건 뭔가 영향력이 큰 값 일 것같기도!"
   ]
  },
  {
   "cell_type": "code",
   "execution_count": 150,
   "metadata": {},
   "outputs": [
    {
     "data": {
      "text/plain": [
       "<matplotlib.legend.Legend at 0x149d7270908>"
      ]
     },
     "execution_count": 150,
     "metadata": {},
     "output_type": "execute_result"
    },
    {
     "data": {
      "image/png": "[encoded data removed]",
      "text/plain": [
       "<Figure size 432x288 with 1 Axes>"
      ]
     },
     "metadata": {
      "needs_background": "light"
     },
     "output_type": "display_data"
    }
   ],
   "source": [
    "ax2 = sns.distplot(new_x4[data[\"class\"]==0], hist = False, label = \"not bankrupted\")\n",
    "ax2 = sns.distplot(new_x4[data[\"class\"]==1], hist = False, label = \"bankrupted\")\n",
    "ax2.set(xlim = (0, 100))\n",
    "ax2.legend()"
   ]
  },
  {
   "cell_type": "markdown",
   "metadata": {},
   "source": [
    ">100 인 변수 중에서 각각 bankruptcy의 비율을 보자"
   ]
  },
  {
   "cell_type": "code",
   "execution_count": null,
   "metadata": {},
   "outputs": [],
   "source": []
  }
 ],
 "metadata": {
  "kernelspec": {
   "display_name": "Python 3.7.1 64-bit ('base': conda)",
   "language": "python",
   "name": "python37164bitbaseconda96b9662b221043c4bb539ee3dd5330f4"
  },
  "language_info": {
   "codemirror_mode": {
    "name": "ipython",
    "version": 3
   },
   "file_extension": ".py",
   "mimetype": "text/x-python",
   "name": "python",
   "nbconvert_exporter": "python",
   "pygments_lexer": "ipython3",
   "version": "3.7.1"
  }
 },
 "nbformat": 4,
 "nbformat_minor": 2
}
