{
 "cells": [
  {
   "cell_type": "code",
   "execution_count": 1,
   "metadata": {},
   "outputs": [],
   "source": [
    "from sklearn.ensemble import ExtraTreesClassifier\n",
    "import numpy as np\n",
    "import pandas as pd\n",
    "import seaborn as sns\n",
    "import matplotlib.pyplot as plt"
   ]
  },
  {
   "cell_type": "code",
   "execution_count": 2,
   "metadata": {},
   "outputs": [],
   "source": [
    "data = pd.read_csv(\"imputed_data.csv\")"
   ]
  },
  {
   "cell_type": "code",
   "execution_count": 3,
   "metadata": {
    "scrolled": true
   },
   "outputs": [
    {
     "data": {
      "text/html": [
       "<div>\n",
       "<style scoped>\n",
       "    .dataframe tbody tr th:only-of-type {\n",
       "        vertical-align: middle;\n",
       "    }\n",
       "\n",
       "    .dataframe tbody tr th {\n",
       "        vertical-align: top;\n",
       "    }\n",
       "\n",
       "    .dataframe thead th {\n",
       "        text-align: right;\n",
       "    }\n",
       "</style>\n",
       "<table border=\"1\" class=\"dataframe\">\n",
       "  <thead>\n",
       "    <tr style=\"text-align: right;\">\n",
       "      <th></th>\n",
       "      <th>Attr1</th>\n",
       "      <th>Attr2</th>\n",
       "      <th>Attr3</th>\n",
       "      <th>Attr4</th>\n",
       "      <th>Attr5</th>\n",
       "      <th>Attr6</th>\n",
       "      <th>Attr7</th>\n",
       "      <th>Attr8</th>\n",
       "      <th>Attr9</th>\n",
       "      <th>Attr10</th>\n",
       "      <th>...</th>\n",
       "      <th>Attr56</th>\n",
       "      <th>Attr57</th>\n",
       "      <th>Attr58</th>\n",
       "      <th>Attr59</th>\n",
       "      <th>Attr60</th>\n",
       "      <th>Attr61</th>\n",
       "      <th>Attr62</th>\n",
       "      <th>Attr63</th>\n",
       "      <th>Attr64</th>\n",
       "      <th>class</th>\n",
       "    </tr>\n",
       "  </thead>\n",
       "  <tbody>\n",
       "    <tr>\n",
       "      <th>0</th>\n",
       "      <td>-0.024558</td>\n",
       "      <td>0.30051</td>\n",
       "      <td>0.10733</td>\n",
       "      <td>1.8368</td>\n",
       "      <td>34.382</td>\n",
       "      <td>-0.026711</td>\n",
       "      <td>-0.020067</td>\n",
       "      <td>2.2519</td>\n",
       "      <td>1.06670</td>\n",
       "      <td>0.67673</td>\n",
       "      <td>...</td>\n",
       "      <td>0.062497</td>\n",
       "      <td>-0.036289</td>\n",
       "      <td>0.93750</td>\n",
       "      <td>0.25454</td>\n",
       "      <td>13.6320</td>\n",
       "      <td>3.6930</td>\n",
       "      <td>69.389</td>\n",
       "      <td>5.2602</td>\n",
       "      <td>0.88260</td>\n",
       "      <td>0</td>\n",
       "    </tr>\n",
       "    <tr>\n",
       "      <th>1</th>\n",
       "      <td>0.639180</td>\n",
       "      <td>0.00000</td>\n",
       "      <td>1.00000</td>\n",
       "      <td>25.2490</td>\n",
       "      <td>29.678</td>\n",
       "      <td>-1.139300</td>\n",
       "      <td>0.760520</td>\n",
       "      <td>10.8270</td>\n",
       "      <td>1.11850</td>\n",
       "      <td>1.00000</td>\n",
       "      <td>...</td>\n",
       "      <td>0.679830</td>\n",
       "      <td>0.639180</td>\n",
       "      <td>0.32014</td>\n",
       "      <td>0.00000</td>\n",
       "      <td>39.1970</td>\n",
       "      <td>37.8860</td>\n",
       "      <td>0.000</td>\n",
       "      <td>48.1540</td>\n",
       "      <td>0.58639</td>\n",
       "      <td>0</td>\n",
       "    </tr>\n",
       "    <tr>\n",
       "      <th>2</th>\n",
       "      <td>-0.440760</td>\n",
       "      <td>0.47723</td>\n",
       "      <td>0.19260</td>\n",
       "      <td>1.4678</td>\n",
       "      <td>34.555</td>\n",
       "      <td>0.000000</td>\n",
       "      <td>-0.440760</td>\n",
       "      <td>1.0954</td>\n",
       "      <td>1.51860</td>\n",
       "      <td>0.52277</td>\n",
       "      <td>...</td>\n",
       "      <td>-0.290590</td>\n",
       "      <td>-0.843130</td>\n",
       "      <td>1.28710</td>\n",
       "      <td>0.12538</td>\n",
       "      <td>23.2650</td>\n",
       "      <td>2.5649</td>\n",
       "      <td>98.950</td>\n",
       "      <td>3.6887</td>\n",
       "      <td>3.83760</td>\n",
       "      <td>0</td>\n",
       "    </tr>\n",
       "    <tr>\n",
       "      <th>3</th>\n",
       "      <td>0.119520</td>\n",
       "      <td>0.17679</td>\n",
       "      <td>0.63546</td>\n",
       "      <td>4.5944</td>\n",
       "      <td>117.650</td>\n",
       "      <td>0.251540</td>\n",
       "      <td>0.148750</td>\n",
       "      <td>4.5826</td>\n",
       "      <td>1.12630</td>\n",
       "      <td>0.81017</td>\n",
       "      <td>...</td>\n",
       "      <td>0.112110</td>\n",
       "      <td>0.147520</td>\n",
       "      <td>0.88789</td>\n",
       "      <td>0.00000</td>\n",
       "      <td>8.9302</td>\n",
       "      <td>10.2870</td>\n",
       "      <td>40.355</td>\n",
       "      <td>9.0448</td>\n",
       "      <td>8.51690</td>\n",
       "      <td>0</td>\n",
       "    </tr>\n",
       "    <tr>\n",
       "      <th>4</th>\n",
       "      <td>0.230400</td>\n",
       "      <td>0.27095</td>\n",
       "      <td>0.23762</td>\n",
       "      <td>2.5745</td>\n",
       "      <td>-26.928</td>\n",
       "      <td>0.617540</td>\n",
       "      <td>0.282690</td>\n",
       "      <td>2.6907</td>\n",
       "      <td>0.80411</td>\n",
       "      <td>0.72905</td>\n",
       "      <td>...</td>\n",
       "      <td>0.459570</td>\n",
       "      <td>0.316020</td>\n",
       "      <td>0.62320</td>\n",
       "      <td>0.16465</td>\n",
       "      <td>7.9274</td>\n",
       "      <td>6.6605</td>\n",
       "      <td>68.502</td>\n",
       "      <td>5.3283</td>\n",
       "      <td>1.31500</td>\n",
       "      <td>0</td>\n",
       "    </tr>\n",
       "  </tbody>\n",
       "</table>\n",
       "<p>5 rows × 64 columns</p>\n",
       "</div>"
      ],
      "text/plain": [
       "      Attr1    Attr2    Attr3    Attr4    Attr5     Attr6     Attr7    Attr8  \\\n",
       "0 -0.024558  0.30051  0.10733   1.8368   34.382 -0.026711 -0.020067   2.2519   \n",
       "1  0.639180  0.00000  1.00000  25.2490   29.678 -1.139300  0.760520  10.8270   \n",
       "2 -0.440760  0.47723  0.19260   1.4678   34.555  0.000000 -0.440760   1.0954   \n",
       "3  0.119520  0.17679  0.63546   4.5944  117.650  0.251540  0.148750   4.5826   \n",
       "4  0.230400  0.27095  0.23762   2.5745  -26.928  0.617540  0.282690   2.6907   \n",
       "\n",
       "     Attr9   Attr10  ...    Attr56    Attr57   Attr58   Attr59   Attr60  \\\n",
       "0  1.06670  0.67673  ...  0.062497 -0.036289  0.93750  0.25454  13.6320   \n",
       "1  1.11850  1.00000  ...  0.679830  0.639180  0.32014  0.00000  39.1970   \n",
       "2  1.51860  0.52277  ... -0.290590 -0.843130  1.28710  0.12538  23.2650   \n",
       "3  1.12630  0.81017  ...  0.112110  0.147520  0.88789  0.00000   8.9302   \n",
       "4  0.80411  0.72905  ...  0.459570  0.316020  0.62320  0.16465   7.9274   \n",
       "\n",
       "    Attr61  Attr62   Attr63   Attr64  class  \n",
       "0   3.6930  69.389   5.2602  0.88260      0  \n",
       "1  37.8860   0.000  48.1540  0.58639      0  \n",
       "2   2.5649  98.950   3.6887  3.83760      0  \n",
       "3  10.2870  40.355   9.0448  8.51690      0  \n",
       "4   6.6605  68.502   5.3283  1.31500      0  \n",
       "\n",
       "[5 rows x 64 columns]"
      ]
     },
     "execution_count": 3,
     "metadata": {},
     "output_type": "execute_result"
    }
   ],
   "source": [
    "data.head()"
   ]
  },
  {
   "cell_type": "code",
   "execution_count": 4,
   "metadata": {},
   "outputs": [
    {
     "data": {
      "text/plain": [
       "248"
      ]
     },
     "execution_count": 4,
     "metadata": {},
     "output_type": "execute_result"
    }
   ],
   "source": [
    "np.sum(data.isna().sum())"
   ]
  },
  {
   "cell_type": "code",
   "execution_count": 5,
   "metadata": {},
   "outputs": [
    {
     "data": {
      "text/plain": [
       "['Attr17', 'Attr26', 'Attr44', 'Attr46', 'Attr54', 'Attr56']"
      ]
     },
     "execution_count": 5,
     "metadata": {},
     "output_type": "execute_result"
    }
   ],
   "source": [
    "na_columns = list(data.columns[data.isna().sum()>=1])\n",
    "na_columns"
   ]
  },
  {
   "cell_type": "code",
   "execution_count": 6,
   "metadata": {},
   "outputs": [
    {
     "name": "stderr",
     "output_type": "stream",
     "text": [
      "/Users/jominju/opt/anaconda3/lib/python3.7/site-packages/ipykernel_launcher.py:3: SettingWithCopyWarning: \n",
      "A value is trying to be set on a copy of a slice from a DataFrame\n",
      "\n",
      "See the caveats in the documentation: https://pandas.pydata.org/pandas-docs/stable/user_guide/indexing.html#returning-a-view-versus-a-copy\n",
      "  This is separate from the ipykernel package so we can avoid doing imports until\n"
     ]
    }
   ],
   "source": [
    "for i in range(len(na_columns)) :\n",
    "    column = na_columns[i] \n",
    "    data[column][data[column].isna()] = np.median(data[column][~data[column].isna()])"
   ]
  },
  {
   "cell_type": "code",
   "execution_count": 7,
   "metadata": {},
   "outputs": [
    {
     "data": {
      "text/plain": [
       "0"
      ]
     },
     "execution_count": 7,
     "metadata": {},
     "output_type": "execute_result"
    }
   ],
   "source": [
    "np.sum(data.isna().sum())"
   ]
  },
  {
   "cell_type": "code",
   "execution_count": 8,
   "metadata": {},
   "outputs": [],
   "source": [
    "from sklearn.preprocessing import MinMaxScaler"
   ]
  },
  {
   "cell_type": "code",
   "execution_count": 9,
   "metadata": {},
   "outputs": [],
   "source": [
    "target = data[\"class\"]\n",
    "data.drop(\"class\", inplace = True, axis =1)"
   ]
  },
  {
   "cell_type": "code",
   "execution_count": 10,
   "metadata": {},
   "outputs": [
    {
     "data": {
      "text/plain": [
       "(6855, 63)"
      ]
     },
     "execution_count": 10,
     "metadata": {},
     "output_type": "execute_result"
    }
   ],
   "source": [
    "data.shape"
   ]
  },
  {
   "cell_type": "code",
   "execution_count": 11,
   "metadata": {},
   "outputs": [],
   "source": [
    "scaler = MinMaxScaler()\n",
    "scaler.fit(data)\n",
    "scaled = scaler.transform(data)"
   ]
  },
  {
   "cell_type": "code",
   "execution_count": 12,
   "metadata": {},
   "outputs": [
    {
     "data": {
      "text/html": [
       "<div>\n",
       "<style scoped>\n",
       "    .dataframe tbody tr th:only-of-type {\n",
       "        vertical-align: middle;\n",
       "    }\n",
       "\n",
       "    .dataframe tbody tr th {\n",
       "        vertical-align: top;\n",
       "    }\n",
       "\n",
       "    .dataframe thead th {\n",
       "        text-align: right;\n",
       "    }\n",
       "</style>\n",
       "<table border=\"1\" class=\"dataframe\">\n",
       "  <thead>\n",
       "    <tr style=\"text-align: right;\">\n",
       "      <th></th>\n",
       "      <th>1</th>\n",
       "      <th>2</th>\n",
       "      <th>3</th>\n",
       "      <th>4</th>\n",
       "      <th>5</th>\n",
       "      <th>6</th>\n",
       "      <th>7</th>\n",
       "      <th>8</th>\n",
       "      <th>9</th>\n",
       "      <th>10</th>\n",
       "      <th>...</th>\n",
       "      <th>54</th>\n",
       "      <th>55</th>\n",
       "      <th>56</th>\n",
       "      <th>57</th>\n",
       "      <th>58</th>\n",
       "      <th>59</th>\n",
       "      <th>60</th>\n",
       "      <th>61</th>\n",
       "      <th>62</th>\n",
       "      <th>63</th>\n",
       "    </tr>\n",
       "  </thead>\n",
       "  <tbody>\n",
       "    <tr>\n",
       "      <th>0</th>\n",
       "      <td>0.558513</td>\n",
       "      <td>0.007483</td>\n",
       "      <td>0.407631</td>\n",
       "      <td>0.000069</td>\n",
       "      <td>0.181321</td>\n",
       "      <td>0.267034</td>\n",
       "      <td>0.243518</td>\n",
       "      <td>0.000119</td>\n",
       "      <td>0.000645</td>\n",
       "      <td>0.769596</td>\n",
       "      <td>...</td>\n",
       "      <td>0.076719</td>\n",
       "      <td>0.985335</td>\n",
       "      <td>0.679698</td>\n",
       "      <td>0.045494</td>\n",
       "      <td>0.146313</td>\n",
       "      <td>0.000054</td>\n",
       "      <td>0.000034</td>\n",
       "      <td>0.001393</td>\n",
       "      <td>0.000933</td>\n",
       "      <td>0.000042</td>\n",
       "    </tr>\n",
       "    <tr>\n",
       "      <th>1</th>\n",
       "      <td>0.588328</td>\n",
       "      <td>0.000000</td>\n",
       "      <td>0.430965</td>\n",
       "      <td>0.000932</td>\n",
       "      <td>0.181317</td>\n",
       "      <td>0.264503</td>\n",
       "      <td>0.258801</td>\n",
       "      <td>0.000435</td>\n",
       "      <td>0.000675</td>\n",
       "      <td>0.775841</td>\n",
       "      <td>...</td>\n",
       "      <td>0.076128</td>\n",
       "      <td>0.985415</td>\n",
       "      <td>0.680652</td>\n",
       "      <td>0.044612</td>\n",
       "      <td>0.146182</td>\n",
       "      <td>0.000156</td>\n",
       "      <td>0.000351</td>\n",
       "      <td>0.001386</td>\n",
       "      <td>0.008508</td>\n",
       "      <td>0.000028</td>\n",
       "    </tr>\n",
       "    <tr>\n",
       "      <th>2</th>\n",
       "      <td>0.539817</td>\n",
       "      <td>0.011884</td>\n",
       "      <td>0.409860</td>\n",
       "      <td>0.000056</td>\n",
       "      <td>0.181321</td>\n",
       "      <td>0.267094</td>\n",
       "      <td>0.235282</td>\n",
       "      <td>0.000076</td>\n",
       "      <td>0.000910</td>\n",
       "      <td>0.766621</td>\n",
       "      <td>...</td>\n",
       "      <td>0.076153</td>\n",
       "      <td>0.985288</td>\n",
       "      <td>0.678558</td>\n",
       "      <td>0.045994</td>\n",
       "      <td>0.146247</td>\n",
       "      <td>0.000092</td>\n",
       "      <td>0.000024</td>\n",
       "      <td>0.001396</td>\n",
       "      <td>0.000656</td>\n",
       "      <td>0.000181</td>\n",
       "    </tr>\n",
       "    <tr>\n",
       "      <th>3</th>\n",
       "      <td>0.564985</td>\n",
       "      <td>0.004402</td>\n",
       "      <td>0.421436</td>\n",
       "      <td>0.000171</td>\n",
       "      <td>0.181387</td>\n",
       "      <td>0.267666</td>\n",
       "      <td>0.246823</td>\n",
       "      <td>0.000205</td>\n",
       "      <td>0.000680</td>\n",
       "      <td>0.772174</td>\n",
       "      <td>...</td>\n",
       "      <td>0.103368</td>\n",
       "      <td>0.985341</td>\n",
       "      <td>0.679958</td>\n",
       "      <td>0.045423</td>\n",
       "      <td>0.146182</td>\n",
       "      <td>0.000035</td>\n",
       "      <td>0.000095</td>\n",
       "      <td>0.001390</td>\n",
       "      <td>0.001602</td>\n",
       "      <td>0.000403</td>\n",
       "    </tr>\n",
       "    <tr>\n",
       "      <th>4</th>\n",
       "      <td>0.569965</td>\n",
       "      <td>0.006747</td>\n",
       "      <td>0.411037</td>\n",
       "      <td>0.000097</td>\n",
       "      <td>0.181272</td>\n",
       "      <td>0.268499</td>\n",
       "      <td>0.249446</td>\n",
       "      <td>0.000135</td>\n",
       "      <td>0.000491</td>\n",
       "      <td>0.770606</td>\n",
       "      <td>...</td>\n",
       "      <td>0.076126</td>\n",
       "      <td>0.985387</td>\n",
       "      <td>0.680195</td>\n",
       "      <td>0.045045</td>\n",
       "      <td>0.146267</td>\n",
       "      <td>0.000032</td>\n",
       "      <td>0.000062</td>\n",
       "      <td>0.001393</td>\n",
       "      <td>0.000945</td>\n",
       "      <td>0.000062</td>\n",
       "    </tr>\n",
       "  </tbody>\n",
       "</table>\n",
       "<p>5 rows × 63 columns</p>\n",
       "</div>"
      ],
      "text/plain": [
       "         1         2         3         4         5         6         7   \\\n",
       "0  0.558513  0.007483  0.407631  0.000069  0.181321  0.267034  0.243518   \n",
       "1  0.588328  0.000000  0.430965  0.000932  0.181317  0.264503  0.258801   \n",
       "2  0.539817  0.011884  0.409860  0.000056  0.181321  0.267094  0.235282   \n",
       "3  0.564985  0.004402  0.421436  0.000171  0.181387  0.267666  0.246823   \n",
       "4  0.569965  0.006747  0.411037  0.000097  0.181272  0.268499  0.249446   \n",
       "\n",
       "         8         9         10  ...        54        55        56        57  \\\n",
       "0  0.000119  0.000645  0.769596  ...  0.076719  0.985335  0.679698  0.045494   \n",
       "1  0.000435  0.000675  0.775841  ...  0.076128  0.985415  0.680652  0.044612   \n",
       "2  0.000076  0.000910  0.766621  ...  0.076153  0.985288  0.678558  0.045994   \n",
       "3  0.000205  0.000680  0.772174  ...  0.103368  0.985341  0.679958  0.045423   \n",
       "4  0.000135  0.000491  0.770606  ...  0.076126  0.985387  0.680195  0.045045   \n",
       "\n",
       "         58        59        60        61        62        63  \n",
       "0  0.146313  0.000054  0.000034  0.001393  0.000933  0.000042  \n",
       "1  0.146182  0.000156  0.000351  0.001386  0.008508  0.000028  \n",
       "2  0.146247  0.000092  0.000024  0.001396  0.000656  0.000181  \n",
       "3  0.146182  0.000035  0.000095  0.001390  0.001602  0.000403  \n",
       "4  0.146267  0.000032  0.000062  0.001393  0.000945  0.000062  \n",
       "\n",
       "[5 rows x 63 columns]"
      ]
     },
     "execution_count": 12,
     "metadata": {},
     "output_type": "execute_result"
    }
   ],
   "source": [
    "scaled = pd.DataFrame(scaled)\n",
    "scaled.columns += 1\n",
    "scaled.head()"
   ]
  },
  {
   "cell_type": "code",
   "execution_count": 13,
   "metadata": {},
   "outputs": [],
   "source": [
    "X = scaled\n",
    "y = target"
   ]
  },
  {
   "cell_type": "code",
   "execution_count": 14,
   "metadata": {},
   "outputs": [],
   "source": [
    "from sklearn.datasets import make_classification\n",
    "from sklearn.ensemble import ExtraTreesClassifier"
   ]
  },
  {
   "cell_type": "code",
   "execution_count": 15,
   "metadata": {},
   "outputs": [],
   "source": [
    "X, y = make_classification(n_samples=1000,\n",
    "                           n_features=63,\n",
    "                           n_informative=2,\n",
    "                           n_redundant=0,\n",
    "                           n_repeated=0,\n",
    "                           n_classes=2,\n",
    "                           random_state=24,\n",
    "                           shuffle=False)"
   ]
  },
  {
   "cell_type": "code",
   "execution_count": 16,
   "metadata": {},
   "outputs": [],
   "source": [
    "forest = ExtraTreesClassifier(n_estimators=250,\n",
    "                              random_state=0)"
   ]
  },
  {
   "cell_type": "code",
   "execution_count": 18,
   "metadata": {},
   "outputs": [],
   "source": [
    "forest.fit(X, y)\n",
    "importances = forest.feature_importances_\n",
    "std = np.std([tree.feature_importances_ for tree in forest.estimators_],\n",
    "             axis=0)\n",
    "indices = np.argsort(importances)[::-1]"
   ]
  },
  {
   "cell_type": "code",
   "execution_count": 19,
   "metadata": {},
   "outputs": [
    {
     "name": "stdout",
     "output_type": "stream",
     "text": [
      "Feature ranking:\n",
      "1. Attr 2 (0.299049)\n",
      "2. Attr 1 (0.033388)\n",
      "3. Attr 32 (0.013577)\n",
      "4. Attr 56 (0.012239)\n",
      "5. Attr 60 (0.011988)\n",
      "6. Attr 8 (0.011980)\n",
      "7. Attr 59 (0.011797)\n",
      "8. Attr 10 (0.011751)\n",
      "9. Attr 13 (0.011609)\n",
      "10. Attr 44 (0.011566)\n",
      "11. Attr 11 (0.011506)\n",
      "12. Attr 28 (0.011462)\n",
      "13. Attr 12 (0.011459)\n",
      "14. Attr 25 (0.011360)\n",
      "15. Attr 63 (0.011319)\n",
      "16. Attr 40 (0.011314)\n",
      "17. Attr 15 (0.011308)\n",
      "18. Attr 4 (0.011302)\n",
      "19. Attr 35 (0.011279)\n",
      "20. Attr 29 (0.011251)\n",
      "21. Attr 61 (0.011240)\n",
      "22. Attr 31 (0.011196)\n",
      "23. Attr 14 (0.011195)\n",
      "24. Attr 33 (0.011193)\n",
      "25. Attr 62 (0.011138)\n",
      "26. Attr 57 (0.011084)\n",
      "27. Attr 52 (0.011076)\n",
      "28. Attr 38 (0.011075)\n",
      "29. Attr 58 (0.011072)\n",
      "30. Attr 21 (0.011069)\n",
      "31. Attr 5 (0.011052)\n",
      "32. Attr 39 (0.010997)\n",
      "33. Attr 42 (0.010983)\n",
      "34. Attr 24 (0.010922)\n",
      "35. Attr 34 (0.010914)\n",
      "36. Attr 26 (0.010849)\n",
      "37. Attr 9 (0.010837)\n",
      "38. Attr 49 (0.010832)\n",
      "39. Attr 16 (0.010818)\n",
      "40. Attr 48 (0.010735)\n",
      "41. Attr 51 (0.010705)\n",
      "42. Attr 43 (0.010700)\n",
      "43. Attr 47 (0.010661)\n",
      "44. Attr 50 (0.010653)\n",
      "45. Attr 17 (0.010644)\n",
      "46. Attr 23 (0.010634)\n",
      "47. Attr 45 (0.010521)\n",
      "48. Attr 54 (0.010484)\n",
      "49. Attr 18 (0.010445)\n",
      "50. Attr 27 (0.010422)\n",
      "51. Attr 55 (0.010366)\n",
      "52. Attr 53 (0.010337)\n",
      "53. Attr 41 (0.010323)\n",
      "54. Attr 46 (0.010245)\n",
      "55. Attr 6 (0.010165)\n",
      "56. Attr 3 (0.010146)\n",
      "57. Attr 30 (0.010134)\n",
      "58. Attr 22 (0.010114)\n",
      "59. Attr 37 (0.010002)\n",
      "60. Attr 36 (0.009959)\n",
      "61. Attr 19 (0.009938)\n",
      "62. Attr 7 (0.009849)\n",
      "63. Attr 20 (0.009773)\n"
     ]
    }
   ],
   "source": [
    "print(\"Feature ranking:\")\n",
    "\n",
    "for f in range(X.shape[1]):\n",
    "    print(\"%d. Attr %d (%f)\" % (f + 1, indices[f]+1, importances[indices[f]]))"
   ]
  },
  {
   "cell_type": "code",
   "execution_count": 21,
   "metadata": {
    "scrolled": false
   },
   "outputs": [
    {
     "data": {
      "image/png": "[encoded data removed]",
      "text/plain": [
       "<Figure size 1440x720 with 1 Axes>"
      ]
     },
     "metadata": {
      "needs_background": "light"
     },
     "output_type": "display_data"
    }
   ],
   "source": [
    "# Plot the impurity-based feature importances of the forest\n",
    "plt.figure(figsize=(20,10))\n",
    "plt.title(\"Feature importances\")\n",
    "plt.bar(range(X.shape[1]), importances[indices],\n",
    "        color=\"r\", yerr=std[indices], align=\"center\")\n",
    "plt.xticks(range(X.shape[1]), indices+1)\n",
    "plt.xlim([-1, X.shape[1]])\n",
    "plt.show()"
   ]
  },
  {
   "cell_type": "markdown",
   "metadata": {},
   "source": [
    "## Feature imortance가 높은 Attr2로 대체(Attr10에서) -> 어떻게 되는지 보자"
   ]
  },
  {
   "cell_type": "code",
   "execution_count": 39,
   "metadata": {
    "scrolled": true
   },
   "outputs": [],
   "source": [
    "idx = [1,2,5,6,9,15,17,18,19,20,21,26,27,29,41,42,45,46,47,54,55,57,59,60,61,63,64]\n",
    "\n",
    "attr_idx=[]\n",
    "for i in range(len(idx)):\n",
    "    attr_idx.append(\"Attr{}\".format(idx[i]))"
   ]
  },
  {
   "cell_type": "code",
   "execution_count": 40,
   "metadata": {},
   "outputs": [
    {
     "data": {
      "text/plain": [
       "['Attr1',\n",
       " 'Attr2',\n",
       " 'Attr5',\n",
       " 'Attr6',\n",
       " 'Attr9',\n",
       " 'Attr15',\n",
       " 'Attr17',\n",
       " 'Attr18',\n",
       " 'Attr19',\n",
       " 'Attr20',\n",
       " 'Attr21',\n",
       " 'Attr26',\n",
       " 'Attr27',\n",
       " 'Attr29',\n",
       " 'Attr41',\n",
       " 'Attr42',\n",
       " 'Attr45',\n",
       " 'Attr46',\n",
       " 'Attr47',\n",
       " 'Attr54',\n",
       " 'Attr55',\n",
       " 'Attr57',\n",
       " 'Attr59',\n",
       " 'Attr60',\n",
       " 'Attr61',\n",
       " 'Attr63',\n",
       " 'Attr64']"
      ]
     },
     "execution_count": 40,
     "metadata": {},
     "output_type": "execute_result"
    }
   ],
   "source": [
    "attr_idx"
   ]
  },
  {
   "cell_type": "code",
   "execution_count": 42,
   "metadata": {},
   "outputs": [
    {
     "data": {
      "text/html": [
       "<div>\n",
       "<style scoped>\n",
       "    .dataframe tbody tr th:only-of-type {\n",
       "        vertical-align: middle;\n",
       "    }\n",
       "\n",
       "    .dataframe tbody tr th {\n",
       "        vertical-align: top;\n",
       "    }\n",
       "\n",
       "    .dataframe thead th {\n",
       "        text-align: right;\n",
       "    }\n",
       "</style>\n",
       "<table border=\"1\" class=\"dataframe\">\n",
       "  <thead>\n",
       "    <tr style=\"text-align: right;\">\n",
       "      <th></th>\n",
       "      <th>Attr1</th>\n",
       "      <th>Attr2</th>\n",
       "      <th>Attr5</th>\n",
       "      <th>Attr6</th>\n",
       "      <th>Attr9</th>\n",
       "      <th>Attr15</th>\n",
       "      <th>Attr17</th>\n",
       "      <th>Attr18</th>\n",
       "      <th>Attr19</th>\n",
       "      <th>Attr20</th>\n",
       "      <th>...</th>\n",
       "      <th>Attr46</th>\n",
       "      <th>Attr47</th>\n",
       "      <th>Attr54</th>\n",
       "      <th>Attr55</th>\n",
       "      <th>Attr57</th>\n",
       "      <th>Attr59</th>\n",
       "      <th>Attr60</th>\n",
       "      <th>Attr61</th>\n",
       "      <th>Attr63</th>\n",
       "      <th>Attr64</th>\n",
       "    </tr>\n",
       "  </thead>\n",
       "  <tbody>\n",
       "    <tr>\n",
       "      <th>0</th>\n",
       "      <td>-0.024558</td>\n",
       "      <td>0.30051</td>\n",
       "      <td>34.382</td>\n",
       "      <td>-0.026711</td>\n",
       "      <td>1.06670</td>\n",
       "      <td>6342.50</td>\n",
       "      <td>3.3276</td>\n",
       "      <td>-0.020067</td>\n",
       "      <td>-0.029744</td>\n",
       "      <td>26.775</td>\n",
       "      <td>...</td>\n",
       "      <td>1.4510</td>\n",
       "      <td>28.560</td>\n",
       "      <td>1.1106</td>\n",
       "      <td>3937.6000</td>\n",
       "      <td>-0.036289</td>\n",
       "      <td>0.25454</td>\n",
       "      <td>13.6320</td>\n",
       "      <td>3.6930</td>\n",
       "      <td>5.2602</td>\n",
       "      <td>0.88260</td>\n",
       "    </tr>\n",
       "    <tr>\n",
       "      <th>1</th>\n",
       "      <td>0.639180</td>\n",
       "      <td>0.00000</td>\n",
       "      <td>29.678</td>\n",
       "      <td>-1.139300</td>\n",
       "      <td>1.11850</td>\n",
       "      <td>0.00</td>\n",
       "      <td>2.1428</td>\n",
       "      <td>0.760520</td>\n",
       "      <td>0.679940</td>\n",
       "      <td>0.000</td>\n",
       "      <td>...</td>\n",
       "      <td>1.0434</td>\n",
       "      <td>0.000</td>\n",
       "      <td>1.3747</td>\n",
       "      <td>16.6650</td>\n",
       "      <td>0.639180</td>\n",
       "      <td>0.00000</td>\n",
       "      <td>39.1970</td>\n",
       "      <td>37.8860</td>\n",
       "      <td>48.1540</td>\n",
       "      <td>0.58639</td>\n",
       "    </tr>\n",
       "    <tr>\n",
       "      <th>2</th>\n",
       "      <td>-0.440760</td>\n",
       "      <td>0.47723</td>\n",
       "      <td>34.555</td>\n",
       "      <td>0.000000</td>\n",
       "      <td>1.51860</td>\n",
       "      <td>-476.47</td>\n",
       "      <td>2.0954</td>\n",
       "      <td>-0.440760</td>\n",
       "      <td>-0.290240</td>\n",
       "      <td>0.000</td>\n",
       "      <td>...</td>\n",
       "      <td>1.4678</td>\n",
       "      <td>0.000</td>\n",
       "      <td>1.4867</td>\n",
       "      <td>180.9100</td>\n",
       "      <td>-0.843130</td>\n",
       "      <td>0.12538</td>\n",
       "      <td>23.2650</td>\n",
       "      <td>2.5649</td>\n",
       "      <td>3.6887</td>\n",
       "      <td>3.83760</td>\n",
       "    </tr>\n",
       "    <tr>\n",
       "      <th>3</th>\n",
       "      <td>0.119520</td>\n",
       "      <td>0.17679</td>\n",
       "      <td>117.650</td>\n",
       "      <td>0.251540</td>\n",
       "      <td>1.12630</td>\n",
       "      <td>306.88</td>\n",
       "      <td>5.6563</td>\n",
       "      <td>0.148750</td>\n",
       "      <td>0.093023</td>\n",
       "      <td>40.872</td>\n",
       "      <td>...</td>\n",
       "      <td>3.5815</td>\n",
       "      <td>46.033</td>\n",
       "      <td>4.3151</td>\n",
       "      <td>180570.0000</td>\n",
       "      <td>0.147520</td>\n",
       "      <td>0.00000</td>\n",
       "      <td>8.9302</td>\n",
       "      <td>10.2870</td>\n",
       "      <td>9.0448</td>\n",
       "      <td>8.51690</td>\n",
       "    </tr>\n",
       "    <tr>\n",
       "      <th>4</th>\n",
       "      <td>0.230400</td>\n",
       "      <td>0.27095</td>\n",
       "      <td>-26.928</td>\n",
       "      <td>0.617540</td>\n",
       "      <td>0.80411</td>\n",
       "      <td>315.23</td>\n",
       "      <td>3.6907</td>\n",
       "      <td>0.282690</td>\n",
       "      <td>0.351560</td>\n",
       "      <td>46.043</td>\n",
       "      <td>...</td>\n",
       "      <td>1.9024</td>\n",
       "      <td>70.950</td>\n",
       "      <td>1.3886</td>\n",
       "      <td>2.5745</td>\n",
       "      <td>0.316020</td>\n",
       "      <td>0.16465</td>\n",
       "      <td>7.9274</td>\n",
       "      <td>6.6605</td>\n",
       "      <td>5.3283</td>\n",
       "      <td>1.31500</td>\n",
       "    </tr>\n",
       "  </tbody>\n",
       "</table>\n",
       "<p>5 rows × 27 columns</p>\n",
       "</div>"
      ],
      "text/plain": [
       "      Attr1    Attr2    Attr5     Attr6    Attr9   Attr15  Attr17    Attr18  \\\n",
       "0 -0.024558  0.30051   34.382 -0.026711  1.06670  6342.50  3.3276 -0.020067   \n",
       "1  0.639180  0.00000   29.678 -1.139300  1.11850     0.00  2.1428  0.760520   \n",
       "2 -0.440760  0.47723   34.555  0.000000  1.51860  -476.47  2.0954 -0.440760   \n",
       "3  0.119520  0.17679  117.650  0.251540  1.12630   306.88  5.6563  0.148750   \n",
       "4  0.230400  0.27095  -26.928  0.617540  0.80411   315.23  3.6907  0.282690   \n",
       "\n",
       "     Attr19  Attr20  ...  Attr46  Attr47  Attr54       Attr55    Attr57  \\\n",
       "0 -0.029744  26.775  ...  1.4510  28.560  1.1106    3937.6000 -0.036289   \n",
       "1  0.679940   0.000  ...  1.0434   0.000  1.3747      16.6650  0.639180   \n",
       "2 -0.290240   0.000  ...  1.4678   0.000  1.4867     180.9100 -0.843130   \n",
       "3  0.093023  40.872  ...  3.5815  46.033  4.3151  180570.0000  0.147520   \n",
       "4  0.351560  46.043  ...  1.9024  70.950  1.3886       2.5745  0.316020   \n",
       "\n",
       "    Attr59   Attr60   Attr61   Attr63   Attr64  \n",
       "0  0.25454  13.6320   3.6930   5.2602  0.88260  \n",
       "1  0.00000  39.1970  37.8860  48.1540  0.58639  \n",
       "2  0.12538  23.2650   2.5649   3.6887  3.83760  \n",
       "3  0.00000   8.9302  10.2870   9.0448  8.51690  \n",
       "4  0.16465   7.9274   6.6605   5.3283  1.31500  \n",
       "\n",
       "[5 rows x 27 columns]"
      ]
     },
     "execution_count": 42,
     "metadata": {},
     "output_type": "execute_result"
    }
   ],
   "source": [
    "sltd_data = data[attr_idx]\n",
    "sltd_data.head()"
   ]
  },
  {
   "cell_type": "code",
   "execution_count": 44,
   "metadata": {},
   "outputs": [
    {
     "data": {
      "text/plain": [
       "(6855, 27)"
      ]
     },
     "execution_count": 44,
     "metadata": {},
     "output_type": "execute_result"
    }
   ],
   "source": [
    "sltd_data.shape"
   ]
  },
  {
   "cell_type": "code",
   "execution_count": 45,
   "metadata": {},
   "outputs": [],
   "source": [
    "from sklearn.model_selection import train_test_split\n",
    "from sklearn.preprocessing import StandardScaler\n",
    "from sklearn.ensemble import RandomForestClassifier\n",
    "from sklearn import metrics"
   ]
  },
  {
   "cell_type": "code",
   "execution_count": 47,
   "metadata": {},
   "outputs": [],
   "source": [
    "X_train, X_test, Y_train, Y_test = train_test_split(sltd_data, \n",
    "                                                    target,\n",
    "                                                   test_size = 0.3,\n",
    "                                                   random_state = 24)"
   ]
  },
  {
   "cell_type": "code",
   "execution_count": 48,
   "metadata": {},
   "outputs": [],
   "source": [
    "from sklearn.model_selection import cross_val_score\n",
    "from sklearn.model_selection import StratifiedKFold\n",
    "\n",
    "stf = StratifiedKFold(n_splits = 10, shuffle = True, random_state = 1)"
   ]
  },
  {
   "cell_type": "markdown",
   "metadata": {},
   "source": [
    "## RandomForest"
   ]
  },
  {
   "cell_type": "code",
   "execution_count": 49,
   "metadata": {},
   "outputs": [],
   "source": [
    "forest = RandomForestClassifier(n_estimators=500, random_state=53)\n",
    "score = cross_val_score(forest, X_train, Y_train, cv = stf, scoring = 'f1_micro')"
   ]
  },
  {
   "cell_type": "code",
   "execution_count": 50,
   "metadata": {},
   "outputs": [
    {
     "data": {
      "text/plain": [
       "0.9478949199721642"
      ]
     },
     "execution_count": 50,
     "metadata": {},
     "output_type": "execute_result"
    }
   ],
   "source": [
    "score.mean()"
   ]
  },
  {
   "cell_type": "code",
   "execution_count": 51,
   "metadata": {
    "scrolled": true
   },
   "outputs": [
    {
     "data": {
      "text/plain": [
       "RandomForestClassifier(bootstrap=True, ccp_alpha=0.0, class_weight=None,\n",
       "                       criterion='gini', max_depth=None, max_features='auto',\n",
       "                       max_leaf_nodes=None, max_samples=None,\n",
       "                       min_impurity_decrease=0.0, min_impurity_split=None,\n",
       "                       min_samples_leaf=1, min_samples_split=2,\n",
       "                       min_weight_fraction_leaf=0.0, n_estimators=500,\n",
       "                       n_jobs=None, oob_score=False, random_state=53, verbose=0,\n",
       "                       warm_start=False)"
      ]
     },
     "execution_count": 51,
     "metadata": {},
     "output_type": "execute_result"
    }
   ],
   "source": [
    "forest.fit(X_train,Y_train)"
   ]
  },
  {
   "cell_type": "code",
   "execution_count": 52,
   "metadata": {},
   "outputs": [],
   "source": [
    "pred_y = forest.predict(X_test)"
   ]
  },
  {
   "cell_type": "code",
   "execution_count": 53,
   "metadata": {},
   "outputs": [
    {
     "name": "stdout",
     "output_type": "stream",
     "text": [
      "F1 : 0.951\n"
     ]
    }
   ],
   "source": [
    "from sklearn.metrics import precision_score, recall_score, f1_score\n",
    "print(\"F1 : %.3f\" % f1_score(Y_test, pred_y, average = 'micro'))"
   ]
  },
  {
   "cell_type": "code",
   "execution_count": 63,
   "metadata": {},
   "outputs": [
    {
     "data": {
      "text/plain": [
       "0.5234867860187554"
      ]
     },
     "execution_count": 63,
     "metadata": {},
     "output_type": "execute_result"
    }
   ],
   "source": [
    "roc_auc_score(Y_test, pred_y)"
   ]
  },
  {
   "cell_type": "markdown",
   "metadata": {},
   "source": [
    "## XGBoost"
   ]
  },
  {
   "cell_type": "code",
   "execution_count": 54,
   "metadata": {},
   "outputs": [],
   "source": [
    "from xgboost import XGBClassifier"
   ]
  },
  {
   "cell_type": "code",
   "execution_count": 78,
   "metadata": {},
   "outputs": [],
   "source": [
    "xgb_model = XGBClassifier(learning_rate = 0.05, max_depth = 200, n_estimators = 200)\n",
    "xgb_score = cross_val_score(xgb_model, X_train, Y_train, cv = stf, scoring = 'f1_micro')"
   ]
  },
  {
   "cell_type": "code",
   "execution_count": 79,
   "metadata": {},
   "outputs": [
    {
     "data": {
      "text/plain": [
       "0.9478949199721642"
      ]
     },
     "execution_count": 79,
     "metadata": {},
     "output_type": "execute_result"
    }
   ],
   "source": [
    "score.mean()"
   ]
  },
  {
   "cell_type": "code",
   "execution_count": 80,
   "metadata": {},
   "outputs": [
    {
     "data": {
      "text/plain": [
       "XGBClassifier(base_score=0.5, booster='gbtree', colsample_bylevel=1,\n",
       "              colsample_bynode=1, colsample_bytree=1, gamma=0,\n",
       "              learning_rate=0.05, max_delta_step=0, max_depth=500,\n",
       "              min_child_weight=1, missing=None, n_estimators=200, n_jobs=1,\n",
       "              nthread=None, objective='binary:logistic', random_state=0,\n",
       "              reg_alpha=0, reg_lambda=1, scale_pos_weight=1, seed=None,\n",
       "              silent=None, subsample=1, verbosity=1)"
      ]
     },
     "execution_count": 80,
     "metadata": {},
     "output_type": "execute_result"
    }
   ],
   "source": [
    "xgb_model.fit(X_train, Y_train)"
   ]
  },
  {
   "cell_type": "code",
   "execution_count": 81,
   "metadata": {},
   "outputs": [],
   "source": [
    "xgb_pred_y = xgb_model.predict(X_test)"
   ]
  },
  {
   "cell_type": "code",
   "execution_count": 82,
   "metadata": {},
   "outputs": [
    {
     "name": "stdout",
     "output_type": "stream",
     "text": [
      "F1 : 0.952\n"
     ]
    }
   ],
   "source": [
    "print(\"F1 : %.3f\" % f1_score(Y_test, xgb_pred_y, average = 'micro'))"
   ]
  },
  {
   "cell_type": "code",
   "execution_count": 69,
   "metadata": {},
   "outputs": [],
   "source": [
    "from sklearn.metrics import roc_auc_score"
   ]
  },
  {
   "cell_type": "code",
   "execution_count": 70,
   "metadata": {},
   "outputs": [
    {
     "data": {
      "text/plain": [
       "0.5709718670076726"
      ]
     },
     "execution_count": 70,
     "metadata": {},
     "output_type": "execute_result"
    }
   ],
   "source": [
    "roc_auc_score(Y_test, xgb_pred_y)"
   ]
  },
  {
   "cell_type": "code",
   "execution_count": 72,
   "metadata": {},
   "outputs": [],
   "source": [
    "from sklearn.model_selection import GridSearchCV"
   ]
  },
  {
   "cell_type": "code",
   "execution_count": 85,
   "metadata": {},
   "outputs": [],
   "source": [
    "n_estimators = [100, 200, 300, 400, 500]\n",
    "learning_rate = [0.001, 0.005, 0.01, 0.05, 0.1]\n",
    "param_grid = dict(learning_rate=learning_rate, n_estimators=n_estimators)\n",
    "\n",
    "xgb_greedy_model = XGBClassifier()\n",
    "grid_search = GridSearchCV(xgb_greedy_model, param_grid, scoring=\"f1_micro\", cv=stf)\n",
    "grid_result = grid_search.fit(X_train, Y_train)"
   ]
  },
  {
   "cell_type": "code",
   "execution_count": 86,
   "metadata": {},
   "outputs": [
    {
     "name": "stdout",
     "output_type": "stream",
     "text": [
      "Best: 0.952896 using {'learning_rate': 0.1, 'n_estimators': 500}\n",
      "0.947269 (0.003510) with: {'learning_rate': 0.001, 'n_estimators': 100}\n",
      "0.947269 (0.003384) with: {'learning_rate': 0.001, 'n_estimators': 200}\n",
      "0.947894 (0.003630) with: {'learning_rate': 0.001, 'n_estimators': 300}\n",
      "0.948519 (0.002826) with: {'learning_rate': 0.001, 'n_estimators': 400}\n",
      "0.948103 (0.003023) with: {'learning_rate': 0.001, 'n_estimators': 500}\n",
      "0.948311 (0.003212) with: {'learning_rate': 0.005, 'n_estimators': 100}\n",
      "0.948936 (0.002351) with: {'learning_rate': 0.005, 'n_estimators': 200}\n",
      "0.949562 (0.002261) with: {'learning_rate': 0.005, 'n_estimators': 300}\n",
      "0.948937 (0.002340) with: {'learning_rate': 0.005, 'n_estimators': 400}\n",
      "0.949145 (0.002504) with: {'learning_rate': 0.005, 'n_estimators': 500}\n",
      "0.948936 (0.002351) with: {'learning_rate': 0.01, 'n_estimators': 100}\n",
      "0.948937 (0.002340) with: {'learning_rate': 0.01, 'n_estimators': 200}\n",
      "0.948937 (0.002137) with: {'learning_rate': 0.01, 'n_estimators': 300}\n",
      "0.948937 (0.002137) with: {'learning_rate': 0.01, 'n_estimators': 400}\n",
      "0.948937 (0.002137) with: {'learning_rate': 0.01, 'n_estimators': 500}\n",
      "0.948728 (0.002511) with: {'learning_rate': 0.05, 'n_estimators': 100}\n",
      "0.950603 (0.004778) with: {'learning_rate': 0.05, 'n_estimators': 200}\n",
      "0.950812 (0.003995) with: {'learning_rate': 0.05, 'n_estimators': 300}\n",
      "0.952480 (0.003591) with: {'learning_rate': 0.05, 'n_estimators': 400}\n",
      "0.952688 (0.004675) with: {'learning_rate': 0.05, 'n_estimators': 500}\n",
      "0.950186 (0.004628) with: {'learning_rate': 0.1, 'n_estimators': 100}\n",
      "0.952271 (0.004529) with: {'learning_rate': 0.1, 'n_estimators': 200}\n",
      "0.952479 (0.005014) with: {'learning_rate': 0.1, 'n_estimators': 300}\n",
      "0.952479 (0.005184) with: {'learning_rate': 0.1, 'n_estimators': 400}\n",
      "0.952896 (0.004688) with: {'learning_rate': 0.1, 'n_estimators': 500}\n"
     ]
    },
    {
     "data": {
      "text/plain": [
       "Text(0, 0.5, 'F1 Score')"
      ]
     },
     "execution_count": 86,
     "metadata": {},
     "output_type": "execute_result"
    },
    {
     "data": {
      "image/png": "[encoded data removed]",
      "text/plain": [
       "<Figure size 432x288 with 1 Axes>"
      ]
     },
     "metadata": {
      "needs_background": "light"
     },
     "output_type": "display_data"
    }
   ],
   "source": [
    "# summarize results\n",
    "print(\"Best: %f using %s\" % (grid_result.best_score_, grid_result.best_params_))\n",
    "means = grid_result.cv_results_['mean_test_score']\n",
    "stds = grid_result.cv_results_['std_test_score']\n",
    "params = grid_result.cv_results_['params']\n",
    "for mean, stdev, param in zip(means, stds, params):\n",
    "    print(\"%f (%f) with: %r\" % (mean, stdev, param))\n",
    "# plot results\n",
    "scores = np.array(means).reshape(len(learning_rate), len(n_estimators))\n",
    "for i, value in enumerate(learning_rate):\n",
    "    plt.plot(n_estimators, scores[i], label='learning_rate: ' + str(value))\n",
    "plt.legend()\n",
    "plt.xlabel('n_estimators')\n",
    "plt.ylabel('F1 Score')"
   ]
  },
  {
   "cell_type": "code",
   "execution_count": 90,
   "metadata": {},
   "outputs": [],
   "source": [
    "xgb_model = XGBClassifier(learning_rate = 0.1, max_depth = 500, n_estimators = 200)\n",
    "xgb_model.fit(X_train, Y_train)\n",
    "xgb_pred_y = xgb_model.predict(X_test)"
   ]
  },
  {
   "cell_type": "code",
   "execution_count": 91,
   "metadata": {},
   "outputs": [
    {
     "name": "stdout",
     "output_type": "stream",
     "text": [
      "F1 : 0.956\n"
     ]
    }
   ],
   "source": [
    "print(\"F1 : %.3f\" % f1_score(Y_test, xgb_pred_y, average = 'micro'))"
   ]
  },
  {
   "cell_type": "code",
   "execution_count": 92,
   "metadata": {},
   "outputs": [
    {
     "data": {
      "text/plain": [
       "0.5957374254049446"
      ]
     },
     "execution_count": 92,
     "metadata": {},
     "output_type": "execute_result"
    }
   ],
   "source": [
    "roc_auc_score(Y_test, xgb_pred_y)"
   ]
  },
  {
   "cell_type": "code",
   "execution_count": null,
   "metadata": {},
   "outputs": [],
   "source": []
  }
 ],
 "metadata": {
  "kernelspec": {
   "display_name": "Python 3",
   "language": "python",
   "name": "python3"
  },
  "language_info": {
   "codemirror_mode": {
    "name": "ipython",
    "version": 3
   },
   "file_extension": ".py",
   "mimetype": "text/x-python",
   "name": "python",
   "nbconvert_exporter": "python",
   "pygments_lexer": "ipython3",
   "version": "3.7.6"
  }
 },
 "nbformat": 4,
 "nbformat_minor": 4
}
