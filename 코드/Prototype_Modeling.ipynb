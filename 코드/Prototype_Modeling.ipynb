{
 "cells": [
  {
   "cell_type": "markdown",
   "metadata": {},
   "source": [
    "# Random Forest"
   ]
  },
  {
   "cell_type": "code",
   "execution_count": 1,
   "metadata": {},
   "outputs": [],
   "source": [
    "import pandas as pd\n",
    "import numpy as np\n",
    "from sklearn.model_selection import train_test_split\n",
    "from sklearn.preprocessing import StandardScaler\n",
    "from sklearn.ensemble import RandomForestClassifier\n",
    "from sklearn import metrics"
   ]
  },
  {
   "cell_type": "markdown",
   "metadata": {},
   "source": [
    "## Importing Data"
   ]
  },
  {
   "cell_type": "code",
   "execution_count": 2,
   "metadata": {},
   "outputs": [],
   "source": [
    "data = pd.read_csv(\"C:/Users/dhxog/Desktop/ESC4-1/Final_Project/imputed_data.csv\")"
   ]
  },
  {
   "cell_type": "code",
   "execution_count": 3,
   "metadata": {},
   "outputs": [],
   "source": [
    "data = pd.DataFrame(data)"
   ]
  },
  {
   "cell_type": "code",
   "execution_count": 7,
   "metadata": {},
   "outputs": [],
   "source": [
    "data = data.drop(columns = [\"X1\"])"
   ]
  },
  {
   "cell_type": "code",
   "execution_count": 8,
   "metadata": {
    "scrolled": false
   },
   "outputs": [
    {
     "data": {
      "text/html": [
       "<div>\n",
       "<style scoped>\n",
       "    .dataframe tbody tr th:only-of-type {\n",
       "        vertical-align: middle;\n",
       "    }\n",
       "\n",
       "    .dataframe tbody tr th {\n",
       "        vertical-align: top;\n",
       "    }\n",
       "\n",
       "    .dataframe thead th {\n",
       "        text-align: right;\n",
       "    }\n",
       "</style>\n",
       "<table border=\"1\" class=\"dataframe\">\n",
       "  <thead>\n",
       "    <tr style=\"text-align: right;\">\n",
       "      <th></th>\n",
       "      <th>Attr1</th>\n",
       "      <th>Attr5</th>\n",
       "      <th>Attr6</th>\n",
       "      <th>Attr9</th>\n",
       "      <th>Attr10</th>\n",
       "      <th>Attr15</th>\n",
       "      <th>Attr17</th>\n",
       "      <th>Attr18</th>\n",
       "      <th>Attr19</th>\n",
       "      <th>Attr20</th>\n",
       "      <th>...</th>\n",
       "      <th>Attr47</th>\n",
       "      <th>Attr54</th>\n",
       "      <th>Attr55</th>\n",
       "      <th>Attr57</th>\n",
       "      <th>Attr59</th>\n",
       "      <th>Attr60</th>\n",
       "      <th>Attr61</th>\n",
       "      <th>Attr63</th>\n",
       "      <th>Attr64</th>\n",
       "      <th>class</th>\n",
       "    </tr>\n",
       "  </thead>\n",
       "  <tbody>\n",
       "    <tr>\n",
       "      <th>0</th>\n",
       "      <td>-0.024558</td>\n",
       "      <td>34.382</td>\n",
       "      <td>-0.026711</td>\n",
       "      <td>1.06670</td>\n",
       "      <td>0.67673</td>\n",
       "      <td>6342.50</td>\n",
       "      <td>3.32760</td>\n",
       "      <td>-0.020067</td>\n",
       "      <td>-0.029744</td>\n",
       "      <td>26.775</td>\n",
       "      <td>...</td>\n",
       "      <td>28.560</td>\n",
       "      <td>1.1106</td>\n",
       "      <td>3937.6000</td>\n",
       "      <td>-0.036289</td>\n",
       "      <td>0.25454</td>\n",
       "      <td>13.6320</td>\n",
       "      <td>3.6930</td>\n",
       "      <td>5.2602</td>\n",
       "      <td>0.8826</td>\n",
       "      <td>0</td>\n",
       "    </tr>\n",
       "    <tr>\n",
       "      <th>1</th>\n",
       "      <td>0.639180</td>\n",
       "      <td>29.678</td>\n",
       "      <td>-1.139300</td>\n",
       "      <td>1.11850</td>\n",
       "      <td>1.00000</td>\n",
       "      <td>0.00</td>\n",
       "      <td>0.84934</td>\n",
       "      <td>0.760520</td>\n",
       "      <td>0.679940</td>\n",
       "      <td>0.000</td>\n",
       "      <td>...</td>\n",
       "      <td>0.000</td>\n",
       "      <td>11.1240</td>\n",
       "      <td>16.6650</td>\n",
       "      <td>0.639180</td>\n",
       "      <td>0.00000</td>\n",
       "      <td>178.4700</td>\n",
       "      <td>37.8860</td>\n",
       "      <td>7.6319</td>\n",
       "      <td>21.7920</td>\n",
       "      <td>0</td>\n",
       "    </tr>\n",
       "    <tr>\n",
       "      <th>2</th>\n",
       "      <td>-0.440760</td>\n",
       "      <td>34.555</td>\n",
       "      <td>0.000000</td>\n",
       "      <td>1.51860</td>\n",
       "      <td>0.52277</td>\n",
       "      <td>-476.47</td>\n",
       "      <td>2.09540</td>\n",
       "      <td>-0.440760</td>\n",
       "      <td>-0.290240</td>\n",
       "      <td>0.000</td>\n",
       "      <td>...</td>\n",
       "      <td>0.000</td>\n",
       "      <td>1.4867</td>\n",
       "      <td>180.9100</td>\n",
       "      <td>-0.843130</td>\n",
       "      <td>0.12538</td>\n",
       "      <td>13.9380</td>\n",
       "      <td>2.5649</td>\n",
       "      <td>3.6887</td>\n",
       "      <td>3.8376</td>\n",
       "      <td>0</td>\n",
       "    </tr>\n",
       "    <tr>\n",
       "      <th>3</th>\n",
       "      <td>0.119520</td>\n",
       "      <td>117.650</td>\n",
       "      <td>0.251540</td>\n",
       "      <td>1.12630</td>\n",
       "      <td>0.81017</td>\n",
       "      <td>306.88</td>\n",
       "      <td>5.65630</td>\n",
       "      <td>0.148750</td>\n",
       "      <td>0.093023</td>\n",
       "      <td>40.872</td>\n",
       "      <td>...</td>\n",
       "      <td>46.033</td>\n",
       "      <td>4.3151</td>\n",
       "      <td>180570.0000</td>\n",
       "      <td>0.147520</td>\n",
       "      <td>0.00000</td>\n",
       "      <td>8.9302</td>\n",
       "      <td>10.2870</td>\n",
       "      <td>9.0448</td>\n",
       "      <td>8.5169</td>\n",
       "      <td>0</td>\n",
       "    </tr>\n",
       "    <tr>\n",
       "      <th>4</th>\n",
       "      <td>0.230400</td>\n",
       "      <td>-26.928</td>\n",
       "      <td>0.617540</td>\n",
       "      <td>0.80411</td>\n",
       "      <td>0.72905</td>\n",
       "      <td>315.23</td>\n",
       "      <td>3.69070</td>\n",
       "      <td>0.282690</td>\n",
       "      <td>0.351560</td>\n",
       "      <td>46.043</td>\n",
       "      <td>...</td>\n",
       "      <td>70.950</td>\n",
       "      <td>1.3886</td>\n",
       "      <td>2.5745</td>\n",
       "      <td>0.316020</td>\n",
       "      <td>0.16465</td>\n",
       "      <td>7.9274</td>\n",
       "      <td>6.6605</td>\n",
       "      <td>5.3283</td>\n",
       "      <td>1.3150</td>\n",
       "      <td>0</td>\n",
       "    </tr>\n",
       "  </tbody>\n",
       "</table>\n",
       "<p>5 rows × 28 columns</p>\n",
       "</div>"
      ],
      "text/plain": [
       "      Attr1    Attr5     Attr6    Attr9   Attr10   Attr15   Attr17    Attr18  \\\n",
       "0 -0.024558   34.382 -0.026711  1.06670  0.67673  6342.50  3.32760 -0.020067   \n",
       "1  0.639180   29.678 -1.139300  1.11850  1.00000     0.00  0.84934  0.760520   \n",
       "2 -0.440760   34.555  0.000000  1.51860  0.52277  -476.47  2.09540 -0.440760   \n",
       "3  0.119520  117.650  0.251540  1.12630  0.81017   306.88  5.65630  0.148750   \n",
       "4  0.230400  -26.928  0.617540  0.80411  0.72905   315.23  3.69070  0.282690   \n",
       "\n",
       "     Attr19  Attr20  ...  Attr47   Attr54       Attr55    Attr57   Attr59  \\\n",
       "0 -0.029744  26.775  ...  28.560   1.1106    3937.6000 -0.036289  0.25454   \n",
       "1  0.679940   0.000  ...   0.000  11.1240      16.6650  0.639180  0.00000   \n",
       "2 -0.290240   0.000  ...   0.000   1.4867     180.9100 -0.843130  0.12538   \n",
       "3  0.093023  40.872  ...  46.033   4.3151  180570.0000  0.147520  0.00000   \n",
       "4  0.351560  46.043  ...  70.950   1.3886       2.5745  0.316020  0.16465   \n",
       "\n",
       "     Attr60   Attr61  Attr63   Attr64  class  \n",
       "0   13.6320   3.6930  5.2602   0.8826      0  \n",
       "1  178.4700  37.8860  7.6319  21.7920      0  \n",
       "2   13.9380   2.5649  3.6887   3.8376      0  \n",
       "3    8.9302  10.2870  9.0448   8.5169      0  \n",
       "4    7.9274   6.6605  5.3283   1.3150      0  \n",
       "\n",
       "[5 rows x 28 columns]"
      ]
     },
     "execution_count": 8,
     "metadata": {},
     "output_type": "execute_result"
    }
   ],
   "source": [
    "data.head()"
   ]
  },
  {
   "cell_type": "markdown",
   "metadata": {},
   "source": [
    "## Train - Test Split"
   ]
  },
  {
   "cell_type": "code",
   "execution_count": 10,
   "metadata": {
    "scrolled": true
   },
   "outputs": [
    {
     "data": {
      "text/plain": [
       "28"
      ]
     },
     "execution_count": 10,
     "metadata": {},
     "output_type": "execute_result"
    }
   ],
   "source": [
    "data.shape[1]"
   ]
  },
  {
   "cell_type": "code",
   "execution_count": 13,
   "metadata": {},
   "outputs": [],
   "source": [
    "X_train, X_test, Y_train, Y_test = train_test_split(data.iloc[:,1:27], \n",
    "                                                    data['class'],\n",
    "                                                   test_size = 0.3,\n",
    "                                                   random_state = 26)"
   ]
  },
  {
   "cell_type": "markdown",
   "metadata": {},
   "source": [
    "## 10-fold Closs Validation"
   ]
  },
  {
   "cell_type": "code",
   "execution_count": 17,
   "metadata": {},
   "outputs": [],
   "source": [
    "from sklearn.model_selection import cross_val_score\n",
    "from sklearn.model_selection import StratifiedKFold\n",
    "\n",
    "\n",
    "stf = StratifiedKFold(n_splits = 10, shuffle = True, random_state = 1)"
   ]
  },
  {
   "cell_type": "code",
   "execution_count": 18,
   "metadata": {},
   "outputs": [],
   "source": [
    "forest = RandomForestClassifier(n_estimators=500, random_state=26)\n",
    "score = cross_val_score(forest, X_train, Y_train, cv = stf, scoring = 'f1_micro')"
   ]
  },
  {
   "cell_type": "code",
   "execution_count": 19,
   "metadata": {},
   "outputs": [
    {
     "data": {
      "text/plain": [
       "array([0.95416667, 0.95833333, 0.95      , 0.95208333, 0.95      ,\n",
       "       0.94791667, 0.95416667, 0.95208333, 0.94989562, 0.95407098])"
      ]
     },
     "execution_count": 19,
     "metadata": {},
     "output_type": "execute_result"
    }
   ],
   "source": [
    "score"
   ]
  },
  {
   "cell_type": "code",
   "execution_count": 20,
   "metadata": {},
   "outputs": [
    {
     "data": {
      "text/plain": [
       "RandomForestClassifier(bootstrap=True, ccp_alpha=0.0, class_weight=None,\n",
       "                       criterion='gini', max_depth=None, max_features='auto',\n",
       "                       max_leaf_nodes=None, max_samples=None,\n",
       "                       min_impurity_decrease=0.0, min_impurity_split=None,\n",
       "                       min_samples_leaf=1, min_samples_split=2,\n",
       "                       min_weight_fraction_leaf=0.0, n_estimators=500,\n",
       "                       n_jobs=None, oob_score=False, random_state=26, verbose=0,\n",
       "                       warm_start=False)"
      ]
     },
     "execution_count": 20,
     "metadata": {},
     "output_type": "execute_result"
    }
   ],
   "source": [
    "forest.fit(X_train,Y_train)"
   ]
  },
  {
   "cell_type": "code",
   "execution_count": 21,
   "metadata": {},
   "outputs": [],
   "source": [
    "pred_y = forest.predict(X_test)"
   ]
  },
  {
   "cell_type": "code",
   "execution_count": 22,
   "metadata": {},
   "outputs": [
    {
     "name": "stdout",
     "output_type": "stream",
     "text": [
      "F1 : 0.946\n"
     ]
    }
   ],
   "source": [
    "from sklearn.metrics import precision_score, recall_score, f1_score\n",
    "print(\"F1 : %.3f\" % f1_score(Y_test, pred_y, average = 'micro'))"
   ]
  }
 ],
 "metadata": {
  "kernelspec": {
   "display_name": "Python 3",
   "language": "python",
   "name": "python3"
  },
  "language_info": {
   "codemirror_mode": {
    "name": "ipython",
    "version": 3
   },
   "file_extension": ".py",
   "mimetype": "text/x-python",
   "name": "python",
   "nbconvert_exporter": "python",
   "pygments_lexer": "ipython3",
   "version": "3.7.6"
  }
 },
 "nbformat": 4,
 "nbformat_minor": 4
}
