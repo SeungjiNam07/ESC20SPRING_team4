{
 "cells": [
  {
   "cell_type": "markdown",
   "metadata": {},
   "source": [
    "# Random Forest"
   ]
  },
  {
   "cell_type": "code",
   "execution_count": 2,
   "metadata": {},
   "outputs": [],
   "source": [
    "import pandas as pd\n",
    "import numpy as np\n",
    "from sklearn.model_selection import train_test_split\n",
    "from sklearn.preprocessing import StandardScaler\n",
    "from sklearn.ensemble import RandomForestClassifier\n",
    "from sklearn import metrics"
   ]
  },
  {
   "cell_type": "markdown",
   "metadata": {},
   "source": [
    "## Importing Data"
   ]
  },
  {
   "cell_type": "code",
   "execution_count": 3,
   "metadata": {},
   "outputs": [],
   "source": [
    "data = pd.read_csv(\"C:/Users/dhxog/Desktop/ESC4-1/Final_Project/scaled_data.csv\")"
   ]
  },
  {
   "cell_type": "code",
   "execution_count": 4,
   "metadata": {},
   "outputs": [],
   "source": [
    "data = pd.DataFrame(data)"
   ]
  },
  {
   "cell_type": "code",
   "execution_count": 5,
   "metadata": {},
   "outputs": [],
   "source": [
    "data = data.drop(columns = [\"X1\"])"
   ]
  },
  {
   "cell_type": "code",
   "execution_count": 6,
   "metadata": {
    "scrolled": false
   },
   "outputs": [
    {
     "data": {
      "text/html": [
       "<div>\n",
       "<style scoped>\n",
       "    .dataframe tbody tr th:only-of-type {\n",
       "        vertical-align: middle;\n",
       "    }\n",
       "\n",
       "    .dataframe tbody tr th {\n",
       "        vertical-align: top;\n",
       "    }\n",
       "\n",
       "    .dataframe thead th {\n",
       "        text-align: right;\n",
       "    }\n",
       "</style>\n",
       "<table border=\"1\" class=\"dataframe\">\n",
       "  <thead>\n",
       "    <tr style=\"text-align: right;\">\n",
       "      <th></th>\n",
       "      <th>Attr1</th>\n",
       "      <th>Attr5</th>\n",
       "      <th>Attr6</th>\n",
       "      <th>Attr10</th>\n",
       "      <th>Attr15</th>\n",
       "      <th>Attr17</th>\n",
       "      <th>Attr18</th>\n",
       "      <th>Attr19</th>\n",
       "      <th>Attr20</th>\n",
       "      <th>Attr21</th>\n",
       "      <th>...</th>\n",
       "      <th>Attr47</th>\n",
       "      <th>Attr54</th>\n",
       "      <th>Attr55</th>\n",
       "      <th>Attr57</th>\n",
       "      <th>Attr59</th>\n",
       "      <th>Attr60</th>\n",
       "      <th>Attr61</th>\n",
       "      <th>Attr63</th>\n",
       "      <th>Attr64</th>\n",
       "      <th>class</th>\n",
       "    </tr>\n",
       "  </thead>\n",
       "  <tbody>\n",
       "    <tr>\n",
       "      <th>0</th>\n",
       "      <td>0.825518</td>\n",
       "      <td>0.354326</td>\n",
       "      <td>0.446455</td>\n",
       "      <td>0.935388</td>\n",
       "      <td>0.535183</td>\n",
       "      <td>0.390249</td>\n",
       "      <td>0.825624</td>\n",
       "      <td>0.198565</td>\n",
       "      <td>0.326250</td>\n",
       "      <td>0.113042</td>\n",
       "      <td>...</td>\n",
       "      <td>0.295389</td>\n",
       "      <td>0.126600</td>\n",
       "      <td>0.324339</td>\n",
       "      <td>0.278214</td>\n",
       "      <td>0.362919</td>\n",
       "      <td>0.223740</td>\n",
       "      <td>0.133221</td>\n",
       "      <td>0.290416</td>\n",
       "      <td>0.063522</td>\n",
       "      <td>0</td>\n",
       "    </tr>\n",
       "    <tr>\n",
       "      <th>1</th>\n",
       "      <td>0.840844</td>\n",
       "      <td>0.354319</td>\n",
       "      <td>0.442478</td>\n",
       "      <td>0.937377</td>\n",
       "      <td>0.533641</td>\n",
       "      <td>0.281383</td>\n",
       "      <td>0.843568</td>\n",
       "      <td>0.200601</td>\n",
       "      <td>0.000000</td>\n",
       "      <td>0.094479</td>\n",
       "      <td>...</td>\n",
       "      <td>0.129272</td>\n",
       "      <td>0.129951</td>\n",
       "      <td>0.322302</td>\n",
       "      <td>0.280835</td>\n",
       "      <td>0.362623</td>\n",
       "      <td>0.432771</td>\n",
       "      <td>0.315668</td>\n",
       "      <td>0.341677</td>\n",
       "      <td>0.313909</td>\n",
       "      <td>0</td>\n",
       "    </tr>\n",
       "    <tr>\n",
       "      <th>2</th>\n",
       "      <td>0.815517</td>\n",
       "      <td>0.354327</td>\n",
       "      <td>0.446550</td>\n",
       "      <td>0.934436</td>\n",
       "      <td>0.533525</td>\n",
       "      <td>0.353376</td>\n",
       "      <td>0.815517</td>\n",
       "      <td>0.197817</td>\n",
       "      <td>0.000000</td>\n",
       "      <td>0.076257</td>\n",
       "      <td>...</td>\n",
       "      <td>0.129272</td>\n",
       "      <td>0.126727</td>\n",
       "      <td>0.322387</td>\n",
       "      <td>0.275078</td>\n",
       "      <td>0.362768</td>\n",
       "      <td>0.225466</td>\n",
       "      <td>0.109511</td>\n",
       "      <td>0.244347</td>\n",
       "      <td>0.158281</td>\n",
       "      <td>0</td>\n",
       "    </tr>\n",
       "    <tr>\n",
       "      <th>3</th>\n",
       "      <td>0.828908</td>\n",
       "      <td>0.354464</td>\n",
       "      <td>0.447444</td>\n",
       "      <td>0.936211</td>\n",
       "      <td>0.533716</td>\n",
       "      <td>0.432543</td>\n",
       "      <td>0.829592</td>\n",
       "      <td>0.198917</td>\n",
       "      <td>0.366537</td>\n",
       "      <td>0.106639</td>\n",
       "      <td>...</td>\n",
       "      <td>0.331060</td>\n",
       "      <td>0.127676</td>\n",
       "      <td>0.402793</td>\n",
       "      <td>0.278928</td>\n",
       "      <td>0.362623</td>\n",
       "      <td>0.191418</td>\n",
       "      <td>0.208927</td>\n",
       "      <td>0.365883</td>\n",
       "      <td>0.226220</td>\n",
       "      <td>0</td>\n",
       "    </tr>\n",
       "    <tr>\n",
       "      <th>4</th>\n",
       "      <td>0.831493</td>\n",
       "      <td>0.354225</td>\n",
       "      <td>0.448741</td>\n",
       "      <td>0.935711</td>\n",
       "      <td>0.533718</td>\n",
       "      <td>0.398505</td>\n",
       "      <td>0.832705</td>\n",
       "      <td>0.199659</td>\n",
       "      <td>0.377965</td>\n",
       "      <td>0.132312</td>\n",
       "      <td>...</td>\n",
       "      <td>0.364796</td>\n",
       "      <td>0.126694</td>\n",
       "      <td>0.322294</td>\n",
       "      <td>0.279581</td>\n",
       "      <td>0.362814</td>\n",
       "      <td>0.182541</td>\n",
       "      <td>0.175489</td>\n",
       "      <td>0.292142</td>\n",
       "      <td>0.084281</td>\n",
       "      <td>0</td>\n",
       "    </tr>\n",
       "  </tbody>\n",
       "</table>\n",
       "<p>5 rows × 27 columns</p>\n",
       "</div>"
      ],
      "text/plain": [
       "      Attr1     Attr5     Attr6    Attr10    Attr15    Attr17    Attr18  \\\n",
       "0  0.825518  0.354326  0.446455  0.935388  0.535183  0.390249  0.825624   \n",
       "1  0.840844  0.354319  0.442478  0.937377  0.533641  0.281383  0.843568   \n",
       "2  0.815517  0.354327  0.446550  0.934436  0.533525  0.353376  0.815517   \n",
       "3  0.828908  0.354464  0.447444  0.936211  0.533716  0.432543  0.829592   \n",
       "4  0.831493  0.354225  0.448741  0.935711  0.533718  0.398505  0.832705   \n",
       "\n",
       "     Attr19    Attr20    Attr21  ...    Attr47    Attr54    Attr55    Attr57  \\\n",
       "0  0.198565  0.326250  0.113042  ...  0.295389  0.126600  0.324339  0.278214   \n",
       "1  0.200601  0.000000  0.094479  ...  0.129272  0.129951  0.322302  0.280835   \n",
       "2  0.197817  0.000000  0.076257  ...  0.129272  0.126727  0.322387  0.275078   \n",
       "3  0.198917  0.366537  0.106639  ...  0.331060  0.127676  0.402793  0.278928   \n",
       "4  0.199659  0.377965  0.132312  ...  0.364796  0.126694  0.322294  0.279581   \n",
       "\n",
       "     Attr59    Attr60    Attr61    Attr63    Attr64  class  \n",
       "0  0.362919  0.223740  0.133221  0.290416  0.063522      0  \n",
       "1  0.362623  0.432771  0.315668  0.341677  0.313909      0  \n",
       "2  0.362768  0.225466  0.109511  0.244347  0.158281      0  \n",
       "3  0.362623  0.191418  0.208927  0.365883  0.226220      0  \n",
       "4  0.362814  0.182541  0.175489  0.292142  0.084281      0  \n",
       "\n",
       "[5 rows x 27 columns]"
      ]
     },
     "execution_count": 6,
     "metadata": {},
     "output_type": "execute_result"
    }
   ],
   "source": [
    "data.head()"
   ]
  },
  {
   "cell_type": "markdown",
   "metadata": {},
   "source": [
    "## Train - Test Split"
   ]
  },
  {
   "cell_type": "code",
   "execution_count": 7,
   "metadata": {
    "scrolled": true
   },
   "outputs": [
    {
     "data": {
      "text/plain": [
       "27"
      ]
     },
     "execution_count": 7,
     "metadata": {},
     "output_type": "execute_result"
    }
   ],
   "source": [
    "data.shape[1]"
   ]
  },
  {
   "cell_type": "code",
   "execution_count": 8,
   "metadata": {},
   "outputs": [],
   "source": [
    "X_train, X_test, Y_train, Y_test = train_test_split(data.iloc[:,1:27], \n",
    "                                                    data['class'],\n",
    "                                                   test_size = 0.3,\n",
    "                                                   random_state = 26)"
   ]
  },
  {
   "cell_type": "markdown",
   "metadata": {},
   "source": [
    "## 10-fold Closs Validation"
   ]
  },
  {
   "cell_type": "code",
   "execution_count": 9,
   "metadata": {},
   "outputs": [],
   "source": [
    "from sklearn.model_selection import cross_val_score\n",
    "from sklearn.model_selection import StratifiedKFold\n",
    "\n",
    "\n",
    "stf = StratifiedKFold(n_splits = 10, shuffle = True, random_state = 1)"
   ]
  },
  {
   "cell_type": "code",
   "execution_count": 10,
   "metadata": {},
   "outputs": [],
   "source": [
    "forest = RandomForestClassifier(n_estimators=500, random_state=26)\n",
    "score = cross_val_score(forest, X_train, Y_train, cv = stf, scoring = 'f1_micro')"
   ]
  },
  {
   "cell_type": "code",
   "execution_count": 11,
   "metadata": {},
   "outputs": [
    {
     "data": {
      "text/plain": [
       "1.0"
      ]
     },
     "execution_count": 11,
     "metadata": {},
     "output_type": "execute_result"
    }
   ],
   "source": [
    "score.mean()"
   ]
  },
  {
   "cell_type": "code",
   "execution_count": 12,
   "metadata": {},
   "outputs": [
    {
     "data": {
      "text/plain": [
       "RandomForestClassifier(bootstrap=True, ccp_alpha=0.0, class_weight=None,\n",
       "                       criterion='gini', max_depth=None, max_features='auto',\n",
       "                       max_leaf_nodes=None, max_samples=None,\n",
       "                       min_impurity_decrease=0.0, min_impurity_split=None,\n",
       "                       min_samples_leaf=1, min_samples_split=2,\n",
       "                       min_weight_fraction_leaf=0.0, n_estimators=500,\n",
       "                       n_jobs=None, oob_score=False, random_state=26, verbose=0,\n",
       "                       warm_start=False)"
      ]
     },
     "execution_count": 12,
     "metadata": {},
     "output_type": "execute_result"
    }
   ],
   "source": [
    "forest.fit(X_train,Y_train)"
   ]
  },
  {
   "cell_type": "code",
   "execution_count": 13,
   "metadata": {},
   "outputs": [],
   "source": [
    "pred_y = forest.predict(X_test)"
   ]
  },
  {
   "cell_type": "code",
   "execution_count": 14,
   "metadata": {},
   "outputs": [
    {
     "name": "stdout",
     "output_type": "stream",
     "text": [
      "F1 : 1.000\n"
     ]
    }
   ],
   "source": [
    "from sklearn.metrics import precision_score, recall_score, f1_score\n",
    "print(\"F1 : %.3f\" % f1_score(Y_test, pred_y, average = 'micro'))"
   ]
  }
 ],
 "metadata": {
  "kernelspec": {
   "display_name": "Python 3",
   "language": "python",
   "name": "python3"
  },
  "language_info": {
   "codemirror_mode": {
    "name": "ipython",
    "version": 3
   },
   "file_extension": ".py",
   "mimetype": "text/x-python",
   "name": "python",
   "nbconvert_exporter": "python",
   "pygments_lexer": "ipython3",
   "version": "3.7.6"
  }
 },
 "nbformat": 4,
 "nbformat_minor": 4
}
