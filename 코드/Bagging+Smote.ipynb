{
 "cells": [
  {
   "cell_type": "markdown",
   "metadata": {},
   "source": [
    "# Bagging"
   ]
  },
  {
   "cell_type": "code",
   "execution_count": 1,
   "metadata": {},
   "outputs": [],
   "source": [
    "import imblearn\n",
    "import numpy as np\n",
    "import pandas as pd\n",
    "import matplotlib.pyplot as plt\n",
    "import seaborn as sns"
   ]
  },
  {
   "cell_type": "code",
   "execution_count": 2,
   "metadata": {},
   "outputs": [],
   "source": [
    "data = pd.read_csv(\"pca_data.csv\")"
   ]
  },
  {
   "cell_type": "code",
   "execution_count": 3,
   "metadata": {},
   "outputs": [],
   "source": [
    "data.drop(data.columns[0], axis = 1, inplace = True)"
   ]
  },
  {
   "cell_type": "code",
   "execution_count": 4,
   "metadata": {},
   "outputs": [
    {
     "data": {
      "text/html": [
       "<div>\n",
       "<style scoped>\n",
       "    .dataframe tbody tr th:only-of-type {\n",
       "        vertical-align: middle;\n",
       "    }\n",
       "\n",
       "    .dataframe tbody tr th {\n",
       "        vertical-align: top;\n",
       "    }\n",
       "\n",
       "    .dataframe thead th {\n",
       "        text-align: right;\n",
       "    }\n",
       "</style>\n",
       "<table border=\"1\" class=\"dataframe\">\n",
       "  <thead>\n",
       "    <tr style=\"text-align: right;\">\n",
       "      <th></th>\n",
       "      <th>pca1</th>\n",
       "      <th>pca2</th>\n",
       "      <th>pca3</th>\n",
       "      <th>Attr5</th>\n",
       "      <th>Attr6</th>\n",
       "      <th>Attr9</th>\n",
       "      <th>Attr15</th>\n",
       "      <th>Attr17</th>\n",
       "      <th>Attr18</th>\n",
       "      <th>Attr20</th>\n",
       "      <th>...</th>\n",
       "      <th>Attr47</th>\n",
       "      <th>Attr54</th>\n",
       "      <th>Attr55</th>\n",
       "      <th>Attr57</th>\n",
       "      <th>Attr59</th>\n",
       "      <th>Attr60</th>\n",
       "      <th>Attr61</th>\n",
       "      <th>Attr63</th>\n",
       "      <th>Attr64</th>\n",
       "      <th>class</th>\n",
       "    </tr>\n",
       "  </thead>\n",
       "  <tbody>\n",
       "    <tr>\n",
       "      <th>0</th>\n",
       "      <td>-0.736027</td>\n",
       "      <td>-0.348747</td>\n",
       "      <td>-0.058040</td>\n",
       "      <td>-0.007032</td>\n",
       "      <td>-0.004030</td>\n",
       "      <td>-0.055249</td>\n",
       "      <td>0.032470</td>\n",
       "      <td>-0.029024</td>\n",
       "      <td>-0.129252</td>\n",
       "      <td>-0.103675</td>\n",
       "      <td>...</td>\n",
       "      <td>-0.051149</td>\n",
       "      <td>-0.045553</td>\n",
       "      <td>-0.058091</td>\n",
       "      <td>-0.031549</td>\n",
       "      <td>-0.016588</td>\n",
       "      <td>-0.046548</td>\n",
       "      <td>-0.024825</td>\n",
       "      <td>-0.067129</td>\n",
       "      <td>-0.088498</td>\n",
       "      <td>0</td>\n",
       "    </tr>\n",
       "    <tr>\n",
       "      <th>1</th>\n",
       "      <td>-1.346851</td>\n",
       "      <td>3.477502</td>\n",
       "      <td>-0.117813</td>\n",
       "      <td>-0.007454</td>\n",
       "      <td>-0.235543</td>\n",
       "      <td>-0.051780</td>\n",
       "      <td>-0.036294</td>\n",
       "      <td>0.006887</td>\n",
       "      <td>1.031123</td>\n",
       "      <td>-0.183374</td>\n",
       "      <td>...</td>\n",
       "      <td>-0.066955</td>\n",
       "      <td>0.005472</td>\n",
       "      <td>-0.113787</td>\n",
       "      <td>0.099133</td>\n",
       "      <td>-0.028335</td>\n",
       "      <td>-0.048775</td>\n",
       "      <td>0.012525</td>\n",
       "      <td>-0.033076</td>\n",
       "      <td>-0.090512</td>\n",
       "      <td>0</td>\n",
       "    </tr>\n",
       "    <tr>\n",
       "      <th>2</th>\n",
       "      <td>-0.179147</td>\n",
       "      <td>-2.537603</td>\n",
       "      <td>-0.033529</td>\n",
       "      <td>-0.007016</td>\n",
       "      <td>0.001522</td>\n",
       "      <td>-0.024981</td>\n",
       "      <td>-0.041462</td>\n",
       "      <td>-0.033089</td>\n",
       "      <td>-0.759637</td>\n",
       "      <td>-0.183374</td>\n",
       "      <td>...</td>\n",
       "      <td>-0.066955</td>\n",
       "      <td>-0.042601</td>\n",
       "      <td>-0.111453</td>\n",
       "      <td>-0.187408</td>\n",
       "      <td>-0.022549</td>\n",
       "      <td>-0.049574</td>\n",
       "      <td>-0.026057</td>\n",
       "      <td>-0.097240</td>\n",
       "      <td>-0.081367</td>\n",
       "      <td>0</td>\n",
       "    </tr>\n",
       "    <tr>\n",
       "      <th>3</th>\n",
       "      <td>-1.168294</td>\n",
       "      <td>0.404212</td>\n",
       "      <td>-0.067943</td>\n",
       "      <td>0.000447</td>\n",
       "      <td>0.053798</td>\n",
       "      <td>-0.051257</td>\n",
       "      <td>-0.032966</td>\n",
       "      <td>-0.021344</td>\n",
       "      <td>0.122720</td>\n",
       "      <td>-0.061746</td>\n",
       "      <td>...</td>\n",
       "      <td>-0.041480</td>\n",
       "      <td>-0.020404</td>\n",
       "      <td>2.419677</td>\n",
       "      <td>0.003994</td>\n",
       "      <td>-0.028335</td>\n",
       "      <td>-0.048031</td>\n",
       "      <td>-0.017621</td>\n",
       "      <td>0.005353</td>\n",
       "      <td>-0.070075</td>\n",
       "      <td>0</td>\n",
       "    </tr>\n",
       "    <tr>\n",
       "      <th>4</th>\n",
       "      <td>-0.821225</td>\n",
       "      <td>1.156009</td>\n",
       "      <td>-0.089037</td>\n",
       "      <td>-0.012538</td>\n",
       "      <td>0.129818</td>\n",
       "      <td>-0.072841</td>\n",
       "      <td>-0.032875</td>\n",
       "      <td>-0.027827</td>\n",
       "      <td>0.322233</td>\n",
       "      <td>-0.046371</td>\n",
       "      <td>...</td>\n",
       "      <td>-0.027693</td>\n",
       "      <td>-0.043371</td>\n",
       "      <td>-0.113987</td>\n",
       "      <td>0.036589</td>\n",
       "      <td>-0.020736</td>\n",
       "      <td>-0.048348</td>\n",
       "      <td>-0.021583</td>\n",
       "      <td>-0.065824</td>\n",
       "      <td>-0.087455</td>\n",
       "      <td>0</td>\n",
       "    </tr>\n",
       "  </tbody>\n",
       "</table>\n",
       "<p>5 rows × 28 columns</p>\n",
       "</div>"
      ],
      "text/plain": [
       "       pca1      pca2      pca3     Attr5     Attr6     Attr9    Attr15  \\\n",
       "0 -0.736027 -0.348747 -0.058040 -0.007032 -0.004030 -0.055249  0.032470   \n",
       "1 -1.346851  3.477502 -0.117813 -0.007454 -0.235543 -0.051780 -0.036294   \n",
       "2 -0.179147 -2.537603 -0.033529 -0.007016  0.001522 -0.024981 -0.041462   \n",
       "3 -1.168294  0.404212 -0.067943  0.000447  0.053798 -0.051257 -0.032966   \n",
       "4 -0.821225  1.156009 -0.089037 -0.012538  0.129818 -0.072841 -0.032875   \n",
       "\n",
       "     Attr17    Attr18    Attr20  ...    Attr47    Attr54    Attr55    Attr57  \\\n",
       "0 -0.029024 -0.129252 -0.103675  ... -0.051149 -0.045553 -0.058091 -0.031549   \n",
       "1  0.006887  1.031123 -0.183374  ... -0.066955  0.005472 -0.113787  0.099133   \n",
       "2 -0.033089 -0.759637 -0.183374  ... -0.066955 -0.042601 -0.111453 -0.187408   \n",
       "3 -0.021344  0.122720 -0.061746  ... -0.041480 -0.020404  2.419677  0.003994   \n",
       "4 -0.027827  0.322233 -0.046371  ... -0.027693 -0.043371 -0.113987  0.036589   \n",
       "\n",
       "     Attr59    Attr60    Attr61    Attr63    Attr64  class  \n",
       "0 -0.016588 -0.046548 -0.024825 -0.067129 -0.088498      0  \n",
       "1 -0.028335 -0.048775  0.012525 -0.033076 -0.090512      0  \n",
       "2 -0.022549 -0.049574 -0.026057 -0.097240 -0.081367      0  \n",
       "3 -0.028335 -0.048031 -0.017621  0.005353 -0.070075      0  \n",
       "4 -0.020736 -0.048348 -0.021583 -0.065824 -0.087455      0  \n",
       "\n",
       "[5 rows x 28 columns]"
      ]
     },
     "execution_count": 4,
     "metadata": {},
     "output_type": "execute_result"
    }
   ],
   "source": [
    "data.head()"
   ]
  },
  {
   "cell_type": "code",
   "execution_count": 5,
   "metadata": {},
   "outputs": [],
   "source": [
    "from sklearn.model_selection import train_test_split\n",
    "X = data.iloc[:, :-1]\n",
    "y = data[\"class\"]\n",
    "X_train, X_test, y_train, y_test = train_test_split(X, y, test_size = 0.3, random_state = 24)"
   ]
  },
  {
   "cell_type": "code",
   "execution_count": 6,
   "metadata": {},
   "outputs": [],
   "source": [
    "from sklearn.ensemble import BaggingClassifier\n",
    "from imblearn.ensemble import BalancedBaggingClassifier\n",
    "from imblearn.metrics import classification_report_imbalanced"
   ]
  },
  {
   "cell_type": "code",
   "execution_count": 7,
   "metadata": {},
   "outputs": [],
   "source": [
    "bagging = BaggingClassifier(random_state = 54)\n",
    "balanced_bagging = BalancedBaggingClassifier(random_state = 24)"
   ]
  },
  {
   "cell_type": "code",
   "execution_count": 8,
   "metadata": {},
   "outputs": [
    {
     "data": {
      "text/plain": [
       "BalancedBaggingClassifier(base_estimator=None, bootstrap=True,\n",
       "                          bootstrap_features=False, max_features=1.0,\n",
       "                          max_samples=1.0, n_estimators=10, n_jobs=None,\n",
       "                          oob_score=False, random_state=24, replacement=False,\n",
       "                          sampling_strategy='auto', verbose=0,\n",
       "                          warm_start=False)"
      ]
     },
     "execution_count": 8,
     "metadata": {},
     "output_type": "execute_result"
    }
   ],
   "source": [
    "bagging.fit(X_train, y_train)\n",
    "balanced_bagging.fit(X_train, y_train)"
   ]
  },
  {
   "cell_type": "code",
   "execution_count": 9,
   "metadata": {},
   "outputs": [],
   "source": [
    "from sklearn.metrics import precision_score, recall_score, f1_score\n",
    "from sklearn.metrics import roc_auc_score"
   ]
  },
  {
   "cell_type": "code",
   "execution_count": 11,
   "metadata": {},
   "outputs": [],
   "source": [
    "b_pred_y = bagging.predict(X_test)\n",
    "bb_pred_y = balanced_bagging.predict(X_test)"
   ]
  },
  {
   "cell_type": "code",
   "execution_count": 13,
   "metadata": {},
   "outputs": [
    {
     "name": "stdout",
     "output_type": "stream",
     "text": [
      "Bagging F1 : 0.936\n",
      "Bagging ROC AUC : 0.549\n"
     ]
    }
   ],
   "source": [
    "print(\"Bagging F1 : %.3f\" % f1_score(y_test, b_pred_y, average = 'micro'))\n",
    "print(\"Bagging ROC AUC : %.3f\" % roc_auc_score(y_test, b_pred_y))"
   ]
  },
  {
   "cell_type": "code",
   "execution_count": 15,
   "metadata": {
    "scrolled": false
   },
   "outputs": [
    {
     "name": "stdout",
     "output_type": "stream",
     "text": [
      "Balanced Bagging F1 : 0.801\n",
      "Balanced Bagging ROC AUC : 0.717\n"
     ]
    }
   ],
   "source": [
    "print(\"Balanced Bagging F1 : %.3f\" % f1_score(y_test, bb_pred_y, average = 'micro'))\n",
    "print(\"Balanced Bagging ROC AUC : %.3f\" % roc_auc_score(y_test, bb_pred_y))"
   ]
  }
 ],
 "metadata": {
  "kernelspec": {
   "display_name": "Python 3",
   "language": "python",
   "name": "python3"
  },
  "language_info": {
   "codemirror_mode": {
    "name": "ipython",
    "version": 3
   },
   "file_extension": ".py",
   "mimetype": "text/x-python",
   "name": "python",
   "nbconvert_exporter": "python",
   "pygments_lexer": "ipython3",
   "version": "3.7.6"
  }
 },
 "nbformat": 4,
 "nbformat_minor": 4
}
