{
 "cells": [
  {
   "cell_type": "code",
   "execution_count": 2,
   "metadata": {},
   "outputs": [],
   "source": [
    "import numpy as np\n",
    "import pandas as pd\n",
    "import matplotlib.pyplot as plt\n",
    "import seaborn as sns"
   ]
  },
  {
   "cell_type": "code",
   "execution_count": 49,
   "metadata": {},
   "outputs": [],
   "source": [
    "datamice= pd.read_csv(\"C:/Users/seung/Desktop/finalproject/ESC20SPRING_team4/finalEDA/data/mice_without_outliers_removed.csv\")\n",
    "dataknn= pd.read_csv(\"C:/Users/seung/Desktop/finalproject/ESC20SPRING_team4/finalEDA/data/knn_without_outliers_removed.csv\")\n",
    "datamean= pd.read_csv(\"C:/Users/seung/Desktop/finalproject/ESC20SPRING_team4/finalEDA/data/mean_without_outliers.csv\")\n",
    "datamedian= pd.read_csv(\"C:/Users/seung/Desktop/finalproject/ESC20SPRING_team4/finalEDA/data/median_without_outliers.csv\")"
   ]
  },
  {
   "cell_type": "code",
   "execution_count": 50,
   "metadata": {},
   "outputs": [],
   "source": [
    "from sklearn.preprocessing import StandardScaler"
   ]
  },
  {
   "cell_type": "markdown",
   "metadata": {},
   "source": [
    "### Mice"
   ]
  },
  {
   "cell_type": "code",
   "execution_count": 51,
   "metadata": {},
   "outputs": [
    {
     "data": {
      "text/plain": [
       "Index(['Attr2', 'Attr3', 'Attr4', 'Attr5', 'Attr6', 'Attr9', 'Attr10',\n",
       "       'Attr13', 'Attr18', 'Attr19', 'Attr21', 'Attr22', 'Attr24', 'Attr29',\n",
       "       'Attr30', 'Attr31', 'Attr33', 'Attr39', 'Attr41', 'Attr43', 'Attr47',\n",
       "       'Attr52', 'Attr53', 'Attr55', 'Attr59', 'Attr61', 'Attr64', 'Attr65',\n",
       "       'Attr66', 'Attr67', 'Attr68', 'Attr69', 'Attr70', 'class'],\n",
       "      dtype='object')"
      ]
     },
     "execution_count": 51,
     "metadata": {},
     "output_type": "execute_result"
    }
   ],
   "source": [
    "datamice.columns"
   ]
  },
  {
   "cell_type": "code",
   "execution_count": 52,
   "metadata": {},
   "outputs": [
    {
     "data": {
      "text/plain": [
       "(6822, 34)"
      ]
     },
     "execution_count": 52,
     "metadata": {},
     "output_type": "execute_result"
    }
   ],
   "source": [
    "datamice.shape"
   ]
  },
  {
   "cell_type": "code",
   "execution_count": 53,
   "metadata": {},
   "outputs": [],
   "source": [
    "micescale = datamice.drop([\"Attr70\",\"class\"], axis =1)\n",
    "micescale = StandardScaler().fit_transform(micescale)\n",
    "micescale =pd.DataFrame(micescale)\n",
    "micescale.columns =datamice.columns[:32]\n",
    "datamice = pd.DataFrame(pd.concat([micescale,datamice[['Attr70','class']]], axis =1))\n",
    "datamice = datamice.reset_index()"
   ]
  },
  {
   "cell_type": "code",
   "execution_count": 54,
   "metadata": {},
   "outputs": [
    {
     "data": {
      "text/plain": [
       "(6822, 35)"
      ]
     },
     "execution_count": 54,
     "metadata": {},
     "output_type": "execute_result"
    }
   ],
   "source": [
    "datamice.shape"
   ]
  },
  {
   "cell_type": "code",
   "execution_count": 55,
   "metadata": {
    "scrolled": true
   },
   "outputs": [
    {
     "data": {
      "text/html": [
       "<div>\n",
       "<style scoped>\n",
       "    .dataframe tbody tr th:only-of-type {\n",
       "        vertical-align: middle;\n",
       "    }\n",
       "\n",
       "    .dataframe tbody tr th {\n",
       "        vertical-align: top;\n",
       "    }\n",
       "\n",
       "    .dataframe thead th {\n",
       "        text-align: right;\n",
       "    }\n",
       "</style>\n",
       "<table border=\"1\" class=\"dataframe\">\n",
       "  <thead>\n",
       "    <tr style=\"text-align: right;\">\n",
       "      <th></th>\n",
       "      <th>index</th>\n",
       "      <th>Attr2</th>\n",
       "      <th>Attr3</th>\n",
       "      <th>Attr4</th>\n",
       "      <th>Attr5</th>\n",
       "      <th>Attr6</th>\n",
       "      <th>Attr9</th>\n",
       "      <th>Attr10</th>\n",
       "      <th>Attr13</th>\n",
       "      <th>Attr18</th>\n",
       "      <th>...</th>\n",
       "      <th>Attr59</th>\n",
       "      <th>Attr61</th>\n",
       "      <th>Attr64</th>\n",
       "      <th>Attr65</th>\n",
       "      <th>Attr66</th>\n",
       "      <th>Attr67</th>\n",
       "      <th>Attr68</th>\n",
       "      <th>Attr69</th>\n",
       "      <th>Attr70</th>\n",
       "      <th>class</th>\n",
       "    </tr>\n",
       "  </thead>\n",
       "  <tbody>\n",
       "    <tr>\n",
       "      <th>0</th>\n",
       "      <td>0</td>\n",
       "      <td>-0.564475</td>\n",
       "      <td>-0.173956</td>\n",
       "      <td>-0.124649</td>\n",
       "      <td>0.012790</td>\n",
       "      <td>-0.014341</td>\n",
       "      <td>-0.451866</td>\n",
       "      <td>0.321246</td>\n",
       "      <td>-0.004382</td>\n",
       "      <td>-0.323323</td>\n",
       "      <td>...</td>\n",
       "      <td>-0.018746</td>\n",
       "      <td>-0.711244</td>\n",
       "      <td>-1.053473</td>\n",
       "      <td>-0.126576</td>\n",
       "      <td>0.402104</td>\n",
       "      <td>-0.058312</td>\n",
       "      <td>0.017091</td>\n",
       "      <td>-0.205098</td>\n",
       "      <td>0</td>\n",
       "      <td>0</td>\n",
       "    </tr>\n",
       "    <tr>\n",
       "      <th>1</th>\n",
       "      <td>1</td>\n",
       "      <td>-1.698654</td>\n",
       "      <td>1.841882</td>\n",
       "      <td>1.129210</td>\n",
       "      <td>0.011900</td>\n",
       "      <td>-0.221494</td>\n",
       "      <td>-0.386067</td>\n",
       "      <td>0.779132</td>\n",
       "      <td>0.060436</td>\n",
       "      <td>2.835706</td>\n",
       "      <td>...</td>\n",
       "      <td>-0.047671</td>\n",
       "      <td>2.085748</td>\n",
       "      <td>2.083580</td>\n",
       "      <td>-1.260417</td>\n",
       "      <td>0.206697</td>\n",
       "      <td>0.197628</td>\n",
       "      <td>-0.035273</td>\n",
       "      <td>16.246606</td>\n",
       "      <td>1</td>\n",
       "      <td>0</td>\n",
       "    </tr>\n",
       "    <tr>\n",
       "      <th>2</th>\n",
       "      <td>2</td>\n",
       "      <td>-0.014504</td>\n",
       "      <td>0.018601</td>\n",
       "      <td>-0.329322</td>\n",
       "      <td>0.012822</td>\n",
       "      <td>-0.009368</td>\n",
       "      <td>0.074404</td>\n",
       "      <td>0.103175</td>\n",
       "      <td>-0.030770</td>\n",
       "      <td>-2.025864</td>\n",
       "      <td>...</td>\n",
       "      <td>-0.035084</td>\n",
       "      <td>-1.074730</td>\n",
       "      <td>-0.268523</td>\n",
       "      <td>-0.367238</td>\n",
       "      <td>0.838218</td>\n",
       "      <td>-0.364028</td>\n",
       "      <td>0.004898</td>\n",
       "      <td>-0.035524</td>\n",
       "      <td>0</td>\n",
       "      <td>0</td>\n",
       "    </tr>\n",
       "    <tr>\n",
       "      <th>3</th>\n",
       "      <td>3</td>\n",
       "      <td>-0.995975</td>\n",
       "      <td>1.018673</td>\n",
       "      <td>0.878251</td>\n",
       "      <td>0.028528</td>\n",
       "      <td>0.037467</td>\n",
       "      <td>-0.376297</td>\n",
       "      <td>0.510253</td>\n",
       "      <td>0.006106</td>\n",
       "      <td>0.359878</td>\n",
       "      <td>...</td>\n",
       "      <td>-0.046055</td>\n",
       "      <td>0.449361</td>\n",
       "      <td>0.294264</td>\n",
       "      <td>0.090047</td>\n",
       "      <td>-1.226899</td>\n",
       "      <td>0.011336</td>\n",
       "      <td>-0.031391</td>\n",
       "      <td>-0.170398</td>\n",
       "      <td>0</td>\n",
       "      <td>0</td>\n",
       "    </tr>\n",
       "    <tr>\n",
       "      <th>4</th>\n",
       "      <td>4</td>\n",
       "      <td>-0.035359</td>\n",
       "      <td>-0.373743</td>\n",
       "      <td>-0.607667</td>\n",
       "      <td>-0.001269</td>\n",
       "      <td>-0.009368</td>\n",
       "      <td>0.464720</td>\n",
       "      <td>0.113260</td>\n",
       "      <td>0.002117</td>\n",
       "      <td>0.375257</td>\n",
       "      <td>...</td>\n",
       "      <td>-0.046561</td>\n",
       "      <td>-0.076763</td>\n",
       "      <td>-0.291498</td>\n",
       "      <td>-0.010448</td>\n",
       "      <td>-0.354641</td>\n",
       "      <td>0.064521</td>\n",
       "      <td>0.561108</td>\n",
       "      <td>-0.125715</td>\n",
       "      <td>0</td>\n",
       "      <td>0</td>\n",
       "    </tr>\n",
       "  </tbody>\n",
       "</table>\n",
       "<p>5 rows × 35 columns</p>\n",
       "</div>"
      ],
      "text/plain": [
       "   index     Attr2     Attr3     Attr4     Attr5     Attr6     Attr9  \\\n",
       "0      0 -0.564475 -0.173956 -0.124649  0.012790 -0.014341 -0.451866   \n",
       "1      1 -1.698654  1.841882  1.129210  0.011900 -0.221494 -0.386067   \n",
       "2      2 -0.014504  0.018601 -0.329322  0.012822 -0.009368  0.074404   \n",
       "3      3 -0.995975  1.018673  0.878251  0.028528  0.037467 -0.376297   \n",
       "4      4 -0.035359 -0.373743 -0.607667 -0.001269 -0.009368  0.464720   \n",
       "\n",
       "     Attr10    Attr13    Attr18  ...    Attr59    Attr61    Attr64    Attr65  \\\n",
       "0  0.321246 -0.004382 -0.323323  ... -0.018746 -0.711244 -1.053473 -0.126576   \n",
       "1  0.779132  0.060436  2.835706  ... -0.047671  2.085748  2.083580 -1.260417   \n",
       "2  0.103175 -0.030770 -2.025864  ... -0.035084 -1.074730 -0.268523 -0.367238   \n",
       "3  0.510253  0.006106  0.359878  ... -0.046055  0.449361  0.294264  0.090047   \n",
       "4  0.113260  0.002117  0.375257  ... -0.046561 -0.076763 -0.291498 -0.010448   \n",
       "\n",
       "     Attr66    Attr67    Attr68     Attr69  Attr70  class  \n",
       "0  0.402104 -0.058312  0.017091  -0.205098       0      0  \n",
       "1  0.206697  0.197628 -0.035273  16.246606       1      0  \n",
       "2  0.838218 -0.364028  0.004898  -0.035524       0      0  \n",
       "3 -1.226899  0.011336 -0.031391  -0.170398       0      0  \n",
       "4 -0.354641  0.064521  0.561108  -0.125715       0      0  \n",
       "\n",
       "[5 rows x 35 columns]"
      ]
     },
     "execution_count": 55,
     "metadata": {},
     "output_type": "execute_result"
    }
   ],
   "source": [
    "datamice.head()"
   ]
  },
  {
   "cell_type": "code",
   "execution_count": 61,
   "metadata": {},
   "outputs": [],
   "source": [
    "datamice.drop(\"index\", axis = 1, inplace = True)"
   ]
  },
  {
   "cell_type": "markdown",
   "metadata": {},
   "source": [
    "### Knn"
   ]
  },
  {
   "cell_type": "code",
   "execution_count": 56,
   "metadata": {},
   "outputs": [
    {
     "data": {
      "text/plain": [
       "(6805, 44)"
      ]
     },
     "execution_count": 56,
     "metadata": {},
     "output_type": "execute_result"
    }
   ],
   "source": [
    "dataknn.shape"
   ]
  },
  {
   "cell_type": "code",
   "execution_count": 58,
   "metadata": {},
   "outputs": [],
   "source": [
    "knnscale = dataknn.drop([\"Attr70\",\"class\"], axis =1)\n",
    "knnscale = StandardScaler().fit_transform(knnscale)\n",
    "knnscale =pd.DataFrame(knnscale)\n",
    "knnscale.columns =dataknn.columns[:(dataknn.shape[1]-2)]\n",
    "dataknn = pd.DataFrame(pd.concat([knnscale,dataknn[['Attr70','class']]], axis =1))\n",
    "dataknn = dataknn.reset_index()"
   ]
  },
  {
   "cell_type": "code",
   "execution_count": 59,
   "metadata": {},
   "outputs": [
    {
     "data": {
      "text/plain": [
       "(6805, 45)"
      ]
     },
     "execution_count": 59,
     "metadata": {},
     "output_type": "execute_result"
    }
   ],
   "source": [
    "dataknn.shape"
   ]
  },
  {
   "cell_type": "code",
   "execution_count": 62,
   "metadata": {},
   "outputs": [],
   "source": [
    "dataknn.drop(\"index\", axis = 1, inplace = True)"
   ]
  },
  {
   "cell_type": "code",
   "execution_count": 63,
   "metadata": {},
   "outputs": [
    {
     "data": {
      "text/html": [
       "<div>\n",
       "<style scoped>\n",
       "    .dataframe tbody tr th:only-of-type {\n",
       "        vertical-align: middle;\n",
       "    }\n",
       "\n",
       "    .dataframe tbody tr th {\n",
       "        vertical-align: top;\n",
       "    }\n",
       "\n",
       "    .dataframe thead th {\n",
       "        text-align: right;\n",
       "    }\n",
       "</style>\n",
       "<table border=\"1\" class=\"dataframe\">\n",
       "  <thead>\n",
       "    <tr style=\"text-align: right;\">\n",
       "      <th></th>\n",
       "      <th>Attr1</th>\n",
       "      <th>Attr3</th>\n",
       "      <th>Attr4</th>\n",
       "      <th>Attr5</th>\n",
       "      <th>Attr6</th>\n",
       "      <th>Attr9</th>\n",
       "      <th>Attr10</th>\n",
       "      <th>Attr12</th>\n",
       "      <th>Attr13</th>\n",
       "      <th>Attr15</th>\n",
       "      <th>...</th>\n",
       "      <th>Attr57</th>\n",
       "      <th>Attr58</th>\n",
       "      <th>Attr59</th>\n",
       "      <th>Attr61</th>\n",
       "      <th>Attr63</th>\n",
       "      <th>Attr64</th>\n",
       "      <th>Attr68</th>\n",
       "      <th>Attr69</th>\n",
       "      <th>Attr70</th>\n",
       "      <th>class</th>\n",
       "    </tr>\n",
       "  </thead>\n",
       "  <tbody>\n",
       "    <tr>\n",
       "      <th>0</th>\n",
       "      <td>-0.352842</td>\n",
       "      <td>-0.177767</td>\n",
       "      <td>-0.123483</td>\n",
       "      <td>0.009524</td>\n",
       "      <td>0.009448</td>\n",
       "      <td>-0.456467</td>\n",
       "      <td>0.301698</td>\n",
       "      <td>-0.031183</td>\n",
       "      <td>-0.001930</td>\n",
       "      <td>0.056725</td>\n",
       "      <td>...</td>\n",
       "      <td>-0.056065</td>\n",
       "      <td>-0.030072</td>\n",
       "      <td>-0.018519</td>\n",
       "      <td>-0.714359</td>\n",
       "      <td>-0.045731</td>\n",
       "      <td>-1.073841</td>\n",
       "      <td>0.017298</td>\n",
       "      <td>-0.286284</td>\n",
       "      <td>0</td>\n",
       "      <td>0</td>\n",
       "    </tr>\n",
       "    <tr>\n",
       "      <th>1</th>\n",
       "      <td>2.918455</td>\n",
       "      <td>1.861965</td>\n",
       "      <td>1.097655</td>\n",
       "      <td>0.008598</td>\n",
       "      <td>-0.411517</td>\n",
       "      <td>-0.390186</td>\n",
       "      <td>0.725650</td>\n",
       "      <td>19.373965</td>\n",
       "      <td>0.416410</td>\n",
       "      <td>-0.041950</td>\n",
       "      <td>...</td>\n",
       "      <td>0.214041</td>\n",
       "      <td>-0.447314</td>\n",
       "      <td>-0.047413</td>\n",
       "      <td>2.069638</td>\n",
       "      <td>5.610952</td>\n",
       "      <td>-0.137180</td>\n",
       "      <td>-0.034991</td>\n",
       "      <td>0.485499</td>\n",
       "      <td>1</td>\n",
       "      <td>0</td>\n",
       "    </tr>\n",
       "    <tr>\n",
       "      <th>2</th>\n",
       "      <td>-2.404133</td>\n",
       "      <td>0.017073</td>\n",
       "      <td>-0.330491</td>\n",
       "      <td>0.009558</td>\n",
       "      <td>0.019555</td>\n",
       "      <td>0.073659</td>\n",
       "      <td>0.099788</td>\n",
       "      <td>-0.035084</td>\n",
       "      <td>-0.172241</td>\n",
       "      <td>-0.049363</td>\n",
       "      <td>...</td>\n",
       "      <td>-0.378704</td>\n",
       "      <td>0.206205</td>\n",
       "      <td>-0.034839</td>\n",
       "      <td>-1.076156</td>\n",
       "      <td>-0.051393</td>\n",
       "      <td>-0.271095</td>\n",
       "      <td>0.005122</td>\n",
       "      <td>-0.138982</td>\n",
       "      <td>0</td>\n",
       "      <td>0</td>\n",
       "    </tr>\n",
       "    <tr>\n",
       "      <th>3</th>\n",
       "      <td>0.357261</td>\n",
       "      <td>1.028999</td>\n",
       "      <td>0.890857</td>\n",
       "      <td>0.025911</td>\n",
       "      <td>0.114729</td>\n",
       "      <td>-0.380344</td>\n",
       "      <td>0.476698</td>\n",
       "      <td>-0.026925</td>\n",
       "      <td>0.065757</td>\n",
       "      <td>-0.037176</td>\n",
       "      <td>...</td>\n",
       "      <td>0.017436</td>\n",
       "      <td>-0.063601</td>\n",
       "      <td>-0.045798</td>\n",
       "      <td>0.440854</td>\n",
       "      <td>-0.048111</td>\n",
       "      <td>0.304451</td>\n",
       "      <td>-0.031114</td>\n",
       "      <td>-0.229793</td>\n",
       "      <td>0</td>\n",
       "      <td>0</td>\n",
       "    </tr>\n",
       "    <tr>\n",
       "      <th>4</th>\n",
       "      <td>0.520052</td>\n",
       "      <td>-0.379922</td>\n",
       "      <td>-0.612011</td>\n",
       "      <td>-0.005114</td>\n",
       "      <td>0.019555</td>\n",
       "      <td>0.466834</td>\n",
       "      <td>0.109125</td>\n",
       "      <td>-0.029113</td>\n",
       "      <td>0.040011</td>\n",
       "      <td>-0.026674</td>\n",
       "      <td>...</td>\n",
       "      <td>0.073563</td>\n",
       "      <td>-0.109727</td>\n",
       "      <td>-0.046303</td>\n",
       "      <td>-0.082826</td>\n",
       "      <td>-0.050858</td>\n",
       "      <td>-0.294590</td>\n",
       "      <td>0.560525</td>\n",
       "      <td>-0.157048</td>\n",
       "      <td>0</td>\n",
       "      <td>0</td>\n",
       "    </tr>\n",
       "  </tbody>\n",
       "</table>\n",
       "<p>5 rows × 44 columns</p>\n",
       "</div>"
      ],
      "text/plain": [
       "      Attr1     Attr3     Attr4     Attr5     Attr6     Attr9    Attr10  \\\n",
       "0 -0.352842 -0.177767 -0.123483  0.009524  0.009448 -0.456467  0.301698   \n",
       "1  2.918455  1.861965  1.097655  0.008598 -0.411517 -0.390186  0.725650   \n",
       "2 -2.404133  0.017073 -0.330491  0.009558  0.019555  0.073659  0.099788   \n",
       "3  0.357261  1.028999  0.890857  0.025911  0.114729 -0.380344  0.476698   \n",
       "4  0.520052 -0.379922 -0.612011 -0.005114  0.019555  0.466834  0.109125   \n",
       "\n",
       "      Attr12    Attr13    Attr15  ...    Attr57    Attr58    Attr59    Attr61  \\\n",
       "0  -0.031183 -0.001930  0.056725  ... -0.056065 -0.030072 -0.018519 -0.714359   \n",
       "1  19.373965  0.416410 -0.041950  ...  0.214041 -0.447314 -0.047413  2.069638   \n",
       "2  -0.035084 -0.172241 -0.049363  ... -0.378704  0.206205 -0.034839 -1.076156   \n",
       "3  -0.026925  0.065757 -0.037176  ...  0.017436 -0.063601 -0.045798  0.440854   \n",
       "4  -0.029113  0.040011 -0.026674  ...  0.073563 -0.109727 -0.046303 -0.082826   \n",
       "\n",
       "     Attr63    Attr64    Attr68    Attr69  Attr70  class  \n",
       "0 -0.045731 -1.073841  0.017298 -0.286284       0      0  \n",
       "1  5.610952 -0.137180 -0.034991  0.485499       1      0  \n",
       "2 -0.051393 -0.271095  0.005122 -0.138982       0      0  \n",
       "3 -0.048111  0.304451 -0.031114 -0.229793       0      0  \n",
       "4 -0.050858 -0.294590  0.560525 -0.157048       0      0  \n",
       "\n",
       "[5 rows x 44 columns]"
      ]
     },
     "execution_count": 63,
     "metadata": {},
     "output_type": "execute_result"
    }
   ],
   "source": [
    "dataknn.head()"
   ]
  },
  {
   "cell_type": "markdown",
   "metadata": {},
   "source": [
    "### Median"
   ]
  },
  {
   "cell_type": "code",
   "execution_count": 67,
   "metadata": {},
   "outputs": [
    {
     "data": {
      "text/plain": [
       "(6818, 46)"
      ]
     },
     "execution_count": 67,
     "metadata": {},
     "output_type": "execute_result"
    }
   ],
   "source": [
    "datamedian.shape"
   ]
  },
  {
   "cell_type": "code",
   "execution_count": 70,
   "metadata": {},
   "outputs": [],
   "source": [
    "medianscale = datamedian.drop([\"Attr70\",\"class\"], axis =1)\n",
    "medianscale = StandardScaler().fit_transform(medianscale)\n",
    "medianscale =pd.DataFrame(medianscale)\n",
    "medianscale.columns =datamedian.columns[:(datamedian.shape[1]-2)]\n",
    "datamedian = pd.DataFrame(pd.concat([medianscale,datamedian[['Attr70','class']]], axis =1))\n",
    "datamedian = datamedian.reset_index()"
   ]
  },
  {
   "cell_type": "code",
   "execution_count": 71,
   "metadata": {},
   "outputs": [
    {
     "data": {
      "text/plain": [
       "(6818, 47)"
      ]
     },
     "execution_count": 71,
     "metadata": {},
     "output_type": "execute_result"
    }
   ],
   "source": [
    "datamedian.shape"
   ]
  },
  {
   "cell_type": "code",
   "execution_count": 74,
   "metadata": {},
   "outputs": [],
   "source": [
    "datamedian.drop(\"index\", axis = 1, inplace = True)"
   ]
  },
  {
   "cell_type": "code",
   "execution_count": 75,
   "metadata": {},
   "outputs": [
    {
     "data": {
      "text/html": [
       "<div>\n",
       "<style scoped>\n",
       "    .dataframe tbody tr th:only-of-type {\n",
       "        vertical-align: middle;\n",
       "    }\n",
       "\n",
       "    .dataframe tbody tr th {\n",
       "        vertical-align: top;\n",
       "    }\n",
       "\n",
       "    .dataframe thead th {\n",
       "        text-align: right;\n",
       "    }\n",
       "</style>\n",
       "<table border=\"1\" class=\"dataframe\">\n",
       "  <thead>\n",
       "    <tr style=\"text-align: right;\">\n",
       "      <th></th>\n",
       "      <th>Attr1</th>\n",
       "      <th>Attr2</th>\n",
       "      <th>Attr3</th>\n",
       "      <th>Attr4</th>\n",
       "      <th>Attr5</th>\n",
       "      <th>Attr6</th>\n",
       "      <th>Attr7</th>\n",
       "      <th>Attr9</th>\n",
       "      <th>Attr10</th>\n",
       "      <th>Attr12</th>\n",
       "      <th>...</th>\n",
       "      <th>Attr59</th>\n",
       "      <th>Attr61</th>\n",
       "      <th>Attr64</th>\n",
       "      <th>Attr65</th>\n",
       "      <th>Attr66</th>\n",
       "      <th>Attr67</th>\n",
       "      <th>Attr68</th>\n",
       "      <th>Attr69</th>\n",
       "      <th>Attr70</th>\n",
       "      <th>class</th>\n",
       "    </tr>\n",
       "  </thead>\n",
       "  <tbody>\n",
       "    <tr>\n",
       "      <th>0</th>\n",
       "      <td>-0.305882</td>\n",
       "      <td>-0.567830</td>\n",
       "      <td>-0.191750</td>\n",
       "      <td>-0.118907</td>\n",
       "      <td>0.009449</td>\n",
       "      <td>-0.004600</td>\n",
       "      <td>-0.324754</td>\n",
       "      <td>-0.452027</td>\n",
       "      <td>0.328989</td>\n",
       "      <td>-0.022936</td>\n",
       "      <td>...</td>\n",
       "      <td>-0.018722</td>\n",
       "      <td>-0.708407</td>\n",
       "      <td>-1.073419</td>\n",
       "      <td>-0.125311</td>\n",
       "      <td>0.413225</td>\n",
       "      <td>-0.048981</td>\n",
       "      <td>0.005588</td>\n",
       "      <td>-0.294502</td>\n",
       "      <td>0</td>\n",
       "      <td>0</td>\n",
       "    </tr>\n",
       "    <tr>\n",
       "      <th>1</th>\n",
       "      <td>2.511211</td>\n",
       "      <td>-1.708722</td>\n",
       "      <td>1.979607</td>\n",
       "      <td>-0.257969</td>\n",
       "      <td>0.008522</td>\n",
       "      <td>-0.287835</td>\n",
       "      <td>2.873109</td>\n",
       "      <td>-0.386111</td>\n",
       "      <td>0.799984</td>\n",
       "      <td>14.966639</td>\n",
       "      <td>...</td>\n",
       "      <td>-0.047639</td>\n",
       "      <td>2.069378</td>\n",
       "      <td>-0.216780</td>\n",
       "      <td>-0.075797</td>\n",
       "      <td>0.209906</td>\n",
       "      <td>0.128412</td>\n",
       "      <td>-0.034505</td>\n",
       "      <td>-0.144385</td>\n",
       "      <td>1</td>\n",
       "      <td>0</td>\n",
       "    </tr>\n",
       "    <tr>\n",
       "      <th>2</th>\n",
       "      <td>-2.072361</td>\n",
       "      <td>-0.014605</td>\n",
       "      <td>0.015663</td>\n",
       "      <td>-0.327737</td>\n",
       "      <td>0.009483</td>\n",
       "      <td>0.002200</td>\n",
       "      <td>-2.048225</td>\n",
       "      <td>0.075177</td>\n",
       "      <td>0.104675</td>\n",
       "      <td>-0.025949</td>\n",
       "      <td>...</td>\n",
       "      <td>-0.035054</td>\n",
       "      <td>-1.069397</td>\n",
       "      <td>-0.247814</td>\n",
       "      <td>-0.368230</td>\n",
       "      <td>0.866998</td>\n",
       "      <td>-0.260872</td>\n",
       "      <td>-0.003748</td>\n",
       "      <td>-0.144385</td>\n",
       "      <td>0</td>\n",
       "      <td>0</td>\n",
       "    </tr>\n",
       "    <tr>\n",
       "      <th>3</th>\n",
       "      <td>0.305626</td>\n",
       "      <td>-1.001884</td>\n",
       "      <td>1.092889</td>\n",
       "      <td>0.904366</td>\n",
       "      <td>0.025844</td>\n",
       "      <td>0.066235</td>\n",
       "      <td>0.366845</td>\n",
       "      <td>-0.376323</td>\n",
       "      <td>0.523407</td>\n",
       "      <td>-0.019647</td>\n",
       "      <td>...</td>\n",
       "      <td>-0.046023</td>\n",
       "      <td>0.444228</td>\n",
       "      <td>0.344121</td>\n",
       "      <td>0.093344</td>\n",
       "      <td>-1.281735</td>\n",
       "      <td>-0.000707</td>\n",
       "      <td>-0.031532</td>\n",
       "      <td>-0.229892</td>\n",
       "      <td>0</td>\n",
       "      <td>0</td>\n",
       "    </tr>\n",
       "    <tr>\n",
       "      <th>4</th>\n",
       "      <td>0.445815</td>\n",
       "      <td>-0.035583</td>\n",
       "      <td>-0.406950</td>\n",
       "      <td>-0.611737</td>\n",
       "      <td>-0.005197</td>\n",
       "      <td>0.002200</td>\n",
       "      <td>0.382413</td>\n",
       "      <td>0.466185</td>\n",
       "      <td>0.115048</td>\n",
       "      <td>-0.021337</td>\n",
       "      <td>...</td>\n",
       "      <td>-0.046528</td>\n",
       "      <td>-0.078284</td>\n",
       "      <td>-0.271979</td>\n",
       "      <td>-0.008094</td>\n",
       "      <td>-0.374159</td>\n",
       "      <td>0.036156</td>\n",
       "      <td>0.422113</td>\n",
       "      <td>-0.146693</td>\n",
       "      <td>0</td>\n",
       "      <td>0</td>\n",
       "    </tr>\n",
       "  </tbody>\n",
       "</table>\n",
       "<p>5 rows × 46 columns</p>\n",
       "</div>"
      ],
      "text/plain": [
       "      Attr1     Attr2     Attr3     Attr4     Attr5     Attr6     Attr7  \\\n",
       "0 -0.305882 -0.567830 -0.191750 -0.118907  0.009449 -0.004600 -0.324754   \n",
       "1  2.511211 -1.708722  1.979607 -0.257969  0.008522 -0.287835  2.873109   \n",
       "2 -2.072361 -0.014605  0.015663 -0.327737  0.009483  0.002200 -2.048225   \n",
       "3  0.305626 -1.001884  1.092889  0.904366  0.025844  0.066235  0.366845   \n",
       "4  0.445815 -0.035583 -0.406950 -0.611737 -0.005197  0.002200  0.382413   \n",
       "\n",
       "      Attr9    Attr10     Attr12  ...    Attr59    Attr61    Attr64    Attr65  \\\n",
       "0 -0.452027  0.328989  -0.022936  ... -0.018722 -0.708407 -1.073419 -0.125311   \n",
       "1 -0.386111  0.799984  14.966639  ... -0.047639  2.069378 -0.216780 -0.075797   \n",
       "2  0.075177  0.104675  -0.025949  ... -0.035054 -1.069397 -0.247814 -0.368230   \n",
       "3 -0.376323  0.523407  -0.019647  ... -0.046023  0.444228  0.344121  0.093344   \n",
       "4  0.466185  0.115048  -0.021337  ... -0.046528 -0.078284 -0.271979 -0.008094   \n",
       "\n",
       "     Attr66    Attr67    Attr68    Attr69  Attr70  class  \n",
       "0  0.413225 -0.048981  0.005588 -0.294502       0      0  \n",
       "1  0.209906  0.128412 -0.034505 -0.144385       1      0  \n",
       "2  0.866998 -0.260872 -0.003748 -0.144385       0      0  \n",
       "3 -1.281735 -0.000707 -0.031532 -0.229892       0      0  \n",
       "4 -0.374159  0.036156  0.422113 -0.146693       0      0  \n",
       "\n",
       "[5 rows x 46 columns]"
      ]
     },
     "execution_count": 75,
     "metadata": {},
     "output_type": "execute_result"
    }
   ],
   "source": [
    "datamedian.head()"
   ]
  },
  {
   "cell_type": "markdown",
   "metadata": {},
   "source": [
    "### Mean"
   ]
  },
  {
   "cell_type": "code",
   "execution_count": 77,
   "metadata": {},
   "outputs": [
    {
     "data": {
      "text/plain": [
       "(6816, 47)"
      ]
     },
     "execution_count": 77,
     "metadata": {},
     "output_type": "execute_result"
    }
   ],
   "source": [
    "datamean.shape"
   ]
  },
  {
   "cell_type": "code",
   "execution_count": 76,
   "metadata": {},
   "outputs": [],
   "source": [
    "meanscale = datamean.drop([\"Attr70\",\"class\"], axis =1)\n",
    "meanscale = StandardScaler().fit_transform(meanscale)\n",
    "meanscale =pd.DataFrame(meanscale)\n",
    "meanscale.columns =datamean.columns[:(datamean.shape[1]-2)]\n",
    "datamean = pd.DataFrame(pd.concat([meanscale,datamean[['Attr70','class']]], axis =1))\n",
    "datamean = datamean.reset_index()"
   ]
  },
  {
   "cell_type": "code",
   "execution_count": 78,
   "metadata": {},
   "outputs": [
    {
     "data": {
      "text/plain": [
       "(6816, 47)"
      ]
     },
     "execution_count": 78,
     "metadata": {},
     "output_type": "execute_result"
    }
   ],
   "source": [
    "datamean.shape"
   ]
  },
  {
   "cell_type": "code",
   "execution_count": 79,
   "metadata": {},
   "outputs": [],
   "source": [
    "datamean.drop(\"index\", axis = 1, inplace = True)"
   ]
  },
  {
   "cell_type": "code",
   "execution_count": 80,
   "metadata": {
    "scrolled": false
   },
   "outputs": [
    {
     "data": {
      "text/html": [
       "<div>\n",
       "<style scoped>\n",
       "    .dataframe tbody tr th:only-of-type {\n",
       "        vertical-align: middle;\n",
       "    }\n",
       "\n",
       "    .dataframe tbody tr th {\n",
       "        vertical-align: top;\n",
       "    }\n",
       "\n",
       "    .dataframe thead th {\n",
       "        text-align: right;\n",
       "    }\n",
       "</style>\n",
       "<table border=\"1\" class=\"dataframe\">\n",
       "  <thead>\n",
       "    <tr style=\"text-align: right;\">\n",
       "      <th></th>\n",
       "      <th>Attr1</th>\n",
       "      <th>Attr2</th>\n",
       "      <th>Attr3</th>\n",
       "      <th>Attr4</th>\n",
       "      <th>Attr5</th>\n",
       "      <th>Attr6</th>\n",
       "      <th>Attr7</th>\n",
       "      <th>Attr9</th>\n",
       "      <th>Attr10</th>\n",
       "      <th>Attr12</th>\n",
       "      <th>...</th>\n",
       "      <th>Attr59</th>\n",
       "      <th>Attr61</th>\n",
       "      <th>Attr64</th>\n",
       "      <th>Attr65</th>\n",
       "      <th>Attr66</th>\n",
       "      <th>Attr67</th>\n",
       "      <th>Attr68</th>\n",
       "      <th>Attr69</th>\n",
       "      <th>Attr70</th>\n",
       "      <th>class</th>\n",
       "    </tr>\n",
       "  </thead>\n",
       "  <tbody>\n",
       "    <tr>\n",
       "      <th>0</th>\n",
       "      <td>-0.306185</td>\n",
       "      <td>-0.568381</td>\n",
       "      <td>-0.191494</td>\n",
       "      <td>-0.123968</td>\n",
       "      <td>0.009646</td>\n",
       "      <td>-0.004692</td>\n",
       "      <td>-0.325063</td>\n",
       "      <td>-0.453030</td>\n",
       "      <td>0.328889</td>\n",
       "      <td>-0.024814</td>\n",
       "      <td>...</td>\n",
       "      <td>-0.018752</td>\n",
       "      <td>-0.712085</td>\n",
       "      <td>-1.086076</td>\n",
       "      <td>-0.137232</td>\n",
       "      <td>0.413408</td>\n",
       "      <td>-0.048989</td>\n",
       "      <td>0.005576</td>\n",
       "      <td>-0.306268</td>\n",
       "      <td>0</td>\n",
       "      <td>0</td>\n",
       "    </tr>\n",
       "    <tr>\n",
       "      <th>1</th>\n",
       "      <td>2.510938</td>\n",
       "      <td>-1.711301</td>\n",
       "      <td>1.980169</td>\n",
       "      <td>1.718750</td>\n",
       "      <td>0.008719</td>\n",
       "      <td>-0.287897</td>\n",
       "      <td>2.872847</td>\n",
       "      <td>-0.387069</td>\n",
       "      <td>0.800477</td>\n",
       "      <td>15.097217</td>\n",
       "      <td>...</td>\n",
       "      <td>-0.047665</td>\n",
       "      <td>2.055589</td>\n",
       "      <td>1.461118</td>\n",
       "      <td>0.156133</td>\n",
       "      <td>0.210114</td>\n",
       "      <td>0.128378</td>\n",
       "      <td>-0.034511</td>\n",
       "      <td>0.000189</td>\n",
       "      <td>1</td>\n",
       "      <td>0</td>\n",
       "    </tr>\n",
       "    <tr>\n",
       "      <th>2</th>\n",
       "      <td>-2.072684</td>\n",
       "      <td>-0.014172</td>\n",
       "      <td>0.015948</td>\n",
       "      <td>-0.332269</td>\n",
       "      <td>0.009680</td>\n",
       "      <td>0.002108</td>\n",
       "      <td>-2.048559</td>\n",
       "      <td>0.074532</td>\n",
       "      <td>0.104292</td>\n",
       "      <td>-0.027854</td>\n",
       "      <td>...</td>\n",
       "      <td>-0.035083</td>\n",
       "      <td>-1.071762</td>\n",
       "      <td>-0.280485</td>\n",
       "      <td>-0.394375</td>\n",
       "      <td>0.867124</td>\n",
       "      <td>-0.260849</td>\n",
       "      <td>-0.003759</td>\n",
       "      <td>0.000189</td>\n",
       "      <td>0</td>\n",
       "      <td>0</td>\n",
       "    </tr>\n",
       "    <tr>\n",
       "      <th>3</th>\n",
       "      <td>0.305329</td>\n",
       "      <td>-1.003206</td>\n",
       "      <td>1.093326</td>\n",
       "      <td>0.896709</td>\n",
       "      <td>0.026042</td>\n",
       "      <td>0.066136</td>\n",
       "      <td>0.366547</td>\n",
       "      <td>-0.377275</td>\n",
       "      <td>0.523552</td>\n",
       "      <td>-0.021496</td>\n",
       "      <td>...</td>\n",
       "      <td>-0.046049</td>\n",
       "      <td>0.436354</td>\n",
       "      <td>0.297101</td>\n",
       "      <td>0.094226</td>\n",
       "      <td>-1.281342</td>\n",
       "      <td>-0.000722</td>\n",
       "      <td>-0.031539</td>\n",
       "      <td>-0.241600</td>\n",
       "      <td>0</td>\n",
       "      <td>0</td>\n",
       "    </tr>\n",
       "    <tr>\n",
       "      <th>4</th>\n",
       "      <td>0.445520</td>\n",
       "      <td>-0.035188</td>\n",
       "      <td>-0.406724</td>\n",
       "      <td>-0.615548</td>\n",
       "      <td>-0.005001</td>\n",
       "      <td>0.002108</td>\n",
       "      <td>0.382115</td>\n",
       "      <td>0.465805</td>\n",
       "      <td>0.114678</td>\n",
       "      <td>-0.023201</td>\n",
       "      <td>...</td>\n",
       "      <td>-0.046555</td>\n",
       "      <td>-0.084255</td>\n",
       "      <td>-0.304064</td>\n",
       "      <td>-0.013151</td>\n",
       "      <td>-0.373879</td>\n",
       "      <td>0.036135</td>\n",
       "      <td>0.422039</td>\n",
       "      <td>-0.158325</td>\n",
       "      <td>0</td>\n",
       "      <td>0</td>\n",
       "    </tr>\n",
       "  </tbody>\n",
       "</table>\n",
       "<p>5 rows × 46 columns</p>\n",
       "</div>"
      ],
      "text/plain": [
       "      Attr1     Attr2     Attr3     Attr4     Attr5     Attr6     Attr7  \\\n",
       "0 -0.306185 -0.568381 -0.191494 -0.123968  0.009646 -0.004692 -0.325063   \n",
       "1  2.510938 -1.711301  1.980169  1.718750  0.008719 -0.287897  2.872847   \n",
       "2 -2.072684 -0.014172  0.015948 -0.332269  0.009680  0.002108 -2.048559   \n",
       "3  0.305329 -1.003206  1.093326  0.896709  0.026042  0.066136  0.366547   \n",
       "4  0.445520 -0.035188 -0.406724 -0.615548 -0.005001  0.002108  0.382115   \n",
       "\n",
       "      Attr9    Attr10     Attr12  ...    Attr59    Attr61    Attr64    Attr65  \\\n",
       "0 -0.453030  0.328889  -0.024814  ... -0.018752 -0.712085 -1.086076 -0.137232   \n",
       "1 -0.387069  0.800477  15.097217  ... -0.047665  2.055589  1.461118  0.156133   \n",
       "2  0.074532  0.104292  -0.027854  ... -0.035083 -1.071762 -0.280485 -0.394375   \n",
       "3 -0.377275  0.523552  -0.021496  ... -0.046049  0.436354  0.297101  0.094226   \n",
       "4  0.465805  0.114678  -0.023201  ... -0.046555 -0.084255 -0.304064 -0.013151   \n",
       "\n",
       "     Attr66    Attr67    Attr68    Attr69  Attr70  class  \n",
       "0  0.413408 -0.048989  0.005576 -0.306268       0      0  \n",
       "1  0.210114  0.128378 -0.034511  0.000189       1      0  \n",
       "2  0.867124 -0.260849 -0.003759  0.000189       0      0  \n",
       "3 -1.281342 -0.000722 -0.031539 -0.241600       0      0  \n",
       "4 -0.373879  0.036135  0.422039 -0.158325       0      0  \n",
       "\n",
       "[5 rows x 46 columns]"
      ]
     },
     "execution_count": 80,
     "metadata": {},
     "output_type": "execute_result"
    }
   ],
   "source": [
    "datamean.head()"
   ]
  },
  {
   "cell_type": "markdown",
   "metadata": {},
   "source": [
    "## outlier 제거 & scaling 후에도 corr높은게 여전히 남아있다...."
   ]
  },
  {
   "cell_type": "markdown",
   "metadata": {},
   "source": [
    "### mice"
   ]
  },
  {
   "cell_type": "code",
   "execution_count": 87,
   "metadata": {},
   "outputs": [
    {
     "name": "stdout",
     "output_type": "stream",
     "text": [
      "Attr6 Attr24 0.8730419323461106\n",
      "Attr18 Attr22 0.9485620190509274\n",
      "Attr22 Attr18 0.9485620190509274\n",
      "Attr24 Attr6 0.8730419323461106\n"
     ]
    }
   ],
   "source": [
    "corrMat= datamice.corr()\n",
    "for i in range(corrMat.shape[0]):\n",
    "    for j in range(corrMat.shape[1]):\n",
    "        if (corrMat.iloc[i,j]>= 0.8) & (corrMat.iloc[i,j]<1):\n",
    "            print(corrMat.columns[i], corrMat.columns[j], corrMat.iloc[i,j])"
   ]
  },
  {
   "cell_type": "markdown",
   "metadata": {},
   "source": [
    "6,24 -> 6 <br>\n",
    "18,22 -> 18"
   ]
  },
  {
   "cell_type": "code",
   "execution_count": 89,
   "metadata": {},
   "outputs": [],
   "source": [
    "datamice.drop([\"Attr24\",\"Attr18\"], inplace= True, axis = 1)"
   ]
  },
  {
   "cell_type": "code",
   "execution_count": 90,
   "metadata": {},
   "outputs": [],
   "source": [
    "corrMat= datamice.corr()\n",
    "for i in range(corrMat.shape[0]):\n",
    "    for j in range(corrMat.shape[1]):\n",
    "        if (corrMat.iloc[i,j]>= 0.8) & (corrMat.iloc[i,j]<1):\n",
    "            print(corrMat.columns[i], corrMat.columns[j], corrMat.iloc[i,j])"
   ]
  },
  {
   "cell_type": "markdown",
   "metadata": {},
   "source": [
    "### knn"
   ]
  },
  {
   "cell_type": "code",
   "execution_count": 86,
   "metadata": {
    "scrolled": false
   },
   "outputs": [
    {
     "name": "stdout",
     "output_type": "stream",
     "text": [
      "Attr1 Attr18 0.986388341737525\n",
      "Attr1 Attr22 0.9022468942133786\n",
      "Attr13 Attr31 0.97546156450825\n",
      "Attr13 Attr42 0.9057584144568944\n",
      "Attr13 Attr56 0.8758318008389234\n",
      "Attr18 Attr1 0.986388341737525\n",
      "Attr18 Attr22 0.9233427069224694\n",
      "Attr22 Attr1 0.9022468942133786\n",
      "Attr22 Attr18 0.9233427069224694\n",
      "Attr31 Attr13 0.97546156450825\n",
      "Attr31 Attr42 0.9206498274302848\n",
      "Attr31 Attr56 0.892811740951012\n",
      "Attr42 Attr13 0.9057584144568944\n",
      "Attr42 Attr31 0.9206498274302848\n",
      "Attr42 Attr56 0.953001138879362\n",
      "Attr56 Attr13 0.8758318008389234\n",
      "Attr56 Attr31 0.892811740951012\n",
      "Attr56 Attr42 0.953001138879362\n"
     ]
    }
   ],
   "source": [
    "corrMat= dataknn.corr()\n",
    "for i in range(corrMat.shape[0]):\n",
    "    for j in range(corrMat.shape[1]):\n",
    "        if (corrMat.iloc[i,j]>= 0.8) & (corrMat.iloc[i,j]<1):\n",
    "            print(corrMat.columns[i], corrMat.columns[j], corrMat.iloc[i,j])"
   ]
  },
  {
   "cell_type": "markdown",
   "metadata": {},
   "source": [
    "1, 18, 22 -> 18 <br>\n",
    "13,31,42,56 -> 42\n"
   ]
  },
  {
   "cell_type": "code",
   "execution_count": 91,
   "metadata": {},
   "outputs": [],
   "source": [
    "dataknn.drop([\"Attr1\",\"Attr22\",\"Attr13\",\"Attr31\",\"Attr56\"], inplace= True, axis = 1)"
   ]
  },
  {
   "cell_type": "code",
   "execution_count": 94,
   "metadata": {},
   "outputs": [],
   "source": [
    "corrMat= dataknn.corr()\n",
    "for i in range(corrMat.shape[0]):\n",
    "    for j in range(corrMat.shape[1]):\n",
    "        if (corrMat.iloc[i,j]>= 0.8) & (corrMat.iloc[i,j]<1):\n",
    "            print(corrMat.columns[i], corrMat.columns[j], corrMat.iloc[i,j])"
   ]
  },
  {
   "cell_type": "markdown",
   "metadata": {},
   "source": [
    "### median"
   ]
  },
  {
   "cell_type": "code",
   "execution_count": 88,
   "metadata": {
    "scrolled": true
   },
   "outputs": [
    {
     "name": "stdout",
     "output_type": "stream",
     "text": [
      "Attr1 Attr7 0.9895999225568477\n",
      "Attr1 Attr18 0.9895999225568477\n",
      "Attr7 Attr1 0.9895999225568477\n",
      "Attr18 Attr1 0.9895999225568477\n",
      "Attr28 Attr53 0.9412593846253589\n",
      "Attr39 Attr56 0.8896003617850045\n",
      "Attr40 Attr46 0.8923146533058994\n",
      "Attr46 Attr40 0.8923146533058994\n",
      "Attr53 Attr28 0.9412593846253589\n",
      "Attr56 Attr39 0.8896003617850045\n"
     ]
    }
   ],
   "source": [
    "corrMat= datamedian.corr()\n",
    "for i in range(corrMat.shape[0]):\n",
    "    for j in range(corrMat.shape[1]):\n",
    "        if (corrMat.iloc[i,j]>= 0.8) & (corrMat.iloc[i,j]<1):\n",
    "            print(corrMat.columns[i], corrMat.columns[j], corrMat.iloc[i,j])"
   ]
  },
  {
   "cell_type": "markdown",
   "metadata": {},
   "source": [
    "1,7,18 -> 1 <br>\n",
    "28, 53 -> 53<br>\n",
    "39, 56 -> 39 <br>\n",
    "40, 46 -> 46"
   ]
  },
  {
   "cell_type": "code",
   "execution_count": 93,
   "metadata": {},
   "outputs": [],
   "source": [
    "datamedian.drop([\"Attr7\",\"Attr18\",\"Attr28\",\"Attr56\",\"Attr40\"], inplace= True, axis = 1)"
   ]
  },
  {
   "cell_type": "code",
   "execution_count": 95,
   "metadata": {},
   "outputs": [],
   "source": [
    "corrMat= datamedian.corr()\n",
    "for i in range(corrMat.shape[0]):\n",
    "    for j in range(corrMat.shape[1]):\n",
    "        if (corrMat.iloc[i,j]>= 0.8) & (corrMat.iloc[i,j]<1):\n",
    "            print(corrMat.columns[i], corrMat.columns[j], corrMat.iloc[i,j])"
   ]
  },
  {
   "cell_type": "markdown",
   "metadata": {},
   "source": [
    "### mean"
   ]
  },
  {
   "cell_type": "code",
   "execution_count": 96,
   "metadata": {},
   "outputs": [],
   "source": [
    "datamice.to_csv(\"C:/Users/seung/Desktop/finalproject/ESC20SPRING_team4/finalEDA/data/mice_scaled.csv\",index = False)\n",
    "dataknn.to_csv(\"C:/Users/seung/Desktop/finalproject/ESC20SPRING_team4/finalEDA/data/knn_scaled.csv\",index = False)\n",
    "datamedian.to_csv(\"C:/Users/seung/Desktop/finalproject/ESC20SPRING_team4/finalEDA/data/median_scaled.csv\",index = False)"
   ]
  },
  {
   "cell_type": "code",
   "execution_count": null,
   "metadata": {},
   "outputs": [],
   "source": []
  }
 ],
 "metadata": {
  "kernelspec": {
   "display_name": "Python 3",
   "language": "python",
   "name": "python3"
  },
  "language_info": {
   "codemirror_mode": {
    "name": "ipython",
    "version": 3
   },
   "file_extension": ".py",
   "mimetype": "text/x-python",
   "name": "python",
   "nbconvert_exporter": "python",
   "pygments_lexer": "ipython3",
   "version": "3.7.6"
  }
 },
 "nbformat": 4,
 "nbformat_minor": 4
}
